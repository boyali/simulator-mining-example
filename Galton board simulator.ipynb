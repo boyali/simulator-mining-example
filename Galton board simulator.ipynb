{
 "cells": [
  {
   "cell_type": "code",
   "execution_count": 1,
   "metadata": {},
   "outputs": [],
   "source": [
    "import autograd.numpy as np\n",
    "import autograd as ag"
   ]
  },
  {
   "cell_type": "markdown",
   "metadata": {},
   "source": [
    "# Setup"
   ]
  },
  {
   "cell_type": "code",
   "execution_count": null,
   "metadata": {},
   "outputs": [],
   "source": [
    "n_rows = 20\n",
    "n_nails = 31"
   ]
  },
  {
   "cell_type": "markdown",
   "metadata": {},
   "source": [
    "# Galton board simulator   "
   ]
  },
  {
   "cell_type": "code",
   "execution_count": 7,
   "metadata": {},
   "outputs": [],
   "source": [
    "# Utils\n",
    "def sigmoid(x):\n",
    "    return 1. / (1. + np.exp(-x))\n",
    "\n",
    "def check_random_state(random_state):\n",
    "    if isinstance(random_state, int):\n",
    "        return np.random.RandomState(random_state)\n",
    "    else:\n",
    "        return random_state\n",
    "\n",
    "# Nails\n",
    "def nail_position(theta, n_rows=n_rows, n_nails=n_nails):\n",
    "    pos = np.zeros((n_rows, n_nails))\n",
    "    level = np.broadcast_to(np.arange(n_rows), (n_nails, n_rows)).T\n",
    "    \n",
    "    nail = np.broadcast_to(np.arange(n_nails), (n_rows, n_nails))\n",
    "    level_rel = 1. * level / (n_rows - 1)\n",
    "    nail_rel = 2. * nail / (n_nails - 1) - 1.\n",
    "    \n",
    "    return pos + (1. - np.sin(np.pi * level_rel)) * 0.5 + np.sin(np.pi * level_rel) * sigmoid(10 * theta * nail_rel)\n",
    "\n",
    "def threshold(theta, trace):\n",
    "    begin, z = trace\n",
    "\n",
    "    pos = begin\n",
    "    level = 0\n",
    "\n",
    "    for step in z:\n",
    "        if step == 0:\n",
    "            if level % 2 == 0:\n",
    "                pos = pos\n",
    "            else:\n",
    "                pos = pos - 1\n",
    "        else:\n",
    "            if level % 2 == 0:\n",
    "                pos = pos + 1\n",
    "            else:\n",
    "                pos = pos \n",
    "        level += 1\n",
    "\n",
    "    if level % 2 == 1:  # for odd rows, the first and last nails are constant\n",
    "        if pos == 0:\n",
    "            return 0.0\n",
    "        elif pos == n_nails:\n",
    "            return 1.0\n",
    "\n",
    "    level_rel = 1. * level / (n_rows - 1)\n",
    "    nail_rel = 2. * pos / (n_nails - 1) - 1.\n",
    "    t = (1. - np.sin(np.pi * level_rel)) * 0.5 + np.sin(np.pi * level_rel) * sigmoid(10 * theta * nail_rel)\n",
    "\n",
    "    return t\n",
    "\n",
    "# Run trace and mine gold\n",
    "def trace(theta, u):\n",
    "    begin = pos = n_nails // 2\n",
    "    z = []\n",
    "    log_p_zx = 0.0\n",
    "\n",
    "    while len(z) < n_rows:  \n",
    "        t = threshold(theta, (begin, z))\n",
    "        level = len(z)\n",
    "\n",
    "        # going left\n",
    "        if u[level] < t or t == 1.0:\n",
    "            log_p_zx += np.log(t)  \n",
    "\n",
    "            if level % 2 == 0: #even rows\n",
    "                pos = pos \n",
    "            else: # odd rows\n",
    "                pos = pos - 1\n",
    "\n",
    "            z.append(0)\n",
    "\n",
    "        # going right\n",
    "        else:\n",
    "            log_p_zx += np.log(1. - t)\n",
    "\n",
    "            if level % 2 == 0:\n",
    "                pos = pos + 1\n",
    "            else:\n",
    "                pos = pos \n",
    "\n",
    "            z.append(1)\n",
    "\n",
    "    x = pos  \n",
    "\n",
    "    return log_p_zx, (begin, z, x)  \n",
    "\n",
    "d_trace = ag.grad_and_aux(trace)\n",
    "    \n",
    "# Generator\n",
    "def galton_rvs(theta, n_runs=100, n_rows=n_rows, n_nails=n_nails, random_state=None):\n",
    "    rng = check_random_state(random_state)\n",
    "    xs = []\n",
    "    scores = []\n",
    "    trajectories = [] \n",
    "\n",
    "    for i in range(n_runs):\n",
    "        u = rng.rand(n_rows)\n",
    "        _, (_, _, x) = trace(theta, u)\n",
    "        d_log_p_zx, (begin, z, x) = d_trace(theta, u)\n",
    "        xs.append(x)  \n",
    "        scores.append(d_log_p_zx)\n",
    "        trajectories.append([begin] + z + [x])\n",
    "\n",
    "    scores = np.array(scores)\n",
    "\n",
    "    return xs, scores, trajectories[:100]"
   ]
  },
  {
   "cell_type": "markdown",
   "metadata": {},
   "source": [
    "# Data for plotting the Galton board"
   ]
  },
  {
   "cell_type": "code",
   "execution_count": 9,
   "metadata": {},
   "outputs": [
    {
     "name": "stdout",
     "output_type": "stream",
     "text": [
      "theta = -1.0\n",
      "theta = -0.8\n",
      "theta = -0.6\n",
      "theta = -0.3999999999999999\n",
      "theta = -0.19999999999999996\n",
      "theta = 0.0\n"
     ]
    }
   ],
   "source": [
    "n_samples = 100000\n",
    "thetas_ = np.linspace(-1., 0., 6)\n",
    "\n",
    "x, t_xz, trajectories, nail_positions = [], [], [], []\n",
    "\n",
    "for i, theta_ in enumerate(thetas_):\n",
    "    print('theta =', theta_)\n",
    "    \n",
    "    nail_positions_ = nail_position(theta_)\n",
    "    x_, t_xz_, trajectories_ = galton_rvs(theta_, n_runs=n_samples, random_state=1234 + i)\n",
    "    \n",
    "    x.append(x_)\n",
    "    t_xz.append(t_xz_)\n",
    "    trajectories.append(trajectories_)\n",
    "    nail_positions.append(nail_positions_)\n",
    "    \n",
    "np.save('data/x.npy', x)\n",
    "np.save('data/t_xz.npy', t_xz)\n",
    "np.save('data/trajectories.npy', trajectories)\n",
    "np.save('data/nail_positions.npy', nail_positions)"
   ]
  }
 ],
 "metadata": {
  "kernelspec": {
   "display_name": "Python 3",
   "language": "python",
   "name": "python3"
  },
  "language_info": {
   "codemirror_mode": {
    "name": "ipython",
    "version": 3
   },
   "file_extension": ".py",
   "mimetype": "text/x-python",
   "name": "python",
   "nbconvert_exporter": "python",
   "pygments_lexer": "ipython3",
   "version": "3.6.5"
  }
 },
 "nbformat": 4,
 "nbformat_minor": 2
}

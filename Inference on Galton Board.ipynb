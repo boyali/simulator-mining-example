{
 "cells": [
  {
   "cell_type": "code",
   "execution_count": 1,
   "metadata": {},
   "outputs": [
    {
     "name": "stderr",
     "output_type": "stream",
     "text": [
      "Using TensorFlow backend.\n"
     ]
    }
   ],
   "source": [
    "import autograd.numpy as np\n",
    "import autograd as ag\n",
    "from scipy.misc import factorial\n",
    "\n",
    "from keras.models import Model\n",
    "from keras.layers import Input, Dense, Lambda, Reshape, ActivityRegularization, Activation, Flatten, Concatenate, Multiply\n",
    "from keras.optimizers import Adam, SGD\n",
    "from keras import optimizers\n",
    "import keras.backend as K\n",
    "from keras.utils import to_categorical\n",
    "from keras import losses\n",
    "import tensorflow as tf\n",
    "from keras import losses\n",
    "\n",
    "import matplotlib.pyplot as plt\n",
    "%matplotlib inline"
   ]
  },
  {
   "cell_type": "code",
   "execution_count": 6,
   "metadata": {},
   "outputs": [],
   "source": [
    "from galton import n_nails \n",
    "from galton import n_rows\n",
    "theta_0 = -0.8\n",
    "theta_1 = -0.6"
   ]
  },
  {
   "cell_type": "markdown",
   "metadata": {},
   "source": [
    "# Density estimation with histograms"
   ]
  },
  {
   "cell_type": "code",
   "execution_count": 16,
   "metadata": {},
   "outputs": [],
   "source": [
    "samples_0, _, scores_0, _ = galton_rvs(theta_0, n_runs=10000, random_state=1234)\n",
    "p_estimated_0, _ = np.histogram(samples_0, bins=n_nails, range=(0, n_nails), density=True)\n",
    "\n",
    "samples_1, _, scores_1, _ = galton_rvs(theta_1, n_runs=10000, random_state=1234)\n",
    "p_estimated_1, _ = np.histogram(samples_1, bins=n_nails, range=(0, n_nails), density=True)"
   ]
  },
  {
   "cell_type": "code",
   "execution_count": 22,
   "metadata": {},
   "outputs": [
    {
     "data": {
      "image/png": "[encoded data removed]",
      "text/plain": [
       "<Figure size 432x288 with 1 Axes>"
      ]
     },
     "metadata": {},
     "output_type": "display_data"
    }
   ],
   "source": [
    "plt.step(range(len(p_estimated_0)), p_estimated_0,\n",
    "         c='r', lw=1.5,\n",
    "         label=r'$p(x|\\theta_0)$')\n",
    "plt.step(range(len(p_estimated_0)), p_estimated_1,\n",
    "         c='b', lw=1.5, \n",
    "         label=r'$p(x|\\theta_1)$')\n",
    "\n",
    "plt.xlabel(\"x\")\n",
    "plt.ylabel(\"p(x)\")\n",
    "plt.legend()\n",
    "plt.show()"
   ]
  },
  {
   "cell_type": "code",
   "execution_count": 23,
   "metadata": {},
   "outputs": [
    {
     "name": "stderr",
     "output_type": "stream",
     "text": [
      "/home/gilles/anaconda3/envs/simulator-mining-example/lib/python3.6/site-packages/ipykernel_launcher.py:1: RuntimeWarning: invalid value encountered in true_divide\n",
      "  \"\"\"Entry point for launching an IPython kernel.\n"
     ]
    },
    {
     "data": {
      "image/png": "[encoded data removed]",
      "text/plain": [
       "<Figure size 432x288 with 1 Axes>"
      ]
     },
     "metadata": {},
     "output_type": "display_data"
    }
   ],
   "source": [
    "plt.step(range(len(p_estimated_0)), np.log(p_estimated_0/p_estimated_1),\n",
    "         c='r', lw=1.5,\n",
    "         label=r'$p(x|\\theta_0)$')\n",
    "plt.scatter(samples, np.array(log_p0) - np.array(log_p1), s=5., c='b')\n",
    "plt.ylabel('log r(x,z)')\n",
    "plt.ylim(-2.,2.)\n",
    "plt.show()"
   ]
  },
  {
   "cell_type": "markdown",
   "metadata": {},
   "source": [
    "# Model comparison"
   ]
  },
  {
   "cell_type": "code",
   "execution_count": 30,
   "metadata": {},
   "outputs": [],
   "source": [
    "n_features = 1\n",
    "hidden_size = 10\n",
    "n_outputs = n_nails"
   ]
  },
  {
   "cell_type": "code",
   "execution_count": 31,
   "metadata": {},
   "outputs": [],
   "source": [
    "from collections import Counter\n",
    "from itertools import zip_longest\n",
    "def groupers(iterables, n, fillvalues=None):\n",
    "    result = []\n",
    "    for k, iterable in enumerate(iterables):\n",
    "        args = [iter(iterable)] * n\n",
    "        result.append(zip_longest(*args, fillvalue=fillvalues[k]))\n",
    "    return result"
   ]
  },
  {
   "cell_type": "code",
   "execution_count": 37,
   "metadata": {},
   "outputs": [],
   "source": [
    "def score_loss(y_true, y_pred): return losses.mean_squared_error(y_true, y_pred[:,-1])\n",
    "def simple_loss(y_true, y_pred): return losses.categorical_crossentropy(y_true, y_pred[:,:-1])\n",
    "def combined_loss(y_true, y_pred, alpha=1.):\n",
    "    loss = (losses.categorical_crossentropy(y_true[:,:-1], y_pred[:,:-1]) \n",
    "            + alpha * losses.mean_squared_error(y_true[:,-1], y_pred[:,-1]))\n",
    "    return loss\n",
    "\n",
    "def make_score_regressor(mode='loss', lr=0.0001):\n",
    "    ''' mode: loss, score, comb '''\n",
    "    adam = Adam(lr=lr)\n",
    "    input_layer = Input(shape=(n_features,))\n",
    "    out_index_layer = Input(shape=(n_outputs, ))\n",
    "    hidden_layer = Dense(hidden_size, activation='tanh')(input_layer)\n",
    "    log_hat_layer = Dense(n_outputs, activation='softmax')(hidden_layer)\n",
    "    #log_sum_layer = Lambda(lambda x: K.sum(x, axis=1), output_shape=(1, ))(log_hat_layer)\n",
    "    log_sum_layer = Lambda(lambda x: tf.reduce_sum(tf.multiply(x[0],x[1]),\n",
    "                                               axis=1,keep_dims=True))([out_index_layer, log_hat_layer])\n",
    "    log_sum_layer = Lambda(lambda x: K.log(x))(log_sum_layer)\n",
    "    gradient_layer = Lambda(lambda x: K.gradients(x[0],[x[1]])[0],\n",
    "                           output_shape=(n_features,))([log_sum_layer, input_layer])\n",
    "    #log_sum_layer = Lambda(lambda x: tf.einsum('ij, ij->i', x[0], x[1]))([out_index_layer, out_index_layer])\n",
    "    #log_sum_layer_inv = Lambda(lambda x: 1./x, output_shape=(1, ))(log_sum_layer)\n",
    "    #score_layer = Multiply()([gradient_layer, log_sum_layer_inv])\n",
    "\n",
    "    #score_layer = Lambda(lambda x: tf.divide(x[0],[1]), \n",
    "    #                     output_shape=(1,))([gradient_layer, log_sum_layer])\n",
    "    score_layer = gradient_layer\n",
    "    output_layer = Concatenate()([log_hat_layer, score_layer])\n",
    "\n",
    "    model = Model(inputs=[input_layer, out_index_layer], outputs=[output_layer])\n",
    "    if mode == 'loss':\n",
    "        loss = simple_loss\n",
    "    elif mode == 'score':\n",
    "        loss = score_loss\n",
    "    else: #combined\n",
    "        loss = combined_loss    \n",
    "    model.compile(loss=loss, metrics=['mse'], optimizer=adam)\n",
    "    return model"
   ]
  },
  {
   "cell_type": "code",
   "execution_count": 38,
   "metadata": {},
   "outputs": [
    {
     "name": "stderr",
     "output_type": "stream",
     "text": [
      "/home/gilles/anaconda3/envs/simulator-mining-example/lib/python3.6/site-packages/autograd-1.2-py3.6.egg/autograd/tracer.py:48: RuntimeWarning: invalid value encountered in true_divide\n",
      "  return f_raw(*args, **kwargs)\n"
     ]
    }
   ],
   "source": [
    "p_ratio = np.divide(p_estimated_1, p_estimated_0)\n",
    "\n",
    "p_ratio[np.isinf(p_ratio)] = 0.\n",
    "p_ratio[np.isnan(p_ratio)] = 0.\n",
    "\n",
    "def gen_data(num_data, n_thetas = 10, state = 0):\n",
    "    theta_values = np.linspace(-1.,-0.4,n_thetas)\n",
    "    #theta_values = np.random.uniform(-1,1,n_thetas)\n",
    "    n_traces_per_theta = num_data\n",
    "    thetas = []\n",
    "    X = []\n",
    "    T = []\n",
    "    for k, theta_ in enumerate(theta_values):\n",
    "        x, _, scores, _ = galton_rvs(theta_, random_state=state+k, n_runs=n_traces_per_theta)\n",
    "        X += x\n",
    "        T += scores.tolist()\n",
    "        thetas += (theta_*np.ones(n_traces_per_theta)).tolist()\n",
    "    train_data = np.array(thetas).reshape((len(X), 1))\n",
    "    labels = np.array(X).reshape((len(X), 1))\n",
    "    labels = to_categorical(labels, num_classes=n_nails)\n",
    "\n",
    "    return train_data, labels, T"
   ]
  },
  {
   "cell_type": "code",
   "execution_count": 51,
   "metadata": {},
   "outputs": [],
   "source": [
    "EPOCHS = 50\n",
    "BATCH_SIZE = 16\n",
    "N_data = 100"
   ]
  },
  {
   "cell_type": "code",
   "execution_count": 52,
   "metadata": {},
   "outputs": [],
   "source": [
    "def compute_mse(p_train, p_estimated):\n",
    "    p_ratio_train =  np.log(p_train[0]) - np.log(p_train[1])\n",
    "    p_ratio = np.log(p_estimated[0]) - np.log(p_estimated[1])\n",
    "    mse = p_ratio_train - p_ratio\n",
    "    mse[np.isinf(mse)] = 0.\n",
    "    mse[np.isnan(mse)] = 0.\n",
    "    mse = np.dot(mse**2, p_estimated[1])\n",
    "    return mse\n",
    "\n",
    "def mse_ratio(ratio, p_estimated, log=True):\n",
    "    p_ratio = np.log(p_estimated[0]) - np.log(p_estimated[1])\n",
    "    if log:\n",
    "        p_ratio_train = np.log(ratio)\n",
    "    else:\n",
    "        p_ratio_train = ratio\n",
    "    mse = p_ratio_train - p_ratio\n",
    "    mse[np.isinf(mse)] = 0.\n",
    "    mse[np.isnan(mse)] = 0.\n",
    "    mse = np.dot(mse**2, p_estimated[1])\n",
    "    return mse"
   ]
  },
  {
   "cell_type": "code",
   "execution_count": 59,
   "metadata": {},
   "outputs": [
    {
     "name": "stdout",
     "output_type": "stream",
     "text": [
      "Start training\n",
      "Samples: 100\n",
      "(16, 32)\n"
     ]
    },
    {
     "ename": "InvalidArgumentError",
     "evalue": "Incompatible shapes: [16,32] vs. [16,31]\n\t [[Node: loss_20/concatenate_21_loss/mul = Mul[T=DT_FLOAT, _device=\"/job:localhost/replica:0/task:0/cpu:0\"](_recv_concatenate_21_target_0, loss_20/concatenate_21_loss/Log)]]\n\nCaused by op 'loss_20/concatenate_21_loss/mul', defined at:\n  File \"/home/gilles/anaconda3/envs/simulator-mining-example/lib/python3.6/runpy.py\", line 193, in _run_module_as_main\n    \"__main__\", mod_spec)\n  File \"/home/gilles/anaconda3/envs/simulator-mining-example/lib/python3.6/runpy.py\", line 85, in _run_code\n    exec(code, run_globals)\n  File \"/home/gilles/anaconda3/envs/simulator-mining-example/lib/python3.6/site-packages/ipykernel_launcher.py\", line 16, in <module>\n    app.launch_new_instance()\n  File \"/home/gilles/anaconda3/envs/simulator-mining-example/lib/python3.6/site-packages/traitlets/config/application.py\", line 658, in launch_instance\n    app.start()\n  File \"/home/gilles/anaconda3/envs/simulator-mining-example/lib/python3.6/site-packages/ipykernel/kernelapp.py\", line 486, in start\n    self.io_loop.start()\n  File \"/home/gilles/anaconda3/envs/simulator-mining-example/lib/python3.6/site-packages/tornado/platform/asyncio.py\", line 127, in start\n    self.asyncio_loop.run_forever()\n  File \"/home/gilles/anaconda3/envs/simulator-mining-example/lib/python3.6/asyncio/base_events.py\", line 422, in run_forever\n    self._run_once()\n  File \"/home/gilles/anaconda3/envs/simulator-mining-example/lib/python3.6/asyncio/base_events.py\", line 1432, in _run_once\n    handle._run()\n  File \"/home/gilles/anaconda3/envs/simulator-mining-example/lib/python3.6/asyncio/events.py\", line 145, in _run\n    self._callback(*self._args)\n  File \"/home/gilles/anaconda3/envs/simulator-mining-example/lib/python3.6/site-packages/tornado/platform/asyncio.py\", line 117, in _handle_events\n    handler_func(fileobj, events)\n  File \"/home/gilles/anaconda3/envs/simulator-mining-example/lib/python3.6/site-packages/tornado/stack_context.py\", line 276, in null_wrapper\n    return fn(*args, **kwargs)\n  File \"/home/gilles/anaconda3/envs/simulator-mining-example/lib/python3.6/site-packages/zmq/eventloop/zmqstream.py\", line 450, in _handle_events\n    self._handle_recv()\n  File \"/home/gilles/anaconda3/envs/simulator-mining-example/lib/python3.6/site-packages/zmq/eventloop/zmqstream.py\", line 480, in _handle_recv\n    self._run_callback(callback, msg)\n  File \"/home/gilles/anaconda3/envs/simulator-mining-example/lib/python3.6/site-packages/zmq/eventloop/zmqstream.py\", line 432, in _run_callback\n    callback(*args, **kwargs)\n  File \"/home/gilles/anaconda3/envs/simulator-mining-example/lib/python3.6/site-packages/tornado/stack_context.py\", line 276, in null_wrapper\n    return fn(*args, **kwargs)\n  File \"/home/gilles/anaconda3/envs/simulator-mining-example/lib/python3.6/site-packages/ipykernel/kernelbase.py\", line 283, in dispatcher\n    return self.dispatch_shell(stream, msg)\n  File \"/home/gilles/anaconda3/envs/simulator-mining-example/lib/python3.6/site-packages/ipykernel/kernelbase.py\", line 233, in dispatch_shell\n    handler(stream, idents, msg)\n  File \"/home/gilles/anaconda3/envs/simulator-mining-example/lib/python3.6/site-packages/ipykernel/kernelbase.py\", line 399, in execute_request\n    user_expressions, allow_stdin)\n  File \"/home/gilles/anaconda3/envs/simulator-mining-example/lib/python3.6/site-packages/ipykernel/ipkernel.py\", line 208, in do_execute\n    res = shell.run_cell(code, store_history=store_history, silent=silent)\n  File \"/home/gilles/anaconda3/envs/simulator-mining-example/lib/python3.6/site-packages/ipykernel/zmqshell.py\", line 537, in run_cell\n    return super(ZMQInteractiveShell, self).run_cell(*args, **kwargs)\n  File \"/home/gilles/anaconda3/envs/simulator-mining-example/lib/python3.6/site-packages/IPython/core/interactiveshell.py\", line 2662, in run_cell\n    raw_cell, store_history, silent, shell_futures)\n  File \"/home/gilles/anaconda3/envs/simulator-mining-example/lib/python3.6/site-packages/IPython/core/interactiveshell.py\", line 2785, in _run_cell\n    interactivity=interactivity, compiler=compiler, result=result)\n  File \"/home/gilles/anaconda3/envs/simulator-mining-example/lib/python3.6/site-packages/IPython/core/interactiveshell.py\", line 2903, in run_ast_nodes\n    if self.run_code(code, result):\n  File \"/home/gilles/anaconda3/envs/simulator-mining-example/lib/python3.6/site-packages/IPython/core/interactiveshell.py\", line 2963, in run_code\n    exec(code_obj, self.user_global_ns, self.user_ns)\n  File \"<ipython-input-59-e5b1ec084257>\", line 16, in <module>\n    model = make_score_regressor(mode='loss', lr=0.0001)\n  File \"<ipython-input-37-7ca579898993>\", line 37, in make_score_regressor\n    model.compile(loss=loss, metrics=['mse'], optimizer=adam)\n  File \"/home/gilles/anaconda3/envs/simulator-mining-example/lib/python3.6/site-packages/keras/engine/training.py\", line 830, in compile\n    sample_weight, mask)\n  File \"/home/gilles/anaconda3/envs/simulator-mining-example/lib/python3.6/site-packages/keras/engine/training.py\", line 429, in weighted\n    score_array = fn(y_true, y_pred)\n  File \"<ipython-input-37-7ca579898993>\", line 2, in simple_loss\n    def simple_loss(y_true, y_pred): return losses.categorical_crossentropy(y_true, y_pred[:,:-1])\n  File \"/home/gilles/anaconda3/envs/simulator-mining-example/lib/python3.6/site-packages/keras/losses.py\", line 69, in categorical_crossentropy\n    return K.categorical_crossentropy(y_true, y_pred)\n  File \"/home/gilles/anaconda3/envs/simulator-mining-example/lib/python3.6/site-packages/keras/backend/tensorflow_backend.py\", line 3008, in categorical_crossentropy\n    return - tf.reduce_sum(target * tf.log(output),\n  File \"/home/gilles/anaconda3/envs/simulator-mining-example/lib/python3.6/site-packages/tensorflow/python/ops/math_ops.py\", line 821, in binary_op_wrapper\n    return func(x, y, name=name)\n  File \"/home/gilles/anaconda3/envs/simulator-mining-example/lib/python3.6/site-packages/tensorflow/python/ops/math_ops.py\", line 1044, in _mul_dispatch\n    return gen_math_ops._mul(x, y, name=name)\n  File \"/home/gilles/anaconda3/envs/simulator-mining-example/lib/python3.6/site-packages/tensorflow/python/ops/gen_math_ops.py\", line 1434, in _mul\n    result = _op_def_lib.apply_op(\"Mul\", x=x, y=y, name=name)\n  File \"/home/gilles/anaconda3/envs/simulator-mining-example/lib/python3.6/site-packages/tensorflow/python/framework/op_def_library.py\", line 768, in apply_op\n    op_def=op_def)\n  File \"/home/gilles/anaconda3/envs/simulator-mining-example/lib/python3.6/site-packages/tensorflow/python/framework/ops.py\", line 2336, in create_op\n    original_op=self._default_original_op, op_def=op_def)\n  File \"/home/gilles/anaconda3/envs/simulator-mining-example/lib/python3.6/site-packages/tensorflow/python/framework/ops.py\", line 1228, in __init__\n    self._traceback = _extract_stack()\n\nInvalidArgumentError (see above for traceback): Incompatible shapes: [16,32] vs. [16,31]\n\t [[Node: loss_20/concatenate_21_loss/mul = Mul[T=DT_FLOAT, _device=\"/job:localhost/replica:0/task:0/cpu:0\"](_recv_concatenate_21_target_0, loss_20/concatenate_21_loss/Log)]]\n",
     "output_type": "error",
     "traceback": [
      "\u001b[0;31m---------------------------------------------------------------------------\u001b[0m",
      "\u001b[0;31mInvalidArgumentError\u001b[0m                      Traceback (most recent call last)",
      "\u001b[0;32m~/anaconda3/envs/simulator-mining-example/lib/python3.6/site-packages/tensorflow/python/client/session.py\u001b[0m in \u001b[0;36m_do_call\u001b[0;34m(self, fn, *args)\u001b[0m\n\u001b[1;32m   1038\u001b[0m     \u001b[0;32mtry\u001b[0m\u001b[0;34m:\u001b[0m\u001b[0;34m\u001b[0m\u001b[0m\n\u001b[0;32m-> 1039\u001b[0;31m       \u001b[0;32mreturn\u001b[0m \u001b[0mfn\u001b[0m\u001b[0;34m(\u001b[0m\u001b[0;34m*\u001b[0m\u001b[0margs\u001b[0m\u001b[0;34m)\u001b[0m\u001b[0;34m\u001b[0m\u001b[0m\n\u001b[0m\u001b[1;32m   1040\u001b[0m     \u001b[0;32mexcept\u001b[0m \u001b[0merrors\u001b[0m\u001b[0;34m.\u001b[0m\u001b[0mOpError\u001b[0m \u001b[0;32mas\u001b[0m \u001b[0me\u001b[0m\u001b[0;34m:\u001b[0m\u001b[0;34m\u001b[0m\u001b[0m\n",
      "\u001b[0;32m~/anaconda3/envs/simulator-mining-example/lib/python3.6/site-packages/tensorflow/python/client/session.py\u001b[0m in \u001b[0;36m_run_fn\u001b[0;34m(session, feed_dict, fetch_list, target_list, options, run_metadata)\u001b[0m\n\u001b[1;32m   1020\u001b[0m                                  \u001b[0mfeed_dict\u001b[0m\u001b[0;34m,\u001b[0m \u001b[0mfetch_list\u001b[0m\u001b[0;34m,\u001b[0m \u001b[0mtarget_list\u001b[0m\u001b[0;34m,\u001b[0m\u001b[0;34m\u001b[0m\u001b[0m\n\u001b[0;32m-> 1021\u001b[0;31m                                  status, run_metadata)\n\u001b[0m\u001b[1;32m   1022\u001b[0m \u001b[0;34m\u001b[0m\u001b[0m\n",
      "\u001b[0;32m~/anaconda3/envs/simulator-mining-example/lib/python3.6/contextlib.py\u001b[0m in \u001b[0;36m__exit__\u001b[0;34m(self, type, value, traceback)\u001b[0m\n\u001b[1;32m     87\u001b[0m             \u001b[0;32mtry\u001b[0m\u001b[0;34m:\u001b[0m\u001b[0;34m\u001b[0m\u001b[0m\n\u001b[0;32m---> 88\u001b[0;31m                 \u001b[0mnext\u001b[0m\u001b[0;34m(\u001b[0m\u001b[0mself\u001b[0m\u001b[0;34m.\u001b[0m\u001b[0mgen\u001b[0m\u001b[0;34m)\u001b[0m\u001b[0;34m\u001b[0m\u001b[0m\n\u001b[0m\u001b[1;32m     89\u001b[0m             \u001b[0;32mexcept\u001b[0m \u001b[0mStopIteration\u001b[0m\u001b[0;34m:\u001b[0m\u001b[0;34m\u001b[0m\u001b[0m\n",
      "\u001b[0;32m~/anaconda3/envs/simulator-mining-example/lib/python3.6/site-packages/tensorflow/python/framework/errors_impl.py\u001b[0m in \u001b[0;36mraise_exception_on_not_ok_status\u001b[0;34m()\u001b[0m\n\u001b[1;32m    465\u001b[0m           \u001b[0mcompat\u001b[0m\u001b[0;34m.\u001b[0m\u001b[0mas_text\u001b[0m\u001b[0;34m(\u001b[0m\u001b[0mpywrap_tensorflow\u001b[0m\u001b[0;34m.\u001b[0m\u001b[0mTF_Message\u001b[0m\u001b[0;34m(\u001b[0m\u001b[0mstatus\u001b[0m\u001b[0;34m)\u001b[0m\u001b[0;34m)\u001b[0m\u001b[0;34m,\u001b[0m\u001b[0;34m\u001b[0m\u001b[0m\n\u001b[0;32m--> 466\u001b[0;31m           pywrap_tensorflow.TF_GetCode(status))\n\u001b[0m\u001b[1;32m    467\u001b[0m   \u001b[0;32mfinally\u001b[0m\u001b[0;34m:\u001b[0m\u001b[0;34m\u001b[0m\u001b[0m\n",
      "\u001b[0;31mInvalidArgumentError\u001b[0m: Incompatible shapes: [16,32] vs. [16,31]\n\t [[Node: loss_20/concatenate_21_loss/mul = Mul[T=DT_FLOAT, _device=\"/job:localhost/replica:0/task:0/cpu:0\"](_recv_concatenate_21_target_0, loss_20/concatenate_21_loss/Log)]]",
      "\nDuring handling of the above exception, another exception occurred:\n",
      "\u001b[0;31mInvalidArgumentError\u001b[0m                      Traceback (most recent call last)",
      "\u001b[0;32m<ipython-input-59-e5b1ec084257>\u001b[0m in \u001b[0;36m<module>\u001b[0;34m()\u001b[0m\n\u001b[1;32m     30\u001b[0m             \u001b[0moutput_batch\u001b[0m \u001b[0;34m=\u001b[0m \u001b[0mnp\u001b[0m\u001b[0;34m.\u001b[0m\u001b[0mhstack\u001b[0m\u001b[0;34m(\u001b[0m\u001b[0;34m[\u001b[0m\u001b[0mlabel_batch\u001b[0m\u001b[0;34m,\u001b[0m \u001b[0mscore_batch\u001b[0m\u001b[0;34m.\u001b[0m\u001b[0mreshape\u001b[0m\u001b[0;34m(\u001b[0m\u001b[0;34m(\u001b[0m\u001b[0mBATCH_SIZE\u001b[0m\u001b[0;34m,\u001b[0m\u001b[0;36m1\u001b[0m\u001b[0;34m)\u001b[0m\u001b[0;34m)\u001b[0m\u001b[0;34m,\u001b[0m\u001b[0;34m]\u001b[0m\u001b[0;34m)\u001b[0m\u001b[0;34m\u001b[0m\u001b[0m\n\u001b[1;32m     31\u001b[0m             \u001b[0mprint\u001b[0m\u001b[0;34m(\u001b[0m\u001b[0moutput_batch\u001b[0m\u001b[0;34m.\u001b[0m\u001b[0mshape\u001b[0m\u001b[0;34m)\u001b[0m\u001b[0;34m\u001b[0m\u001b[0m\n\u001b[0;32m---> 32\u001b[0;31m             \u001b[0ml\u001b[0m \u001b[0;34m=\u001b[0m \u001b[0mmodel\u001b[0m\u001b[0;34m.\u001b[0m\u001b[0mtrain_on_batch\u001b[0m\u001b[0;34m(\u001b[0m\u001b[0;34m[\u001b[0m\u001b[0mtrain_batch\u001b[0m\u001b[0;34m,\u001b[0m \u001b[0mlabel_batch\u001b[0m\u001b[0;34m]\u001b[0m\u001b[0;34m,\u001b[0m \u001b[0moutput_batch\u001b[0m\u001b[0;34m)\u001b[0m   \u001b[0;31m# gilles this cannot work\u001b[0m\u001b[0;34m\u001b[0m\u001b[0m\n\u001b[0m\u001b[1;32m     33\u001b[0m             l_scandal = model_scandal.train_on_batch([train_batch, label_batch], \n\u001b[1;32m     34\u001b[0m                             output_batch)\n",
      "\u001b[0;32m~/anaconda3/envs/simulator-mining-example/lib/python3.6/site-packages/keras/engine/training.py\u001b[0m in \u001b[0;36mtrain_on_batch\u001b[0;34m(self, x, y, sample_weight, class_weight)\u001b[0m\n\u001b[1;32m   1881\u001b[0m             \u001b[0mins\u001b[0m \u001b[0;34m=\u001b[0m \u001b[0mx\u001b[0m \u001b[0;34m+\u001b[0m \u001b[0my\u001b[0m \u001b[0;34m+\u001b[0m \u001b[0msample_weights\u001b[0m\u001b[0;34m\u001b[0m\u001b[0m\n\u001b[1;32m   1882\u001b[0m         \u001b[0mself\u001b[0m\u001b[0;34m.\u001b[0m\u001b[0m_make_train_function\u001b[0m\u001b[0;34m(\u001b[0m\u001b[0;34m)\u001b[0m\u001b[0;34m\u001b[0m\u001b[0m\n\u001b[0;32m-> 1883\u001b[0;31m         \u001b[0moutputs\u001b[0m \u001b[0;34m=\u001b[0m \u001b[0mself\u001b[0m\u001b[0;34m.\u001b[0m\u001b[0mtrain_function\u001b[0m\u001b[0;34m(\u001b[0m\u001b[0mins\u001b[0m\u001b[0;34m)\u001b[0m\u001b[0;34m\u001b[0m\u001b[0m\n\u001b[0m\u001b[1;32m   1884\u001b[0m         \u001b[0;32mif\u001b[0m \u001b[0mlen\u001b[0m\u001b[0;34m(\u001b[0m\u001b[0moutputs\u001b[0m\u001b[0;34m)\u001b[0m \u001b[0;34m==\u001b[0m \u001b[0;36m1\u001b[0m\u001b[0;34m:\u001b[0m\u001b[0;34m\u001b[0m\u001b[0m\n\u001b[1;32m   1885\u001b[0m             \u001b[0;32mreturn\u001b[0m \u001b[0moutputs\u001b[0m\u001b[0;34m[\u001b[0m\u001b[0;36m0\u001b[0m\u001b[0;34m]\u001b[0m\u001b[0;34m\u001b[0m\u001b[0m\n",
      "\u001b[0;32m~/anaconda3/envs/simulator-mining-example/lib/python3.6/site-packages/keras/backend/tensorflow_backend.py\u001b[0m in \u001b[0;36m__call__\u001b[0;34m(self, inputs)\u001b[0m\n\u001b[1;32m   2476\u001b[0m         \u001b[0msession\u001b[0m \u001b[0;34m=\u001b[0m \u001b[0mget_session\u001b[0m\u001b[0;34m(\u001b[0m\u001b[0;34m)\u001b[0m\u001b[0;34m\u001b[0m\u001b[0m\n\u001b[1;32m   2477\u001b[0m         updated = session.run(fetches=fetches, feed_dict=feed_dict,\n\u001b[0;32m-> 2478\u001b[0;31m                               **self.session_kwargs)\n\u001b[0m\u001b[1;32m   2479\u001b[0m         \u001b[0;32mreturn\u001b[0m \u001b[0mupdated\u001b[0m\u001b[0;34m[\u001b[0m\u001b[0;34m:\u001b[0m\u001b[0mlen\u001b[0m\u001b[0;34m(\u001b[0m\u001b[0mself\u001b[0m\u001b[0;34m.\u001b[0m\u001b[0moutputs\u001b[0m\u001b[0;34m)\u001b[0m\u001b[0;34m]\u001b[0m\u001b[0;34m\u001b[0m\u001b[0m\n\u001b[1;32m   2480\u001b[0m \u001b[0;34m\u001b[0m\u001b[0m\n",
      "\u001b[0;32m~/anaconda3/envs/simulator-mining-example/lib/python3.6/site-packages/tensorflow/python/client/session.py\u001b[0m in \u001b[0;36mrun\u001b[0;34m(self, fetches, feed_dict, options, run_metadata)\u001b[0m\n\u001b[1;32m    776\u001b[0m     \u001b[0;32mtry\u001b[0m\u001b[0;34m:\u001b[0m\u001b[0;34m\u001b[0m\u001b[0m\n\u001b[1;32m    777\u001b[0m       result = self._run(None, fetches, feed_dict, options_ptr,\n\u001b[0;32m--> 778\u001b[0;31m                          run_metadata_ptr)\n\u001b[0m\u001b[1;32m    779\u001b[0m       \u001b[0;32mif\u001b[0m \u001b[0mrun_metadata\u001b[0m\u001b[0;34m:\u001b[0m\u001b[0;34m\u001b[0m\u001b[0m\n\u001b[1;32m    780\u001b[0m         \u001b[0mproto_data\u001b[0m \u001b[0;34m=\u001b[0m \u001b[0mtf_session\u001b[0m\u001b[0;34m.\u001b[0m\u001b[0mTF_GetBuffer\u001b[0m\u001b[0;34m(\u001b[0m\u001b[0mrun_metadata_ptr\u001b[0m\u001b[0;34m)\u001b[0m\u001b[0;34m\u001b[0m\u001b[0m\n",
      "\u001b[0;32m~/anaconda3/envs/simulator-mining-example/lib/python3.6/site-packages/tensorflow/python/client/session.py\u001b[0m in \u001b[0;36m_run\u001b[0;34m(self, handle, fetches, feed_dict, options, run_metadata)\u001b[0m\n\u001b[1;32m    980\u001b[0m     \u001b[0;32mif\u001b[0m \u001b[0mfinal_fetches\u001b[0m \u001b[0;32mor\u001b[0m \u001b[0mfinal_targets\u001b[0m\u001b[0;34m:\u001b[0m\u001b[0;34m\u001b[0m\u001b[0m\n\u001b[1;32m    981\u001b[0m       results = self._do_run(handle, final_targets, final_fetches,\n\u001b[0;32m--> 982\u001b[0;31m                              feed_dict_string, options, run_metadata)\n\u001b[0m\u001b[1;32m    983\u001b[0m     \u001b[0;32melse\u001b[0m\u001b[0;34m:\u001b[0m\u001b[0;34m\u001b[0m\u001b[0m\n\u001b[1;32m    984\u001b[0m       \u001b[0mresults\u001b[0m \u001b[0;34m=\u001b[0m \u001b[0;34m[\u001b[0m\u001b[0;34m]\u001b[0m\u001b[0;34m\u001b[0m\u001b[0m\n",
      "\u001b[0;32m~/anaconda3/envs/simulator-mining-example/lib/python3.6/site-packages/tensorflow/python/client/session.py\u001b[0m in \u001b[0;36m_do_run\u001b[0;34m(self, handle, target_list, fetch_list, feed_dict, options, run_metadata)\u001b[0m\n\u001b[1;32m   1030\u001b[0m     \u001b[0;32mif\u001b[0m \u001b[0mhandle\u001b[0m \u001b[0;32mis\u001b[0m \u001b[0;32mNone\u001b[0m\u001b[0;34m:\u001b[0m\u001b[0;34m\u001b[0m\u001b[0m\n\u001b[1;32m   1031\u001b[0m       return self._do_call(_run_fn, self._session, feed_dict, fetch_list,\n\u001b[0;32m-> 1032\u001b[0;31m                            target_list, options, run_metadata)\n\u001b[0m\u001b[1;32m   1033\u001b[0m     \u001b[0;32melse\u001b[0m\u001b[0;34m:\u001b[0m\u001b[0;34m\u001b[0m\u001b[0m\n\u001b[1;32m   1034\u001b[0m       return self._do_call(_prun_fn, self._session, handle, feed_dict,\n",
      "\u001b[0;32m~/anaconda3/envs/simulator-mining-example/lib/python3.6/site-packages/tensorflow/python/client/session.py\u001b[0m in \u001b[0;36m_do_call\u001b[0;34m(self, fn, *args)\u001b[0m\n\u001b[1;32m   1050\u001b[0m         \u001b[0;32mexcept\u001b[0m \u001b[0mKeyError\u001b[0m\u001b[0;34m:\u001b[0m\u001b[0;34m\u001b[0m\u001b[0m\n\u001b[1;32m   1051\u001b[0m           \u001b[0;32mpass\u001b[0m\u001b[0;34m\u001b[0m\u001b[0m\n\u001b[0;32m-> 1052\u001b[0;31m       \u001b[0;32mraise\u001b[0m \u001b[0mtype\u001b[0m\u001b[0;34m(\u001b[0m\u001b[0me\u001b[0m\u001b[0;34m)\u001b[0m\u001b[0;34m(\u001b[0m\u001b[0mnode_def\u001b[0m\u001b[0;34m,\u001b[0m \u001b[0mop\u001b[0m\u001b[0;34m,\u001b[0m \u001b[0mmessage\u001b[0m\u001b[0;34m)\u001b[0m\u001b[0;34m\u001b[0m\u001b[0m\n\u001b[0m\u001b[1;32m   1053\u001b[0m \u001b[0;34m\u001b[0m\u001b[0m\n\u001b[1;32m   1054\u001b[0m   \u001b[0;32mdef\u001b[0m \u001b[0m_extend_graph\u001b[0m\u001b[0;34m(\u001b[0m\u001b[0mself\u001b[0m\u001b[0;34m)\u001b[0m\u001b[0;34m:\u001b[0m\u001b[0;34m\u001b[0m\u001b[0m\n",
      "\u001b[0;31mInvalidArgumentError\u001b[0m: Incompatible shapes: [16,32] vs. [16,31]\n\t [[Node: loss_20/concatenate_21_loss/mul = Mul[T=DT_FLOAT, _device=\"/job:localhost/replica:0/task:0/cpu:0\"](_recv_concatenate_21_target_0, loss_20/concatenate_21_loss/Log)]]\n\nCaused by op 'loss_20/concatenate_21_loss/mul', defined at:\n  File \"/home/gilles/anaconda3/envs/simulator-mining-example/lib/python3.6/runpy.py\", line 193, in _run_module_as_main\n    \"__main__\", mod_spec)\n  File \"/home/gilles/anaconda3/envs/simulator-mining-example/lib/python3.6/runpy.py\", line 85, in _run_code\n    exec(code, run_globals)\n  File \"/home/gilles/anaconda3/envs/simulator-mining-example/lib/python3.6/site-packages/ipykernel_launcher.py\", line 16, in <module>\n    app.launch_new_instance()\n  File \"/home/gilles/anaconda3/envs/simulator-mining-example/lib/python3.6/site-packages/traitlets/config/application.py\", line 658, in launch_instance\n    app.start()\n  File \"/home/gilles/anaconda3/envs/simulator-mining-example/lib/python3.6/site-packages/ipykernel/kernelapp.py\", line 486, in start\n    self.io_loop.start()\n  File \"/home/gilles/anaconda3/envs/simulator-mining-example/lib/python3.6/site-packages/tornado/platform/asyncio.py\", line 127, in start\n    self.asyncio_loop.run_forever()\n  File \"/home/gilles/anaconda3/envs/simulator-mining-example/lib/python3.6/asyncio/base_events.py\", line 422, in run_forever\n    self._run_once()\n  File \"/home/gilles/anaconda3/envs/simulator-mining-example/lib/python3.6/asyncio/base_events.py\", line 1432, in _run_once\n    handle._run()\n  File \"/home/gilles/anaconda3/envs/simulator-mining-example/lib/python3.6/asyncio/events.py\", line 145, in _run\n    self._callback(*self._args)\n  File \"/home/gilles/anaconda3/envs/simulator-mining-example/lib/python3.6/site-packages/tornado/platform/asyncio.py\", line 117, in _handle_events\n    handler_func(fileobj, events)\n  File \"/home/gilles/anaconda3/envs/simulator-mining-example/lib/python3.6/site-packages/tornado/stack_context.py\", line 276, in null_wrapper\n    return fn(*args, **kwargs)\n  File \"/home/gilles/anaconda3/envs/simulator-mining-example/lib/python3.6/site-packages/zmq/eventloop/zmqstream.py\", line 450, in _handle_events\n    self._handle_recv()\n  File \"/home/gilles/anaconda3/envs/simulator-mining-example/lib/python3.6/site-packages/zmq/eventloop/zmqstream.py\", line 480, in _handle_recv\n    self._run_callback(callback, msg)\n  File \"/home/gilles/anaconda3/envs/simulator-mining-example/lib/python3.6/site-packages/zmq/eventloop/zmqstream.py\", line 432, in _run_callback\n    callback(*args, **kwargs)\n  File \"/home/gilles/anaconda3/envs/simulator-mining-example/lib/python3.6/site-packages/tornado/stack_context.py\", line 276, in null_wrapper\n    return fn(*args, **kwargs)\n  File \"/home/gilles/anaconda3/envs/simulator-mining-example/lib/python3.6/site-packages/ipykernel/kernelbase.py\", line 283, in dispatcher\n    return self.dispatch_shell(stream, msg)\n  File \"/home/gilles/anaconda3/envs/simulator-mining-example/lib/python3.6/site-packages/ipykernel/kernelbase.py\", line 233, in dispatch_shell\n    handler(stream, idents, msg)\n  File \"/home/gilles/anaconda3/envs/simulator-mining-example/lib/python3.6/site-packages/ipykernel/kernelbase.py\", line 399, in execute_request\n    user_expressions, allow_stdin)\n  File \"/home/gilles/anaconda3/envs/simulator-mining-example/lib/python3.6/site-packages/ipykernel/ipkernel.py\", line 208, in do_execute\n    res = shell.run_cell(code, store_history=store_history, silent=silent)\n  File \"/home/gilles/anaconda3/envs/simulator-mining-example/lib/python3.6/site-packages/ipykernel/zmqshell.py\", line 537, in run_cell\n    return super(ZMQInteractiveShell, self).run_cell(*args, **kwargs)\n  File \"/home/gilles/anaconda3/envs/simulator-mining-example/lib/python3.6/site-packages/IPython/core/interactiveshell.py\", line 2662, in run_cell\n    raw_cell, store_history, silent, shell_futures)\n  File \"/home/gilles/anaconda3/envs/simulator-mining-example/lib/python3.6/site-packages/IPython/core/interactiveshell.py\", line 2785, in _run_cell\n    interactivity=interactivity, compiler=compiler, result=result)\n  File \"/home/gilles/anaconda3/envs/simulator-mining-example/lib/python3.6/site-packages/IPython/core/interactiveshell.py\", line 2903, in run_ast_nodes\n    if self.run_code(code, result):\n  File \"/home/gilles/anaconda3/envs/simulator-mining-example/lib/python3.6/site-packages/IPython/core/interactiveshell.py\", line 2963, in run_code\n    exec(code_obj, self.user_global_ns, self.user_ns)\n  File \"<ipython-input-59-e5b1ec084257>\", line 16, in <module>\n    model = make_score_regressor(mode='loss', lr=0.0001)\n  File \"<ipython-input-37-7ca579898993>\", line 37, in make_score_regressor\n    model.compile(loss=loss, metrics=['mse'], optimizer=adam)\n  File \"/home/gilles/anaconda3/envs/simulator-mining-example/lib/python3.6/site-packages/keras/engine/training.py\", line 830, in compile\n    sample_weight, mask)\n  File \"/home/gilles/anaconda3/envs/simulator-mining-example/lib/python3.6/site-packages/keras/engine/training.py\", line 429, in weighted\n    score_array = fn(y_true, y_pred)\n  File \"<ipython-input-37-7ca579898993>\", line 2, in simple_loss\n    def simple_loss(y_true, y_pred): return losses.categorical_crossentropy(y_true, y_pred[:,:-1])\n  File \"/home/gilles/anaconda3/envs/simulator-mining-example/lib/python3.6/site-packages/keras/losses.py\", line 69, in categorical_crossentropy\n    return K.categorical_crossentropy(y_true, y_pred)\n  File \"/home/gilles/anaconda3/envs/simulator-mining-example/lib/python3.6/site-packages/keras/backend/tensorflow_backend.py\", line 3008, in categorical_crossentropy\n    return - tf.reduce_sum(target * tf.log(output),\n  File \"/home/gilles/anaconda3/envs/simulator-mining-example/lib/python3.6/site-packages/tensorflow/python/ops/math_ops.py\", line 821, in binary_op_wrapper\n    return func(x, y, name=name)\n  File \"/home/gilles/anaconda3/envs/simulator-mining-example/lib/python3.6/site-packages/tensorflow/python/ops/math_ops.py\", line 1044, in _mul_dispatch\n    return gen_math_ops._mul(x, y, name=name)\n  File \"/home/gilles/anaconda3/envs/simulator-mining-example/lib/python3.6/site-packages/tensorflow/python/ops/gen_math_ops.py\", line 1434, in _mul\n    result = _op_def_lib.apply_op(\"Mul\", x=x, y=y, name=name)\n  File \"/home/gilles/anaconda3/envs/simulator-mining-example/lib/python3.6/site-packages/tensorflow/python/framework/op_def_library.py\", line 768, in apply_op\n    op_def=op_def)\n  File \"/home/gilles/anaconda3/envs/simulator-mining-example/lib/python3.6/site-packages/tensorflow/python/framework/ops.py\", line 2336, in create_op\n    original_op=self._default_original_op, op_def=op_def)\n  File \"/home/gilles/anaconda3/envs/simulator-mining-example/lib/python3.6/site-packages/tensorflow/python/framework/ops.py\", line 1228, in __init__\n    self._traceback = _extract_stack()\n\nInvalidArgumentError (see above for traceback): Incompatible shapes: [16,32] vs. [16,31]\n\t [[Node: loss_20/concatenate_21_loss/mul = Mul[T=DT_FLOAT, _device=\"/job:localhost/replica:0/task:0/cpu:0\"](_recv_concatenate_21_target_0, loss_20/concatenate_21_loss/Log)]]\n"
     ]
    }
   ],
   "source": [
    "mse = []\n",
    "mse_scandal = []\n",
    "mse_carl = []\n",
    "mse_rolr = []\n",
    "p_estimated = np.array([p_estimated_0, p_estimated_1])\n",
    "\n",
    "samples_size = [100,200] #,500,1000,2000,5000,10000]\n",
    "\n",
    "print('Start training')\n",
    "\n",
    "for n in samples_size:\n",
    "\n",
    "    print('Samples: {0}'.format(n))\n",
    "\n",
    "    train_data, labels, T = gen_data(n)\n",
    "    model = make_score_regressor(mode='loss', lr=0.0001)\n",
    "    model_scandal = make_score_regressor(mode='combined', lr=0.0001)\n",
    "    choices = np.random.choice(len(train_data), len(train_data), replace=False)\n",
    "    train_data_c = train_data[choices]\n",
    "    labels_c = labels[choices]\n",
    "    scores_c = np.array(T)[choices]\n",
    "    scores_c = scores_c.reshape((len(scores_c), 1))\n",
    "    for k in range(EPOCHS):\n",
    "\n",
    "        for b, batch in enumerate(zip(*groupers([train_data_c, scores_c, labels_c], \n",
    "                                           BATCH_SIZE, fillvalues=[train_data_c[-1],\n",
    "                                                                   scores_c[-1], labels_c[-1]]))):\n",
    "            train_batch, score_batch, label_batch = batch\n",
    "            train_batch, score_batch, label_batch = np.array(train_batch), np.array(score_batch), np.array(label_batch)\n",
    "            output_batch = np.hstack([label_batch, score_batch.reshape((BATCH_SIZE,1)),])\n",
    "            print(output_batch.shape)\n",
    "            l = model.train_on_batch([train_batch, label_batch], output_batch)   # gilles this cannot work\n",
    "            l_scandal = model_scandal.train_on_batch([train_batch, label_batch], \n",
    "                            output_batch)\n",
    "\n",
    "    p_train = model.predict([theta_test, np.zeros((len(theta_test), n_outputs))])[:,:-1]\n",
    "    p_train_scandal = model_scandal.predict([theta_test, np.zeros((len(theta_test), n_outputs))])[:,:-1]\n",
    "\n",
    "\n",
    "    # CARL\n",
    "    samples_0, scores_0 = plinko.rvs(true_b, true_c, theta_0, 1, n_runs=n)\n",
    "    samples_1, scores_1 = plinko.rvs(true_b, true_c, theta_1, 1, n_runs=n)        \n",
    "    train_data_0 = np.array(samples_0).reshape((len(samples_0),1))\n",
    "    train_data_1 = np.array(samples_1).reshape((len(samples_1),1))\n",
    "    ratio_clf = make_ratio(train_data_0, train_data_1)\n",
    "    ratio_carl = ratio_clf.predict(np.array(range(n_nails)).reshape((n_nails,1)))[0]\n",
    "\n",
    "    samples, scores_0_0, scores_1_0, log_p0, log_p1 = plinko.rvs_ratio(true_b, true_c, \n",
    "                                                                   theta_0, theta_1, 1,\n",
    "                                                                   n_runs=n)\n",
    "    log_ratio_0 = np.array(log_p0) - np.array(log_p1)\n",
    "    samples_0 = np.array(samples).reshape((len(samples),1))\n",
    "\n",
    "    samples, scores_1_1, scores_0_1, log_p1, log_p0 = plinko.rvs_ratio(true_b, true_c, \n",
    "                                                                   theta_1, theta_0, 1,\n",
    "                                                                   n_runs=n)\n",
    "    log_ratio_1 = np.array(log_p0) - np.array(log_p1)\n",
    "    samples_1 = np.array(samples).reshape((len(samples),1))\n",
    "\n",
    "    samples = np.vstack((samples_0, samples_1))\n",
    "    log_ratios = np.hstack((log_ratio_0, log_ratio_1))\n",
    "    scores = np.hstack((scores_0_0, scores_0_1))\n",
    "\n",
    "    y = np.zeros(len(samples), dtype=np.int)\n",
    "    y[-len(samples_0):] = 1\n",
    "    y = y.reshape((len(y),1))\n",
    "    y = np.hstack((y.reshape(-1, 1), log_ratios.reshape((-1, 1)), scores.reshape((-1, 1))))\n",
    "    thetas = (theta_0 * np.ones(len(samples), dtype='float32')).reshape((len(samples), 1))\n",
    "\n",
    "    rolr_clf = make_ratio_rolr(samples, thetas, y)\n",
    "    ratio_rolr = rolr_clf.predict(np.hstack((np.array(range(n_nails)).reshape((n_nails,1)),\n",
    "                                       (theta_0 * np.ones(n_nails, dtype='float32')\n",
    "                                                        ).reshape((n_nails, 1)))))[:,1]\n",
    "\n",
    "\n",
    "    mse.append(compute_mse(p_train, p_estimated))\n",
    "    mse_scandal.append(compute_mse(p_train_comb, p_estimated))\n",
    "    mse_carl.append(mse_ratio(ratio_carl[7:25], p_estimated[:,7:25]))\n",
    "    mse_rolr.append(mse_ratio(ratio_rolr[5:25], p_estimated[:,5:25], log=False))"
   ]
  },
  {
   "cell_type": "code",
   "execution_count": null,
   "metadata": {},
   "outputs": [],
   "source": []
  }
 ],
 "metadata": {
  "kernelspec": {
   "display_name": "Python 3",
   "language": "python",
   "name": "python3"
  },
  "language_info": {
   "codemirror_mode": {
    "name": "ipython",
    "version": 3
   },
   "file_extension": ".py",
   "mimetype": "text/x-python",
   "name": "python",
   "nbconvert_exporter": "python",
   "pygments_lexer": "ipython3",
   "version": "3.6.5"
  }
 },
 "nbformat": 4,
 "nbformat_minor": 2
}

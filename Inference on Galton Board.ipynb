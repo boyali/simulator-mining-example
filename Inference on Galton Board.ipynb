{
 "cells": [
  {
   "cell_type": "code",
   "execution_count": 1,
   "metadata": {},
   "outputs": [],
   "source": [
    "import numpy as np\n",
    "import matplotlib.pyplot as plt\n",
    "%matplotlib inline\n",
    "\n",
    "from galton import galton_rvs\n",
    "from galton import galton_rvs_ratio"
   ]
  },
  {
   "cell_type": "code",
   "execution_count": 2,
   "metadata": {},
   "outputs": [],
   "source": [
    "from galton import n_nails\n",
    "from galton import n_rows\n",
    "\n",
    "theta_0 = -0.8\n",
    "theta_1 = -0.6"
   ]
  },
  {
   "cell_type": "markdown",
   "metadata": {},
   "source": [
    "# Density estimation with histograms"
   ]
  },
  {
   "cell_type": "code",
   "execution_count": 3,
   "metadata": {},
   "outputs": [],
   "source": [
    "samples_0, _, scores_0, _ = galton_rvs(theta_0, n_runs=20000, random_state=1234)\n",
    "p_estimated_0, _ = np.histogram(\n",
    "    samples_0, bins=n_nails, range=(0, n_nails), density=True\n",
    ")\n",
    "\n",
    "samples_1, _, scores_1, _ = galton_rvs(theta_1, n_runs=20000, random_state=1234)\n",
    "p_estimated_1, _ = np.histogram(\n",
    "    samples_1, bins=n_nails, range=(0, n_nails), density=True\n",
    ")"
   ]
  },
  {
   "cell_type": "code",
   "execution_count": 4,
   "metadata": {},
   "outputs": [
    {
     "data": {
      "image/png": "[encoded data removed]",
      "text/plain": [
       "<matplotlib.figure.Figure at 0x10f25a630>"
      ]
     },
     "metadata": {},
     "output_type": "display_data"
    }
   ],
   "source": [
    "plt.step(\n",
    "    range(len(p_estimated_0)), p_estimated_0, c=\"r\", lw=1.5, label=r\"$p(x|\\theta_0)$\"\n",
    ")\n",
    "plt.step(\n",
    "    range(len(p_estimated_0)), p_estimated_1, c=\"b\", lw=1.5, label=r\"$p(x|\\theta_1)$\"\n",
    ")\n",
    "\n",
    "plt.xlabel(\"x\")\n",
    "plt.ylabel(\"p(x)\")\n",
    "plt.legend()\n",
    "plt.show()"
   ]
  },
  {
   "cell_type": "markdown",
   "metadata": {},
   "source": [
    "# NDE + SCANDAL"
   ]
  },
  {
   "cell_type": "code",
   "execution_count": 5,
   "metadata": {},
   "outputs": [
    {
     "name": "stderr",
     "output_type": "stream",
     "text": [
      "/Users/johannbrehmer/anaconda3/envs/higgs_inference/lib/python3.6/site-packages/h5py/__init__.py:36: FutureWarning: Conversion of the second argument of issubdtype from `float` to `np.floating` is deprecated. In future, it will be treated as `np.float64 == np.dtype(float).type`.\n",
      "  from ._conv import register_converters as _register_converters\n",
      "Using TensorFlow backend.\n",
      "/Users/johannbrehmer/anaconda3/envs/higgs_inference/lib/python3.6/importlib/_bootstrap.py:219: RuntimeWarning: compiletime version 3.5 of module 'tensorflow.python.framework.fast_tensor_util' does not match runtime version 3.6\n",
      "  return f(*args, **kwds)\n"
     ]
    }
   ],
   "source": [
    "from galton import check_random_state\n",
    "from keras.utils import to_categorical\n",
    "\n",
    "\n",
    "def draw_nde(n_samples, n_thetas=10, random_state=0):\n",
    "    n_traces_per_theta = n_samples // n_thetas\n",
    "\n",
    "    all_x = []\n",
    "    all_t_xz = []\n",
    "    all_thetas = []\n",
    "\n",
    "    for k, theta in enumerate(np.linspace(-1.0, -0.4, n_thetas)):\n",
    "        x, log_p_xz, t_xz, _ = galton_rvs(\n",
    "            theta, n_runs=n_traces_per_theta, random_state=random_state + k\n",
    "        )\n",
    "        all_x.append(x)\n",
    "        all_t_xz.append(t_xz)\n",
    "        all_thetas.append(theta * np.ones(n_traces_per_theta))\n",
    "\n",
    "    all_x = np.array(all_x).reshape(-1, 1)\n",
    "    all_x = to_categorical(all_x, num_classes=n_nails)\n",
    "    all_t_xz = np.array(all_t_xz).reshape(-1, 1)\n",
    "    all_thetas = np.array(all_thetas).reshape(-1, 1)\n",
    "\n",
    "    rng = check_random_state(random_state)\n",
    "    choices = rng.choice(len(all_x), len(all_x), replace=False)\n",
    "\n",
    "    return all_x[choices], all_t_xz[choices], all_thetas[choices]"
   ]
  },
  {
   "cell_type": "code",
   "execution_count": 6,
   "metadata": {},
   "outputs": [],
   "source": [
    "x, t_xz, theta = draw_nde(10000)"
   ]
  },
  {
   "cell_type": "code",
   "execution_count": 7,
   "metadata": {},
   "outputs": [],
   "source": [
    "n_features = 1 \n",
    "hidden_size = 20\n",
    "n_outputs = n_nails"
   ]
  },
  {
   "cell_type": "code",
   "execution_count": 8,
   "metadata": {},
   "outputs": [],
   "source": [
    "from keras.optimizers import Adam\n",
    "from keras.layers import Input, Dense, Lambda, dot\n",
    "from keras.models import Model\n",
    "from keras.utils import to_categorical\n",
    "import keras.backend as K\n",
    "\n",
    "\n",
    "def make_nde(lr=0.001):\n",
    "    theta = Input(shape=(1,))\n",
    "    h = Dense(hidden_size, activation=\"tanh\")(theta)\n",
    "    phat_theta = Dense(n_outputs, activation=\"softmax\")(h)\n",
    "\n",
    "    model = Model(inputs=[theta], outputs=[phat_theta])\n",
    "    opt = Adam(lr=lr)\n",
    "    model.compile(loss=[\"categorical_crossentropy\"], optimizer=opt)\n",
    "\n",
    "    return model\n",
    "\n",
    "\n",
    "def make_scandal(lr=0.001):\n",
    "    theta = Input(shape=(1,))\n",
    "    h = Dense(hidden_size, activation=\"tanh\")(theta)\n",
    "    phat_theta = Dense(n_outputs, activation=\"softmax\")(h)\n",
    "\n",
    "    x = Input(shape=(n_outputs,))\n",
    "    phat_x_theta = dot([x, phat_theta], axes=1)\n",
    "    t_x = Lambda(\n",
    "        lambda exp: K.gradients(K.log(exp[0]), [exp[1]])[0], output_shape=(n_features,)\n",
    "    )([phat_x_theta, theta])\n",
    "\n",
    "    model = Model(inputs=[theta, x], outputs=[phat_theta, t_x])\n",
    "    opt = Adam(lr=lr)\n",
    "    model.compile(loss=[\"categorical_crossentropy\", \"mse\"], optimizer=opt)\n",
    "\n",
    "    return model"
   ]
  },
  {
   "cell_type": "code",
   "execution_count": 9,
   "metadata": {
    "scrolled": true
   },
   "outputs": [
    {
     "data": {
      "text/plain": [
       "<keras.callbacks.History at 0x181de1a358>"
      ]
     },
     "execution_count": 9,
     "metadata": {},
     "output_type": "execute_result"
    }
   ],
   "source": [
    "nde = make_nde()\n",
    "nde.fit(theta, x,\n",
    "        batch_size=32, epochs=50, verbose=0)"
   ]
  },
  {
   "cell_type": "code",
   "execution_count": null,
   "metadata": {
    "scrolled": true
   },
   "outputs": [],
   "source": [
    "scandal = make_scandal()\n",
    "scandal.fit(\n",
    "    [theta, x],\n",
    "    [x, t_xz],\n",
    "    batch_size=32,\n",
    "    epochs=50,\n",
    "    verbose=0\n",
    ")"
   ]
  },
  {
   "cell_type": "code",
   "execution_count": 11,
   "metadata": {},
   "outputs": [
    {
     "data": {
      "image/png": "[encoded data removed]",
      "text/plain": [
       "<matplotlib.figure.Figure at 0x181e548438>"
      ]
     },
     "metadata": {},
     "output_type": "display_data"
    }
   ],
   "source": [
    "plt.step(range(n_nails), p_estimated_0, label=\"histogram\")\n",
    "plt.step(range(n_nails), nde.predict(np.array([theta_0])).ravel(), label=\"nde\")\n",
    "plt.step(\n",
    "    range(n_nails),\n",
    "    scandal.predict([np.array([[theta_0]]), np.zeros((1, n_nails))])[0][0],\n",
    "    label=\"scandal\",\n",
    ")\n",
    "plt.legend()\n",
    "plt.title(r\"$\\theta=%.2f$\" % theta_0)\n",
    "plt.show()"
   ]
  },
  {
   "cell_type": "code",
   "execution_count": 12,
   "metadata": {},
   "outputs": [
    {
     "data": {
      "image/png": "[encoded data removed]",
      "text/plain": [
       "<matplotlib.figure.Figure at 0x181ee99908>"
      ]
     },
     "metadata": {},
     "output_type": "display_data"
    }
   ],
   "source": [
    "plt.step(range(n_nails), p_estimated_1, label=\"histogram\")\n",
    "plt.step(range(n_nails), nde.predict(np.array([theta_1])).ravel(), label=\"nde\")\n",
    "plt.step(\n",
    "    range(n_nails),\n",
    "    scandal.predict([np.array([[theta_1]]), np.zeros((1, n_nails))])[0][0],\n",
    "    label=\"scandal\",\n",
    ")\n",
    "plt.legend()\n",
    "plt.title(r\"$\\theta=%.2f$\" % theta_1)\n",
    "plt.show()"
   ]
  },
  {
   "cell_type": "markdown",
   "metadata": {},
   "source": [
    "# CARL"
   ]
  },
  {
   "cell_type": "code",
   "execution_count": 20,
   "metadata": {},
   "outputs": [],
   "source": [
    "from keras.layers import concatenate\n",
    "\n",
    "\n",
    "def make_carl(lr=0.001):\n",
    "    theta0 = Input(shape=(1,))\n",
    "    \n",
    "    h = Dense(hidden_size, activation=\"tanh\")(theta0)\n",
    "    log_rhat_thetas = Dense(n_outputs, activation=\"linear\")(h)\n",
    "    rhat_thetas = Lambda(lambda exp: K.exp(exp))(log_rhat_thetas)\n",
    "\n",
    "    x = Input(shape=(n_outputs,))\n",
    "    rhat_x_thetas = dot([x, rhat_thetas], axes=1)\n",
    "    \n",
    "    shat = Lambda(lambda r: 1. / (1. + r))(rhat_x_thetas)\n",
    "\n",
    "    model = Model(inputs=[theta0, x], outputs=[shat])\n",
    "    opt = Adam(lr=lr)\n",
    "    model.compile(loss=[\"binary_crossentropy\"], optimizer=opt)\n",
    "    \n",
    "    return model\n",
    "\n",
    "\n",
    "def make_carl_alt(lr=0.001):\n",
    "    theta0 = Input(shape=(1,))\n",
    "    x = Input(shape=(1,))\n",
    "    \n",
    "    h = Dense(hidden_size, activation=\"tanh\")(\n",
    "        concatenate([theta0, x])\n",
    "    )\n",
    "    h = Dense(hidden_size, activation=\"tanh\")(h)\n",
    "    log_rhat = Dense(1, activation=\"linear\")(h)\n",
    "    rhat = Lambda(lambda exp: K.exp(exp))(log_rhat)\n",
    "    shat = Lambda(lambda r: 1. / (1. + r))(rhat)\n",
    "\n",
    "    model = Model(inputs=[theta0, x], outputs=[shat])\n",
    "    opt = Adam(lr=lr)\n",
    "    model.compile(loss=[\"binary_crossentropy\"], optimizer=opt)\n",
    "    \n",
    "    return model"
   ]
  },
  {
   "cell_type": "code",
   "execution_count": 21,
   "metadata": {},
   "outputs": [],
   "source": [
    "def log_r_from_s(s, epsilon=1.e-6):\n",
    "    return np.log((1. - s + epsilon) / (s + epsilon))"
   ]
  },
  {
   "cell_type": "code",
   "execution_count": 106,
   "metadata": {},
   "outputs": [],
   "source": [
    "def draw_ratio(n_samples, n_thetas=10, random_state=0,\n",
    "               draw_from_theta0=True, draw_from_theta1=True, categorical_x=True):\n",
    "    n_traces_per_theta = n_samples // n_thetas // (int(draw_from_theta0) + int(draw_from_theta1))\n",
    "\n",
    "    all_x = []\n",
    "    all_theta = []\n",
    "    all_y = []\n",
    "    all_r_xz = []\n",
    "    all_t_xz_0 = []\n",
    "    \n",
    "    for k, theta in enumerate(np.linspace(-1.0, -0.4, n_thetas)):\n",
    "        # Draw according to theta0\n",
    "        if draw_from_theta0:\n",
    "            x, log_p_xz_0, log_p_xz_1, t_xz_0, _, _ = galton_rvs_ratio(\n",
    "                theta, theta_1, n_runs=n_traces_per_theta, random_state=random_state\n",
    "            )\n",
    "            all_x.append(x)\n",
    "            all_y += [0] * n_traces_per_theta\n",
    "            all_r_xz.append(log_p_xz_0 - log_p_xz_1)\n",
    "            all_t_xz_0.append(t_xz_0)\n",
    "            all_theta += [theta] * n_traces_per_theta\n",
    "        \n",
    "        # Draw according to theta1\n",
    "        if draw_from_theta1:\n",
    "            x, log_p_xz_1, log_p_xz_0, _, t_xz_0, _ = galton_rvs_ratio(\n",
    "                theta_1, theta, n_runs=n_traces_per_theta, random_state=random_state\n",
    "            )\n",
    "            all_x.append(x)\n",
    "            all_y += [1] * n_traces_per_theta\n",
    "            all_r_xz.append(log_p_xz_0 - log_p_xz_1)\n",
    "            all_t_xz_0.append(t_xz_0)\n",
    "            all_theta += [theta] * n_traces_per_theta\n",
    "        \n",
    "    all_x = np.array(all_x).reshape(-1, 1)\n",
    "    if categorical_x:\n",
    "        all_x = to_categorical(all_x, num_classes=n_nails)\n",
    "    all_theta = np.array(all_theta).reshape(-1, 1)\n",
    "    all_y = np.array(all_y)\n",
    "    all_r_xz = np.array(all_r_xz).reshape(-1, 1)\n",
    "    all_r_xz = np.exp(all_r_xz)\n",
    "    all_t_xz_0 = np.array(all_t_xz_0).reshape(-1, 1)\n",
    "\n",
    "    return all_x, all_theta, all_y, all_r_xz, all_t_xz_0"
   ]
  },
  {
   "cell_type": "code",
   "execution_count": 149,
   "metadata": {},
   "outputs": [],
   "source": [
    "# Calibration\n",
    "from sklearn.model_selection import StratifiedShuffleSplit\n",
    "from sklearn.isotonic import IsotonicRegression\n",
    "\n",
    "def make_calibrated_carl_alt(theta, x, y, theta_calibration, n_splits=3, test_size=0.5):\n",
    "    # Train classifier\n",
    "    clf = make_carl_alt()\n",
    "    clf.fit([theta, x],\n",
    "            y,\n",
    "            batch_size=32, epochs=50, verbose=0)\n",
    "    \n",
    "    # Isotonic calibration on events around theta_calibration\n",
    "    calibrate = ((theta.flatten() - theta_calibration)**2 < 0.001)\n",
    "    T = clf.predict([theta[calibrate], x[calibrate]])\n",
    "    cal = IsotonicRegression(y_min=None, y_max=None,\n",
    "                             increasing=True, out_of_bounds='clip')\n",
    "    cal.fit(T.flatten(), y[calibrate].flatten())\n",
    "    calibrate = lambda s : cal.transform(s.flatten())\n",
    "\n",
    "    def calibrated_carl_prediction(theta_, x_):\n",
    "        x_ = x_.astype(np.float)\n",
    "        return calibrate(clf.predict([theta_, x_]))\n",
    "    \n",
    "    return calibrated_carl_prediction"
   ]
  },
  {
   "cell_type": "code",
   "execution_count": 151,
   "metadata": {},
   "outputs": [],
   "source": [
    "x, theta, y, _, _ = draw_ratio(1000)\n",
    "theta_x = np.hstack([all_theta, all_x])\n",
    "\n",
    "x_alt, theta_alt, y_alt, _, _ = draw_ratio(5000, categorical_x=False)\n",
    "theta_x_alt = np.hstack([all_theta_alt, all_x_alt])"
   ]
  },
  {
   "cell_type": "code",
   "execution_count": 152,
   "metadata": {},
   "outputs": [
    {
     "data": {
      "text/plain": [
       "<keras.callbacks.History at 0x1aeecae828>"
      ]
     },
     "execution_count": 152,
     "metadata": {},
     "output_type": "execute_result"
    }
   ],
   "source": [
    "carl = make_carl()\n",
    "carl.fit([theta, x],\n",
    "         y, \n",
    "         batch_size=32, epochs=50, verbose=0)"
   ]
  },
  {
   "cell_type": "code",
   "execution_count": 153,
   "metadata": {},
   "outputs": [
    {
     "data": {
      "text/plain": [
       "<keras.callbacks.History at 0x1aeecc2978>"
      ]
     },
     "execution_count": 153,
     "metadata": {},
     "output_type": "execute_result"
    }
   ],
   "source": [
    "carl_alt = make_carl_alt()\n",
    "carl_alt.fit([theta_alt, x_alt],\n",
    "             y_alt, \n",
    "             batch_size=32, epochs=50, verbose=0)"
   ]
  },
  {
   "cell_type": "code",
   "execution_count": 154,
   "metadata": {},
   "outputs": [],
   "source": [
    "carl_calibrated = make_calibrated_carl_alt(theta_alt, x_alt, y_alt, theta_calibration = theta_0)"
   ]
  },
  {
   "cell_type": "code",
   "execution_count": 155,
   "metadata": {},
   "outputs": [
    {
     "data": {
      "image/png": "[encoded data removed]",
      "text/plain": [
       "<matplotlib.figure.Figure at 0x1ae06de160>"
      ]
     },
     "metadata": {},
     "output_type": "display_data"
    }
   ],
   "source": [
    "log_r_true = np.log(p_estimated_0[5:-5]) - np.log(p_estimated_1[5:-5])\n",
    "\n",
    "x_test = to_categorical(np.array(range(n_nails)), num_classes=n_nails)\n",
    "x_test_alt = np.array(range(n_nails))\n",
    "theta0_test = theta_0 * np.ones((n_nails, 1))\n",
    "\n",
    "log_r_carl = log_r_from_s(\n",
    "    carl.predict([theta0_test, x_test])[5:-5]\n",
    ")\n",
    "log_r_carl_alt = log_r_from_s(\n",
    "    carl_alt.predict([theta0_test, x_test_alt])[5:-5]\n",
    ")\n",
    "log_r_carl_calibrated = log_r_from_s(\n",
    "    carl_calibrated(theta0_test, x_test_alt)[5:-5]\n",
    ")\n",
    "\n",
    "plt.step(range(5, n_nails - 5), log_r_true, label=\"Truth\")\n",
    "plt.step(range(5, n_nails - 5), log_r_carl, label=\"CARL\")\n",
    "plt.step(range(5, n_nails - 5), log_r_carl_alt, label=\"CARL (old architecture)\")\n",
    "plt.step(range(5, n_nails - 5), log_r_carl_calibrated, label=\"Calibrated CARL\")\n",
    "plt.legend()\n",
    "plt.show()"
   ]
  },
  {
   "cell_type": "markdown",
   "metadata": {},
   "source": [
    "# ROLR + RASCAL"
   ]
  },
  {
   "cell_type": "code",
   "execution_count": 89,
   "metadata": {},
   "outputs": [],
   "source": [
    "x, thetas, y, r_xz, t_xz = draw_ratio(5000)\n",
    "x_alt, thetas_alt, y_alt, r_xz_alt, t_xz_alt = draw_ratio(5000, categorical_x=False)\n",
    "\n",
    "r_xz_y = np.hstack([r_xz, y.reshape((-1,1))])\n",
    "t_xz_y = np.hstack([t_xz, y.reshape((-1,1))])\n",
    "r_xz_y_alt = np.hstack([r_xz_alt, y_alt.reshape((-1,1))])\n",
    "t_xz_y_alt = np.hstack([t_xz_alt, y_alt.reshape((-1,1))])\n"
   ]
  },
  {
   "cell_type": "code",
   "execution_count": 90,
   "metadata": {},
   "outputs": [],
   "source": [
    "from keras.losses import mean_squared_error\n",
    "from keras.layers import concatenate\n",
    "\n",
    "\n",
    "def rolr_loss_with_inverse(y_true, y_pred):\n",
    "    # y_true columns are (r, y)\n",
    "    normal_loss = mean_squared_error(y_true[:, 1] * y_true[:, 0], y_true[:, 1] * y_pred[:, 0])\n",
    "    inverse_loss = mean_squared_error((1. - y_true[:, 1]) * 1. / y_true[:, 0], (1. - y_true[:, 1]) * 1. / y_pred[:, 0])\n",
    "    return normal_loss + inverse_loss\n",
    "\n",
    "\n",
    "def score_loss_with_inverse(y_true, y_pred):\n",
    "    # y_true columns are (t, y)\n",
    "    return mean_squared_error((1. - y_true[:, 1]) * y_true[:, 0], (1. - y_true[:, 1]) * y_pred[:, 0])\n",
    "\n",
    "\n",
    "def make_rolr(lr=0.001):\n",
    "    theta0 = Input(shape=(1,))\n",
    "\n",
    "    h = Dense(hidden_size, activation=\"tanh\")(theta0)\n",
    "    log_rhat_thetas = Dense(n_outputs, activation=\"linear\")(h)\n",
    "    rhat_thetas = Lambda(lambda exp: K.exp(exp))(log_rhat_thetas)\n",
    "\n",
    "    x = Input(shape=(n_outputs,))\n",
    "    rhat_x_thetas = dot([x, rhat_thetas], axes=1)\n",
    "\n",
    "    model = Model(inputs=[theta0, x], outputs=[rhat_x_thetas])\n",
    "    opt = Adam(lr=lr)\n",
    "    model.compile(loss=[rolr_loss_with_inverse], optimizer=opt)\n",
    "\n",
    "    return model\n",
    "\n",
    "\n",
    "def make_rascal(lr=0.001):\n",
    "    theta0 = Input(shape=(1,))\n",
    "\n",
    "    h = Dense(hidden_size, activation=\"tanh\")(theta0)\n",
    "    log_rhat_thetas = Dense(n_outputs, activation=\"linear\")(h)\n",
    "    rhat_thetas = Lambda(lambda exp: K.exp(exp))(log_rhat_thetas)\n",
    "\n",
    "    x = Input(shape=(n_outputs,))\n",
    "    rhat_x_thetas = dot([x, rhat_thetas], axes=1)\n",
    "\n",
    "    log_rhat_x_theta = dot([x, log_rhat_thetas], axes=1)\n",
    "    t_x_0 = Lambda(\n",
    "        lambda exp: K.gradients(exp[0], [exp[1]])[0], output_shape=(n_features,)\n",
    "    )([log_rhat_x_theta, theta0])\n",
    "\n",
    "    model = Model(inputs=[theta0, x], outputs=[rhat_x_thetas, t_x_0])\n",
    "    opt = Adam(lr=lr)\n",
    "    model.compile(loss=[rolr_loss_with_inverse, score_loss_with_inverse], loss_weights=[1.0, 0.2], optimizer=opt)\n",
    "\n",
    "    return model\n",
    "\n",
    "\n",
    "def make_rolr_alt(lr=0.001):\n",
    "    theta0 = Input(shape=(1,))\n",
    "    x = Input(shape=(1,))\n",
    "\n",
    "    h = Dense(hidden_size, activation=\"tanh\")(\n",
    "        concatenate([theta0, x])\n",
    "    )\n",
    "    h = Dense(hidden_size, activation=\"tanh\")(h)\n",
    "    log_rhat = Dense(1, activation=\"linear\")(h)\n",
    "    rhat = Lambda(lambda exp: K.exp(exp))(log_rhat)\n",
    "\n",
    "    model = Model(inputs=[theta0, x], outputs=[rhat])\n",
    "    opt = Adam(lr=lr)\n",
    "    model.compile(loss=[rolr_loss_with_inverse], optimizer=opt)\n",
    "\n",
    "    return model\n",
    "\n",
    "\n",
    "def make_rascal_alt(lr=0.001):\n",
    "    theta0 = Input(shape=(1,))\n",
    "    x = Input(shape=(1,))\n",
    "\n",
    "    h = Dense(hidden_size, activation=\"tanh\")(\n",
    "        concatenate([theta0, x])\n",
    "    )\n",
    "    h = Dense(hidden_size, activation=\"tanh\")(h)\n",
    "    log_rhat = Dense(1, activation=\"linear\")(h)\n",
    "    rhat = Lambda(lambda exp: K.exp(exp))(log_rhat)\n",
    "    \n",
    "    that_0 = Lambda(\n",
    "        lambda arg: K.gradients(arg[0], [arg[1]])[0], output_shape=(n_features,)\n",
    "    )([log_rhat, theta0])\n",
    "\n",
    "    model = Model(inputs=[theta0, x], outputs=[rhat, that_0])\n",
    "    opt = Adam(lr=lr)\n",
    "    model.compile(loss=[rolr_loss_with_inverse, score_loss_with_inverse], loss_weights=[1.0, 0.2], optimizer=opt)\n",
    "\n",
    "    return model"
   ]
  },
  {
   "cell_type": "code",
   "execution_count": 91,
   "metadata": {
    "scrolled": true
   },
   "outputs": [
    {
     "data": {
      "text/plain": [
       "<keras.callbacks.History at 0x1a910e6b38>"
      ]
     },
     "execution_count": 91,
     "metadata": {},
     "output_type": "execute_result"
    }
   ],
   "source": [
    "rolr = make_rolr()\n",
    "rolr.fit([thetas, x], \n",
    "         r_xz_y, \n",
    "         batch_size=32, epochs=50, verbose=0)"
   ]
  },
  {
   "cell_type": "code",
   "execution_count": null,
   "metadata": {},
   "outputs": [],
   "source": [
    "rascal = make_rascal()\n",
    "rascal.fit([thetas, x], \n",
    "           [r_xz_y, t_xz_y], \n",
    "           batch_size=32, epochs=50, verbose=0)"
   ]
  },
  {
   "cell_type": "code",
   "execution_count": 93,
   "metadata": {
    "scrolled": true
   },
   "outputs": [
    {
     "data": {
      "text/plain": [
       "<keras.callbacks.History at 0x1a915c4ac8>"
      ]
     },
     "execution_count": 93,
     "metadata": {},
     "output_type": "execute_result"
    }
   ],
   "source": [
    "rolr_alt = make_rolr_alt()\n",
    "rolr_alt.fit([thetas_alt, x_alt], \n",
    "             r_xz_y_alt, \n",
    "             batch_size=32, epochs=50, verbose=0)"
   ]
  },
  {
   "cell_type": "code",
   "execution_count": 94,
   "metadata": {},
   "outputs": [
    {
     "data": {
      "text/plain": [
       "<keras.callbacks.History at 0x1a9236bac8>"
      ]
     },
     "execution_count": 94,
     "metadata": {},
     "output_type": "execute_result"
    }
   ],
   "source": [
    "rascal_alt = make_rascal_alt()\n",
    "rascal_alt.fit([thetas_alt, x_alt], \n",
    "               [r_xz_y_alt, t_xz_y_alt], \n",
    "               batch_size=32, epochs=50, verbose=0)"
   ]
  },
  {
   "cell_type": "code",
   "execution_count": 95,
   "metadata": {},
   "outputs": [
    {
     "data": {
      "image/png": "[encoded data removed]",
      "text/plain": [
       "<matplotlib.figure.Figure at 0x1a960f77f0>"
      ]
     },
     "metadata": {},
     "output_type": "display_data"
    }
   ],
   "source": [
    "r_true = np.exp(np.log(p_estimated_0[5:-5]) - np.log(p_estimated_1[5:-5]))\n",
    "\n",
    "x_test = to_categorical(np.array(range(n_nails)), num_classes=n_nails)\n",
    "x_test_alt = np.array(range(n_nails))\n",
    "theta0_test = np.array(theta_0 * np.ones(n_nails))\n",
    "\n",
    "r_rolr = rolr.predict([theta0_test, x_test])[5:-5]\n",
    "r_rascal = rascal.predict([theta0_test, x_test])[0][5:-5]\n",
    "r_rolr_alt = rolr_alt.predict([theta0_test, x_test_alt])[5:-5]\n",
    "r_rascal_alt = rascal_alt.predict([theta0_test, x_test_alt])[0][5:-5]\n",
    "\n",
    "plt.step(range(5, n_nails - 5), r_true, label=\"Truth\")\n",
    "plt.step(range(5, n_nails - 5), r_rolr, label=\"ROLR\")\n",
    "plt.step(range(5, n_nails - 5), r_rascal, label=\"RASCAL\")\n",
    "plt.step(range(5, n_nails - 5), r_rolr_alt, label=\"ROLR (old architecture)\")\n",
    "plt.step(range(5, n_nails - 5), r_rascal_alt, label=\"RASCAL (old architecture)\")\n",
    "plt.legend()\n",
    "plt.show()"
   ]
  },
  {
   "cell_type": "markdown",
   "metadata": {},
   "source": [
    "---"
   ]
  },
  {
   "cell_type": "markdown",
   "metadata": {},
   "source": [
    "# Model comparison"
   ]
  },
  {
   "cell_type": "code",
   "execution_count": 107,
   "metadata": {},
   "outputs": [],
   "source": [
    "# Generate a big data sample\n",
    "x_nde, t_xz_nde, theta_nde = draw_nde(20000)\n",
    "np.save('data/nde_x.npy', x_nde)\n",
    "np.save('data/nde_t.npy', t_xz_nde)\n",
    "np.save('data/nde_theta.npy', theta_nde)\n",
    "\n",
    "x, theta, y, r_xz, t_xz = draw_ratio(20000, categorical_x=False)\n",
    "np.save('data/ratio_x.npy', x)\n",
    "np.save('data/ratio_theta.npy', theta)\n",
    "np.save('data/ratio_y.npy', y)\n",
    "np.save('data/ratio_r_xz.npy', r_xz)\n",
    "np.save('data/ratio_t_xz.npy', t_xz)"
   ]
  },
  {
   "cell_type": "code",
   "execution_count": 97,
   "metadata": {},
   "outputs": [],
   "source": [
    "def compute_mse(p_train, p_estimated):\n",
    "    p_ratio_train = np.log(p_train[0]) - np.log(p_train[1])\n",
    "    p_ratio = np.log(p_estimated[0]) - np.log(p_estimated[1])\n",
    "    mse = p_ratio_train - p_ratio\n",
    "    mse[np.logical_or(np.isinf(mse), np.isnan(mse))] = 0.\n",
    "    mse = np.dot(mse ** 2, p_estimated[1])\n",
    "    return mse\n",
    "\n",
    "\n",
    "def compute_mse_ratio(ratio, p_estimated, log=True):\n",
    "    p_ratio = np.log(p_estimated[0]) - np.log(p_estimated[1])\n",
    "    if log:\n",
    "        p_ratio_train = np.log(ratio)\n",
    "    else:\n",
    "        p_ratio_train = ratio\n",
    "    mse = p_ratio_train - p_ratio\n",
    "    mse[np.logical_or(np.isinf(mse), np.isnan(mse))] = 0.\n",
    "    mse = np.dot(mse ** 2, p_estimated[1])\n",
    "    return mse"
   ]
  },
  {
   "cell_type": "code",
   "execution_count": 156,
   "metadata": {},
   "outputs": [
    {
     "name": "stdout",
     "output_type": "stream",
     "text": [
      "100 samples, run 1\n"
     ]
    },
    {
     "name": "stderr",
     "output_type": "stream",
     "text": [
      "/Users/johannbrehmer/anaconda3/envs/higgs_inference/lib/python3.6/site-packages/ipykernel/__main__.py:3: RuntimeWarning: divide by zero encountered in log\n",
      "  app.launch_new_instance()\n",
      "/Users/johannbrehmer/anaconda3/envs/higgs_inference/lib/python3.6/site-packages/ipykernel/__main__.py:3: RuntimeWarning: invalid value encountered in subtract\n",
      "  app.launch_new_instance()\n"
     ]
    },
    {
     "name": "stdout",
     "output_type": "stream",
     "text": [
      "100 samples, run 2\n",
      "100 samples, run 3\n",
      "200 samples, run 1\n",
      "200 samples, run 2\n",
      "200 samples, run 3\n",
      "500 samples, run 1\n",
      "500 samples, run 2\n",
      "500 samples, run 3\n",
      "1000 samples, run 1\n",
      "1000 samples, run 2\n",
      "1000 samples, run 3\n",
      "2000 samples, run 1\n",
      "2000 samples, run 2\n",
      "2000 samples, run 3\n",
      "5000 samples, run 1\n",
      "5000 samples, run 2\n",
      "5000 samples, run 3\n",
      "10000 samples, run 1\n",
      "10000 samples, run 2\n",
      "10000 samples, run 3\n"
     ]
    }
   ],
   "source": [
    "n_runs = 3\n",
    "\n",
    "mses_nde = []\n",
    "mses_scandal = []\n",
    "mses_carl = []\n",
    "mses_carl_alt = []\n",
    "mses_carl_calibrated = []\n",
    "mses_rolr = []\n",
    "mses_rolr_alt = []\n",
    "mses_rascal = []\n",
    "mses_rascal_alt = []\n",
    "\n",
    "p_estimated = np.array([p_estimated_0, p_estimated_1])\n",
    "samples_size = [100, 200, 500, 1000, 2000, 5000, 10000]\n",
    "theta0_test = theta_0 * np.ones(n_nails)\n",
    "x_test = to_categorical(np.array(range(n_nails)), num_classes=n_nails)\n",
    "x_test_alt = np.array(range(n_nails))\n",
    "\n",
    "for n in samples_size:\n",
    "    \n",
    "    for i in range(n_runs):\n",
    "        print(\"{0} samples, run {1}\".format(n, i+1))\n",
    "        \n",
    "        # Load data\n",
    "        indices = np.random.choice(20000, size=n, replace=False)\n",
    "\n",
    "        x_nde = np.load('data/nde_x.npy')[indices]\n",
    "        t_xz_nde = np.load('data/nde_t.npy')[indices]\n",
    "        theta_nde = np.load('data/nde_theta.npy')[indices]\n",
    "\n",
    "        x = np.load('data/ratio_x.npy')[indices]\n",
    "        theta = np.load('data/ratio_theta.npy')[indices]\n",
    "        y = np.load('data/ratio_y.npy')[indices]\n",
    "        r_xz = np.load('data/ratio_r_xz.npy')[indices]\n",
    "        t_xz = np.load('data/ratio_t_xz.npy')[indices]\n",
    "\n",
    "        x_categorical = to_categorical(x, num_classes=n_nails)\n",
    "        r_xz_y = np.hstack([r_xz, y.reshape((-1,1))])\n",
    "        t_xz_y = np.hstack([t_xz, y.reshape((-1,1))])\n",
    "\n",
    "        # NDE - SCANDAL\n",
    "        nde = make_nde()\n",
    "        nde.fit(\n",
    "            theta_nde,\n",
    "            x_nde,\n",
    "            batch_size=32,\n",
    "            epochs=50,\n",
    "            verbose=0\n",
    "        )\n",
    "        scandal = make_scandal()\n",
    "        scandal.fit(\n",
    "            [theta_nde, x_nde],\n",
    "            [x_nde, t_xz_nde],\n",
    "            batch_size=32,\n",
    "            epochs=50,\n",
    "            verbose=0\n",
    "        )\n",
    "        nde_pred = nde.predict([theta_0, theta_1])\n",
    "        scandal_pred = scandal.predict(\n",
    "            [np.array([[theta_0], [theta_1]]), np.zeros((2, n_nails))]\n",
    "        )[0]\n",
    "        mse_nde = compute_mse(nde_pred, p_estimated)\n",
    "        mse_scandal = compute_mse(scandal_pred, p_estimated)\n",
    "\n",
    "        # CARL\n",
    "        carl = make_carl()\n",
    "        carl.fit(\n",
    "            [theta, x_categorical],\n",
    "            y,\n",
    "            batch_size=32,\n",
    "            epochs=50,\n",
    "            verbose=0\n",
    "        )\n",
    "        carl_pred = np.exp(log_r_from_s(\n",
    "            carl.predict([theta0_test, x_test])[5:-5]\n",
    "        ))\n",
    "        mse_carl = compute_mse_ratio(\n",
    "            carl_pred.flatten(),\n",
    "            p_estimated[:, 5:-5],\n",
    "            log=True\n",
    "        )\n",
    "\n",
    "        # CARL old architecture\n",
    "        carl_alt = make_carl_alt()\n",
    "        carl_alt.fit(\n",
    "            [theta, x],\n",
    "            y,\n",
    "            batch_size=32,\n",
    "            epochs=50,\n",
    "            verbose=0\n",
    "        )\n",
    "        carl_alt_pred = np.exp(log_r_from_s(\n",
    "            carl_alt.predict([theta0_test, x_test_alt])[5:-5]\n",
    "        ))\n",
    "        mse_carl_alt = compute_mse_ratio(\n",
    "            carl_alt_pred.flatten(),\n",
    "            p_estimated[:, 5:-5],\n",
    "            log=True\n",
    "        )\n",
    "\n",
    "        # CARL old architecture calibrated\n",
    "        carl_calibrated = make_calibrated_carl_alt(\n",
    "            theta,\n",
    "            x,\n",
    "            y,\n",
    "            theta_calibration = theta_0\n",
    "        )\n",
    "        carl_calibrated_pred = np.exp(log_r_from_s(\n",
    "            carl_calibrated(theta0_test, x_test_alt)[5:-5]\n",
    "        ))\n",
    "        mse_carl_calibrated = compute_mse_ratio(\n",
    "            carl_calibrated_pred.flatten(),\n",
    "            p_estimated[:, 5:-5],\n",
    "            log=True\n",
    "        )\n",
    "\n",
    "        # ROLR\n",
    "        rolr = make_rolr()\n",
    "        rolr.fit(\n",
    "            [theta, x_categorical],\n",
    "            r_xz_y,\n",
    "            batch_size=32,\n",
    "            epochs=50,\n",
    "            verbose=0\n",
    "        )\n",
    "        rolr_pred = rolr.predict(\n",
    "            [theta0_test, x_test]\n",
    "        )[5:-5]\n",
    "        mse_rolr = compute_mse_ratio(\n",
    "            rolr_pred.flatten(),\n",
    "            p_estimated[:, 5:-5],\n",
    "            log=True\n",
    "        )\n",
    "\n",
    "        # ROLR old architecture\n",
    "        rolr_alt = make_rolr_alt()\n",
    "        rolr_alt.fit(\n",
    "            [theta, x],\n",
    "            r_xz_y,\n",
    "            batch_size=32,\n",
    "            epochs=50,\n",
    "            verbose=0\n",
    "        )\n",
    "        rolr_alt_pred = rolr_alt.predict(\n",
    "            [theta0_test, x_test_alt]\n",
    "        )[5:-5]\n",
    "        mse_rolr_alt = compute_mse_ratio(\n",
    "            rolr_alt_pred.flatten(),\n",
    "            p_estimated[:, 5:-5],\n",
    "            log=True\n",
    "        )\n",
    "\n",
    "\n",
    "        # RASCAL\n",
    "        rascal = make_rascal()\n",
    "        rascal.fit(\n",
    "            [theta, x_categorical],\n",
    "            [r_xz_y, t_xz_y],\n",
    "            batch_size=32,\n",
    "            epochs=50,\n",
    "            verbose=0,\n",
    "        )\n",
    "        rascal_pred = rascal.predict(\n",
    "            [theta0_test, x_test]\n",
    "        )[0][5:-5]\n",
    "        mse_rascal = compute_mse_ratio(\n",
    "            rascal_pred.flatten(),\n",
    "            p_estimated[:, 5:-5],\n",
    "            log=True\n",
    "        )\n",
    "\n",
    "        # RASCAL old architecture\n",
    "        rascal_alt = make_rascal_alt()\n",
    "        rascal_alt.fit(\n",
    "            [theta, x],\n",
    "            [r_xz_y, t_xz_y],\n",
    "            batch_size=32,\n",
    "            epochs=50,\n",
    "            verbose=0\n",
    "        )\n",
    "        rascal_alt_pred = rascal_alt.predict(\n",
    "            [theta0_test, x_test_alt]\n",
    "        )[0][5:-5]\n",
    "        mse_rascal_alt = compute_mse_ratio(\n",
    "            rascal_alt_pred.flatten(),\n",
    "            p_estimated[:, 5:-5],\n",
    "            log=True\n",
    "        )\n",
    "\n",
    "        # Save\n",
    "        mses_nde.append(mse_nde)\n",
    "        mses_rascal.append(mse_rascal)\n",
    "        mses_rascal_alt.append(mse_rascal_alt)\n",
    "        mses_carl.append(mse_carl)\n",
    "        mses_carl_alt.append(mse_carl_alt)\n",
    "        mses_carl_calibrated.append(mse_carl_calibrated)\n",
    "        mses_rolr.append(mse_rolr)\n",
    "        mses_rolr_alt.append(mse_rolr_alt)\n",
    "        mses_scandal.append(mse_scandal)\n",
    "    \n",
    "mses_nde = np.array(mses_nde).reshape((-1, n_runs))\n",
    "mses_scandal = np.array(mses_scandal).reshape((-1, n_runs))\n",
    "mses_rolr = np.array(mses_rolr).reshape((-1, n_runs))\n",
    "mses_rolr_alt = np.array(mses_rolr_alt).reshape((-1, n_runs))\n",
    "mses_rascal = np.array(mses_rascal).reshape((-1, n_runs))\n",
    "mses_rascal_alt = np.array(mses_rascal_alt).reshape((-1, n_runs))\n",
    "mses_carl = np.array(mses_carl).reshape((-1, n_runs))\n",
    "mses_carl_alt = np.array(mses_carl_alt).reshape((-1, n_runs))\n",
    "mses_carl_calibrated = np.array(mses_carl_calibrated).reshape((-1, n_runs))"
   ]
  },
  {
   "cell_type": "code",
   "execution_count": 157,
   "metadata": {},
   "outputs": [],
   "source": [
    "np.save('data/mses_nde.npy', mses_nde)\n",
    "np.save('data/mses_scandal.npy', mses_scandal)\n",
    "np.save('data/mses_rolr.npy', mses_rolr)\n",
    "np.save('data/mses_rolr_alt.npy', mses_rolr_alt)\n",
    "np.save('data/mses_rascal.npy', mses_rascal)\n",
    "np.save('data/mses_rascal_alt.npy', mses_rascal_alt)\n",
    "np.save('data/mses_carl.npy', mses_carl)\n",
    "np.save('data/mses_carl_alt.npy', mses_carl_alt)\n",
    "np.save('data/mses_carl_calibrated.npy', mses_carl_calibrated)"
   ]
  },
  {
   "cell_type": "code",
   "execution_count": 164,
   "metadata": {},
   "outputs": [
    {
     "data": {
      "text/plain": [
       "array([0.02713214, 0.01208561, 0.00755168, 0.00554104, 0.00372767,\n",
       "       0.00176551, 0.00230437])"
      ]
     },
     "execution_count": 164,
     "metadata": {},
     "output_type": "execute_result"
    }
   ],
   "source": [
    "np.median(mses_rascal, axis=1)"
   ]
  },
  {
   "cell_type": "code",
   "execution_count": 185,
   "metadata": {},
   "outputs": [
    {
     "data": {
      "image/png": "[encoded data removed]",
      "text/plain": [
       "<matplotlib.figure.Figure at 0x1b4cf6e4a8>"
      ]
     },
     "metadata": {},
     "output_type": "display_data"
    }
   ],
   "source": [
    "from utils import calculate_height, adjust_margins\n",
    "\n",
    "mses = [mses_nde, mses_carl, mses_carl_alt, mses_carl_calibrated,\n",
    "        mses_scandal, mses_rolr, mses_rolr_alt, mses_rascal, mses_rascal_alt]\n",
    "labels = ['NDE', 'LRT', 'LRT old', 'CARL old',\n",
    "          'SCANDAL', 'ROLR', 'ROLR old', 'RASCAL', 'RASCAL old']\n",
    "\n",
    "colors     = ['0.5', 'darkgreen', 'darkgreen', 'darkgreen',\n",
    "              'slateblue', 'c', 'c', '#CC002E', '#CC002E']\n",
    "linestyles = ['-', '-', '--', '-.', '-', '-', '--', '-', '--']\n",
    "linewidths = [1.5] * 10\n",
    "markers    = ['o'] * 10\n",
    "alphas     = [0.4, 0.2, 0.2, 0.2, 0.4, 0.4, 0.4, 0.2, 0.2]\n",
    "\n",
    "#fig = plt.figure(figsize=(4.5,calculate_height(1,4.5,extra_top_space=False)))\n",
    "fig = plt.figure(figsize=(6.,6.))\n",
    "ax = plt.gca()\n",
    "\n",
    "for s in range(9):\n",
    "    if s in [3]: #[2,3,6,8]:\n",
    "        continue\n",
    "    \n",
    "    plt.fill_between(samples_size[:],\n",
    "                     np.min(mses[s], axis=1), np.max(mses[s], axis=1),\n",
    "                     color=colors[s],\n",
    "                     alpha=0.1)\n",
    "    plt.plot(samples_size[:], np.mean(mses[s], axis=1), \n",
    "             ms=4., marker=markers[s],\n",
    "             color=colors[s],\n",
    "             lw=linewidths[s], ls=linestyles[s])\n",
    "    plt.plot([], [],\n",
    "             color=colors[s],\n",
    "             lw=linewidths[s], ls=linestyles[s],\n",
    "             label=labels[s])\n",
    "\n",
    "ax.set_xscale(\"log\", nonposx='clip')\n",
    "ax.set_yscale(\"log\", nonposy='clip')\n",
    "#plt.ylim(0.,.12)\n",
    "plt.xlabel(r\"Training sample size\")\n",
    "plt.ylabel(r'$\\mathrm{MSE}(\\log \\, r(x|\\theta_0, \\theta_1)\\, , \\, \\log \\, \\hat{r}(x|\\theta_0, \\theta_1))$')\n",
    "plt.legend(frameon=False)\n",
    "\n",
    "plt.tight_layout()\n",
    "#adjust_margins(1,4.5,extra_top_space=False)\n",
    "plt.savefig('figures/all_results.pdf')"
   ]
  },
  {
   "cell_type": "code",
   "execution_count": 190,
   "metadata": {},
   "outputs": [
    {
     "data": {
      "image/png": "[encoded data removed]",
      "text/plain": [
       "<matplotlib.figure.Figure at 0x1b4dffe550>"
      ]
     },
     "metadata": {},
     "output_type": "display_data"
    }
   ],
   "source": [
    "from utils import calculate_height, adjust_margins\n",
    "\n",
    "mses = [mses_nde, mses_carl, mses_carl_alt, mses_carl_calibrated,\n",
    "        mses_scandal, mses_rolr, mses_rolr_alt, mses_rascal, mses_rascal_alt]\n",
    "labels = ['NDE', 'LRT', 'LRT old', 'CARL old',\n",
    "          'SCANDAL', 'ROLR', 'ROLR old', 'RASCAL', 'RASCAL old']\n",
    "\n",
    "colors     = ['0.5', 'darkgreen', 'darkgreen', 'darkgreen',\n",
    "              'slateblue', 'c', 'c', '#CC002E', '#CC002E']\n",
    "linestyles = ['-', '-', '-', '-', '--', ':', ':', '-.', '-.']\n",
    "linewidths = [1.5] * 10\n",
    "markers    = ['o'] * 10\n",
    "alphas     = [0.4, 0.2, 0.2, 0.2, 0.4, 0.4, 0.4, 0.2, 0.2]\n",
    "\n",
    "fig = plt.figure(figsize=(4.5,calculate_height(1,4.5,extra_top_space=False)))\n",
    "#fig = plt.figure(figsize=(6.,6.))\n",
    "ax = plt.gca()\n",
    "\n",
    "for s in range(9):\n",
    "    if s in [2,3,6,8]:\n",
    "        continue\n",
    "    \n",
    "    plt.fill_between(samples_size[:],\n",
    "                     np.min(mses[s], axis=1), np.max(mses[s], axis=1),\n",
    "                     color=colors[s],\n",
    "                     alpha=0.1)\n",
    "    plt.plot(samples_size[:], np.mean(mses[s], axis=1), \n",
    "             ms=4., marker=markers[s],\n",
    "             color=colors[s],\n",
    "             lw=linewidths[s], ls=linestyles[s])\n",
    "    plt.plot([], [],\n",
    "             color=colors[s],\n",
    "             lw=linewidths[s], ls=linestyles[s],\n",
    "             label=labels[s])\n",
    "\n",
    "ax.set_xscale(\"log\", nonposx='clip')\n",
    "ax.set_yscale(\"log\", nonposy='clip')\n",
    "#plt.ylim(0.,.12)\n",
    "plt.xlabel(r\"Training sample size\")\n",
    "plt.ylabel(r'$\\mathrm{MSE}(\\log \\, r(x|\\theta_0, \\theta_1)\\, , \\, \\log \\, \\hat{r}(x|\\theta_0, \\theta_1))$')\n",
    "plt.legend(frameon=False)\n",
    "\n",
    "#plt.tight_layout()\n",
    "adjust_margins(1,4.5,extra_top_space=False)\n",
    "plt.savefig('figures/results.pdf')"
   ]
  },
  {
   "cell_type": "code",
   "execution_count": null,
   "metadata": {},
   "outputs": [],
   "source": []
  }
 ],
 "metadata": {
  "kernelspec": {
   "display_name": "Python [default]",
   "language": "python",
   "name": "python3"
  },
  "language_info": {
   "codemirror_mode": {
    "name": "ipython",
    "version": 3
   },
   "file_extension": ".py",
   "mimetype": "text/x-python",
   "name": "python",
   "nbconvert_exporter": "python",
   "pygments_lexer": "ipython3",
   "version": "3.6.4"
  }
 },
 "nbformat": 4,
 "nbformat_minor": 2
}

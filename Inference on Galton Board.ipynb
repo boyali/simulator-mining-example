{
 "cells": [
  {
   "cell_type": "code",
   "execution_count": 62,
   "metadata": {},
   "outputs": [],
   "source": [
    "import numpy as np\n",
    "import matplotlib.pyplot as plt\n",
    "%matplotlib inline"
   ]
  },
  {
   "cell_type": "code",
   "execution_count": 63,
   "metadata": {},
   "outputs": [],
   "source": [
    "from galton import n_nails \n",
    "from galton import n_rows\n",
    "theta_0 = -0.8\n",
    "theta_1 = -0.6"
   ]
  },
  {
   "cell_type": "markdown",
   "metadata": {},
   "source": [
    "# Density estimation with histograms"
   ]
  },
  {
   "cell_type": "code",
   "execution_count": 177,
   "metadata": {},
   "outputs": [],
   "source": [
    "samples_0, _, scores_0, _ = galton_rvs(theta_0, n_runs=20000, random_state=1234)\n",
    "p_estimated_0, _ = np.histogram(samples_0, bins=n_nails, range=(0, n_nails), density=True)\n",
    "\n",
    "samples_1, _, scores_1, _ = galton_rvs(theta_1, n_runs=20000, random_state=1234)\n",
    "p_estimated_1, _ = np.histogram(samples_1, bins=n_nails, range=(0, n_nails), density=True)"
   ]
  },
  {
   "cell_type": "code",
   "execution_count": 178,
   "metadata": {},
   "outputs": [
    {
     "data": {
      "image/png": "[encoded data removed]",
      "text/plain": [
       "<Figure size 432x288 with 1 Axes>"
      ]
     },
     "metadata": {},
     "output_type": "display_data"
    }
   ],
   "source": [
    "plt.step(range(len(p_estimated_0)), p_estimated_0,\n",
    "         c='r', lw=1.5,\n",
    "         label=r'$p(x|\\theta_0)$')\n",
    "plt.step(range(len(p_estimated_0)), p_estimated_1,\n",
    "         c='b', lw=1.5, \n",
    "         label=r'$p(x|\\theta_1)$')\n",
    "\n",
    "plt.xlabel(\"x\")\n",
    "plt.ylabel(\"p(x)\")\n",
    "plt.legend()\n",
    "plt.show()"
   ]
  },
  {
   "cell_type": "code",
   "execution_count": 179,
   "metadata": {
    "scrolled": true
   },
   "outputs": [
    {
     "name": "stderr",
     "output_type": "stream",
     "text": [
      "/home/gilles/anaconda3/envs/simulator-mining-example/lib/python3.6/site-packages/ipykernel_launcher.py:1: RuntimeWarning: invalid value encountered in true_divide\n",
      "  \"\"\"Entry point for launching an IPython kernel.\n"
     ]
    },
    {
     "data": {
      "image/png": "[encoded data removed]",
      "text/plain": [
       "<Figure size 432x288 with 1 Axes>"
      ]
     },
     "metadata": {},
     "output_type": "display_data"
    }
   ],
   "source": [
    "plt.step(range(len(p_estimated_0)), np.log(p_estimated_0/p_estimated_1),\n",
    "         c='r', lw=1.5,\n",
    "         label=r'$p(x|\\theta_0)$')\n",
    "plt.scatter(samples, np.array(log_p0) - np.array(log_p1), s=5., c='b')\n",
    "plt.ylabel('log r(x,z)')\n",
    "plt.ylim(-2.,2.)\n",
    "plt.show()"
   ]
  },
  {
   "cell_type": "markdown",
   "metadata": {},
   "source": [
    "# Training data"
   ]
  },
  {
   "cell_type": "code",
   "execution_count": 180,
   "metadata": {},
   "outputs": [],
   "source": [
    "from galton import check_random_state\n",
    "\n",
    "def draw(n_samples, n_thetas=10, random_state=0):\n",
    "    n_traces_per_theta = n_samples \n",
    "    \n",
    "    all_x = []\n",
    "    all_t_xz = []\n",
    "    all_thetas = []\n",
    "    \n",
    "    for k, theta in enumerate(np.linspace(-1.0, -0.4, n_thetas)):\n",
    "        x, log_p_xz, t_xz, _ = galton_rvs(theta, n_runs=n_traces_per_theta, random_state=random_state+k)\n",
    "        all_x.append(x)\n",
    "        all_t_xz.append(t_xz)\n",
    "        all_thetas.append(theta * np.ones(n_traces_per_theta))\n",
    "        \n",
    "    all_x = np.array(all_x).reshape(-1, 1)\n",
    "    all_x = to_categorical(all_x, num_classes=n_nails)\n",
    "    all_t_xz = np.array(all_t_xz).reshape(-1, 1)\n",
    "    all_thetas = np.array(all_thetas).reshape(-1, 1)\n",
    "    \n",
    "    rng = check_random_state(random_state)\n",
    "    choices = rng.choice(len(all_x), len(all_x), replace=False)\n",
    "        \n",
    "    return all_x[choices], all_t_xz[choices], all_thetas[choices]"
   ]
  },
  {
   "cell_type": "code",
   "execution_count": 181,
   "metadata": {},
   "outputs": [],
   "source": [
    "x, t_xz, theta = draw(3000)"
   ]
  },
  {
   "cell_type": "markdown",
   "metadata": {},
   "source": [
    "# NDE + SCANDAL"
   ]
  },
  {
   "cell_type": "code",
   "execution_count": 182,
   "metadata": {},
   "outputs": [],
   "source": [
    "n_features = 1 \n",
    "hidden_size = 10\n",
    "n_outputs = n_nails"
   ]
  },
  {
   "cell_type": "code",
   "execution_count": 183,
   "metadata": {},
   "outputs": [],
   "source": [
    "from keras.optimizers import Adam\n",
    "from keras.layers import Input, Dense, Lambda, dot\n",
    "from keras.models import Model\n",
    "from keras.utils import to_categorical\n",
    "import keras.backend as K\n",
    "\n",
    "def make_nde(lr=0.001):   \n",
    "    theta = Input(shape=(1,))\n",
    "    h = Dense(hidden_size, activation=\"tanh\")(theta)\n",
    "    phat_theta = Dense(n_outputs, activation=\"softmax\")(h)\n",
    "    \n",
    "    model = Model(inputs=[theta], outputs=[phat_theta])\n",
    "    opt = Adam(lr=lr)\n",
    "    model.compile(loss=[\"categorical_crossentropy\"], optimizer=opt)\n",
    "    \n",
    "    return model\n",
    "\n",
    "def make_scandal(lr=0.001):\n",
    "    theta = Input(shape=(1,))\n",
    "    h = Dense(hidden_size, activation=\"tanh\")(theta)\n",
    "    phat_theta = Dense(n_outputs, activation=\"softmax\")(h)\n",
    "    \n",
    "    x = Input(shape=(n_outputs,))\n",
    "    phat_x_theta = dot([x, phat_theta], axes=1) \n",
    "    t_x = Lambda(lambda exp: K.gradients(K.log(exp[0]), [exp[1]])[0], \n",
    "                 output_shape=(n_features,))([phat_x_theta, theta])\n",
    "    \n",
    "    model = Model(inputs=[theta, x], outputs=[phat_theta, t_x])\n",
    "    opt = Adam(lr=lr)\n",
    "    model.compile(loss=[\"categorical_crossentropy\", \"mse\"], optimizer=opt)\n",
    "    \n",
    "    return model"
   ]
  },
  {
   "cell_type": "code",
   "execution_count": 184,
   "metadata": {},
   "outputs": [
    {
     "name": "stdout",
     "output_type": "stream",
     "text": [
      "Epoch 1/50\n",
      "30000/30000 [==============================] - 3s 91us/step - loss: 2.9486\n",
      "Epoch 2/50\n",
      "30000/30000 [==============================] - 1s 46us/step - loss: 2.8250\n",
      "Epoch 3/50\n",
      "30000/30000 [==============================] - 1s 46us/step - loss: 2.8196\n",
      "Epoch 4/50\n",
      "30000/30000 [==============================] - 1s 47us/step - loss: 2.8169\n",
      "Epoch 5/50\n",
      "30000/30000 [==============================] - 1s 47us/step - loss: 2.8140\n",
      "Epoch 6/50\n",
      "30000/30000 [==============================] - 2s 50us/step - loss: 2.8099\n",
      "Epoch 7/50\n",
      "30000/30000 [==============================] - 2s 53us/step - loss: 2.8051\n",
      "Epoch 8/50\n",
      "30000/30000 [==============================] - 1s 48us/step - loss: 2.7999\n",
      "Epoch 9/50\n",
      "30000/30000 [==============================] - 1s 47us/step - loss: 2.7952\n",
      "Epoch 10/50\n",
      "30000/30000 [==============================] - 1s 48us/step - loss: 2.7912\n",
      "Epoch 11/50\n",
      "30000/30000 [==============================] - 2s 51us/step - loss: 2.7890\n",
      "Epoch 12/50\n",
      "30000/30000 [==============================] - 1s 47us/step - loss: 2.7874\n",
      "Epoch 13/50\n",
      "30000/30000 [==============================] - 1s 47us/step - loss: 2.7868\n",
      "Epoch 14/50\n",
      "30000/30000 [==============================] - 1s 47us/step - loss: 2.7862\n",
      "Epoch 15/50\n",
      "30000/30000 [==============================] - 1s 48us/step - loss: 2.7856\n",
      "Epoch 16/50\n",
      "30000/30000 [==============================] - 1s 48us/step - loss: 2.7856\n",
      "Epoch 17/50\n",
      "30000/30000 [==============================] - 1s 49us/step - loss: 2.7850\n",
      "Epoch 18/50\n",
      "30000/30000 [==============================] - 1s 49us/step - loss: 2.7852\n",
      "Epoch 19/50\n",
      "30000/30000 [==============================] - 1s 49us/step - loss: 2.7852\n",
      "Epoch 20/50\n",
      "30000/30000 [==============================] - 2s 56us/step - loss: 2.7851\n",
      "Epoch 21/50\n",
      "30000/30000 [==============================] - 2s 54us/step - loss: 2.7851\n",
      "Epoch 22/50\n",
      "30000/30000 [==============================] - 1s 49us/step - loss: 2.7849\n",
      "Epoch 23/50\n",
      "30000/30000 [==============================] - 2s 51us/step - loss: 2.7847\n",
      "Epoch 24/50\n",
      "30000/30000 [==============================] - 2s 56us/step - loss: 2.7851\n",
      "Epoch 25/50\n",
      "30000/30000 [==============================] - 1s 49us/step - loss: 2.7844\n",
      "Epoch 26/50\n",
      "30000/30000 [==============================] - 1s 50us/step - loss: 2.7851\n",
      "Epoch 27/50\n",
      "30000/30000 [==============================] - 1s 49us/step - loss: 2.7848\n",
      "Epoch 28/50\n",
      "30000/30000 [==============================] - 1s 49us/step - loss: 2.7848\n",
      "Epoch 29/50\n",
      "30000/30000 [==============================] - 1s 49us/step - loss: 2.7851\n",
      "Epoch 30/50\n",
      "30000/30000 [==============================] - 1s 50us/step - loss: 2.7846\n",
      "Epoch 31/50\n",
      "30000/30000 [==============================] - 2s 57us/step - loss: 2.7850\n",
      "Epoch 32/50\n",
      "30000/30000 [==============================] - 1s 49us/step - loss: 2.7846\n",
      "Epoch 33/50\n",
      "30000/30000 [==============================] - 2s 50us/step - loss: 2.7848\n",
      "Epoch 34/50\n",
      "30000/30000 [==============================] - 2s 55us/step - loss: 2.7847\n",
      "Epoch 35/50\n",
      "30000/30000 [==============================] - 2s 53us/step - loss: 2.7846\n",
      "Epoch 36/50\n",
      "30000/30000 [==============================] - 2s 54us/step - loss: 2.7848\n",
      "Epoch 37/50\n",
      "30000/30000 [==============================] - 2s 59us/step - loss: 2.7845\n",
      "Epoch 38/50\n",
      "30000/30000 [==============================] - 2s 58us/step - loss: 2.7846\n",
      "Epoch 39/50\n",
      "30000/30000 [==============================] - 2s 53us/step - loss: 2.7847\n",
      "Epoch 40/50\n",
      "30000/30000 [==============================] - 2s 55us/step - loss: 2.7848\n",
      "Epoch 41/50\n",
      "30000/30000 [==============================] - 2s 54us/step - loss: 2.7849\n",
      "Epoch 42/50\n",
      "30000/30000 [==============================] - 2s 56us/step - loss: 2.7848\n",
      "Epoch 43/50\n",
      "30000/30000 [==============================] - 2s 55us/step - loss: 2.7847\n",
      "Epoch 44/50\n",
      "30000/30000 [==============================] - 2s 54us/step - loss: 2.7845\n",
      "Epoch 45/50\n",
      "30000/30000 [==============================] - 2s 55us/step - loss: 2.7846\n",
      "Epoch 46/50\n",
      "30000/30000 [==============================] - 2s 54us/step - loss: 2.7848\n",
      "Epoch 47/50\n",
      "30000/30000 [==============================] - 2s 54us/step - loss: 2.7846\n",
      "Epoch 48/50\n",
      "30000/30000 [==============================] - 2s 52us/step - loss: 2.7846\n",
      "Epoch 49/50\n",
      "30000/30000 [==============================] - 2s 55us/step - loss: 2.7845\n",
      "Epoch 50/50\n",
      "30000/30000 [==============================] - 2s 55us/step - loss: 2.7848\n"
     ]
    },
    {
     "data": {
      "text/plain": [
       "<keras.callbacks.History at 0x7f1284cab6a0>"
      ]
     },
     "execution_count": 184,
     "metadata": {},
     "output_type": "execute_result"
    }
   ],
   "source": [
    "nde = make_nde()\n",
    "nde.fit(theta, x, batch_size=32, epochs=50)"
   ]
  },
  {
   "cell_type": "code",
   "execution_count": 185,
   "metadata": {
    "scrolled": false
   },
   "outputs": [
    {
     "name": "stdout",
     "output_type": "stream",
     "text": [
      "Epoch 1/50\n",
      "30000/30000 [==============================] - 3s 94us/step - loss: 4.4898 - dense_92_loss: 3.0623 - lambda_83_loss: 1.4276\n",
      "Epoch 2/50\n",
      "30000/30000 [==============================] - 2s 67us/step - loss: 3.8503 - dense_92_loss: 2.8155 - lambda_83_loss: 1.0348\n",
      "Epoch 3/50\n",
      "30000/30000 [==============================] - 2s 62us/step - loss: 3.7874 - dense_92_loss: 2.7924 - lambda_83_loss: 0.9950\n",
      "Epoch 4/50\n",
      "30000/30000 [==============================] - 2s 65us/step - loss: 3.7607 - dense_92_loss: 2.7879 - lambda_83_loss: 0.9727\n",
      "Epoch 5/50\n",
      "30000/30000 [==============================] - 2s 62us/step - loss: 3.7476 - dense_92_loss: 2.7861 - lambda_83_loss: 0.9615\n",
      "Epoch 6/50\n",
      "30000/30000 [==============================] - 2s 62us/step - loss: 3.7404 - dense_92_loss: 2.7854 - lambda_83_loss: 0.9550\n",
      "Epoch 7/50\n",
      "30000/30000 [==============================] - 2s 70us/step - loss: 3.7369 - dense_92_loss: 2.7853 - lambda_83_loss: 0.9516\n",
      "Epoch 8/50\n",
      "30000/30000 [==============================] - 2s 67us/step - loss: 3.7346 - dense_92_loss: 2.7851 - lambda_83_loss: 0.9495\n",
      "Epoch 9/50\n",
      "30000/30000 [==============================] - 2s 62us/step - loss: 3.7331 - dense_92_loss: 2.7850 - lambda_83_loss: 0.9481\n",
      "Epoch 10/50\n",
      "30000/30000 [==============================] - 2s 63us/step - loss: 3.7313 - dense_92_loss: 2.7846 - lambda_83_loss: 0.9467\n",
      "Epoch 11/50\n",
      "30000/30000 [==============================] - 2s 73us/step - loss: 3.7303 - dense_92_loss: 2.7847 - lambda_83_loss: 0.9456\n",
      "Epoch 12/50\n",
      "30000/30000 [==============================] - 2s 62us/step - loss: 3.7295 - dense_92_loss: 2.7844 - lambda_83_loss: 0.9451\n",
      "Epoch 13/50\n",
      "30000/30000 [==============================] - 2s 62us/step - loss: 3.7289 - dense_92_loss: 2.7850 - lambda_83_loss: 0.9439\n",
      "Epoch 14/50\n",
      "30000/30000 [==============================] - 2s 63us/step - loss: 3.7278 - dense_92_loss: 2.7846 - lambda_83_loss: 0.9432\n",
      "Epoch 15/50\n",
      "30000/30000 [==============================] - 2s 63us/step - loss: 3.7274 - dense_92_loss: 2.7847 - lambda_83_loss: 0.9427\n",
      "Epoch 16/50\n",
      "30000/30000 [==============================] - 2s 68us/step - loss: 3.7268 - dense_92_loss: 2.7850 - lambda_83_loss: 0.9418\n",
      "Epoch 17/50\n",
      "30000/30000 [==============================] - 2s 61us/step - loss: 3.7257 - dense_92_loss: 2.7847 - lambda_83_loss: 0.9410\n",
      "Epoch 18/50\n",
      "30000/30000 [==============================] - 2s 63us/step - loss: 3.7257 - dense_92_loss: 2.7848 - lambda_83_loss: 0.9409\n",
      "Epoch 19/50\n",
      "30000/30000 [==============================] - 2s 62us/step - loss: 3.7256 - dense_92_loss: 2.7847 - lambda_83_loss: 0.9409\n",
      "Epoch 20/50\n",
      "30000/30000 [==============================] - 2s 62us/step - loss: 3.7247 - dense_92_loss: 2.7846 - lambda_83_loss: 0.9402\n",
      "Epoch 21/50\n",
      "30000/30000 [==============================] - 2s 63us/step - loss: 3.7243 - dense_92_loss: 2.7848 - lambda_83_loss: 0.9395\n",
      "Epoch 22/50\n",
      "30000/30000 [==============================] - 2s 65us/step - loss: 3.7238 - dense_92_loss: 2.7846 - lambda_83_loss: 0.9392\n",
      "Epoch 23/50\n",
      "30000/30000 [==============================] - 2s 64us/step - loss: 3.7237 - dense_92_loss: 2.7847 - lambda_83_loss: 0.9390\n",
      "Epoch 24/50\n",
      "30000/30000 [==============================] - 2s 74us/step - loss: 3.7237 - dense_92_loss: 2.7849 - lambda_83_loss: 0.9388\n",
      "Epoch 25/50\n",
      "30000/30000 [==============================] - 2s 63us/step - loss: 3.7235 - dense_92_loss: 2.7847 - lambda_83_loss: 0.9388\n",
      "Epoch 26/50\n",
      "30000/30000 [==============================] - 2s 64us/step - loss: 3.7234 - dense_92_loss: 2.7849 - lambda_83_loss: 0.9385\n",
      "Epoch 27/50\n",
      "30000/30000 [==============================] - 2s 66us/step - loss: 3.7235 - dense_92_loss: 2.7850 - lambda_83_loss: 0.9384\n",
      "Epoch 28/50\n",
      "30000/30000 [==============================] - 2s 70us/step - loss: 3.7234 - dense_92_loss: 2.7847 - lambda_83_loss: 0.9386\n",
      "Epoch 29/50\n",
      "30000/30000 [==============================] - 2s 61us/step - loss: 3.7231 - dense_92_loss: 2.7845 - lambda_83_loss: 0.9386\n",
      "Epoch 30/50\n",
      "30000/30000 [==============================] - 2s 62us/step - loss: 3.7228 - dense_92_loss: 2.7847 - lambda_83_loss: 0.9381\n",
      "Epoch 31/50\n",
      "30000/30000 [==============================] - 2s 63us/step - loss: 3.7224 - dense_92_loss: 2.7844 - lambda_83_loss: 0.9380\n",
      "Epoch 32/50\n",
      "30000/30000 [==============================] - 2s 63us/step - loss: 3.7225 - dense_92_loss: 2.7848 - lambda_83_loss: 0.9377\n",
      "Epoch 33/50\n",
      "30000/30000 [==============================] - 2s 62us/step - loss: 3.7223 - dense_92_loss: 2.7845 - lambda_83_loss: 0.9377\n",
      "Epoch 34/50\n",
      "30000/30000 [==============================] - 2s 63us/step - loss: 3.7222 - dense_92_loss: 2.7847 - lambda_83_loss: 0.9376\n",
      "Epoch 35/50\n",
      "30000/30000 [==============================] - 2s 64us/step - loss: 3.7222 - dense_92_loss: 2.7846 - lambda_83_loss: 0.9376\n",
      "Epoch 36/50\n",
      "30000/30000 [==============================] - 2s 64us/step - loss: 3.7225 - dense_92_loss: 2.7849 - lambda_83_loss: 0.9376\n",
      "Epoch 37/50\n",
      "30000/30000 [==============================] - 2s 71us/step - loss: 3.7223 - dense_92_loss: 2.7846 - lambda_83_loss: 0.9376\n",
      "Epoch 38/50\n",
      "30000/30000 [==============================] - 2s 64us/step - loss: 3.7222 - dense_92_loss: 2.7846 - lambda_83_loss: 0.9375\n",
      "Epoch 39/50\n",
      "30000/30000 [==============================] - 2s 70us/step - loss: 3.7222 - dense_92_loss: 2.7844 - lambda_83_loss: 0.9378\n",
      "Epoch 40/50\n",
      "30000/30000 [==============================] - 2s 61us/step - loss: 3.7222 - dense_92_loss: 2.7848 - lambda_83_loss: 0.9373\n",
      "Epoch 41/50\n",
      "30000/30000 [==============================] - 2s 62us/step - loss: 3.7225 - dense_92_loss: 2.7847 - lambda_83_loss: 0.9378\n",
      "Epoch 42/50\n",
      "30000/30000 [==============================] - 2s 64us/step - loss: 3.7221 - dense_92_loss: 2.7847 - lambda_83_loss: 0.9375\n",
      "Epoch 43/50\n",
      "30000/30000 [==============================] - 2s 63us/step - loss: 3.7220 - dense_92_loss: 2.7849 - lambda_83_loss: 0.9370\n",
      "Epoch 44/50\n",
      "30000/30000 [==============================] - 2s 63us/step - loss: 3.7223 - dense_92_loss: 2.7847 - lambda_83_loss: 0.9376\n",
      "Epoch 45/50\n",
      "30000/30000 [==============================] - 2s 63us/step - loss: 3.7221 - dense_92_loss: 2.7844 - lambda_83_loss: 0.9377\n",
      "Epoch 46/50\n",
      "30000/30000 [==============================] - 2s 64us/step - loss: 3.7222 - dense_92_loss: 2.7847 - lambda_83_loss: 0.9375\n",
      "Epoch 47/50\n",
      "30000/30000 [==============================] - 2s 65us/step - loss: 3.7218 - dense_92_loss: 2.7844 - lambda_83_loss: 0.9374\n",
      "Epoch 48/50\n",
      "30000/30000 [==============================] - 2s 65us/step - loss: 3.7221 - dense_92_loss: 2.7845 - lambda_83_loss: 0.9377\n",
      "Epoch 49/50\n",
      "30000/30000 [==============================] - 2s 67us/step - loss: 3.7223 - dense_92_loss: 2.7847 - lambda_83_loss: 0.9375\n",
      "Epoch 50/50\n",
      "30000/30000 [==============================] - 2s 72us/step - loss: 3.7223 - dense_92_loss: 2.7846 - lambda_83_loss: 0.9378\n"
     ]
    },
    {
     "data": {
      "text/plain": [
       "<keras.callbacks.History at 0x7f1284c85080>"
      ]
     },
     "execution_count": 185,
     "metadata": {},
     "output_type": "execute_result"
    }
   ],
   "source": [
    "scandal = make_scandal()\n",
    "scandal.fit([theta, x], [x, t_xz], batch_size=32, epochs=50)"
   ]
  },
  {
   "cell_type": "code",
   "execution_count": 186,
   "metadata": {},
   "outputs": [
    {
     "data": {
      "image/png": "[encoded data removed]",
      "text/plain": [
       "<Figure size 432x288 with 1 Axes>"
      ]
     },
     "metadata": {},
     "output_type": "display_data"
    }
   ],
   "source": [
    "plt.step(range(n_nails), p_estimated_0, label=\"histogram\")\n",
    "plt.step(range(n_nails), nde.predict([theta_0]).ravel(), label=\"nde\")\n",
    "plt.step(range(n_nails), scandal.predict([np.array([[theta_0]]), np.zeros((1, n_nails))])[0][0], label=\"scandal\")\n",
    "plt.legend()\n",
    "plt.title(r\"$\\theta=%.2f$\" % theta_0)\n",
    "plt.show()"
   ]
  },
  {
   "cell_type": "code",
   "execution_count": 187,
   "metadata": {},
   "outputs": [
    {
     "data": {
      "image/png": "[encoded data removed]",
      "text/plain": [
       "<Figure size 432x288 with 1 Axes>"
      ]
     },
     "metadata": {},
     "output_type": "display_data"
    }
   ],
   "source": [
    "plt.step(range(n_nails), p_estimated_1, label=\"histogram\")\n",
    "plt.step(range(n_nails), nde.predict([theta_1]).ravel(), label=\"nde\")\n",
    "plt.step(range(n_nails), scandal.predict([np.array([[theta_1]]), np.zeros((1, n_nails))])[0][0], label=\"scandal\")\n",
    "plt.legend()\n",
    "plt.title(r\"$\\theta=%.2f$\" % theta_1)\n",
    "plt.show()"
   ]
  },
  {
   "cell_type": "markdown",
   "metadata": {},
   "source": [
    "# CARL"
   ]
  },
  {
   "cell_type": "markdown",
   "metadata": {},
   "source": [
    "# ROLR + RASCAL"
   ]
  },
  {
   "cell_type": "markdown",
   "metadata": {},
   "source": [
    "---"
   ]
  },
  {
   "cell_type": "markdown",
   "metadata": {},
   "source": [
    "# Model comparison"
   ]
  }
 ],
 "metadata": {
  "kernelspec": {
   "display_name": "Python 3",
   "language": "python",
   "name": "python3"
  },
  "language_info": {
   "codemirror_mode": {
    "name": "ipython",
    "version": 3
   },
   "file_extension": ".py",
   "mimetype": "text/x-python",
   "name": "python",
   "nbconvert_exporter": "python",
   "pygments_lexer": "ipython3",
   "version": "3.6.5"
  }
 },
 "nbformat": 4,
 "nbformat_minor": 2
}

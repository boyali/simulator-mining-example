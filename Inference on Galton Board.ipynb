{
 "cells": [
  {
   "cell_type": "code",
   "execution_count": 3,
   "metadata": {},
   "outputs": [
    {
     "name": "stderr",
     "output_type": "stream",
     "text": [
      "Using TensorFlow backend.\n",
      "/usr/local/lib/python2.7/dist-packages/h5py/__init__.py:34: FutureWarning: Conversion of the second argument of issubdtype from `float` to `np.floating` is deprecated. In future, it will be treated as `np.float64 == np.dtype(float).type`.\n",
      "  from ._conv import register_converters as _register_converters\n"
     ]
    }
   ],
   "source": [
    "import numpy as np\n",
    "import matplotlib.pyplot as plt\n",
    "%matplotlib inline\n",
    "\n",
    "from galton import galton_rvs, galton_rvs_ratio\n",
    "from keras.utils import to_categorical\n"
   ]
  },
  {
   "cell_type": "code",
   "execution_count": 4,
   "metadata": {
    "collapsed": true
   },
   "outputs": [],
   "source": [
    "from galton import n_nails \n",
    "from galton import n_rows\n",
    "theta_0 = -0.8\n",
    "theta_1 = -0.6"
   ]
  },
  {
   "cell_type": "markdown",
   "metadata": {},
   "source": [
    "# Density estimation with histograms"
   ]
  },
  {
   "cell_type": "code",
   "execution_count": 5,
   "metadata": {
    "collapsed": true
   },
   "outputs": [],
   "source": [
    "samples_0, _, scores_0, _ = galton_rvs(theta_0, n_runs=20000, random_state=1234)\n",
    "p_estimated_0, _ = np.histogram(samples_0, bins=n_nails, range=(0, n_nails), density=True)\n",
    "\n",
    "samples_1, _, scores_1, _ = galton_rvs(theta_1, n_runs=20000, random_state=1234)\n",
    "p_estimated_1, _ = np.histogram(samples_1, bins=n_nails, range=(0, n_nails), density=True)"
   ]
  },
  {
   "cell_type": "code",
   "execution_count": 4,
   "metadata": {},
   "outputs": [
    {
     "data": {
      "image/png": "[encoded data removed]",
      "text/plain": [
       "<Figure size 432x288 with 1 Axes>"
      ]
     },
     "metadata": {},
     "output_type": "display_data"
    }
   ],
   "source": [
    "plt.step(range(len(p_estimated_0)), p_estimated_0,\n",
    "         c='r', lw=1.5,\n",
    "         label=r'$p(x|\\theta_0)$')\n",
    "plt.step(range(len(p_estimated_0)), p_estimated_1,\n",
    "         c='b', lw=1.5, \n",
    "         label=r'$p(x|\\theta_1)$')\n",
    "\n",
    "plt.xlabel(\"x\")\n",
    "plt.ylabel(\"p(x)\")\n",
    "plt.legend()\n",
    "plt.show()"
   ]
  },
  {
   "cell_type": "markdown",
   "metadata": {},
   "source": [
    "# NDE + SCANDAL"
   ]
  },
  {
   "cell_type": "code",
   "execution_count": 7,
   "metadata": {
    "collapsed": true
   },
   "outputs": [],
   "source": [
    "from galton import check_random_state\n",
    "\n",
    "def draw(n_samples, n_thetas=10, random_state=0):\n",
    "    n_traces_per_theta = n_samples // n_thetas\n",
    "    \n",
    "    all_x = []\n",
    "    all_t_xz = []\n",
    "    all_thetas = []\n",
    "    \n",
    "    for k, theta in enumerate(np.linspace(-1.0, -0.4, n_thetas)):\n",
    "        x, log_p_xz, t_xz, _ = galton_rvs(theta, n_runs=n_traces_per_theta, random_state=random_state+k)\n",
    "        all_x.append(x)\n",
    "        all_t_xz.append(t_xz)\n",
    "        all_thetas.append(theta * np.ones(n_traces_per_theta))\n",
    "        \n",
    "    all_x = np.array(all_x).reshape(-1, 1)\n",
    "    all_x = to_categorical(all_x, num_classes=n_nails)\n",
    "    all_t_xz = np.array(all_t_xz).reshape(-1, 1)\n",
    "    all_thetas = np.array(all_thetas).reshape(-1, 1)\n",
    "    \n",
    "    rng = check_random_state(random_state)\n",
    "    choices = rng.choice(len(all_x), len(all_x), replace=False)\n",
    "        \n",
    "    return all_x[choices], all_t_xz[choices], all_thetas[choices]"
   ]
  },
  {
   "cell_type": "code",
   "execution_count": 10,
   "metadata": {
    "collapsed": true
   },
   "outputs": [],
   "source": [
    "x, t_xz, theta = draw(10000)"
   ]
  },
  {
   "cell_type": "code",
   "execution_count": 8,
   "metadata": {
    "collapsed": true
   },
   "outputs": [],
   "source": [
    "n_features = 1 \n",
    "hidden_size = 10\n",
    "n_outputs = n_nails"
   ]
  },
  {
   "cell_type": "code",
   "execution_count": 9,
   "metadata": {
    "collapsed": true
   },
   "outputs": [],
   "source": [
    "from keras.optimizers import Adam\n",
    "from keras.layers import Input, Dense, Lambda, dot\n",
    "from keras.models import Model\n",
    "import keras.backend as K\n",
    "\n",
    "def make_nde(lr=0.001):   \n",
    "    theta = Input(shape=(1,))\n",
    "    h = Dense(hidden_size, activation=\"tanh\")(theta)\n",
    "    phat_theta = Dense(n_outputs, activation=\"softmax\")(h)\n",
    "    \n",
    "    model = Model(inputs=[theta], outputs=[phat_theta])\n",
    "    opt = Adam(lr=lr)\n",
    "    model.compile(loss=[\"categorical_crossentropy\"], optimizer=opt)\n",
    "    \n",
    "    return model\n",
    "\n",
    "def make_scandal(lr=0.001):\n",
    "    theta = Input(shape=(1,))\n",
    "    h = Dense(hidden_size, activation=\"tanh\")(theta)\n",
    "    phat_theta = Dense(n_outputs, activation=\"softmax\")(h)\n",
    "    \n",
    "    x = Input(shape=(n_outputs,))\n",
    "    phat_x_theta = dot([x, phat_theta], axes=1) \n",
    "    t_x = Lambda(lambda exp: K.gradients(K.log(exp[0]), [exp[1]])[0], \n",
    "                 output_shape=(n_features,))([phat_x_theta, theta])\n",
    "    \n",
    "    model = Model(inputs=[theta, x], outputs=[phat_theta, t_x])\n",
    "    opt = Adam(lr=lr)\n",
    "    model.compile(loss=[\"categorical_crossentropy\", \"mse\"], optimizer=opt)\n",
    "    \n",
    "    return model"
   ]
  },
  {
   "cell_type": "code",
   "execution_count": 13,
   "metadata": {
    "scrolled": true
   },
   "outputs": [
    {
     "name": "stdout",
     "output_type": "stream",
     "text": [
      "Epoch 1/50\n",
      "10000/10000 [==============================] - 0s - loss: 3.1051     \n",
      "Epoch 2/50\n",
      "10000/10000 [==============================] - 0s - loss: 2.8586     \n",
      "Epoch 3/50\n",
      "10000/10000 [==============================] - 0s - loss: 2.8305     \n",
      "Epoch 4/50\n",
      "10000/10000 [==============================] - 0s - loss: 2.8227     \n",
      "Epoch 5/50\n",
      "10000/10000 [==============================] - 0s - loss: 2.8196     \n",
      "Epoch 6/50\n",
      "10000/10000 [==============================] - 0s - loss: 2.8169     \n",
      "Epoch 7/50\n",
      "10000/10000 [==============================] - 0s - loss: 2.8155     \n",
      "Epoch 8/50\n",
      "10000/10000 [==============================] - 0s - loss: 2.8139     \n",
      "Epoch 9/50\n",
      "10000/10000 [==============================] - 0s - loss: 2.8126     \n",
      "Epoch 10/50\n",
      "10000/10000 [==============================] - 0s - loss: 2.8109     \n",
      "Epoch 11/50\n",
      "10000/10000 [==============================] - 0s - loss: 2.8099     \n",
      "Epoch 12/50\n",
      "10000/10000 [==============================] - 0s - loss: 2.8088     \n",
      "Epoch 13/50\n",
      "10000/10000 [==============================] - 0s - loss: 2.8075     \n",
      "Epoch 14/50\n",
      "10000/10000 [==============================] - 0s - loss: 2.8063     \n",
      "Epoch 15/50\n",
      "10000/10000 [==============================] - 0s - loss: 2.8051     \n",
      "Epoch 16/50\n",
      "10000/10000 [==============================] - 0s - loss: 2.8040     \n",
      "Epoch 17/50\n",
      "10000/10000 [==============================] - 0s - loss: 2.8024     \n",
      "Epoch 18/50\n",
      "10000/10000 [==============================] - 0s - loss: 2.8015     \n",
      "Epoch 19/50\n",
      "10000/10000 [==============================] - 0s - loss: 2.7999     \n",
      "Epoch 20/50\n",
      "10000/10000 [==============================] - 0s - loss: 2.7987     \n",
      "Epoch 21/50\n",
      "10000/10000 [==============================] - 0s - loss: 2.7974     \n",
      "Epoch 22/50\n",
      "10000/10000 [==============================] - 0s - loss: 2.7964     \n",
      "Epoch 23/50\n",
      "10000/10000 [==============================] - 0s - loss: 2.7949     \n",
      "Epoch 24/50\n",
      "10000/10000 [==============================] - 0s - loss: 2.7938     \n",
      "Epoch 25/50\n",
      "10000/10000 [==============================] - 0s - loss: 2.7930     \n",
      "Epoch 26/50\n",
      "10000/10000 [==============================] - 0s - loss: 2.7916     \n",
      "Epoch 27/50\n",
      "10000/10000 [==============================] - 0s - loss: 2.7909     \n",
      "Epoch 28/50\n",
      "10000/10000 [==============================] - 0s - loss: 2.7897     \n",
      "Epoch 29/50\n",
      "10000/10000 [==============================] - 0s - loss: 2.7890     \n",
      "Epoch 30/50\n",
      "10000/10000 [==============================] - 0s - loss: 2.7879     \n",
      "Epoch 31/50\n",
      "10000/10000 [==============================] - 0s - loss: 2.7873     \n",
      "Epoch 32/50\n",
      "10000/10000 [==============================] - 0s - loss: 2.7871     \n",
      "Epoch 33/50\n",
      "10000/10000 [==============================] - 0s - loss: 2.7860     \n",
      "Epoch 34/50\n",
      "10000/10000 [==============================] - 0s - loss: 2.7857     \n",
      "Epoch 35/50\n",
      "10000/10000 [==============================] - 0s - loss: 2.7850     \n",
      "Epoch 36/50\n",
      "10000/10000 [==============================] - 0s - loss: 2.7847     \n",
      "Epoch 37/50\n",
      "10000/10000 [==============================] - 0s - loss: 2.7842     \n",
      "Epoch 38/50\n",
      "10000/10000 [==============================] - 0s - loss: 2.7844     \n",
      "Epoch 39/50\n",
      "10000/10000 [==============================] - 0s - loss: 2.7837     \n",
      "Epoch 40/50\n",
      "10000/10000 [==============================] - 0s - loss: 2.7835     \n",
      "Epoch 41/50\n",
      "10000/10000 [==============================] - 0s - loss: 2.7834     \n",
      "Epoch 42/50\n",
      "10000/10000 [==============================] - 0s - loss: 2.7830     \n",
      "Epoch 43/50\n",
      "10000/10000 [==============================] - 0s - loss: 2.7827     \n",
      "Epoch 44/50\n",
      "10000/10000 [==============================] - 0s - loss: 2.7829     \n",
      "Epoch 45/50\n",
      "10000/10000 [==============================] - 0s - loss: 2.7828     \n",
      "Epoch 46/50\n",
      "10000/10000 [==============================] - 0s - loss: 2.7827     \n",
      "Epoch 47/50\n",
      "10000/10000 [==============================] - 0s - loss: 2.7825     \n",
      "Epoch 48/50\n",
      "10000/10000 [==============================] - 0s - loss: 2.7824     \n",
      "Epoch 49/50\n",
      "10000/10000 [==============================] - 0s - loss: 2.7822     \n",
      "Epoch 50/50\n",
      "10000/10000 [==============================] - 0s - loss: 2.7822     \n"
     ]
    },
    {
     "data": {
      "text/plain": [
       "<keras.callbacks.History at 0x7f91dcf05e90>"
      ]
     },
     "execution_count": 13,
     "metadata": {},
     "output_type": "execute_result"
    }
   ],
   "source": [
    "nde = make_nde()\n",
    "nde.fit(theta, x, batch_size=32, epochs=50)"
   ]
  },
  {
   "cell_type": "code",
   "execution_count": 14,
   "metadata": {
    "scrolled": true
   },
   "outputs": [
    {
     "name": "stdout",
     "output_type": "stream",
     "text": [
      "Epoch 1/50\n",
      "10000/10000 [==============================] - 0s - loss: 5.3657 - dense_4_loss: 3.2990 - lambda_1_loss: 2.0668     \n",
      "Epoch 2/50\n",
      "10000/10000 [==============================] - 0s - loss: 4.2894 - dense_4_loss: 3.0659 - lambda_1_loss: 1.2235     \n",
      "Epoch 3/50\n",
      "10000/10000 [==============================] - 0s - loss: 4.0171 - dense_4_loss: 2.9200 - lambda_1_loss: 1.0972     \n",
      "Epoch 4/50\n",
      "10000/10000 [==============================] - 0s - loss: 3.9166 - dense_4_loss: 2.8471 - lambda_1_loss: 1.0695     \n",
      "Epoch 5/50\n",
      "10000/10000 [==============================] - 0s - loss: 3.8668 - dense_4_loss: 2.8164 - lambda_1_loss: 1.0504     \n",
      "Epoch 6/50\n",
      "10000/10000 [==============================] - 0s - loss: 3.8368 - dense_4_loss: 2.8016 - lambda_1_loss: 1.0352     \n",
      "Epoch 7/50\n",
      "10000/10000 [==============================] - 0s - loss: 3.8152 - dense_4_loss: 2.7936 - lambda_1_loss: 1.0216     \n",
      "Epoch 8/50\n",
      "10000/10000 [==============================] - 0s - loss: 3.7986 - dense_4_loss: 2.7900 - lambda_1_loss: 1.0086     \n",
      "Epoch 9/50\n",
      "10000/10000 [==============================] - 0s - loss: 3.7836 - dense_4_loss: 2.7872 - lambda_1_loss: 0.9964     \n",
      "Epoch 10/50\n",
      "10000/10000 [==============================] - 0s - loss: 3.7721 - dense_4_loss: 2.7855 - lambda_1_loss: 0.9867     \n",
      "Epoch 11/50\n",
      "10000/10000 [==============================] - 0s - loss: 3.7611 - dense_4_loss: 2.7843 - lambda_1_loss: 0.9769     \n",
      "Epoch 12/50\n",
      "10000/10000 [==============================] - 0s - loss: 3.7535 - dense_4_loss: 2.7838 - lambda_1_loss: 0.9697     \n",
      "Epoch 13/50\n",
      "10000/10000 [==============================] - 0s - loss: 3.7470 - dense_4_loss: 2.7831 - lambda_1_loss: 0.9640     \n",
      "Epoch 14/50\n",
      "10000/10000 [==============================] - 0s - loss: 3.7411 - dense_4_loss: 2.7831 - lambda_1_loss: 0.9580     \n",
      "Epoch 15/50\n",
      "10000/10000 [==============================] - 0s - loss: 3.7375 - dense_4_loss: 2.7825 - lambda_1_loss: 0.9550     \n",
      "Epoch 16/50\n",
      "10000/10000 [==============================] - 0s - loss: 3.7346 - dense_4_loss: 2.7820 - lambda_1_loss: 0.9526     \n",
      "Epoch 17/50\n",
      "10000/10000 [==============================] - 0s - loss: 3.7320 - dense_4_loss: 2.7820 - lambda_1_loss: 0.9499     \n",
      "Epoch 18/50\n",
      "10000/10000 [==============================] - 0s - loss: 3.7304 - dense_4_loss: 2.7821 - lambda_1_loss: 0.9482     \n",
      "Epoch 19/50\n",
      "10000/10000 [==============================] - 0s - loss: 3.7289 - dense_4_loss: 2.7819 - lambda_1_loss: 0.9470     \n",
      "Epoch 20/50\n",
      "10000/10000 [==============================] - 0s - loss: 3.7269 - dense_4_loss: 2.7820 - lambda_1_loss: 0.9450     \n",
      "Epoch 21/50\n",
      "10000/10000 [==============================] - 0s - loss: 3.7264 - dense_4_loss: 2.7820 - lambda_1_loss: 0.9444     \n",
      "Epoch 22/50\n",
      "10000/10000 [==============================] - 0s - loss: 3.7249 - dense_4_loss: 2.7819 - lambda_1_loss: 0.9430     \n",
      "Epoch 23/50\n",
      "10000/10000 [==============================] - 0s - loss: 3.7245 - dense_4_loss: 2.7814 - lambda_1_loss: 0.9431     \n",
      "Epoch 24/50\n",
      "10000/10000 [==============================] - 0s - loss: 3.7236 - dense_4_loss: 2.7818 - lambda_1_loss: 0.9418     \n",
      "Epoch 25/50\n",
      "10000/10000 [==============================] - 0s - loss: 3.7235 - dense_4_loss: 2.7818 - lambda_1_loss: 0.9417     \n",
      "Epoch 26/50\n",
      "10000/10000 [==============================] - 0s - loss: 3.7227 - dense_4_loss: 2.7816 - lambda_1_loss: 0.9411     \n",
      "Epoch 27/50\n",
      "10000/10000 [==============================] - 0s - loss: 3.7215 - dense_4_loss: 2.7814 - lambda_1_loss: 0.9400     \n",
      "Epoch 28/50\n",
      "10000/10000 [==============================] - 0s - loss: 3.7215 - dense_4_loss: 2.7814 - lambda_1_loss: 0.9401     \n",
      "Epoch 29/50\n",
      "10000/10000 [==============================] - 0s - loss: 3.7214 - dense_4_loss: 2.7816 - lambda_1_loss: 0.9398     \n",
      "Epoch 30/50\n",
      "10000/10000 [==============================] - 0s - loss: 3.7206 - dense_4_loss: 2.7811 - lambda_1_loss: 0.9395     \n",
      "Epoch 31/50\n",
      "10000/10000 [==============================] - 0s - loss: 3.7208 - dense_4_loss: 2.7814 - lambda_1_loss: 0.9394     \n",
      "Epoch 32/50\n",
      "10000/10000 [==============================] - 0s - loss: 3.7206 - dense_4_loss: 2.7811 - lambda_1_loss: 0.9396     \n",
      "Epoch 33/50\n",
      "10000/10000 [==============================] - 0s - loss: 3.7200 - dense_4_loss: 2.7816 - lambda_1_loss: 0.9385     \n",
      "Epoch 34/50\n",
      "10000/10000 [==============================] - 0s - loss: 3.7201 - dense_4_loss: 2.7813 - lambda_1_loss: 0.9388     \n",
      "Epoch 35/50\n",
      "10000/10000 [==============================] - 0s - loss: 3.7197 - dense_4_loss: 2.7815 - lambda_1_loss: 0.9382     \n",
      "Epoch 36/50\n",
      "10000/10000 [==============================] - 0s - loss: 3.7195 - dense_4_loss: 2.7814 - lambda_1_loss: 0.9381     \n",
      "Epoch 37/50\n",
      "10000/10000 [==============================] - 0s - loss: 3.7193 - dense_4_loss: 2.7810 - lambda_1_loss: 0.9383     \n",
      "Epoch 38/50\n",
      "10000/10000 [==============================] - 0s - loss: 3.7195 - dense_4_loss: 2.7814 - lambda_1_loss: 0.9380     \n",
      "Epoch 39/50\n",
      "10000/10000 [==============================] - 0s - loss: 3.7186 - dense_4_loss: 2.7816 - lambda_1_loss: 0.9370     \n",
      "Epoch 40/50\n",
      "10000/10000 [==============================] - 0s - loss: 3.7192 - dense_4_loss: 2.7810 - lambda_1_loss: 0.9382     \n",
      "Epoch 41/50\n",
      "10000/10000 [==============================] - 0s - loss: 3.7189 - dense_4_loss: 2.7813 - lambda_1_loss: 0.9376     \n",
      "Epoch 42/50\n",
      "10000/10000 [==============================] - 0s - loss: 3.7184 - dense_4_loss: 2.7817 - lambda_1_loss: 0.9366     \n",
      "Epoch 43/50\n",
      "10000/10000 [==============================] - 0s - loss: 3.7185 - dense_4_loss: 2.7817 - lambda_1_loss: 0.9368     \n",
      "Epoch 44/50\n",
      "10000/10000 [==============================] - 0s - loss: 3.7185 - dense_4_loss: 2.7813 - lambda_1_loss: 0.9372     \n",
      "Epoch 45/50\n",
      "10000/10000 [==============================] - 0s - loss: 3.7182 - dense_4_loss: 2.7812 - lambda_1_loss: 0.9370     \n",
      "Epoch 46/50\n",
      "10000/10000 [==============================] - 0s - loss: 3.7187 - dense_4_loss: 2.7812 - lambda_1_loss: 0.9375     \n",
      "Epoch 47/50\n",
      "10000/10000 [==============================] - 0s - loss: 3.7183 - dense_4_loss: 2.7812 - lambda_1_loss: 0.9371     \n",
      "Epoch 48/50\n",
      "10000/10000 [==============================] - 0s - loss: 3.7184 - dense_4_loss: 2.7817 - lambda_1_loss: 0.9367     \n",
      "Epoch 49/50\n",
      "10000/10000 [==============================] - 0s - loss: 3.7175 - dense_4_loss: 2.7817 - lambda_1_loss: 0.9359     \n",
      "Epoch 50/50\n",
      "10000/10000 [==============================] - 0s - loss: 3.7184 - dense_4_loss: 2.7815 - lambda_1_loss: 0.9369     \n"
     ]
    },
    {
     "data": {
      "text/plain": [
       "<keras.callbacks.History at 0x7f91b819c1d0>"
      ]
     },
     "execution_count": 14,
     "metadata": {},
     "output_type": "execute_result"
    }
   ],
   "source": [
    "scandal = make_scandal()\n",
    "scandal.fit([theta, x], [x, t_xz], batch_size=32, epochs=50)"
   ]
  },
  {
   "cell_type": "code",
   "execution_count": 15,
   "metadata": {},
   "outputs": [
    {
     "data": {
      "image/png": "[encoded data removed]",
      "text/plain": [
       "<Figure size 432x288 with 1 Axes>"
      ]
     },
     "metadata": {},
     "output_type": "display_data"
    }
   ],
   "source": [
    "plt.step(range(n_nails), p_estimated_0, label=\"histogram\")\n",
    "plt.step(range(n_nails), nde.predict(np.array([theta_0])).ravel(), label=\"nde\")\n",
    "plt.step(range(n_nails), scandal.predict([np.array([[theta_0]]), np.zeros((1, n_nails))])[0][0], label=\"scandal\")\n",
    "plt.legend()\n",
    "plt.title(r\"$\\theta=%.2f$\" % theta_0)\n",
    "plt.show()"
   ]
  },
  {
   "cell_type": "code",
   "execution_count": 16,
   "metadata": {},
   "outputs": [
    {
     "data": {
      "image/png": "[encoded data removed]",
      "text/plain": [
       "<Figure size 432x288 with 1 Axes>"
      ]
     },
     "metadata": {},
     "output_type": "display_data"
    }
   ],
   "source": [
    "plt.step(range(n_nails), p_estimated_1, label=\"histogram\")\n",
    "plt.step(range(n_nails), nde.predict(np.array([theta_1])).ravel(), label=\"nde\")\n",
    "plt.step(range(n_nails), scandal.predict([np.array([[theta_1]]), np.zeros((1, n_nails))])[0][0], label=\"scandal\")\n",
    "plt.legend()\n",
    "plt.title(r\"$\\theta=%.2f$\" % theta_1)\n",
    "plt.show()"
   ]
  },
  {
   "cell_type": "markdown",
   "metadata": {},
   "source": [
    "# CARL"
   ]
  },
  {
   "cell_type": "code",
   "execution_count": 10,
   "metadata": {},
   "outputs": [
    {
     "name": "stderr",
     "output_type": "stream",
     "text": [
      "ERROR (theano.gpuarray): Could not initialize pygpu, support disabled\n",
      "Traceback (most recent call last):\n",
      "  File \"/usr/local/lib/python2.7/dist-packages/theano/gpuarray/__init__.py\", line 220, in <module>\n",
      "    use(config.device)\n",
      "  File \"/usr/local/lib/python2.7/dist-packages/theano/gpuarray/__init__.py\", line 207, in use\n",
      "    init_dev(device, preallocate=preallocate)\n",
      "  File \"/usr/local/lib/python2.7/dist-packages/theano/gpuarray/__init__.py\", line 94, in init_dev\n",
      "    **args)\n",
      "  File \"pygpu/gpuarray.pyx\", line 658, in pygpu.gpuarray.init\n",
      "  File \"pygpu/gpuarray.pyx\", line 587, in pygpu.gpuarray.pygpu_init\n",
      "GpuArrayException: cuInit: CUDA_ERROR_NO_DEVICE: no CUDA-capable device is detected\n"
     ]
    }
   ],
   "source": [
    "from carl.ratios import ClassifierRatio\n",
    "from carl.learning import CalibratedClassifierCV\n",
    "from carl.learning import as_classifier\n",
    "from sklearn.pipeline import make_pipeline\n",
    "from sklearn.preprocessing import StandardScaler\n",
    "from sklearn.model_selection import StratifiedShuffleSplit\n",
    "from sklearn.ensemble import ExtraTreesClassifier\n",
    "from sklearn.ensemble import GradientBoostingClassifier\n",
    "from keras.wrappers.scikit_learn import KerasRegressor\n",
    "from carl.ratios import ClassifierScoreRatio\n",
    "from carl.learning import CalibratedClassifierScoreCV"
   ]
  },
  {
   "cell_type": "code",
   "execution_count": 11,
   "metadata": {
    "collapsed": true
   },
   "outputs": [],
   "source": [
    "def make_carl(lr=0.001):\n",
    "    inputs = Input(shape=(2 + n_outputs, )) \n",
    "    thetas = Lambda(lambda x: x[:,-2:], output_shape=(2,))(inputs)\n",
    "    x = Lambda(lambda x: x[:,:-2], output_shape=(n_outputs,))(inputs)\n",
    "    h = Dense(hidden_size, activation=\"tanh\")(inputs)\n",
    "    shat_thetas = Dense(n_outputs, activation=\"sigmoid\")(h)\n",
    "\n",
    "    shat_x_thetas = dot([x, shat_thetas], axes=1)\n",
    "    \n",
    "    model = Model(inputs=[inputs], outputs=[shat_x_thetas])\n",
    "    opt = Adam(lr=lr)\n",
    "    model.compile(loss=[\"binary_crossentropy\"], optimizer=opt)\n",
    "    return model"
   ]
  },
  {
   "cell_type": "code",
   "execution_count": 55,
   "metadata": {
    "collapsed": true
   },
   "outputs": [],
   "source": [
    "from galton import check_random_state\n",
    "from itertools import product\n",
    "\n",
    "def draw_parametrized_new(n_samples, n_thetas=10, random_state=0):\n",
    "    grid = list(product(np.linspace(-1.0, -0.4, n_thetas), \n",
    "                        np.linspace(-1.0, -0.4, n_thetas)))\n",
    "    n_traces_per_theta = n_samples // len(grid)\n",
    "    all_x = []\n",
    "    all_theta = []\n",
    "    all_y = []\n",
    "    k = 0\n",
    "    for theta_0, theta_1 in grid:\n",
    "        x_0, _, _, _ = galton_rvs(theta_0, n_runs=n_traces_per_theta, random_state=random_state+k)\n",
    "        x_1, _, _, _ = galton_rvs(theta_1, n_runs=n_traces_per_theta, random_state=random_state+k)\n",
    "        all_x += x_0\n",
    "        all_x += x_1\n",
    "        all_theta += [[theta_0, theta_1]] * (n_traces_per_theta * 2)\n",
    "        all_y += [0] * len(x_0)\n",
    "        all_y += [1] * len(x_1)\n",
    "        k += 1\n",
    "    all_x = np.array(all_x).reshape(-1, 1)\n",
    "    all_x = to_categorical(all_x, num_classes=n_nails)\n",
    "    all_theta = np.array(all_theta)\n",
    "    all_x = np.hstack([all_x, all_theta])\n",
    "    all_y = np.array(all_y)\n",
    "    rng = check_random_state(random_state)\n",
    "    choices = rng.choice(len(all_x), len(all_x), replace=False)\n",
    "        \n",
    "    return all_x[choices], all_y[choices]\n",
    "\n",
    "def draw_parametrized(n_samples, n_thetas=10, random_state=0):\n",
    "    n_traces_per_theta = n_samples // n_thetas\n",
    "    all_x = []\n",
    "    all_theta = []\n",
    "    all_y = []\n",
    "    for k, theta in enumerate(np.linspace(-1.0, -0.4, n_thetas)):\n",
    "        x_0, _, _, _ = galton_rvs(theta, n_runs=n_traces_per_theta, random_state=random_state+k)\n",
    "        x_1, _, _, _ = galton_rvs(theta_1, n_runs=n_traces_per_theta, random_state=random_state+k)\n",
    "        all_x += x_0\n",
    "        all_x += x_1\n",
    "        all_theta += [[theta, theta_1]] * (n_traces_per_theta * 2)\n",
    "        all_y += [0] * len(x_0)\n",
    "        all_y += [1] * len(x_1)\n",
    "    all_x = np.array(all_x).reshape(-1, 1)\n",
    "    all_x = to_categorical(all_x, num_classes=n_nails)\n",
    "    all_theta = np.array(all_theta)\n",
    "    all_x = np.hstack([all_x, all_theta])\n",
    "    all_y = np.array(all_y)\n",
    "    rng = check_random_state(random_state)\n",
    "    choices = rng.choice(len(all_x), len(all_x), replace=False)\n",
    "        \n",
    "    return all_x[choices], all_y[choices]"
   ]
  },
  {
   "cell_type": "code",
   "execution_count": 56,
   "metadata": {},
   "outputs": [],
   "source": [
    "all_x, all_y = draw_parametrized(200)"
   ]
  },
  {
   "cell_type": "code",
   "execution_count": 57,
   "metadata": {},
   "outputs": [
    {
     "data": {
      "text/plain": [
       "ClassifierScoreRatio(base_estimator=CalibratedClassifierScoreCV(base_estimator=<keras.wrappers.scikit_learn.KerasRegressor object at 0x7f70147bc090>,\n",
       "              bins='auto', cv='prefit', independent_binning=True,\n",
       "              interpolation=None, method='isotonic', variable_width=False),\n",
       "           prefit=None, random_state=None)"
      ]
     },
     "execution_count": 57,
     "metadata": {},
     "output_type": "execute_result"
    }
   ],
   "source": [
    "carl = KerasRegressor(make_carl, epochs=50, batch_size=32, verbose=0)\n",
    "\n",
    "carl.fit(all_x,all_y)\n",
    "\n",
    "carl_calibrated = ClassifierScoreRatio(\n",
    "    CalibratedClassifierScoreCV(carl, cv='prefit', method='isotonic'))\n",
    "carl_calibrated.fit(all_x, all_y.reshape(-1,1))"
   ]
  },
  {
   "cell_type": "code",
   "execution_count": 58,
   "metadata": {
    "collapsed": true
   },
   "outputs": [],
   "source": [
    "def log_r_from_s(s, epsilon=1.e-6):\n",
    "    return np.log((1. - s + epsilon) / (s + epsilon))\n"
   ]
  },
  {
   "cell_type": "code",
   "execution_count": 59,
   "metadata": {},
   "outputs": [
    {
     "data": {
      "image/png": "[encoded data removed]",
      "text/plain": [
       "<Figure size 432x288 with 1 Axes>"
      ]
     },
     "metadata": {},
     "output_type": "display_data"
    }
   ],
   "source": [
    "r_true = np.log(p_estimated_0[5:-5]) - np.log(p_estimated_1[5:-5])\n",
    "\n",
    "x_test = to_categorical(np.array(range(n_nails)), num_classes=n_nails)\n",
    "r_carl = np.log(carl_calibrated.predict(np.hstack([x_test,\n",
    "                                 theta_0 * np.ones((n_nails, 1)), \n",
    "                                 theta_1 * np.ones((n_nails, 1))]))[0][5:-5])\n",
    "r_carl_raw = log_r_from_s(carl.predict(np.hstack([x_test,\n",
    "                                 theta_0 * np.ones((n_nails, 1)), \n",
    "                                 theta_1 * np.ones((n_nails, 1))]))[5:-5])\n",
    "\n",
    "\n",
    "plt.step(range(5, n_nails-5), r_true, label=\"estimated\")\n",
    "plt.step(range(5, n_nails-5), r_carl, label=\"carl\")\n",
    "plt.step(range(5, n_nails-5), r_carl_raw, label=\"carl raw\")\n",
    "\n",
    "plt.legend()\n",
    "plt.show()\n"
   ]
  },
  {
   "cell_type": "markdown",
   "metadata": {},
   "source": [
    "# ROLR + RASCAL"
   ]
  },
  {
   "cell_type": "code",
   "execution_count": 35,
   "metadata": {
    "collapsed": true
   },
   "outputs": [],
   "source": [
    "from galton import check_random_state\n",
    "from itertools import product\n",
    "\n",
    "def draw_ratio(n_samples, n_thetas=10, random_state=0):\n",
    "    grid = list(product(np.linspace(-1.0, -0.4, n_thetas), \n",
    "                        np.linspace(-1.0, -0.4, n_thetas)))\n",
    "    n_traces_per_theta = n_samples // len(grid)\n",
    "    \n",
    "    rng = check_random_state(random_state)\n",
    "    \n",
    "    all_x = []\n",
    "    all_log_r_xz = []\n",
    "    all_t_xz_0 = []\n",
    "    all_thetas = []\n",
    "\n",
    "    # draw from theta_0\n",
    "    for theta_0, theta_1 in grid:\n",
    "        x, log_p_xz_0, log_p_xz_1, t_xz_0, _, _ = galton_rvs_ratio(theta_0, theta_1, \n",
    "                                                                   n_runs=n_traces_per_theta, random_state=rng)\n",
    "        all_x.append(x)\n",
    "        all_log_r_xz.append(log_p_xz_0 - log_p_xz_1)\n",
    "        all_t_xz_0.append(t_xz_0)\n",
    "        all_thetas.append(np.tile(np.array([theta_0, theta_1]), (n_traces_per_theta, 1)))\n",
    "        \n",
    "    # reshape\n",
    "    all_x = np.array(all_x).reshape(-1, 1)\n",
    "    all_x = to_categorical(all_x, num_classes=n_nails)\n",
    "    all_log_r_xz = np.array(all_log_r_xz).reshape(-1, 1)\n",
    "    all_t_xz_0 = np.array(all_t_xz_0).reshape(-1, 1)\n",
    "    all_thetas = np.vstack(all_thetas)\n",
    "    \n",
    "    choices = rng.choice(len(all_x), len(all_x), replace=False)\n",
    "        \n",
    "    return all_x[choices], all_thetas[choices], all_log_r_xz[choices], all_t_xz_0[choices]\n",
    "\n",
    "def draw_ratio_new(n_samples, n_thetas=10, random_state=0):\n",
    "    grid = np.linspace(-1.0, -0.4, n_thetas)\n",
    "    n_traces_per_theta = n_samples // len(grid)\n",
    "    \n",
    "    rng = check_random_state(random_state)\n",
    "    \n",
    "    all_x = []\n",
    "    all_log_r_xz = []\n",
    "    all_t_xz_0 = []\n",
    "    all_thetas = []\n",
    "    # draw from theta_1\n",
    "    for theta in grid:\n",
    "        x, log_p_xz_0, log_p_xz_1, t_xz_0, _, _ = galton_rvs_ratio(theta, theta_1, \n",
    "                                                                   n_runs=n_traces_per_theta, random_state=rng)\n",
    "        all_x.append(x)\n",
    "        all_log_r_xz.append(log_p_xz_0 - log_p_xz_1)\n",
    "        all_t_xz_0.append(t_xz_0)\n",
    "        all_thetas.append(np.tile(np.array([theta_0, theta_1]), (n_traces_per_theta, 1)))\n",
    "        \n",
    "    # reshape\n",
    "    all_x = np.array(all_x).reshape(-1, 1)\n",
    "    all_x = to_categorical(all_x, num_classes=n_nails)\n",
    "    all_log_r_xz = np.array(all_log_r_xz).reshape(-1, 1)\n",
    "    all_t_xz_0 = np.array(all_t_xz_0).reshape(-1, 1)\n",
    "    all_thetas = np.vstack(all_thetas)\n",
    "    \n",
    "    choices = rng.choice(len(all_x), len(all_x), replace=False)\n",
    "        \n",
    "    return all_x[choices], all_thetas[choices], all_log_r_xz[choices], all_t_xz_0[choices]"
   ]
  },
  {
   "cell_type": "code",
   "execution_count": 169,
   "metadata": {
    "collapsed": true
   },
   "outputs": [],
   "source": [
    "x, thetas, log_r_xz, t_xz_0 = draw_ratio(10000, n_thetas=10)"
   ]
  },
  {
   "cell_type": "code",
   "execution_count": 36,
   "metadata": {
    "collapsed": true
   },
   "outputs": [],
   "source": [
    "from keras.losses import mean_squared_error\n",
    "from keras.layers import concatenate\n",
    "from keras import losses\n",
    "\n",
    "def make_rolr(lr=0.001):\n",
    "    theta0 = Input(shape=(1,))\n",
    "    theta1 = Input(shape=(1,))\n",
    "    thetas = concatenate([theta0, theta1])\n",
    "    \n",
    "    h = Dense(hidden_size, activation=\"tanh\")(thetas)\n",
    "    log_rhat_thetas = Dense(n_outputs, activation=\"linear\")(h)\n",
    "    rhat_thetas = Lambda(lambda exp: K.exp(exp))(log_rhat_thetas)\n",
    "    \n",
    "    x = Input(shape=(n_outputs,))\n",
    "    rhat_x_thetas = dot([x, rhat_thetas], axes=1)\n",
    "    \n",
    "    model = Model(inputs=[theta0, theta1, x], outputs=[rhat_x_thetas])\n",
    "    opt = Adam(lr=lr)\n",
    "    model.compile(loss=[inv_mse], optimizer=opt)\n",
    "    \n",
    "    return model\n",
    "\n",
    "def inv_mse(y_true, y_pred):\n",
    "    inverse_r_loss = losses.mean_squared_error((1./ K.clip(y_true, -10., 10.)),\n",
    "                                               (1./ K.clip(y_pred, -10., 10.)))\n",
    "\n",
    "    return inverse_r_loss\n",
    "\n",
    "\n",
    "def make_rascal(lr=0.001):\n",
    "    theta0 = Input(shape=(1,))\n",
    "    theta1 = Input(shape=(1,))\n",
    "    thetas = concatenate([theta0, theta1])\n",
    "    \n",
    "    h = Dense(hidden_size, activation=\"tanh\")(thetas)\n",
    "    log_rhat_thetas = Dense(n_outputs, activation=\"linear\")(h)\n",
    "    rhat_thetas = Lambda(lambda exp: K.exp(exp))(log_rhat_thetas)\n",
    "    \n",
    "    x = Input(shape=(n_outputs,))\n",
    "    rhat_x_thetas = dot([x, rhat_thetas], axes=1)\n",
    "    \n",
    "    log_rhat_x_theta = dot([x, log_rhat_thetas], axes=1) \n",
    "    t_x_0 = Lambda(lambda exp: K.gradients(exp[0], [exp[1]])[0], \n",
    "                   output_shape=(n_features,))([log_rhat_x_theta, theta0])\n",
    "    \n",
    "    model = Model(inputs=[theta0, theta1, x], outputs=[rhat_x_thetas, t_x_0])\n",
    "    opt = Adam(lr=lr)\n",
    "    model.compile(loss=[inv_mse, \"mse\"], loss_weights=[1.0, 0.5], optimizer=opt)\n",
    "    \n",
    "    return model"
   ]
  },
  {
   "cell_type": "code",
   "execution_count": 156,
   "metadata": {
    "scrolled": true
   },
   "outputs": [
    {
     "name": "stdout",
     "output_type": "stream",
     "text": [
      "Epoch 1/50\n",
      "10000/10000 [==============================] - 5s - loss: 0.1315     \n",
      "Epoch 2/50\n",
      "10000/10000 [==============================] - 1s - loss: 0.1146     \n",
      "Epoch 3/50\n",
      "10000/10000 [==============================] - 1s - loss: 0.1145     \n",
      "Epoch 4/50\n",
      "10000/10000 [==============================] - 1s - loss: 0.1146     \n",
      "Epoch 5/50\n",
      "10000/10000 [==============================] - 1s - loss: 0.1146     \n",
      "Epoch 6/50\n",
      "10000/10000 [==============================] - 1s - loss: 0.1146     \n",
      "Epoch 7/50\n",
      "10000/10000 [==============================] - 1s - loss: 0.1146     \n",
      "Epoch 8/50\n",
      "10000/10000 [==============================] - 1s - loss: 0.1146     \n",
      "Epoch 9/50\n",
      "10000/10000 [==============================] - 1s - loss: 0.1147     \n",
      "Epoch 10/50\n",
      "10000/10000 [==============================] - 1s - loss: 0.1147     \n",
      "Epoch 11/50\n",
      "10000/10000 [==============================] - 1s - loss: 0.1147     \n",
      "Epoch 12/50\n",
      "10000/10000 [==============================] - 1s - loss: 0.1145     \n",
      "Epoch 13/50\n",
      "10000/10000 [==============================] - 1s - loss: 0.1146     \n",
      "Epoch 14/50\n",
      "10000/10000 [==============================] - 1s - loss: 0.1146     \n",
      "Epoch 15/50\n",
      "10000/10000 [==============================] - 1s - loss: 0.1145     \n",
      "Epoch 16/50\n",
      "10000/10000 [==============================] - 1s - loss: 0.1145     \n",
      "Epoch 17/50\n",
      "10000/10000 [==============================] - 1s - loss: 0.1146     \n",
      "Epoch 18/50\n",
      "10000/10000 [==============================] - 1s - loss: 0.1146     \n",
      "Epoch 19/50\n",
      "10000/10000 [==============================] - 1s - loss: 0.1146     \n",
      "Epoch 20/50\n",
      "10000/10000 [==============================] - 1s - loss: 0.1145     \n",
      "Epoch 21/50\n",
      "10000/10000 [==============================] - 1s - loss: 0.1145     \n",
      "Epoch 22/50\n",
      "10000/10000 [==============================] - 1s - loss: 0.1146     \n",
      "Epoch 23/50\n",
      "10000/10000 [==============================] - 1s - loss: 0.1146     \n",
      "Epoch 24/50\n",
      "10000/10000 [==============================] - 1s - loss: 0.1145     \n",
      "Epoch 25/50\n",
      "10000/10000 [==============================] - 1s - loss: 0.1145     \n",
      "Epoch 26/50\n",
      "10000/10000 [==============================] - 1s - loss: 0.1145     \n",
      "Epoch 27/50\n",
      "10000/10000 [==============================] - 1s - loss: 0.1146     \n",
      "Epoch 28/50\n",
      "10000/10000 [==============================] - 1s - loss: 0.1144     \n",
      "Epoch 29/50\n",
      "10000/10000 [==============================] - 1s - loss: 0.1145     \n",
      "Epoch 30/50\n",
      "10000/10000 [==============================] - 1s - loss: 0.1145     \n",
      "Epoch 31/50\n",
      "10000/10000 [==============================] - 1s - loss: 0.1145     \n",
      "Epoch 32/50\n",
      "10000/10000 [==============================] - 1s - loss: 0.1144     \n",
      "Epoch 33/50\n",
      "10000/10000 [==============================] - 1s - loss: 0.1144     \n",
      "Epoch 34/50\n",
      "10000/10000 [==============================] - 1s - loss: 0.1145     \n",
      "Epoch 35/50\n",
      "10000/10000 [==============================] - 1s - loss: 0.1145     \n",
      "Epoch 36/50\n",
      "10000/10000 [==============================] - 1s - loss: 0.1144     \n",
      "Epoch 37/50\n",
      "10000/10000 [==============================] - 1s - loss: 0.1144     \n",
      "Epoch 38/50\n",
      "10000/10000 [==============================] - 1s - loss: 0.1144     \n",
      "Epoch 39/50\n",
      "10000/10000 [==============================] - 1s - loss: 0.1145     \n",
      "Epoch 40/50\n",
      "10000/10000 [==============================] - 1s - loss: 0.1145     \n",
      "Epoch 41/50\n",
      "10000/10000 [==============================] - 1s - loss: 0.1145     \n",
      "Epoch 42/50\n",
      "10000/10000 [==============================] - 1s - loss: 0.1144     \n",
      "Epoch 43/50\n",
      "10000/10000 [==============================] - 1s - loss: 0.1145     \n",
      "Epoch 44/50\n",
      "10000/10000 [==============================] - 1s - loss: 0.1144     \n",
      "Epoch 45/50\n",
      "10000/10000 [==============================] - 1s - loss: 0.1144     \n",
      "Epoch 46/50\n",
      "10000/10000 [==============================] - 1s - loss: 0.1143     \n",
      "Epoch 47/50\n",
      "10000/10000 [==============================] - 1s - loss: 0.1143     \n",
      "Epoch 48/50\n",
      "10000/10000 [==============================] - 1s - loss: 0.1144     \n",
      "Epoch 49/50\n",
      "10000/10000 [==============================] - 1s - loss: 0.1143     \n",
      "Epoch 50/50\n",
      "10000/10000 [==============================] - 1s - loss: 0.1144     \n"
     ]
    },
    {
     "data": {
      "text/plain": [
       "<keras.callbacks.History at 0x7f8f437b9790>"
      ]
     },
     "execution_count": 156,
     "metadata": {},
     "output_type": "execute_result"
    }
   ],
   "source": [
    "rolr = make_rolr()\n",
    "rolr.fit([thetas[:, 0], \n",
    "          thetas[:, 1], \n",
    "          x], \n",
    "         np.exp(log_r_xz), \n",
    "         batch_size=32, epochs=50)"
   ]
  },
  {
   "cell_type": "code",
   "execution_count": 157,
   "metadata": {},
   "outputs": [
    {
     "name": "stdout",
     "output_type": "stream",
     "text": [
      "Epoch 1/50\n",
      "10000/10000 [==============================] - 5s - loss: 1.2149 - dot_479_loss: 0.1276 - lambda_570_loss: 2.1746     \n",
      "Epoch 2/50\n",
      "10000/10000 [==============================] - 1s - loss: 0.8027 - dot_479_loss: 0.1164 - lambda_570_loss: 1.3727     \n",
      "Epoch 3/50\n",
      "10000/10000 [==============================] - 1s - loss: 0.7143 - dot_479_loss: 0.1150 - lambda_570_loss: 1.1987     \n",
      "Epoch 4/50\n",
      "10000/10000 [==============================] - 1s - loss: 0.7005 - dot_479_loss: 0.1146 - lambda_570_loss: 1.1716     \n",
      "Epoch 5/50\n",
      "10000/10000 [==============================] - 1s - loss: 0.6970 - dot_479_loss: 0.1145 - lambda_570_loss: 1.1650     \n",
      "Epoch 6/50\n",
      "10000/10000 [==============================] - 1s - loss: 0.6950 - dot_479_loss: 0.1145 - lambda_570_loss: 1.1611     \n",
      "Epoch 7/50\n",
      "10000/10000 [==============================] - 1s - loss: 0.6944 - dot_479_loss: 0.1143 - lambda_570_loss: 1.1601     \n",
      "Epoch 8/50\n",
      "10000/10000 [==============================] - 1s - loss: 0.6934 - dot_479_loss: 0.1143 - lambda_570_loss: 1.1582     \n",
      "Epoch 9/50\n",
      "10000/10000 [==============================] - 1s - loss: 0.6930 - dot_479_loss: 0.1143 - lambda_570_loss: 1.1574     \n",
      "Epoch 10/50\n",
      "10000/10000 [==============================] - 1s - loss: 0.6927 - dot_479_loss: 0.1143 - lambda_570_loss: 1.1567     \n",
      "Epoch 11/50\n",
      "10000/10000 [==============================] - 1s - loss: 0.6924 - dot_479_loss: 0.1143 - lambda_570_loss: 1.1561     \n",
      "Epoch 12/50\n",
      "10000/10000 [==============================] - 1s - loss: 0.6921 - dot_479_loss: 0.1143 - lambda_570_loss: 1.1555     \n",
      "Epoch 13/50\n",
      "10000/10000 [==============================] - 1s - loss: 0.6919 - dot_479_loss: 0.1143 - lambda_570_loss: 1.1552     \n",
      "Epoch 14/50\n",
      "10000/10000 [==============================] - 1s - loss: 0.6922 - dot_479_loss: 0.1144 - lambda_570_loss: 1.1557     \n",
      "Epoch 15/50\n",
      "10000/10000 [==============================] - 1s - loss: 0.6921 - dot_479_loss: 0.1143 - lambda_570_loss: 1.1556     \n",
      "Epoch 16/50\n",
      "10000/10000 [==============================] - 1s - loss: 0.6919 - dot_479_loss: 0.1144 - lambda_570_loss: 1.1551     \n",
      "Epoch 17/50\n",
      "10000/10000 [==============================] - 1s - loss: 0.6920 - dot_479_loss: 0.1143 - lambda_570_loss: 1.1555     \n",
      "Epoch 18/50\n",
      "10000/10000 [==============================] - 1s - loss: 0.6918 - dot_479_loss: 0.1142 - lambda_570_loss: 1.1551     \n",
      "Epoch 19/50\n",
      "10000/10000 [==============================] - 1s - loss: 0.6921 - dot_479_loss: 0.1143 - lambda_570_loss: 1.1555     \n",
      "Epoch 20/50\n",
      "10000/10000 [==============================] - 1s - loss: 0.6921 - dot_479_loss: 0.1144 - lambda_570_loss: 1.1555     \n",
      "Epoch 21/50\n",
      "10000/10000 [==============================] - 1s - loss: 0.6918 - dot_479_loss: 0.1143 - lambda_570_loss: 1.1550     \n",
      "Epoch 22/50\n",
      "10000/10000 [==============================] - 1s - loss: 0.6918 - dot_479_loss: 0.1143 - lambda_570_loss: 1.1551     \n",
      "Epoch 23/50\n",
      "10000/10000 [==============================] - 1s - loss: 0.6918 - dot_479_loss: 0.1143 - lambda_570_loss: 1.1550     \n",
      "Epoch 24/50\n",
      "10000/10000 [==============================] - 1s - loss: 0.6919 - dot_479_loss: 0.1142 - lambda_570_loss: 1.1553     \n",
      "Epoch 25/50\n",
      "10000/10000 [==============================] - 1s - loss: 0.6918 - dot_479_loss: 0.1143 - lambda_570_loss: 1.1550     \n",
      "Epoch 26/50\n",
      "10000/10000 [==============================] - 1s - loss: 0.6919 - dot_479_loss: 0.1143 - lambda_570_loss: 1.1551     \n",
      "Epoch 27/50\n",
      "10000/10000 [==============================] - 1s - loss: 0.6919 - dot_479_loss: 0.1142 - lambda_570_loss: 1.1553     \n",
      "Epoch 28/50\n",
      "10000/10000 [==============================] - 1s - loss: 0.6919 - dot_479_loss: 0.1143 - lambda_570_loss: 1.1553     \n",
      "Epoch 29/50\n",
      "10000/10000 [==============================] - 1s - loss: 0.6920 - dot_479_loss: 0.1143 - lambda_570_loss: 1.1553     \n",
      "Epoch 30/50\n",
      "10000/10000 [==============================] - 1s - loss: 0.6921 - dot_479_loss: 0.1143 - lambda_570_loss: 1.1556     \n",
      "Epoch 31/50\n",
      "10000/10000 [==============================] - 1s - loss: 0.6920 - dot_479_loss: 0.1144 - lambda_570_loss: 1.1553     \n",
      "Epoch 32/50\n",
      "10000/10000 [==============================] - 1s - loss: 0.6919 - dot_479_loss: 0.1143 - lambda_570_loss: 1.1553     \n",
      "Epoch 33/50\n",
      "10000/10000 [==============================] - 1s - loss: 0.6919 - dot_479_loss: 0.1143 - lambda_570_loss: 1.1551     \n",
      "Epoch 34/50\n",
      "10000/10000 [==============================] - 1s - loss: 0.6920 - dot_479_loss: 0.1143 - lambda_570_loss: 1.1554     \n",
      "Epoch 35/50\n",
      "10000/10000 [==============================] - 1s - loss: 0.6921 - dot_479_loss: 0.1143 - lambda_570_loss: 1.1555     \n",
      "Epoch 36/50\n",
      "10000/10000 [==============================] - 1s - loss: 0.6921 - dot_479_loss: 0.1144 - lambda_570_loss: 1.1554     \n",
      "Epoch 37/50\n",
      "10000/10000 [==============================] - 1s - loss: 0.6915 - dot_479_loss: 0.1143 - lambda_570_loss: 1.1545     \n",
      "Epoch 38/50\n",
      "10000/10000 [==============================] - 1s - loss: 0.6921 - dot_479_loss: 0.1143 - lambda_570_loss: 1.1554     \n",
      "Epoch 39/50\n",
      "10000/10000 [==============================] - 1s - loss: 0.6913 - dot_479_loss: 0.1142 - lambda_570_loss: 1.1542     \n",
      "Epoch 40/50\n",
      "10000/10000 [==============================] - 1s - loss: 0.6919 - dot_479_loss: 0.1142 - lambda_570_loss: 1.1555     \n",
      "Epoch 41/50\n",
      "10000/10000 [==============================] - 1s - loss: 0.6917 - dot_479_loss: 0.1143 - lambda_570_loss: 1.1549     \n",
      "Epoch 42/50\n",
      "10000/10000 [==============================] - 1s - loss: 0.6916 - dot_479_loss: 0.1142 - lambda_570_loss: 1.1546     \n",
      "Epoch 43/50\n",
      "10000/10000 [==============================] - 1s - loss: 0.6919 - dot_479_loss: 0.1143 - lambda_570_loss: 1.1551     \n",
      "Epoch 44/50\n",
      "10000/10000 [==============================] - 1s - loss: 0.6919 - dot_479_loss: 0.1143 - lambda_570_loss: 1.1552     \n",
      "Epoch 45/50\n",
      "10000/10000 [==============================] - 1s - loss: 0.6918 - dot_479_loss: 0.1142 - lambda_570_loss: 1.1552     \n",
      "Epoch 46/50\n",
      "10000/10000 [==============================] - 1s - loss: 0.6917 - dot_479_loss: 0.1143 - lambda_570_loss: 1.1549     \n",
      "Epoch 47/50\n",
      "10000/10000 [==============================] - 1s - loss: 0.6918 - dot_479_loss: 0.1143 - lambda_570_loss: 1.1549     \n",
      "Epoch 48/50\n",
      "10000/10000 [==============================] - 1s - loss: 0.6917 - dot_479_loss: 0.1143 - lambda_570_loss: 1.1548     \n",
      "Epoch 49/50\n",
      "10000/10000 [==============================] - 1s - loss: 0.6918 - dot_479_loss: 0.1142 - lambda_570_loss: 1.1551     \n",
      "Epoch 50/50\n",
      "10000/10000 [==============================] - 1s - loss: 0.6918 - dot_479_loss: 0.1143 - lambda_570_loss: 1.1550     \n"
     ]
    },
    {
     "data": {
      "text/plain": [
       "<keras.callbacks.History at 0x7f8f432f0950>"
      ]
     },
     "execution_count": 157,
     "metadata": {},
     "output_type": "execute_result"
    }
   ],
   "source": [
    "rascal = make_rascal()\n",
    "rascal.fit([thetas[:, 0], \n",
    "            thetas[:, 1], \n",
    "            x], \n",
    "           [np.exp(log_r_xz), \n",
    "            t_xz_0], \n",
    "           batch_size=32, epochs=50)"
   ]
  },
  {
   "cell_type": "code",
   "execution_count": 158,
   "metadata": {},
   "outputs": [
    {
     "data": {
      "image/png": "[encoded data removed]",
      "text/plain": [
       "<Figure size 432x288 with 1 Axes>"
      ]
     },
     "metadata": {},
     "output_type": "display_data"
    }
   ],
   "source": [
    "r_true = np.exp(np.log(p_estimated_0[5:-5]) - np.log(p_estimated_1[5:-5]))\n",
    "\n",
    "x_test = to_categorical(np.array(range(n_nails)), num_classes=n_nails)\n",
    "r_rolr = rolr.predict([theta_0 * np.ones(n_nails), \n",
    "                       theta_1 * np.ones(n_nails),\n",
    "                       x_test])[5:-5]\n",
    "r_rascal = rascal.predict([theta_0 * np.ones(n_nails),\n",
    "                           theta_1 * np.ones(n_nails),\n",
    "                           x_test])[0][5:-5]\n",
    "\n",
    "plt.step(range(5, n_nails-5), r_true, label=\"estimated\")\n",
    "plt.step(range(5, n_nails-5), r_rolr, label=\"rolr\")\n",
    "plt.step(range(5, n_nails-5), r_rascal, label=\"rascal\")\n",
    "plt.legend()\n",
    "plt.show()"
   ]
  },
  {
   "cell_type": "markdown",
   "metadata": {},
   "source": [
    "---"
   ]
  },
  {
   "cell_type": "markdown",
   "metadata": {},
   "source": [
    "# Model comparison"
   ]
  },
  {
   "cell_type": "code",
   "execution_count": 37,
   "metadata": {
    "collapsed": true
   },
   "outputs": [],
   "source": [
    "def compute_mse(p_train, p_estimated):\n",
    "    p_ratio_train =  np.log(p_train[0]) - np.log(p_train[1])\n",
    "    p_ratio = np.log(p_estimated[0]) - np.log(p_estimated[1])\n",
    "    mse = p_ratio_train - p_ratio\n",
    "    mse[np.logical_or(np.isinf(mse),np.isnan(mse))] = 0.\n",
    "    mse = np.dot(mse**2, p_estimated[1])\n",
    "    return mse\n",
    "def compute_mse_ratio(ratio, p_estimated, log=True):\n",
    "    p_ratio = np.log(p_estimated[0]) - np.log(p_estimated[1])\n",
    "    if log:\n",
    "        p_ratio_train = np.log(ratio)\n",
    "    else:\n",
    "        p_ratio_train = ratio\n",
    "    mse = p_ratio_train - p_ratio\n",
    "    mse[np.logical_or(np.isinf(mse),np.isnan(mse))] = 0.\n",
    "    mse = np.dot(mse**2, p_estimated[1])\n",
    "    return mse"
   ]
  },
  {
   "cell_type": "code",
   "execution_count": 61,
   "metadata": {},
   "outputs": [
    {
     "name": "stdout",
     "output_type": "stream",
     "text": [
      "200 Sample\n",
      "500 Sample\n",
      "1000 Sample\n",
      "2000 Sample\n"
     ]
    }
   ],
   "source": [
    "mses_nde = []\n",
    "mses_scandal = []\n",
    "mses_carl = []\n",
    "mses_carl_raw = []\n",
    "mses_rolr = []\n",
    "mses_rascal = []\n",
    "p_estimated = np.array([p_estimated_0, p_estimated_1])\n",
    "samples_size = [200,500,1000,2000]\n",
    "x_test = to_categorical(np.array(range(n_nails)), num_classes=n_nails)\n",
    "for n in samples_size:\n",
    "    print('{0} Sample'.format(n))\n",
    "    # NDE - SCANDAL\n",
    "    x, t_xz, theta = draw(n)\n",
    "    nde = make_nde()\n",
    "    nde.fit(theta, x, batch_size=32, epochs=50, verbose=0)\n",
    "    scandal = make_scandal()\n",
    "    scandal.fit([theta, x], [x, t_xz], batch_size=32, epochs=50, verbose=0)\n",
    "    nde_pred = nde.predict([theta_0, theta_1])\n",
    "    scandal_pred = scandal.predict([np.array([[theta_0], [theta_1]]), np.zeros((2, n_nails))])[0]\n",
    "    mse_nde = compute_mse(nde_pred, p_estimated)\n",
    "    mse_scandal = compute_mse(scandal_pred, p_estimated)\n",
    "    # CARL\n",
    "    all_x, all_y = draw_parametrized(n//2)\n",
    "    x_test = to_categorical(np.array(range(n_nails)), num_classes=n_nails)\n",
    "    \n",
    "    carl = KerasRegressor(make_carl, epochs=50, batch_size=256, verbose=0)\n",
    "\n",
    "    carl.fit(all_x,all_y)\n",
    "\n",
    "    carl_calibrated = ClassifierScoreRatio(\n",
    "        CalibratedClassifierScoreCV(carl, cv='prefit', method='histogram', \n",
    "                                    bins=10 if n < 1000 else 20))\n",
    "    carl_calibrated.fit(all_x, all_y.reshape(-1,1))\n",
    "    carl_pred = carl_calibrated.predict(np.hstack([x_test,\n",
    "                                 theta_0 * np.ones((n_nails, 1)), \n",
    "                                 theta_1 * np.ones((n_nails, 1))]))[0][5:-5]\n",
    "    carl_raw_pred = log_r_from_s(carl.predict(np.hstack([x_test,\n",
    "                                 theta_0 * np.ones((n_nails, 1)), \n",
    "                                 theta_1 * np.ones((n_nails, 1))]))[5:-5])\n",
    "    mse_carl = compute_mse_ratio(carl_pred.flatten(), p_estimated[:,5:-5], log=True)\n",
    "    mse_carl_raw = compute_mse_ratio(carl_raw_pred.flatten(), p_estimated[:,5:-5], log=False)\n",
    "    # ROLR - RASCAL\n",
    "    x, thetas, log_r_xz, t_xz_0 = draw_ratio(n, n_thetas=10)\n",
    "    rolr = make_rolr()\n",
    "    rolr.fit([thetas[:, 0], \n",
    "              thetas[:, 1], \n",
    "              x], \n",
    "             np.exp(log_r_xz), \n",
    "             batch_size=32, epochs=50, verbose=0)\n",
    "    rascal = make_rascal()\n",
    "    rascal.fit([thetas[:, 0], \n",
    "                thetas[:, 1], \n",
    "                x], \n",
    "               [np.exp(log_r_xz), \n",
    "                t_xz_0], \n",
    "               batch_size=32, epochs=50, verbose=0)\n",
    "    rolr_pred = rolr.predict([theta_0 * np.ones(n_nails), \n",
    "                           theta_1 * np.ones(n_nails),\n",
    "                           x_test])[5:-5]\n",
    "    rascal_pred = rascal.predict([theta_0 * np.ones(n_nails),\n",
    "                               theta_1 * np.ones(n_nails),\n",
    "                               x_test])[0][5:-5]\n",
    "    mse_rolr = compute_mse_ratio(rolr_pred.flatten(), p_estimated[:, 5:-5], log=True)\n",
    "    mse_rascal = compute_mse_ratio(rascal_pred.flatten(), p_estimated[:, 5:-5], log=True)\n",
    "    mses_nde.append(mse_nde)\n",
    "    mses_rascal.append(mse_rascal)\n",
    "    mses_carl.append(mse_carl)\n",
    "    mses_carl_raw.append(mse_carl_raw)\n",
    "    mses_rolr.append(mse_rolr)\n",
    "    mses_scandal.append(mse_scandal)"
   ]
  },
  {
   "cell_type": "code",
   "execution_count": 62,
   "metadata": {
    "collapsed": true
   },
   "outputs": [],
   "source": [
    "from utils import calculate_height, adjust_margins"
   ]
  },
  {
   "cell_type": "code",
   "execution_count": 63,
   "metadata": {
    "collapsed": true
   },
   "outputs": [],
   "source": [
    "colors     = ['orange', 'darkgreen',  'red', 'mediumblue', '#be96ff', '#CC002E']\n",
    "linestyles = [     ':',        '--',  ':',         '-.',      '-.',      '--']\n",
    "linewidths = [1.5 if ls == ':' else 1.5 for ls in linestyles]\n",
    "markers    = [None] + ['o'] * 5"
   ]
  },
  {
   "cell_type": "code",
   "execution_count": 64,
   "metadata": {
    "collapsed": true
   },
   "outputs": [],
   "source": [
    "mses_nde = np.array(mses_nde)\n",
    "mses_scandal = np.array(mses_scandal)\n",
    "mses_rolr = np.array(mses_rolr)\n",
    "mses_rascal = np.array(mses_rascal)\n",
    "mses_carl = np.array(mses_carl)\n",
    "mses_carl_raw = np.array(mses_carl_raw)"
   ]
  },
  {
   "cell_type": "code",
   "execution_count": 67,
   "metadata": {},
   "outputs": [
    {
     "data": {
      "image/png": "[encoded data removed]",
      "text/plain": [
       "<Figure size 324x312.48 with 1 Axes>"
      ]
     },
     "metadata": {},
     "output_type": "display_data"
    }
   ],
   "source": [
    "fig = plt.figure(figsize=(4.5,calculate_height(1,4.5,extra_top_space=False)))\n",
    "ax = plt.gca()\n",
    "samples_size = [200,500,1000,2000]\n",
    "\n",
    "mses = [mses_nde, mses_scandal, mses_carl_raw, mses_rolr, mses_rascal]\n",
    "labels = ['NDE', 'SCANDAL', 'CARL_RAW', 'ROLR', 'RASCAL']\n",
    "s = 1\n",
    "plt.plot(samples_size, mses[s-1], \n",
    "         ms=4., marker=markers[s],\n",
    "         color=colors[s],\n",
    "         lw=linewidths[s], ls=linestyles[s])\n",
    "plt.plot([], [],\n",
    "         color=colors[s],\n",
    "         lw=linewidths[s], ls=linestyles[s],\n",
    "         label=labels[s-1])\n",
    "\n",
    "s = 2\n",
    "plt.plot(samples_size, mses[s-1],\n",
    "         ms=4., marker=markers[s],\n",
    "         color=colors[s],\n",
    "         lw=linewidths[s], ls=linestyles[s])\n",
    "plt.plot([], [],\n",
    "         color=colors[s],\n",
    "         lw=linewidths[s], ls=linestyles[s],\n",
    "         label=labels[s-1])\n",
    "\n",
    "s = 3\n",
    "plt.plot(samples_size, mses[s-1],\n",
    "         ms=4., marker=markers[s],\n",
    "         color=colors[s],\n",
    "         lw=linewidths[s], ls=linestyles[s])\n",
    "plt.plot([], [],\n",
    "         color=colors[s],\n",
    "         lw=linewidths[s], ls=linestyles[s],\n",
    "         label=labels[s-1])\n",
    "\n",
    "s = 4\n",
    "plt.plot(samples_size, mses[s-1],\n",
    "         ms=4., marker=markers[s],\n",
    "         color=colors[s],\n",
    "         lw=linewidths[s], ls=linestyles[s])\n",
    "plt.plot([], [],\n",
    "         color=colors[s],\n",
    "         lw=linewidths[s], ls=linestyles[s],\n",
    "         label=labels[s-1])\n",
    "\n",
    "s = 5\n",
    "plt.plot(samples_size, mses[s-1],\n",
    "         ms=4., marker=markers[s],\n",
    "         color=colors[s],\n",
    "         lw=linewidths[s], ls=linestyles[s])\n",
    "plt.plot([], [],\n",
    "         color=colors[s],\n",
    "         lw=linewidths[s], ls=linestyles[s],\n",
    "         label=labels[s-1])\n",
    "\n",
    "\n",
    "ax.set_xscale(\"log\", nonposx='clip')\n",
    "plt.xlabel(r\"Training sample size\")\n",
    "plt.ylabel(r'$E_{x\\sim p_1(x)} [(\\log r(x|\\theta_0, \\theta_1) - \\log \\hat{r}(x|\\theta_0, \\theta_1))^2]$')\n",
    "plt.legend(frameon=False)\n",
    "\n",
    "adjust_margins(1,4.5,extra_top_space=False)\n",
    "plt.savefig('plinko_models_comparison_rascal_not1.pdf')"
   ]
  },
  {
   "cell_type": "code",
   "execution_count": null,
   "metadata": {
    "collapsed": true
   },
   "outputs": [],
   "source": []
  },
  {
   "cell_type": "code",
   "execution_count": null,
   "metadata": {
    "collapsed": true
   },
   "outputs": [],
   "source": []
  },
  {
   "cell_type": "code",
   "execution_count": null,
   "metadata": {
    "collapsed": true
   },
   "outputs": [],
   "source": []
  }
 ],
 "metadata": {
  "kernelspec": {
   "display_name": "Python 2",
   "language": "python",
   "name": "python2"
  },
  "language_info": {
   "codemirror_mode": {
    "name": "ipython",
    "version": 2
   },
   "file_extension": ".py",
   "mimetype": "text/x-python",
   "name": "python",
   "nbconvert_exporter": "python",
   "pygments_lexer": "ipython2",
   "version": "2.7.12"
  }
 },
 "nbformat": 4,
 "nbformat_minor": 2
}

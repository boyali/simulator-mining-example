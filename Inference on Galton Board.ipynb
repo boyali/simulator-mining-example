{
 "cells": [
  {
   "cell_type": "code",
   "execution_count": 188,
   "metadata": {},
   "outputs": [],
   "source": [
    "import numpy as np\n",
    "import matplotlib.pyplot as plt\n",
    "%matplotlib inline\n",
    "\n",
    "from galton import galton_rvs, galton_rvs_ratio"
   ]
  },
  {
   "cell_type": "code",
   "execution_count": 63,
   "metadata": {},
   "outputs": [],
   "source": [
    "from galton import n_nails \n",
    "from galton import n_rows\n",
    "theta_0 = -0.8\n",
    "theta_1 = -0.6"
   ]
  },
  {
   "cell_type": "markdown",
   "metadata": {},
   "source": [
    "# Density estimation with histograms"
   ]
  },
  {
   "cell_type": "code",
   "execution_count": 177,
   "metadata": {},
   "outputs": [],
   "source": [
    "samples_0, _, scores_0, _ = galton_rvs(theta_0, n_runs=20000, random_state=1234)\n",
    "p_estimated_0, _ = np.histogram(samples_0, bins=n_nails, range=(0, n_nails), density=True)\n",
    "\n",
    "samples_1, _, scores_1, _ = galton_rvs(theta_1, n_runs=20000, random_state=1234)\n",
    "p_estimated_1, _ = np.histogram(samples_1, bins=n_nails, range=(0, n_nails), density=True)"
   ]
  },
  {
   "cell_type": "code",
   "execution_count": 178,
   "metadata": {},
   "outputs": [
    {
     "data": {
      "image/png": "[encoded data removed]",
      "text/plain": [
       "<Figure size 432x288 with 1 Axes>"
      ]
     },
     "metadata": {},
     "output_type": "display_data"
    }
   ],
   "source": [
    "plt.step(range(len(p_estimated_0)), p_estimated_0,\n",
    "         c='r', lw=1.5,\n",
    "         label=r'$p(x|\\theta_0)$')\n",
    "plt.step(range(len(p_estimated_0)), p_estimated_1,\n",
    "         c='b', lw=1.5, \n",
    "         label=r'$p(x|\\theta_1)$')\n",
    "\n",
    "plt.xlabel(\"x\")\n",
    "plt.ylabel(\"p(x)\")\n",
    "plt.legend()\n",
    "plt.show()"
   ]
  },
  {
   "cell_type": "code",
   "execution_count": 179,
   "metadata": {
    "scrolled": true
   },
   "outputs": [
    {
     "name": "stderr",
     "output_type": "stream",
     "text": [
      "/home/gilles/anaconda3/envs/simulator-mining-example/lib/python3.6/site-packages/ipykernel_launcher.py:1: RuntimeWarning: invalid value encountered in true_divide\n",
      "  \"\"\"Entry point for launching an IPython kernel.\n"
     ]
    },
    {
     "data": {
      "image/png": "[encoded data removed]",
      "text/plain": [
       "<Figure size 432x288 with 1 Axes>"
      ]
     },
     "metadata": {},
     "output_type": "display_data"
    }
   ],
   "source": [
    "plt.step(range(len(p_estimated_0)), np.log(p_estimated_0/p_estimated_1),\n",
    "         c='r', lw=1.5,\n",
    "         label=r'$p(x|\\theta_0)$')\n",
    "plt.scatter(samples, np.array(log_p0) - np.array(log_p1), s=5., c='b')\n",
    "plt.ylabel('log r(x,z)')\n",
    "plt.ylim(-2.,2.)\n",
    "plt.show()"
   ]
  },
  {
   "cell_type": "markdown",
   "metadata": {},
   "source": [
    "# NDE + SCANDAL"
   ]
  },
  {
   "cell_type": "code",
   "execution_count": null,
   "metadata": {},
   "outputs": [],
   "source": [
    "from galton import check_random_state\n",
    "\n",
    "def draw(n_samples, n_thetas=10, random_state=0):\n",
    "    n_traces_per_theta = n_samples // n_thetas\n",
    "    \n",
    "    all_x = []\n",
    "    all_t_xz = []\n",
    "    all_thetas = []\n",
    "    \n",
    "    for k, theta in enumerate(np.linspace(-1.0, -0.4, n_thetas)):\n",
    "        x, log_p_xz, t_xz, _ = galton_rvs(theta, n_runs=n_traces_per_theta, random_state=random_state+k)\n",
    "        all_x.append(x)\n",
    "        all_t_xz.append(t_xz)\n",
    "        all_thetas.append(theta * np.ones(n_traces_per_theta))\n",
    "        \n",
    "    all_x = np.array(all_x).reshape(-1, 1)\n",
    "    all_x = to_categorical(all_x, num_classes=n_nails)\n",
    "    all_t_xz = np.array(all_t_xz).reshape(-1, 1)\n",
    "    all_thetas = np.array(all_thetas).reshape(-1, 1)\n",
    "    \n",
    "    rng = check_random_state(random_state)\n",
    "    choices = rng.choice(len(all_x), len(all_x), replace=False)\n",
    "        \n",
    "    return all_x[choices], all_t_xz[choices], all_thetas[choices]"
   ]
  },
  {
   "cell_type": "code",
   "execution_count": null,
   "metadata": {},
   "outputs": [],
   "source": [
    "x, t_xz, theta = draw(10000)"
   ]
  },
  {
   "cell_type": "code",
   "execution_count": 191,
   "metadata": {},
   "outputs": [],
   "source": [
    "n_features = 1 \n",
    "hidden_size = 10\n",
    "n_outputs = n_nails"
   ]
  },
  {
   "cell_type": "code",
   "execution_count": 192,
   "metadata": {},
   "outputs": [],
   "source": [
    "from keras.optimizers import Adam\n",
    "from keras.layers import Input, Dense, Lambda, dot\n",
    "from keras.models import Model\n",
    "from keras.utils import to_categorical\n",
    "import keras.backend as K\n",
    "\n",
    "def make_nde(lr=0.001):   \n",
    "    theta = Input(shape=(1,))\n",
    "    h = Dense(hidden_size, activation=\"tanh\")(theta)\n",
    "    phat_theta = Dense(n_outputs, activation=\"softmax\")(h)\n",
    "    \n",
    "    model = Model(inputs=[theta], outputs=[phat_theta])\n",
    "    opt = Adam(lr=lr)\n",
    "    model.compile(loss=[\"categorical_crossentropy\"], optimizer=opt)\n",
    "    \n",
    "    return model\n",
    "\n",
    "def make_scandal(lr=0.001):\n",
    "    theta = Input(shape=(1,))\n",
    "    h = Dense(hidden_size, activation=\"tanh\")(theta)\n",
    "    phat_theta = Dense(n_outputs, activation=\"softmax\")(h)\n",
    "    \n",
    "    x = Input(shape=(n_outputs,))\n",
    "    phat_x_theta = dot([x, phat_theta], axes=1) \n",
    "    t_x = Lambda(lambda exp: K.gradients(K.log(exp[0]), [exp[1]])[0], \n",
    "                 output_shape=(n_features,))([phat_x_theta, theta])\n",
    "    \n",
    "    model = Model(inputs=[theta, x], outputs=[phat_theta, t_x])\n",
    "    opt = Adam(lr=lr)\n",
    "    model.compile(loss=[\"categorical_crossentropy\", \"mse\"], optimizer=opt)\n",
    "    \n",
    "    return model"
   ]
  },
  {
   "cell_type": "code",
   "execution_count": 193,
   "metadata": {
    "scrolled": false
   },
   "outputs": [
    {
     "name": "stdout",
     "output_type": "stream",
     "text": [
      "Epoch 1/50\n",
      "20000/20000 [==============================] - 2s 86us/step - loss: 3.0053\n",
      "Epoch 2/50\n",
      "20000/20000 [==============================] - 1s 43us/step - loss: 2.8309\n",
      "Epoch 3/50\n",
      "20000/20000 [==============================] - 1s 45us/step - loss: 2.8205\n",
      "Epoch 4/50\n",
      "20000/20000 [==============================] - 1s 45us/step - loss: 2.8145\n",
      "Epoch 5/50\n",
      "20000/20000 [==============================] - 1s 42us/step - loss: 2.8088\n",
      "Epoch 6/50\n",
      "20000/20000 [==============================] - 1s 43us/step - loss: 2.8036\n",
      "Epoch 7/50\n",
      "20000/20000 [==============================] - 1s 43us/step - loss: 2.7989\n",
      "Epoch 8/50\n",
      "20000/20000 [==============================] - 1s 44us/step - loss: 2.7950\n",
      "Epoch 9/50\n",
      "20000/20000 [==============================] - 1s 43us/step - loss: 2.7922\n",
      "Epoch 10/50\n",
      "20000/20000 [==============================] - 1s 44us/step - loss: 2.7900\n",
      "Epoch 11/50\n",
      "20000/20000 [==============================] - 1s 43us/step - loss: 2.7884\n",
      "Epoch 12/50\n",
      "20000/20000 [==============================] - 1s 44us/step - loss: 2.7875\n",
      "Epoch 13/50\n",
      "20000/20000 [==============================] - 1s 44us/step - loss: 2.7867\n",
      "Epoch 14/50\n",
      "20000/20000 [==============================] - 1s 48us/step - loss: 2.7859\n",
      "Epoch 15/50\n",
      "20000/20000 [==============================] - 1s 45us/step - loss: 2.7857\n",
      "Epoch 16/50\n",
      "20000/20000 [==============================] - 1s 44us/step - loss: 2.7854\n",
      "Epoch 17/50\n",
      "20000/20000 [==============================] - 1s 44us/step - loss: 2.7848\n",
      "Epoch 18/50\n",
      "20000/20000 [==============================] - 1s 43us/step - loss: 2.7848\n",
      "Epoch 19/50\n",
      "20000/20000 [==============================] - 1s 43us/step - loss: 2.7849\n",
      "Epoch 20/50\n",
      "20000/20000 [==============================] - 1s 43us/step - loss: 2.7843\n",
      "Epoch 21/50\n",
      "20000/20000 [==============================] - 1s 45us/step - loss: 2.7846\n",
      "Epoch 22/50\n",
      "20000/20000 [==============================] - 1s 61us/step - loss: 2.7845\n",
      "Epoch 23/50\n",
      "20000/20000 [==============================] - 1s 51us/step - loss: 2.7842\n",
      "Epoch 24/50\n",
      "20000/20000 [==============================] - 1s 53us/step - loss: 2.7844\n",
      "Epoch 25/50\n",
      "20000/20000 [==============================] - 1s 47us/step - loss: 2.7843\n",
      "Epoch 26/50\n",
      "20000/20000 [==============================] - 1s 43us/step - loss: 2.7842\n",
      "Epoch 27/50\n",
      "20000/20000 [==============================] - 1s 43us/step - loss: 2.7844\n",
      "Epoch 28/50\n",
      "20000/20000 [==============================] - 1s 44us/step - loss: 2.7840\n",
      "Epoch 29/50\n",
      "20000/20000 [==============================] - 1s 43us/step - loss: 2.7840\n",
      "Epoch 30/50\n",
      "20000/20000 [==============================] - 1s 44us/step - loss: 2.7840\n",
      "Epoch 31/50\n",
      "20000/20000 [==============================] - 1s 44us/step - loss: 2.7842\n",
      "Epoch 32/50\n",
      "20000/20000 [==============================] - 1s 43us/step - loss: 2.7842\n",
      "Epoch 33/50\n",
      "20000/20000 [==============================] - 1s 47us/step - loss: 2.7838\n",
      "Epoch 34/50\n",
      "20000/20000 [==============================] - 1s 56us/step - loss: 2.7837\n",
      "Epoch 35/50\n",
      "20000/20000 [==============================] - 1s 47us/step - loss: 2.7837\n",
      "Epoch 36/50\n",
      "20000/20000 [==============================] - 1s 44us/step - loss: 2.7839\n",
      "Epoch 37/50\n",
      "20000/20000 [==============================] - 1s 44us/step - loss: 2.7838\n",
      "Epoch 38/50\n",
      "20000/20000 [==============================] - 1s 53us/step - loss: 2.7841\n",
      "Epoch 39/50\n",
      "20000/20000 [==============================] - 1s 45us/step - loss: 2.7835\n",
      "Epoch 40/50\n",
      "20000/20000 [==============================] - 1s 43us/step - loss: 2.7841\n",
      "Epoch 41/50\n",
      "20000/20000 [==============================] - 1s 44us/step - loss: 2.7838\n",
      "Epoch 42/50\n",
      "20000/20000 [==============================] - 1s 44us/step - loss: 2.7838\n",
      "Epoch 43/50\n",
      "20000/20000 [==============================] - 1s 44us/step - loss: 2.7838\n",
      "Epoch 44/50\n",
      "20000/20000 [==============================] - 1s 43us/step - loss: 2.7834\n",
      "Epoch 45/50\n",
      "20000/20000 [==============================] - 1s 44us/step - loss: 2.7837\n",
      "Epoch 46/50\n",
      "20000/20000 [==============================] - 1s 44us/step - loss: 2.7837\n",
      "Epoch 47/50\n",
      "20000/20000 [==============================] - 1s 44us/step - loss: 2.7834\n",
      "Epoch 48/50\n",
      "20000/20000 [==============================] - 1s 44us/step - loss: 2.7837\n",
      "Epoch 49/50\n",
      "20000/20000 [==============================] - 1s 43us/step - loss: 2.7840\n",
      "Epoch 50/50\n",
      "20000/20000 [==============================] - 1s 45us/step - loss: 2.7838\n"
     ]
    },
    {
     "data": {
      "text/plain": [
       "<keras.callbacks.History at 0x7f1283c11860>"
      ]
     },
     "execution_count": 193,
     "metadata": {},
     "output_type": "execute_result"
    }
   ],
   "source": [
    "nde = make_nde()\n",
    "nde.fit(theta, x, batch_size=32, epochs=50)"
   ]
  },
  {
   "cell_type": "code",
   "execution_count": 194,
   "metadata": {
    "scrolled": false
   },
   "outputs": [
    {
     "name": "stdout",
     "output_type": "stream",
     "text": [
      "Epoch 1/50\n",
      "20000/20000 [==============================] - 2s 102us/step - loss: 4.7529 - dense_96_loss: 3.1483 - lambda_84_loss: 1.6046\n",
      "Epoch 2/50\n",
      "20000/20000 [==============================] - 1s 59us/step - loss: 3.9478 - dense_96_loss: 2.8615 - lambda_84_loss: 1.0863\n",
      "Epoch 3/50\n",
      "20000/20000 [==============================] - 1s 59us/step - loss: 3.8393 - dense_96_loss: 2.8034 - lambda_84_loss: 1.0360\n",
      "Epoch 4/50\n",
      "20000/20000 [==============================] - 1s 58us/step - loss: 3.7965 - dense_96_loss: 2.7917 - lambda_84_loss: 1.0048\n",
      "Epoch 5/50\n",
      "20000/20000 [==============================] - 1s 60us/step - loss: 3.7704 - dense_96_loss: 2.7879 - lambda_84_loss: 0.9825\n",
      "Epoch 6/50\n",
      "20000/20000 [==============================] - 1s 58us/step - loss: 3.7538 - dense_96_loss: 2.7859 - lambda_84_loss: 0.9679\n",
      "Epoch 7/50\n",
      "20000/20000 [==============================] - 1s 61us/step - loss: 3.7438 - dense_96_loss: 2.7854 - lambda_84_loss: 0.9584\n",
      "Epoch 8/50\n",
      "20000/20000 [==============================] - 1s 60us/step - loss: 3.7368 - dense_96_loss: 2.7848 - lambda_84_loss: 0.9520\n",
      "Epoch 9/50\n",
      "20000/20000 [==============================] - 1s 59us/step - loss: 3.7339 - dense_96_loss: 2.7841 - lambda_84_loss: 0.9498\n",
      "Epoch 10/50\n",
      "20000/20000 [==============================] - 1s 58us/step - loss: 3.7307 - dense_96_loss: 2.7842 - lambda_84_loss: 0.9465\n",
      "Epoch 11/50\n",
      "20000/20000 [==============================] - 1s 61us/step - loss: 3.7285 - dense_96_loss: 2.7836 - lambda_84_loss: 0.9449\n",
      "Epoch 12/50\n",
      "20000/20000 [==============================] - 1s 59us/step - loss: 3.7271 - dense_96_loss: 2.7839 - lambda_84_loss: 0.9432\n",
      "Epoch 13/50\n",
      "20000/20000 [==============================] - 1s 59us/step - loss: 3.7258 - dense_96_loss: 2.7836 - lambda_84_loss: 0.9422\n",
      "Epoch 14/50\n",
      "20000/20000 [==============================] - 1s 63us/step - loss: 3.7251 - dense_96_loss: 2.7837 - lambda_84_loss: 0.9414\n",
      "Epoch 15/50\n",
      "20000/20000 [==============================] - 1s 60us/step - loss: 3.7249 - dense_96_loss: 2.7837 - lambda_84_loss: 0.9412\n",
      "Epoch 16/50\n",
      "20000/20000 [==============================] - 1s 60us/step - loss: 3.7237 - dense_96_loss: 2.7837 - lambda_84_loss: 0.9400\n",
      "Epoch 17/50\n",
      "20000/20000 [==============================] - 1s 60us/step - loss: 3.7233 - dense_96_loss: 2.7836 - lambda_84_loss: 0.9397\n",
      "Epoch 18/50\n",
      "20000/20000 [==============================] - 1s 59us/step - loss: 3.7224 - dense_96_loss: 2.7834 - lambda_84_loss: 0.9390\n",
      "Epoch 19/50\n",
      "20000/20000 [==============================] - 1s 61us/step - loss: 3.7219 - dense_96_loss: 2.7835 - lambda_84_loss: 0.9384\n",
      "Epoch 20/50\n",
      "20000/20000 [==============================] - 1s 60us/step - loss: 3.7222 - dense_96_loss: 2.7835 - lambda_84_loss: 0.9387\n",
      "Epoch 21/50\n",
      "20000/20000 [==============================] - 1s 59us/step - loss: 3.7220 - dense_96_loss: 2.7836 - lambda_84_loss: 0.9384\n",
      "Epoch 22/50\n",
      "20000/20000 [==============================] - 1s 60us/step - loss: 3.7216 - dense_96_loss: 2.7836 - lambda_84_loss: 0.9381\n",
      "Epoch 23/50\n",
      "20000/20000 [==============================] - 1s 60us/step - loss: 3.7215 - dense_96_loss: 2.7838 - lambda_84_loss: 0.9378\n",
      "Epoch 24/50\n",
      "20000/20000 [==============================] - 1s 60us/step - loss: 3.7210 - dense_96_loss: 2.7837 - lambda_84_loss: 0.9372\n",
      "Epoch 25/50\n",
      "20000/20000 [==============================] - 1s 59us/step - loss: 3.7205 - dense_96_loss: 2.7835 - lambda_84_loss: 0.9371\n",
      "Epoch 26/50\n",
      "20000/20000 [==============================] - 1s 60us/step - loss: 3.7217 - dense_96_loss: 2.7835 - lambda_84_loss: 0.9381\n",
      "Epoch 27/50\n",
      "20000/20000 [==============================] - 1s 61us/step - loss: 3.7214 - dense_96_loss: 2.7836 - lambda_84_loss: 0.9378\n",
      "Epoch 28/50\n",
      "20000/20000 [==============================] - 1s 59us/step - loss: 3.7212 - dense_96_loss: 2.7835 - lambda_84_loss: 0.9377\n",
      "Epoch 29/50\n",
      "20000/20000 [==============================] - 1s 61us/step - loss: 3.7208 - dense_96_loss: 2.7836 - lambda_84_loss: 0.9372\n",
      "Epoch 30/50\n",
      "20000/20000 [==============================] - 1s 61us/step - loss: 3.7208 - dense_96_loss: 2.7837 - lambda_84_loss: 0.9372\n",
      "Epoch 31/50\n",
      "20000/20000 [==============================] - 1s 61us/step - loss: 3.7207 - dense_96_loss: 2.7836 - lambda_84_loss: 0.9371\n",
      "Epoch 32/50\n",
      "20000/20000 [==============================] - 1s 61us/step - loss: 3.7209 - dense_96_loss: 2.7839 - lambda_84_loss: 0.9370\n",
      "Epoch 33/50\n",
      "20000/20000 [==============================] - 1s 61us/step - loss: 3.7203 - dense_96_loss: 2.7838 - lambda_84_loss: 0.9365\n",
      "Epoch 34/50\n",
      "20000/20000 [==============================] - 1s 60us/step - loss: 3.7201 - dense_96_loss: 2.7837 - lambda_84_loss: 0.9364\n",
      "Epoch 35/50\n",
      "20000/20000 [==============================] - 1s 60us/step - loss: 3.7198 - dense_96_loss: 2.7836 - lambda_84_loss: 0.9361\n",
      "Epoch 36/50\n",
      "20000/20000 [==============================] - 1s 60us/step - loss: 3.7201 - dense_96_loss: 2.7835 - lambda_84_loss: 0.9365\n",
      "Epoch 37/50\n",
      "20000/20000 [==============================] - 1s 60us/step - loss: 3.7197 - dense_96_loss: 2.7832 - lambda_84_loss: 0.9364\n",
      "Epoch 38/50\n",
      "20000/20000 [==============================] - 1s 60us/step - loss: 3.7199 - dense_96_loss: 2.7838 - lambda_84_loss: 0.9361\n",
      "Epoch 39/50\n",
      "20000/20000 [==============================] - 1s 61us/step - loss: 3.7197 - dense_96_loss: 2.7833 - lambda_84_loss: 0.9364\n",
      "Epoch 40/50\n",
      "20000/20000 [==============================] - 1s 61us/step - loss: 3.7198 - dense_96_loss: 2.7838 - lambda_84_loss: 0.9360\n",
      "Epoch 41/50\n",
      "20000/20000 [==============================] - 1s 61us/step - loss: 3.7199 - dense_96_loss: 2.7836 - lambda_84_loss: 0.9363\n",
      "Epoch 42/50\n",
      "20000/20000 [==============================] - 1s 62us/step - loss: 3.7197 - dense_96_loss: 2.7835 - lambda_84_loss: 0.9362\n",
      "Epoch 43/50\n",
      "20000/20000 [==============================] - 1s 61us/step - loss: 3.7193 - dense_96_loss: 2.7836 - lambda_84_loss: 0.9357\n",
      "Epoch 44/50\n",
      "20000/20000 [==============================] - 1s 62us/step - loss: 3.7199 - dense_96_loss: 2.7836 - lambda_84_loss: 0.9363\n",
      "Epoch 45/50\n",
      "20000/20000 [==============================] - 1s 62us/step - loss: 3.7195 - dense_96_loss: 2.7832 - lambda_84_loss: 0.9363\n",
      "Epoch 46/50\n",
      "20000/20000 [==============================] - 1s 61us/step - loss: 3.7197 - dense_96_loss: 2.7836 - lambda_84_loss: 0.9361\n",
      "Epoch 47/50\n",
      "20000/20000 [==============================] - 1s 62us/step - loss: 3.7199 - dense_96_loss: 2.7834 - lambda_84_loss: 0.9365\n",
      "Epoch 48/50\n",
      "20000/20000 [==============================] - 1s 62us/step - loss: 3.7202 - dense_96_loss: 2.7836 - lambda_84_loss: 0.9366\n",
      "Epoch 49/50\n",
      "20000/20000 [==============================] - 1s 61us/step - loss: 3.7199 - dense_96_loss: 2.7833 - lambda_84_loss: 0.9366\n",
      "Epoch 50/50\n",
      "20000/20000 [==============================] - 1s 61us/step - loss: 3.7197 - dense_96_loss: 2.7836 - lambda_84_loss: 0.9361\n"
     ]
    },
    {
     "data": {
      "text/plain": [
       "<keras.callbacks.History at 0x7f12845e8b00>"
      ]
     },
     "execution_count": 194,
     "metadata": {},
     "output_type": "execute_result"
    }
   ],
   "source": [
    "scandal = make_scandal()\n",
    "scandal.fit([theta, x], [x, t_xz], batch_size=32, epochs=50)"
   ]
  },
  {
   "cell_type": "code",
   "execution_count": 195,
   "metadata": {},
   "outputs": [
    {
     "data": {
      "image/png": "[encoded data removed]",
      "text/plain": [
       "<Figure size 432x288 with 1 Axes>"
      ]
     },
     "metadata": {},
     "output_type": "display_data"
    }
   ],
   "source": [
    "plt.step(range(n_nails), p_estimated_0, label=\"histogram\")\n",
    "plt.step(range(n_nails), nde.predict([theta_0]).ravel(), label=\"nde\")\n",
    "plt.step(range(n_nails), scandal.predict([np.array([[theta_0]]), np.zeros((1, n_nails))])[0][0], label=\"scandal\")\n",
    "plt.legend()\n",
    "plt.title(r\"$\\theta=%.2f$\" % theta_0)\n",
    "plt.show()"
   ]
  },
  {
   "cell_type": "code",
   "execution_count": 196,
   "metadata": {},
   "outputs": [
    {
     "data": {
      "image/png": "[encoded data removed]",
      "text/plain": [
       "<Figure size 432x288 with 1 Axes>"
      ]
     },
     "metadata": {},
     "output_type": "display_data"
    }
   ],
   "source": [
    "plt.step(range(n_nails), p_estimated_1, label=\"histogram\")\n",
    "plt.step(range(n_nails), nde.predict([theta_1]).ravel(), label=\"nde\")\n",
    "plt.step(range(n_nails), scandal.predict([np.array([[theta_1]]), np.zeros((1, n_nails))])[0][0], label=\"scandal\")\n",
    "plt.legend()\n",
    "plt.title(r\"$\\theta=%.2f$\" % theta_1)\n",
    "plt.show()"
   ]
  },
  {
   "cell_type": "markdown",
   "metadata": {},
   "source": [
    "# CARL"
   ]
  },
  {
   "cell_type": "code",
   "execution_count": null,
   "metadata": {},
   "outputs": [],
   "source": []
  },
  {
   "cell_type": "markdown",
   "metadata": {},
   "source": [
    "# ROLR + RASCAL"
   ]
  },
  {
   "cell_type": "code",
   "execution_count": 436,
   "metadata": {},
   "outputs": [],
   "source": [
    "from galton import check_random_state\n",
    "from itertools import product\n",
    "\n",
    "def draw_ratio(n_samples, n_thetas=10, random_state=0):\n",
    "    grid = list(product(np.linspace(-1.0, -0.4, n_thetas), \n",
    "                        np.linspace(-1.0, -0.4, n_thetas)))\n",
    "    n_traces_per_theta = n_samples // len(grid)\n",
    "    \n",
    "    rng = check_random_state(random_state)\n",
    "    \n",
    "    all_x = []\n",
    "    all_log_r_xz = []\n",
    "    all_thetas = []\n",
    "  \n",
    "    # draw from theta_1\n",
    "    for theta_0, theta_1 in grid:\n",
    "        x, log_p_xz_1, log_p_xz_0, _, _, _ = galton_rvs_ratio(theta_1, theta_0, n_runs=n_traces_per_theta, random_state=rng)\n",
    "        all_x.append(x)\n",
    "        all_log_r_xz.append(log_p_xz_0 - log_p_xz_1)\n",
    "        all_thetas.append(np.tile(np.array([theta_0, theta_1]), (n_traces_per_theta, 1)))\n",
    "        \n",
    "    # reshape\n",
    "    all_x = np.array(all_x).reshape(-1, 1)\n",
    "    all_x = to_categorical(all_x, num_classes=n_nails)\n",
    "    all_log_r_xz = np.array(all_log_r_xz).reshape(-1, 1)\n",
    "    all_thetas = np.vstack(all_thetas)\n",
    "    \n",
    "    choices = rng.choice(len(all_x), len(all_x), replace=False)\n",
    "        \n",
    "    return all_x[choices], all_thetas[choices], all_log_r_xz[choices]"
   ]
  },
  {
   "cell_type": "code",
   "execution_count": 437,
   "metadata": {},
   "outputs": [],
   "source": [
    "x, thetas, log_r_xz = draw_ratio(10000, n_thetas=10)"
   ]
  },
  {
   "cell_type": "code",
   "execution_count": 438,
   "metadata": {},
   "outputs": [],
   "source": [
    "from keras.losses import mean_squared_error\n",
    "\n",
    "def make_rolr(lr=0.001):\n",
    "    thetas = Input(shape=(2,))\n",
    "    h = Dense(hidden_size, activation=\"tanh\")(thetas)\n",
    "    log_rhat_thetas = Dense(n_outputs, activation=\"linear\")(h)\n",
    "    rhat_thetas = Lambda(lambda exp: K.exp(exp))(log_rhat_thetas)\n",
    "    \n",
    "    x = Input(shape=(n_outputs,))\n",
    "    rhat_x_thetas = dot([x, rhat_thetas], axes=1)\n",
    "    \n",
    "    model = Model(inputs=[thetas, x], outputs=[rhat_x_thetas])\n",
    "    opt = Adam(lr=lr)\n",
    "    model.compile(loss=[\"mse\"], optimizer=opt)\n",
    "    \n",
    "    return model\n",
    "\n",
    "def make_rascal(lr=0.001):\n",
    "    \n",
    "    return model"
   ]
  },
  {
   "cell_type": "code",
   "execution_count": 439,
   "metadata": {},
   "outputs": [
    {
     "name": "stdout",
     "output_type": "stream",
     "text": [
      "Epoch 1/50\n",
      "10000/10000 [==============================] - 2s 245us/step - loss: 0.2348\n",
      "Epoch 2/50\n",
      "10000/10000 [==============================] - 0s 48us/step - loss: 0.1864\n",
      "Epoch 3/50\n",
      "10000/10000 [==============================] - 0s 48us/step - loss: 0.1575\n",
      "Epoch 4/50\n",
      "10000/10000 [==============================] - 1s 57us/step - loss: 0.1421\n",
      "Epoch 5/50\n",
      "10000/10000 [==============================] - 1s 88us/step - loss: 0.1341\n",
      "Epoch 6/50\n",
      "10000/10000 [==============================] - 1s 94us/step - loss: 0.1293\n",
      "Epoch 7/50\n",
      "10000/10000 [==============================] - 1s 69us/step - loss: 0.1254\n",
      "Epoch 8/50\n",
      "10000/10000 [==============================] - 1s 70us/step - loss: 0.1236\n",
      "Epoch 9/50\n",
      "10000/10000 [==============================] - 1s 64us/step - loss: 0.1216\n",
      "Epoch 10/50\n",
      "10000/10000 [==============================] - 1s 81us/step - loss: 0.1203\n",
      "Epoch 11/50\n",
      "10000/10000 [==============================] - 1s 85us/step - loss: 0.1194\n",
      "Epoch 12/50\n",
      "10000/10000 [==============================] - 1s 65us/step - loss: 0.1188\n",
      "Epoch 13/50\n",
      "10000/10000 [==============================] - 0s 44us/step - loss: 0.1184\n",
      "Epoch 14/50\n",
      "10000/10000 [==============================] - 0s 43us/step - loss: 0.1176\n",
      "Epoch 15/50\n",
      "10000/10000 [==============================] - 0s 42us/step - loss: 0.1171\n",
      "Epoch 16/50\n",
      "10000/10000 [==============================] - 0s 42us/step - loss: 0.1166\n",
      "Epoch 17/50\n",
      "10000/10000 [==============================] - 0s 42us/step - loss: 0.1160\n",
      "Epoch 18/50\n",
      "10000/10000 [==============================] - 0s 43us/step - loss: 0.1157\n",
      "Epoch 19/50\n",
      "10000/10000 [==============================] - 0s 42us/step - loss: 0.1157\n",
      "Epoch 20/50\n",
      "10000/10000 [==============================] - 1s 54us/step - loss: 0.1152\n",
      "Epoch 21/50\n",
      "10000/10000 [==============================] - 0s 44us/step - loss: 0.1147\n",
      "Epoch 22/50\n",
      "10000/10000 [==============================] - 1s 65us/step - loss: 0.1144\n",
      "Epoch 23/50\n",
      "10000/10000 [==============================] - 0s 47us/step - loss: 0.1144\n",
      "Epoch 24/50\n",
      "10000/10000 [==============================] - 0s 44us/step - loss: 0.1136\n",
      "Epoch 25/50\n",
      "10000/10000 [==============================] - 1s 53us/step - loss: 0.1139\n",
      "Epoch 26/50\n",
      "10000/10000 [==============================] - 1s 54us/step - loss: 0.1133\n",
      "Epoch 27/50\n",
      "10000/10000 [==============================] - 1s 52us/step - loss: 0.1135\n",
      "Epoch 28/50\n",
      "10000/10000 [==============================] - 0s 47us/step - loss: 0.1134\n",
      "Epoch 29/50\n",
      "10000/10000 [==============================] - 0s 44us/step - loss: 0.1132\n",
      "Epoch 30/50\n",
      "10000/10000 [==============================] - 1s 52us/step - loss: 0.1133\n",
      "Epoch 31/50\n",
      "10000/10000 [==============================] - 1s 62us/step - loss: 0.1128\n",
      "Epoch 32/50\n",
      "10000/10000 [==============================] - 1s 71us/step - loss: 0.1126\n",
      "Epoch 33/50\n",
      "10000/10000 [==============================] - 1s 50us/step - loss: 0.1124\n",
      "Epoch 34/50\n",
      "10000/10000 [==============================] - 0s 48us/step - loss: 0.1130\n",
      "Epoch 35/50\n",
      "10000/10000 [==============================] - 0s 48us/step - loss: 0.1126\n",
      "Epoch 36/50\n",
      "10000/10000 [==============================] - 1s 55us/step - loss: 0.1125\n",
      "Epoch 37/50\n",
      "10000/10000 [==============================] - 0s 50us/step - loss: 0.1125\n",
      "Epoch 38/50\n",
      "10000/10000 [==============================] - 1s 57us/step - loss: 0.1125\n",
      "Epoch 39/50\n",
      "10000/10000 [==============================] - 1s 71us/step - loss: 0.1126\n",
      "Epoch 40/50\n",
      "10000/10000 [==============================] - 1s 64us/step - loss: 0.1126\n",
      "Epoch 41/50\n",
      "10000/10000 [==============================] - 1s 75us/step - loss: 0.1123\n",
      "Epoch 42/50\n",
      "10000/10000 [==============================] - 1s 62us/step - loss: 0.1126\n",
      "Epoch 43/50\n",
      "10000/10000 [==============================] - 1s 73us/step - loss: 0.1125\n",
      "Epoch 44/50\n",
      "10000/10000 [==============================] - 1s 73us/step - loss: 0.1123\n",
      "Epoch 45/50\n",
      "10000/10000 [==============================] - 1s 60us/step - loss: 0.1123\n",
      "Epoch 46/50\n",
      "10000/10000 [==============================] - 1s 65us/step - loss: 0.1125\n",
      "Epoch 47/50\n",
      "10000/10000 [==============================] - 1s 62us/step - loss: 0.1125\n",
      "Epoch 48/50\n",
      "10000/10000 [==============================] - 1s 65us/step - loss: 0.1126\n",
      "Epoch 49/50\n",
      "10000/10000 [==============================] - 1s 69us/step - loss: 0.1123\n",
      "Epoch 50/50\n",
      "10000/10000 [==============================] - 1s 77us/step - loss: 0.1126\n"
     ]
    },
    {
     "data": {
      "text/plain": [
       "<keras.callbacks.History at 0x7f127f3c9908>"
      ]
     },
     "execution_count": 439,
     "metadata": {},
     "output_type": "execute_result"
    }
   ],
   "source": [
    "rolr = make_rolr()\n",
    "rolr.fit([thetas, x], np.exp(log_r_xz.reshape(-1,1)), batch_size=32, epochs=50)"
   ]
  },
  {
   "cell_type": "code",
   "execution_count": 440,
   "metadata": {},
   "outputs": [
    {
     "data": {
      "image/png": "[encoded data removed]",
      "text/plain": [
       "<Figure size 432x288 with 1 Axes>"
      ]
     },
     "metadata": {},
     "output_type": "display_data"
    }
   ],
   "source": [
    "r_true = np.exp(np.log(p_estimated_0[5:-5]) - np.log(p_estimated_1[5:-5]))\n",
    "x_test = to_categorical(np.array(range(n_nails)), num_classes=n_nails)\n",
    "r_rolr = rolr.predict([np.tile(np.array([theta_0, theta_1]), (n_nails, 1)), x_test])[5:-5]\n",
    "\n",
    "plt.step(range(5, n_nails-5), r_true, label=\"estimated\")\n",
    "plt.step(range(5, n_nails-5), r_rolr, label=\"rolr\")\n",
    "plt.legend()\n",
    "plt.show()"
   ]
  },
  {
   "cell_type": "markdown",
   "metadata": {},
   "source": [
    "---"
   ]
  },
  {
   "cell_type": "markdown",
   "metadata": {},
   "source": [
    "# Model comparison"
   ]
  }
 ],
 "metadata": {
  "kernelspec": {
   "display_name": "Python 3",
   "language": "python",
   "name": "python3"
  },
  "language_info": {
   "codemirror_mode": {
    "name": "ipython",
    "version": 3
   },
   "file_extension": ".py",
   "mimetype": "text/x-python",
   "name": "python",
   "nbconvert_exporter": "python",
   "pygments_lexer": "ipython3",
   "version": "3.6.5"
  }
 },
 "nbformat": 4,
 "nbformat_minor": 2
}

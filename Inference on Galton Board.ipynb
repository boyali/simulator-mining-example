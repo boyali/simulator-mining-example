{
 "cells": [
  {
   "cell_type": "code",
   "execution_count": 1,
   "metadata": {
    "collapsed": true
   },
   "outputs": [],
   "source": [
    "import numpy as np\n",
    "import matplotlib.pyplot as plt\n",
    "%matplotlib inline\n",
    "\n",
    "from galton import galton_rvs, galton_rvs_ratio"
   ]
  },
  {
   "cell_type": "code",
   "execution_count": 2,
   "metadata": {
    "collapsed": true
   },
   "outputs": [],
   "source": [
    "from galton import n_nails \n",
    "from galton import n_rows\n",
    "theta_0 = -0.8\n",
    "theta_1 = -0.6"
   ]
  },
  {
   "cell_type": "markdown",
   "metadata": {},
   "source": [
    "# Density estimation with histograms"
   ]
  },
  {
   "cell_type": "code",
   "execution_count": 3,
   "metadata": {
    "collapsed": true
   },
   "outputs": [],
   "source": [
    "samples_0, _, scores_0, _ = galton_rvs(theta_0, n_runs=20000, random_state=1234)\n",
    "p_estimated_0, _ = np.histogram(samples_0, bins=n_nails, range=(0, n_nails), density=True)\n",
    "\n",
    "samples_1, _, scores_1, _ = galton_rvs(theta_1, n_runs=20000, random_state=1234)\n",
    "p_estimated_1, _ = np.histogram(samples_1, bins=n_nails, range=(0, n_nails), density=True)"
   ]
  },
  {
   "cell_type": "code",
   "execution_count": 4,
   "metadata": {},
   "outputs": [
    {
     "data": {
      "image/png": "[encoded data removed]",
      "text/plain": [
       "<Figure size 432x288 with 1 Axes>"
      ]
     },
     "metadata": {},
     "output_type": "display_data"
    }
   ],
   "source": [
    "plt.step(range(len(p_estimated_0)), p_estimated_0,\n",
    "         c='r', lw=1.5,\n",
    "         label=r'$p(x|\\theta_0)$')\n",
    "plt.step(range(len(p_estimated_0)), p_estimated_1,\n",
    "         c='b', lw=1.5, \n",
    "         label=r'$p(x|\\theta_1)$')\n",
    "\n",
    "plt.xlabel(\"x\")\n",
    "plt.ylabel(\"p(x)\")\n",
    "plt.legend()\n",
    "plt.show()"
   ]
  },
  {
   "cell_type": "markdown",
   "metadata": {},
   "source": [
    "# NDE + SCANDAL"
   ]
  },
  {
   "cell_type": "code",
   "execution_count": 10,
   "metadata": {},
   "outputs": [
    {
     "name": "stderr",
     "output_type": "stream",
     "text": [
      "Using TensorFlow backend.\n",
      "/usr/local/lib/python2.7/dist-packages/h5py/__init__.py:34: FutureWarning: Conversion of the second argument of issubdtype from `float` to `np.floating` is deprecated. In future, it will be treated as `np.float64 == np.dtype(float).type`.\n",
      "  from ._conv import register_converters as _register_converters\n"
     ]
    }
   ],
   "source": [
    "from galton import check_random_state\n",
    "\n",
    "def draw(n_samples, n_thetas=10, random_state=0):\n",
    "    n_traces_per_theta = n_samples // n_thetas\n",
    "    \n",
    "    all_x = []\n",
    "    all_t_xz = []\n",
    "    all_thetas = []\n",
    "    \n",
    "    for k, theta in enumerate(np.linspace(-1.0, -0.4, n_thetas)):\n",
    "        x, log_p_xz, t_xz, _ = galton_rvs(theta, n_runs=n_traces_per_theta, random_state=random_state+k)\n",
    "        all_x.append(x)\n",
    "        all_t_xz.append(t_xz)\n",
    "        all_thetas.append(theta * np.ones(n_traces_per_theta))\n",
    "        \n",
    "    all_x = np.array(all_x).reshape(-1, 1)\n",
    "    all_x = to_categorical(all_x, num_classes=n_nails)\n",
    "    all_t_xz = np.array(all_t_xz).reshape(-1, 1)\n",
    "    all_thetas = np.array(all_thetas).reshape(-1, 1)\n",
    "    \n",
    "    rng = check_random_state(random_state)\n",
    "    choices = rng.choice(len(all_x), len(all_x), replace=False)\n",
    "        \n",
    "    return all_x[choices], all_t_xz[choices], all_thetas[choices]"
   ]
  },
  {
   "cell_type": "code",
   "execution_count": 11,
   "metadata": {},
   "outputs": [],
   "source": [
    "x, t_xz, theta = draw(10000)"
   ]
  },
  {
   "cell_type": "code",
   "execution_count": 21,
   "metadata": {
    "collapsed": true
   },
   "outputs": [],
   "source": [
    "n_features = 1 \n",
    "hidden_size = 10\n",
    "n_outputs = n_nails"
   ]
  },
  {
   "cell_type": "code",
   "execution_count": 18,
   "metadata": {
    "collapsed": true
   },
   "outputs": [],
   "source": [
    "from keras.optimizers import Adam\n",
    "from keras.layers import Input, Dense, Lambda, dot\n",
    "from keras.models import Model\n",
    "from keras.utils import to_categorical\n",
    "import keras.backend as K\n",
    "\n",
    "def make_nde(lr=0.001):   \n",
    "    theta = Input(shape=(1,))\n",
    "    h = Dense(hidden_size, activation=\"tanh\")(theta)\n",
    "    phat_theta = Dense(n_outputs, activation=\"softmax\")(h)\n",
    "    \n",
    "    model = Model(inputs=[theta], outputs=[phat_theta])\n",
    "    opt = Adam(lr=lr)\n",
    "    model.compile(loss=[\"categorical_crossentropy\"], optimizer=opt)\n",
    "    \n",
    "    return model\n",
    "\n",
    "def make_scandal(lr=0.001):\n",
    "    theta = Input(shape=(1,))\n",
    "    h = Dense(hidden_size, activation=\"tanh\")(theta)\n",
    "    phat_theta = Dense(n_outputs, activation=\"softmax\")(h)\n",
    "    \n",
    "    x = Input(shape=(n_outputs,))\n",
    "    phat_x_theta = dot([x, phat_theta], axes=1) \n",
    "    t_x = Lambda(lambda exp: K.gradients(K.log(exp[0]), [exp[1]])[0], \n",
    "                 output_shape=(n_features,))([phat_x_theta, theta])\n",
    "    \n",
    "    model = Model(inputs=[theta, x], outputs=[phat_theta, t_x])\n",
    "    opt = Adam(lr=lr)\n",
    "    model.compile(loss=[\"categorical_crossentropy\", \"mse\"], optimizer=opt)\n",
    "    \n",
    "    return model"
   ]
  },
  {
   "cell_type": "code",
   "execution_count": 302,
   "metadata": {
    "scrolled": true
   },
   "outputs": [
    {
     "name": "stdout",
     "output_type": "stream",
     "text": [
      "Epoch 1/50\n",
      "10000/10000 [==============================] - 3s - loss: 3.0863     \n",
      "Epoch 2/50\n",
      "10000/10000 [==============================] - 1s - loss: 2.8576     \n",
      "Epoch 3/50\n",
      "10000/10000 [==============================] - 1s - loss: 2.8333     \n",
      "Epoch 4/50\n",
      "10000/10000 [==============================] - 1s - loss: 2.8266     \n",
      "Epoch 5/50\n",
      "10000/10000 [==============================] - 1s - loss: 2.8244     \n",
      "Epoch 6/50\n",
      "10000/10000 [==============================] - 0s - loss: 2.8227     \n",
      "Epoch 7/50\n",
      "10000/10000 [==============================] - 1s - loss: 2.8218     \n",
      "Epoch 8/50\n",
      "10000/10000 [==============================] - 1s - loss: 2.8210     \n",
      "Epoch 9/50\n",
      "10000/10000 [==============================] - 1s - loss: 2.8204     \n",
      "Epoch 10/50\n",
      "10000/10000 [==============================] - 1s - loss: 2.8207     \n",
      "Epoch 11/50\n",
      "10000/10000 [==============================] - 1s - loss: 2.8202     \n",
      "Epoch 12/50\n",
      "10000/10000 [==============================] - 1s - loss: 2.8200     \n",
      "Epoch 13/50\n",
      "10000/10000 [==============================] - 0s - loss: 2.8199     \n",
      "Epoch 14/50\n",
      "10000/10000 [==============================] - 1s - loss: 2.8197     \n",
      "Epoch 15/50\n",
      "10000/10000 [==============================] - 1s - loss: 2.8198     \n",
      "Epoch 16/50\n",
      "10000/10000 [==============================] - 1s - loss: 2.8195     \n",
      "Epoch 17/50\n",
      "10000/10000 [==============================] - 1s - loss: 2.8195     \n",
      "Epoch 18/50\n",
      "10000/10000 [==============================] - 1s - loss: 2.8194     \n",
      "Epoch 19/50\n",
      "10000/10000 [==============================] - 1s - loss: 2.8194     \n",
      "Epoch 20/50\n",
      "10000/10000 [==============================] - 1s - loss: 2.8193     \n",
      "Epoch 21/50\n",
      "10000/10000 [==============================] - 1s - loss: 2.8193     \n",
      "Epoch 22/50\n",
      "10000/10000 [==============================] - 1s - loss: 2.8191     \n",
      "Epoch 23/50\n",
      "10000/10000 [==============================] - 1s - loss: 2.8193     \n",
      "Epoch 24/50\n",
      "10000/10000 [==============================] - 1s - loss: 2.8187     \n",
      "Epoch 25/50\n",
      "10000/10000 [==============================] - 1s - loss: 2.8192     \n",
      "Epoch 26/50\n",
      "10000/10000 [==============================] - 1s - loss: 2.8188     \n",
      "Epoch 27/50\n",
      "10000/10000 [==============================] - 1s - loss: 2.8192     \n",
      "Epoch 28/50\n",
      "10000/10000 [==============================] - 1s - loss: 2.8193     \n",
      "Epoch 29/50\n",
      "10000/10000 [==============================] - 1s - loss: 2.8189     \n",
      "Epoch 30/50\n",
      "10000/10000 [==============================] - 1s - loss: 2.8190     \n",
      "Epoch 31/50\n",
      "10000/10000 [==============================] - 1s - loss: 2.8188     \n",
      "Epoch 32/50\n",
      "10000/10000 [==============================] - 1s - loss: 2.8188     \n",
      "Epoch 33/50\n",
      "10000/10000 [==============================] - 1s - loss: 2.8189     \n",
      "Epoch 34/50\n",
      "10000/10000 [==============================] - 1s - loss: 2.8188     \n",
      "Epoch 35/50\n",
      "10000/10000 [==============================] - 1s - loss: 2.8186     \n",
      "Epoch 36/50\n",
      "10000/10000 [==============================] - 1s - loss: 2.8193     \n",
      "Epoch 37/50\n",
      "10000/10000 [==============================] - 1s - loss: 2.8187     \n",
      "Epoch 38/50\n",
      "10000/10000 [==============================] - 1s - loss: 2.8187     \n",
      "Epoch 39/50\n",
      "10000/10000 [==============================] - 1s - loss: 2.8187     \n",
      "Epoch 40/50\n",
      "10000/10000 [==============================] - 1s - loss: 2.8187     \n",
      "Epoch 41/50\n",
      "10000/10000 [==============================] - 1s - loss: 2.8192     \n",
      "Epoch 42/50\n",
      "10000/10000 [==============================] - 1s - loss: 2.8189     \n",
      "Epoch 43/50\n",
      "10000/10000 [==============================] - 1s - loss: 2.8190     \n",
      "Epoch 44/50\n",
      "10000/10000 [==============================] - 1s - loss: 2.8186     \n",
      "Epoch 45/50\n",
      "10000/10000 [==============================] - 1s - loss: 2.8186     \n",
      "Epoch 46/50\n",
      "10000/10000 [==============================] - 1s - loss: 2.8183     \n",
      "Epoch 47/50\n",
      "10000/10000 [==============================] - 1s - loss: 2.8190     \n",
      "Epoch 48/50\n",
      "10000/10000 [==============================] - 1s - loss: 2.8190     \n",
      "Epoch 49/50\n",
      "10000/10000 [==============================] - 1s - loss: 2.8186     \n",
      "Epoch 50/50\n",
      "10000/10000 [==============================] - 1s - loss: 2.8187     \n"
     ]
    },
    {
     "data": {
      "text/plain": [
       "<keras.callbacks.History at 0x7f8b9f362f10>"
      ]
     },
     "execution_count": 302,
     "metadata": {},
     "output_type": "execute_result"
    }
   ],
   "source": [
    "nde = make_nde()\n",
    "nde.fit(theta, x, batch_size=32, epochs=50)"
   ]
  },
  {
   "cell_type": "code",
   "execution_count": 303,
   "metadata": {
    "scrolled": true
   },
   "outputs": [
    {
     "name": "stdout",
     "output_type": "stream",
     "text": [
      "Epoch 1/50\n",
      "10000/10000 [==============================] - 3s - loss: 5.9164 - dense_552_loss: 3.2231 - lambda_304_loss: 2.6933     \n",
      "Epoch 2/50\n",
      "10000/10000 [==============================] - 1s - loss: 5.5983 - dense_552_loss: 2.9133 - lambda_304_loss: 2.6851     \n",
      "Epoch 3/50\n",
      "10000/10000 [==============================] - 1s - loss: 5.5211 - dense_552_loss: 2.8434 - lambda_304_loss: 2.6777     \n",
      "Epoch 4/50\n",
      "10000/10000 [==============================] - 1s - loss: 5.5047 - dense_552_loss: 2.8295 - lambda_304_loss: 2.6752     \n",
      "Epoch 5/50\n",
      "10000/10000 [==============================] - 1s - loss: 5.4974 - dense_552_loss: 2.8251 - lambda_304_loss: 2.6724     \n",
      "Epoch 6/50\n",
      "10000/10000 [==============================] - 1s - loss: 5.4936 - dense_552_loss: 2.8229 - lambda_304_loss: 2.6707     \n",
      "Epoch 7/50\n",
      "10000/10000 [==============================] - 1s - loss: 5.4913 - dense_552_loss: 2.8220 - lambda_304_loss: 2.6693     \n",
      "Epoch 8/50\n",
      "10000/10000 [==============================] - 1s - loss: 5.4890 - dense_552_loss: 2.8207 - lambda_304_loss: 2.6683     \n",
      "Epoch 9/50\n",
      "10000/10000 [==============================] - 1s - loss: 5.4882 - dense_552_loss: 2.8208 - lambda_304_loss: 2.6673     \n",
      "Epoch 10/50\n",
      "10000/10000 [==============================] - 1s - loss: 5.4868 - dense_552_loss: 2.8200 - lambda_304_loss: 2.6669     \n",
      "Epoch 11/50\n",
      "10000/10000 [==============================] - 1s - loss: 5.4858 - dense_552_loss: 2.8193 - lambda_304_loss: 2.6665     \n",
      "Epoch 12/50\n",
      "10000/10000 [==============================] - 1s - loss: 5.4851 - dense_552_loss: 2.8197 - lambda_304_loss: 2.6653     \n",
      "Epoch 13/50\n",
      "10000/10000 [==============================] - 1s - loss: 5.4842 - dense_552_loss: 2.8195 - lambda_304_loss: 2.6647     \n",
      "Epoch 14/50\n",
      "10000/10000 [==============================] - 1s - loss: 5.4840 - dense_552_loss: 2.8192 - lambda_304_loss: 2.6649     \n",
      "Epoch 15/50\n",
      "10000/10000 [==============================] - 1s - loss: 5.4830 - dense_552_loss: 2.8186 - lambda_304_loss: 2.6643     \n",
      "Epoch 16/50\n",
      "10000/10000 [==============================] - 1s - loss: 5.4831 - dense_552_loss: 2.8190 - lambda_304_loss: 2.6641     \n",
      "Epoch 17/50\n",
      "10000/10000 [==============================] - 1s - loss: 5.4826 - dense_552_loss: 2.8191 - lambda_304_loss: 2.6635     \n",
      "Epoch 18/50\n",
      "10000/10000 [==============================] - 1s - loss: 5.4822 - dense_552_loss: 2.8189 - lambda_304_loss: 2.6633     \n",
      "Epoch 19/50\n",
      "10000/10000 [==============================] - 1s - loss: 5.4818 - dense_552_loss: 2.8187 - lambda_304_loss: 2.6630     \n",
      "Epoch 20/50\n",
      "10000/10000 [==============================] - 1s - loss: 5.4819 - dense_552_loss: 2.8190 - lambda_304_loss: 2.6629     \n",
      "Epoch 21/50\n",
      "10000/10000 [==============================] - 1s - loss: 5.4814 - dense_552_loss: 2.8185 - lambda_304_loss: 2.6629     \n",
      "Epoch 22/50\n",
      "10000/10000 [==============================] - 1s - loss: 5.4815 - dense_552_loss: 2.8187 - lambda_304_loss: 2.6628     \n",
      "Epoch 23/50\n",
      "10000/10000 [==============================] - 1s - loss: 5.4813 - dense_552_loss: 2.8185 - lambda_304_loss: 2.6628     \n",
      "Epoch 24/50\n",
      "10000/10000 [==============================] - 1s - loss: 5.4810 - dense_552_loss: 2.8186 - lambda_304_loss: 2.6624     \n",
      "Epoch 25/50\n",
      "10000/10000 [==============================] - 1s - loss: 5.4814 - dense_552_loss: 2.8187 - lambda_304_loss: 2.6627     \n",
      "Epoch 26/50\n",
      "10000/10000 [==============================] - 1s - loss: 5.4811 - dense_552_loss: 2.8187 - lambda_304_loss: 2.6624     \n",
      "Epoch 27/50\n",
      "10000/10000 [==============================] - 1s - loss: 5.4810 - dense_552_loss: 2.8186 - lambda_304_loss: 2.6624     \n",
      "Epoch 28/50\n",
      "10000/10000 [==============================] - 1s - loss: 5.4807 - dense_552_loss: 2.8183 - lambda_304_loss: 2.6624     \n",
      "Epoch 29/50\n",
      "10000/10000 [==============================] - 1s - loss: 5.4807 - dense_552_loss: 2.8185 - lambda_304_loss: 2.6622     \n",
      "Epoch 30/50\n",
      "10000/10000 [==============================] - 1s - loss: 5.4806 - dense_552_loss: 2.8185 - lambda_304_loss: 2.6621     \n",
      "Epoch 31/50\n",
      "10000/10000 [==============================] - 1s - loss: 5.4805 - dense_552_loss: 2.8186 - lambda_304_loss: 2.6620     \n",
      "Epoch 32/50\n",
      "10000/10000 [==============================] - 1s - loss: 5.4807 - dense_552_loss: 2.8186 - lambda_304_loss: 2.6622     \n",
      "Epoch 33/50\n",
      "10000/10000 [==============================] - 1s - loss: 5.4804 - dense_552_loss: 2.8186 - lambda_304_loss: 2.6618     \n",
      "Epoch 34/50\n",
      "10000/10000 [==============================] - 1s - loss: 5.4805 - dense_552_loss: 2.8188 - lambda_304_loss: 2.6618     \n",
      "Epoch 35/50\n",
      "10000/10000 [==============================] - 1s - loss: 5.4806 - dense_552_loss: 2.8188 - lambda_304_loss: 2.6618     \n",
      "Epoch 36/50\n",
      "10000/10000 [==============================] - 1s - loss: 5.4801 - dense_552_loss: 2.8184 - lambda_304_loss: 2.6617     \n",
      "Epoch 37/50\n",
      "10000/10000 [==============================] - 1s - loss: 5.4806 - dense_552_loss: 2.8187 - lambda_304_loss: 2.6619     \n",
      "Epoch 38/50\n",
      "10000/10000 [==============================] - 1s - loss: 5.4805 - dense_552_loss: 2.8186 - lambda_304_loss: 2.6619     \n",
      "Epoch 39/50\n",
      "10000/10000 [==============================] - 1s - loss: 5.4805 - dense_552_loss: 2.8187 - lambda_304_loss: 2.6618     \n",
      "Epoch 40/50\n",
      "10000/10000 [==============================] - 1s - loss: 5.4803 - dense_552_loss: 2.8185 - lambda_304_loss: 2.6618     \n",
      "Epoch 41/50\n",
      "10000/10000 [==============================] - 1s - loss: 5.4804 - dense_552_loss: 2.8185 - lambda_304_loss: 2.6619     \n",
      "Epoch 42/50\n",
      "10000/10000 [==============================] - 1s - loss: 5.4799 - dense_552_loss: 2.8183 - lambda_304_loss: 2.6617     \n",
      "Epoch 43/50\n",
      "10000/10000 [==============================] - 1s - loss: 5.4800 - dense_552_loss: 2.8183 - lambda_304_loss: 2.6617     \n",
      "Epoch 44/50\n",
      "10000/10000 [==============================] - 1s - loss: 5.4804 - dense_552_loss: 2.8186 - lambda_304_loss: 2.6618     \n",
      "Epoch 45/50\n",
      "10000/10000 [==============================] - 1s - loss: 5.4802 - dense_552_loss: 2.8186 - lambda_304_loss: 2.6616     \n",
      "Epoch 46/50\n",
      "10000/10000 [==============================] - 1s - loss: 5.4799 - dense_552_loss: 2.8183 - lambda_304_loss: 2.6616     \n",
      "Epoch 47/50\n",
      "10000/10000 [==============================] - 1s - loss: 5.4800 - dense_552_loss: 2.8184 - lambda_304_loss: 2.6617     \n",
      "Epoch 48/50\n",
      "10000/10000 [==============================] - 1s - loss: 5.4802 - dense_552_loss: 2.8183 - lambda_304_loss: 2.6618     \n",
      "Epoch 49/50\n",
      "10000/10000 [==============================] - 1s - loss: 5.4800 - dense_552_loss: 2.8182 - lambda_304_loss: 2.6617     \n",
      "Epoch 50/50\n",
      "10000/10000 [==============================] - 1s - loss: 5.4800 - dense_552_loss: 2.8184 - lambda_304_loss: 2.6616     \n"
     ]
    },
    {
     "data": {
      "text/plain": [
       "<keras.callbacks.History at 0x7f8b984e6850>"
      ]
     },
     "execution_count": 303,
     "metadata": {},
     "output_type": "execute_result"
    }
   ],
   "source": [
    "scandal = make_scandal()\n",
    "scandal.fit([theta, x], [x, t_xz], batch_size=32, epochs=50)"
   ]
  },
  {
   "cell_type": "code",
   "execution_count": 305,
   "metadata": {},
   "outputs": [
    {
     "data": {
      "image/png": "[encoded data removed]",
      "text/plain": [
       "<Figure size 432x288 with 1 Axes>"
      ]
     },
     "metadata": {},
     "output_type": "display_data"
    }
   ],
   "source": [
    "plt.step(range(n_nails), p_estimated_0, label=\"histogram\")\n",
    "plt.step(range(n_nails), nde.predict(np.array([theta_0])).ravel(), label=\"nde\")\n",
    "plt.step(range(n_nails), scandal.predict([np.array([[theta_0]]), np.zeros((1, n_nails))])[0][0], label=\"scandal\")\n",
    "plt.legend()\n",
    "plt.title(r\"$\\theta=%.2f$\" % theta_0)\n",
    "plt.show()"
   ]
  },
  {
   "cell_type": "code",
   "execution_count": 307,
   "metadata": {},
   "outputs": [
    {
     "data": {
      "image/png": "[encoded data removed]",
      "text/plain": [
       "<Figure size 432x288 with 1 Axes>"
      ]
     },
     "metadata": {},
     "output_type": "display_data"
    }
   ],
   "source": [
    "plt.step(range(n_nails), p_estimated_1, label=\"histogram\")\n",
    "plt.step(range(n_nails), nde.predict(np.array([theta_1])).ravel(), label=\"nde\")\n",
    "plt.step(range(n_nails), scandal.predict([np.array([[theta_1]]), np.zeros((1, n_nails))])[0][0], label=\"scandal\")\n",
    "plt.legend()\n",
    "plt.title(r\"$\\theta=%.2f$\" % theta_1)\n",
    "plt.show()"
   ]
  },
  {
   "cell_type": "markdown",
   "metadata": {},
   "source": [
    "# CARL"
   ]
  },
  {
   "cell_type": "code",
   "execution_count": 257,
   "metadata": {},
   "outputs": [],
   "source": [
    "from carl.ratios import ClassifierRatio\n",
    "from carl.learning import CalibratedClassifierCV\n",
    "from carl.learning import as_classifier\n",
    "from sklearn.pipeline import make_pipeline\n",
    "from sklearn.preprocessing import StandardScaler\n",
    "from sklearn.model_selection import StratifiedShuffleSplit\n",
    "from sklearn.ensemble import ExtraTreesClassifier\n",
    "from sklearn.ensemble import GradientBoostingClassifier\n",
    "from keras.wrappers.scikit_learn import KerasRegressor\n",
    "from carl.ratios import ClassifierScoreRatio\n",
    "from carl.learning import CalibratedClassifierScoreCV"
   ]
  },
  {
   "cell_type": "code",
   "execution_count": 258,
   "metadata": {
    "collapsed": true
   },
   "outputs": [],
   "source": [
    "def make_carl(lr=0.001):\n",
    "    inputs = Input(shape=(2 + n_outputs, )) \n",
    "    thetas = Lambda(lambda x: x[:,-2:], output_shape=(2,))(inputs)\n",
    "    x = Lambda(lambda x: x[:,:-2], output_shape=(n_outputs,))(inputs)\n",
    "    h = Dense(hidden_size, activation=\"tanh\")(thetas)\n",
    "    shat_thetas = Dense(n_outputs, activation=\"sigmoid\")(h)\n",
    "\n",
    "    shat_x_thetas = dot([x, shat_thetas], axes=1)\n",
    "    \n",
    "    model = Model(inputs=[inputs], outputs=[shat_x_thetas])\n",
    "    opt = Adam(lr=lr)\n",
    "    model.compile(loss=[\"binary_crossentropy\"], optimizer=opt)\n",
    "    return model\n"
   ]
  },
  {
   "cell_type": "code",
   "execution_count": 209,
   "metadata": {
    "collapsed": true
   },
   "outputs": [],
   "source": [
    "from galton import check_random_state\n",
    "\n",
    "def draw_parametrized(n_samples, n_thetas=10, random_state=0):\n",
    "    n_traces_per_theta = n_samples // n_thetas\n",
    "    \n",
    "    all_x = []\n",
    "    all_theta = []\n",
    "    all_y = []\n",
    "    for k, theta in enumerate(np.linspace(-1.0, -0.4, n_thetas)):\n",
    "        x_0, _, _, _ = galton_rvs(theta, n_runs=n_traces_per_theta, random_state=random_state+k)\n",
    "        x_1, _, _, _ = galton_rvs(theta_1, n_runs=n_traces_per_theta, random_state=random_state+k)\n",
    "        all_x += x_0\n",
    "        all_x += x_1\n",
    "        all_theta += [[theta, theta_1]] * (n_traces_per_theta * 2)\n",
    "        all_y += [0] * len(x_0)\n",
    "        all_y += [1] * len(x_1)\n",
    "    all_x = np.array(all_x).reshape(-1, 1)\n",
    "    all_x = to_categorical(all_x, num_classes=n_nails)\n",
    "    all_theta = np.array(all_theta)\n",
    "    all_x = np.hstack([all_x, all_theta])\n",
    "    all_y = np.array(all_y)\n",
    "    rng = check_random_state(random_state)\n",
    "    choices = rng.choice(len(all_x), len(all_x), replace=False)\n",
    "        \n",
    "    return all_x[choices], all_y[choices]"
   ]
  },
  {
   "cell_type": "code",
   "execution_count": 285,
   "metadata": {},
   "outputs": [],
   "source": [
    "all_x, all_y = draw_parametrized(5000)"
   ]
  },
  {
   "cell_type": "code",
   "execution_count": 286,
   "metadata": {},
   "outputs": [
    {
     "data": {
      "text/plain": [
       "ClassifierScoreRatio(base_estimator=CalibratedClassifierScoreCV(base_estimator=<keras.wrappers.scikit_learn.KerasRegressor object at 0x7f8c28d38e50>,\n",
       "              bins='auto', cv='prefit', independent_binning=True,\n",
       "              interpolation=None, method='isotonic', variable_width=False),\n",
       "           prefit=None, random_state=None)"
      ]
     },
     "execution_count": 286,
     "metadata": {},
     "output_type": "execute_result"
    }
   ],
   "source": [
    "carl = KerasRegressor(make_carl, epochs=50, batch_size=32, verbose=0)\n",
    "\n",
    "carl.fit(all_x,all_y)\n",
    "\n",
    "carl_calibrated = ClassifierScoreRatio(\n",
    "    CalibratedClassifierScoreCV(carl, cv='prefit', method='isotonic'))\n",
    "carl_calibrated.fit(all_x, all_y.reshape(-1,1))"
   ]
  },
  {
   "cell_type": "code",
   "execution_count": 287,
   "metadata": {},
   "outputs": [
    {
     "data": {
      "image/png": "[encoded data removed]",
      "text/plain": [
       "<Figure size 432x288 with 1 Axes>"
      ]
     },
     "metadata": {},
     "output_type": "display_data"
    }
   ],
   "source": [
    "r_true = np.log(p_estimated_0[5:-5]) - np.log(p_estimated_1[5:-5])\n",
    "\n",
    "x_test = to_categorical(np.array(range(n_nails)), num_classes=n_nails)\n",
    "r_carl = np.log(carl_calibrated.predict(np.hstack([x_test,\n",
    "                                 theta_0 * np.ones((n_nails, 1)), \n",
    "                                 theta_1 * np.ones((n_nails, 1))]))[0][5:-5])\n",
    "\n",
    "\n",
    "plt.step(range(5, n_nails-5), r_true, label=\"estimated\")\n",
    "plt.step(range(5, n_nails-5), r_carl, label=\"carl\")\n",
    "plt.legend()\n",
    "plt.show()\n"
   ]
  },
  {
   "cell_type": "markdown",
   "metadata": {},
   "source": [
    "# ROLR + RASCAL"
   ]
  },
  {
   "cell_type": "code",
   "execution_count": 13,
   "metadata": {
    "collapsed": true
   },
   "outputs": [],
   "source": [
    "from galton import check_random_state\n",
    "from itertools import product\n",
    "\n",
    "def draw_ratio(n_samples, n_thetas=10, random_state=0):\n",
    "    grid = list(product(np.linspace(-1.0, -0.4, n_thetas), \n",
    "                        np.linspace(-1.0, -0.4, n_thetas)))\n",
    "    n_traces_per_theta = n_samples // len(grid)\n",
    "    \n",
    "    rng = check_random_state(random_state)\n",
    "    \n",
    "    all_x = []\n",
    "    all_log_r_xz = []\n",
    "    all_t_xz_0 = []\n",
    "    all_thetas = []\n",
    "\n",
    "    # draw from theta_1\n",
    "    for theta_0, theta_1 in grid:\n",
    "        x, log_p_xz_1, log_p_xz_0, _, t_xz_0, _ = galton_rvs_ratio(theta_1, theta_0, n_runs=n_traces_per_theta, random_state=rng)\n",
    "        all_x.append(x)\n",
    "        all_log_r_xz.append(log_p_xz_0 - log_p_xz_1)\n",
    "        all_t_xz_0.append(t_xz_0)\n",
    "        all_thetas.append(np.tile(np.array([theta_0, theta_1]), (n_traces_per_theta, 1)))\n",
    "        \n",
    "    # reshape\n",
    "    all_x = np.array(all_x).reshape(-1, 1)\n",
    "    all_x = to_categorical(all_x, num_classes=n_nails)\n",
    "    all_log_r_xz = np.array(all_log_r_xz).reshape(-1, 1)\n",
    "    all_t_xz_0 = np.array(all_t_xz_0).reshape(-1, 1)\n",
    "    all_thetas = np.vstack(all_thetas)\n",
    "    \n",
    "    choices = rng.choice(len(all_x), len(all_x), replace=False)\n",
    "        \n",
    "    return all_x[choices], all_thetas[choices], all_log_r_xz[choices], all_t_xz_0[choices]"
   ]
  },
  {
   "cell_type": "code",
   "execution_count": 14,
   "metadata": {},
   "outputs": [],
   "source": [
    "x, thetas, log_r_xz, t_xz_0 = draw_ratio(10000, n_thetas=10)"
   ]
  },
  {
   "cell_type": "code",
   "execution_count": 22,
   "metadata": {
    "collapsed": true
   },
   "outputs": [],
   "source": [
    "from keras.losses import mean_squared_error\n",
    "from keras.layers import concatenate\n",
    "\n",
    "def make_rolr(lr=0.001):\n",
    "    theta0 = Input(shape=(1,))\n",
    "    theta1 = Input(shape=(1,))\n",
    "    thetas = concatenate([theta0, theta1])\n",
    "    \n",
    "    h = Dense(hidden_size, activation=\"tanh\")(thetas)\n",
    "    log_rhat_thetas = Dense(n_outputs, activation=\"linear\")(h)\n",
    "    rhat_thetas = Lambda(lambda exp: K.exp(exp))(log_rhat_thetas)\n",
    "    \n",
    "    x = Input(shape=(n_outputs,))\n",
    "    rhat_x_thetas = dot([x, rhat_thetas], axes=1)\n",
    "    \n",
    "    model = Model(inputs=[theta0, theta1, x], outputs=[rhat_x_thetas])\n",
    "    opt = Adam(lr=lr)\n",
    "    model.compile(loss=[\"mse\"], optimizer=opt)\n",
    "    \n",
    "    return model\n",
    "\n",
    "def make_rascal(lr=0.001):\n",
    "    theta0 = Input(shape=(1,))\n",
    "    theta1 = Input(shape=(1,))\n",
    "    thetas = concatenate([theta0, theta1])\n",
    "    \n",
    "    h = Dense(hidden_size, activation=\"tanh\")(thetas)\n",
    "    log_rhat_thetas = Dense(n_outputs, activation=\"linear\")(h)\n",
    "    rhat_thetas = Lambda(lambda exp: K.exp(exp))(log_rhat_thetas)\n",
    "    \n",
    "    x = Input(shape=(n_outputs,))\n",
    "    rhat_x_thetas = dot([x, rhat_thetas], axes=1)\n",
    "    \n",
    "    log_rhat_x_theta = dot([x, log_rhat_thetas], axes=1) \n",
    "    t_x_0 = Lambda(lambda exp: K.gradients(exp[0], [exp[1]])[0], \n",
    "                   output_shape=(n_features,))([log_rhat_x_theta, theta0])\n",
    "    \n",
    "    model = Model(inputs=[theta0, theta1, x], outputs=[rhat_x_thetas, t_x_0])\n",
    "    opt = Adam(lr=lr)\n",
    "    model.compile(loss=[\"mse\", \"mse\"], loss_weights=[1.0, 0.5], optimizer=opt)\n",
    "    \n",
    "    return model"
   ]
  },
  {
   "cell_type": "code",
   "execution_count": 23,
   "metadata": {
    "scrolled": true
   },
   "outputs": [
    {
     "name": "stdout",
     "output_type": "stream",
     "text": [
      "Epoch 1/50\n",
      "10000/10000 [==============================] - 0s - loss: 0.2549     \n",
      "Epoch 2/50\n",
      "10000/10000 [==============================] - 0s - loss: 0.2215     \n",
      "Epoch 3/50\n",
      "10000/10000 [==============================] - 0s - loss: 0.1923     \n",
      "Epoch 4/50\n",
      "10000/10000 [==============================] - 0s - loss: 0.1640     \n",
      "Epoch 5/50\n",
      "10000/10000 [==============================] - 0s - loss: 0.1474     \n",
      "Epoch 6/50\n",
      "10000/10000 [==============================] - 0s - loss: 0.1383     \n",
      "Epoch 7/50\n",
      "10000/10000 [==============================] - 0s - loss: 0.1325     \n",
      "Epoch 8/50\n",
      "10000/10000 [==============================] - 0s - loss: 0.1287     \n",
      "Epoch 9/50\n",
      "10000/10000 [==============================] - 0s - loss: 0.1263     \n",
      "Epoch 10/50\n",
      "10000/10000 [==============================] - 0s - loss: 0.1243     \n",
      "Epoch 11/50\n",
      "10000/10000 [==============================] - 0s - loss: 0.1227     \n",
      "Epoch 12/50\n",
      "10000/10000 [==============================] - 0s - loss: 0.1218     \n",
      "Epoch 13/50\n",
      "10000/10000 [==============================] - 0s - loss: 0.1210     \n",
      "Epoch 14/50\n",
      "10000/10000 [==============================] - 0s - loss: 0.1202     \n",
      "Epoch 15/50\n",
      "10000/10000 [==============================] - 0s - loss: 0.1198     \n",
      "Epoch 16/50\n",
      "10000/10000 [==============================] - 0s - loss: 0.1192     \n",
      "Epoch 17/50\n",
      "10000/10000 [==============================] - 0s - loss: 0.1188     \n",
      "Epoch 18/50\n",
      "10000/10000 [==============================] - 0s - loss: 0.1185     \n",
      "Epoch 19/50\n",
      "10000/10000 [==============================] - 0s - loss: 0.1184     \n",
      "Epoch 20/50\n",
      "10000/10000 [==============================] - 0s - loss: 0.1179     \n",
      "Epoch 21/50\n",
      "10000/10000 [==============================] - 0s - loss: 0.1176     \n",
      "Epoch 22/50\n",
      "10000/10000 [==============================] - 0s - loss: 0.1175     \n",
      "Epoch 23/50\n",
      "10000/10000 [==============================] - 0s - loss: 0.1168     \n",
      "Epoch 24/50\n",
      "10000/10000 [==============================] - 0s - loss: 0.1167     \n",
      "Epoch 25/50\n",
      "10000/10000 [==============================] - 0s - loss: 0.1166     \n",
      "Epoch 26/50\n",
      "10000/10000 [==============================] - 0s - loss: 0.1164     \n",
      "Epoch 27/50\n",
      "10000/10000 [==============================] - 0s - loss: 0.1159     \n",
      "Epoch 28/50\n",
      "10000/10000 [==============================] - 0s - loss: 0.1154     \n",
      "Epoch 29/50\n",
      "10000/10000 [==============================] - 0s - loss: 0.1159     \n",
      "Epoch 30/50\n",
      "10000/10000 [==============================] - 0s - loss: 0.1151     \n",
      "Epoch 31/50\n",
      "10000/10000 [==============================] - 0s - loss: 0.1148     \n",
      "Epoch 32/50\n",
      "10000/10000 [==============================] - 0s - loss: 0.1144     \n",
      "Epoch 33/50\n",
      "10000/10000 [==============================] - 0s - loss: 0.1141     \n",
      "Epoch 34/50\n",
      "10000/10000 [==============================] - 0s - loss: 0.1143     \n",
      "Epoch 35/50\n",
      "10000/10000 [==============================] - 0s - loss: 0.1137     \n",
      "Epoch 36/50\n",
      "10000/10000 [==============================] - 0s - loss: 0.1136     \n",
      "Epoch 37/50\n",
      "10000/10000 [==============================] - 0s - loss: 0.1134     \n",
      "Epoch 38/50\n",
      "10000/10000 [==============================] - 0s - loss: 0.1131     \n",
      "Epoch 39/50\n",
      "10000/10000 [==============================] - 0s - loss: 0.1132     \n",
      "Epoch 40/50\n",
      "10000/10000 [==============================] - 0s - loss: 0.1125     \n",
      "Epoch 41/50\n",
      "10000/10000 [==============================] - 0s - loss: 0.1126     \n",
      "Epoch 42/50\n",
      "10000/10000 [==============================] - 0s - loss: 0.1124     \n",
      "Epoch 43/50\n",
      "10000/10000 [==============================] - 0s - loss: 0.1128     \n",
      "Epoch 44/50\n",
      "10000/10000 [==============================] - 0s - loss: 0.1125     \n",
      "Epoch 45/50\n",
      "10000/10000 [==============================] - 0s - loss: 0.1124     \n",
      "Epoch 46/50\n",
      "10000/10000 [==============================] - 0s - loss: 0.1126     \n",
      "Epoch 47/50\n",
      "10000/10000 [==============================] - 0s - loss: 0.1121     \n",
      "Epoch 48/50\n",
      "10000/10000 [==============================] - 0s - loss: 0.1122     \n",
      "Epoch 49/50\n",
      "10000/10000 [==============================] - 0s - loss: 0.1126     \n",
      "Epoch 50/50\n",
      "10000/10000 [==============================] - 0s - loss: 0.1122     \n"
     ]
    },
    {
     "data": {
      "text/plain": [
       "<keras.callbacks.History at 0x7f8d528f8850>"
      ]
     },
     "execution_count": 23,
     "metadata": {},
     "output_type": "execute_result"
    }
   ],
   "source": [
    "rolr = make_rolr()\n",
    "rolr.fit([thetas[:, 0], \n",
    "          thetas[:, 1], \n",
    "          x], \n",
    "         np.exp(log_r_xz), \n",
    "         batch_size=32, epochs=50)"
   ]
  },
  {
   "cell_type": "code",
   "execution_count": 24,
   "metadata": {},
   "outputs": [
    {
     "name": "stdout",
     "output_type": "stream",
     "text": [
      "Epoch 1/50\n",
      "10000/10000 [==============================] - 0s - loss: 1.6418 - dot_2_loss: 0.2258 - lambda_3_loss: 2.8320     \n",
      "Epoch 2/50\n",
      "10000/10000 [==============================] - 0s - loss: 1.0435 - dot_2_loss: 0.1487 - lambda_3_loss: 1.7896     \n",
      "Epoch 3/50\n",
      "10000/10000 [==============================] - 0s - loss: 0.9143 - dot_2_loss: 0.1352 - lambda_3_loss: 1.5582     \n",
      "Epoch 4/50\n",
      "10000/10000 [==============================] - 0s - loss: 0.8724 - dot_2_loss: 0.1296 - lambda_3_loss: 1.4856     \n",
      "Epoch 5/50\n",
      "10000/10000 [==============================] - 0s - loss: 0.8450 - dot_2_loss: 0.1282 - lambda_3_loss: 1.4336     \n",
      "Epoch 6/50\n",
      "10000/10000 [==============================] - 0s - loss: 0.8197 - dot_2_loss: 0.1255 - lambda_3_loss: 1.3884     \n",
      "Epoch 7/50\n",
      "10000/10000 [==============================] - 0s - loss: 0.7951 - dot_2_loss: 0.1238 - lambda_3_loss: 1.3426     \n",
      "Epoch 8/50\n",
      "10000/10000 [==============================] - 0s - loss: 0.7715 - dot_2_loss: 0.1223 - lambda_3_loss: 1.2985     \n",
      "Epoch 9/50\n",
      "10000/10000 [==============================] - 0s - loss: 0.7493 - dot_2_loss: 0.1208 - lambda_3_loss: 1.2570     \n",
      "Epoch 10/50\n",
      "10000/10000 [==============================] - 0s - loss: 0.7290 - dot_2_loss: 0.1196 - lambda_3_loss: 1.2187     \n",
      "Epoch 11/50\n",
      "10000/10000 [==============================] - 0s - loss: 0.7091 - dot_2_loss: 0.1191 - lambda_3_loss: 1.1801     \n",
      "Epoch 12/50\n",
      "10000/10000 [==============================] - 0s - loss: 0.6914 - dot_2_loss: 0.1181 - lambda_3_loss: 1.1467     \n",
      "Epoch 13/50\n",
      "10000/10000 [==============================] - 0s - loss: 0.6762 - dot_2_loss: 0.1180 - lambda_3_loss: 1.1165     \n",
      "Epoch 14/50\n",
      "10000/10000 [==============================] - 0s - loss: 0.6627 - dot_2_loss: 0.1169 - lambda_3_loss: 1.0915     \n",
      "Epoch 15/50\n",
      "10000/10000 [==============================] - 0s - loss: 0.6528 - dot_2_loss: 0.1172 - lambda_3_loss: 1.0712     \n",
      "Epoch 16/50\n",
      "10000/10000 [==============================] - 0s - loss: 0.6452 - dot_2_loss: 0.1174 - lambda_3_loss: 1.0557     \n",
      "Epoch 17/50\n",
      "10000/10000 [==============================] - 0s - loss: 0.6382 - dot_2_loss: 0.1162 - lambda_3_loss: 1.0440     \n",
      "Epoch 18/50\n",
      "10000/10000 [==============================] - 0s - loss: 0.6348 - dot_2_loss: 0.1162 - lambda_3_loss: 1.0372     \n",
      "Epoch 19/50\n",
      "10000/10000 [==============================] - 0s - loss: 0.6316 - dot_2_loss: 0.1162 - lambda_3_loss: 1.0310     \n",
      "Epoch 20/50\n",
      "10000/10000 [==============================] - 0s - loss: 0.6296 - dot_2_loss: 0.1157 - lambda_3_loss: 1.0279     \n",
      "Epoch 21/50\n",
      "10000/10000 [==============================] - 0s - loss: 0.6283 - dot_2_loss: 0.1151 - lambda_3_loss: 1.0264     \n",
      "Epoch 22/50\n",
      "10000/10000 [==============================] - 0s - loss: 0.6269 - dot_2_loss: 0.1151 - lambda_3_loss: 1.0235     \n",
      "Epoch 23/50\n",
      "10000/10000 [==============================] - 0s - loss: 0.6257 - dot_2_loss: 0.1147 - lambda_3_loss: 1.0221     \n",
      "Epoch 24/50\n",
      "10000/10000 [==============================] - 0s - loss: 0.6241 - dot_2_loss: 0.1138 - lambda_3_loss: 1.0205     \n",
      "Epoch 25/50\n",
      "10000/10000 [==============================] - 0s - loss: 0.6236 - dot_2_loss: 0.1139 - lambda_3_loss: 1.0193     \n",
      "Epoch 26/50\n",
      "10000/10000 [==============================] - 0s - loss: 0.6237 - dot_2_loss: 0.1138 - lambda_3_loss: 1.0198     \n",
      "Epoch 27/50\n",
      "10000/10000 [==============================] - 0s - loss: 0.6230 - dot_2_loss: 0.1137 - lambda_3_loss: 1.0185     \n",
      "Epoch 28/50\n",
      "10000/10000 [==============================] - 0s - loss: 0.6219 - dot_2_loss: 0.1135 - lambda_3_loss: 1.0169     \n",
      "Epoch 29/50\n",
      "10000/10000 [==============================] - 0s - loss: 0.6213 - dot_2_loss: 0.1130 - lambda_3_loss: 1.0166     \n",
      "Epoch 30/50\n",
      "10000/10000 [==============================] - 0s - loss: 0.6213 - dot_2_loss: 0.1132 - lambda_3_loss: 1.0162     \n",
      "Epoch 31/50\n",
      "10000/10000 [==============================] - 0s - loss: 0.6213 - dot_2_loss: 0.1130 - lambda_3_loss: 1.0165     \n",
      "Epoch 32/50\n",
      "10000/10000 [==============================] - 0s - loss: 0.6208 - dot_2_loss: 0.1130 - lambda_3_loss: 1.0156     \n",
      "Epoch 33/50\n",
      "10000/10000 [==============================] - 0s - loss: 0.6204 - dot_2_loss: 0.1128 - lambda_3_loss: 1.0151     \n",
      "Epoch 34/50\n",
      "10000/10000 [==============================] - 0s - loss: 0.6202 - dot_2_loss: 0.1127 - lambda_3_loss: 1.0150     \n",
      "Epoch 35/50\n",
      "10000/10000 [==============================] - 0s - loss: 0.6197 - dot_2_loss: 0.1125 - lambda_3_loss: 1.0145     \n",
      "Epoch 36/50\n",
      "10000/10000 [==============================] - 0s - loss: 0.6195 - dot_2_loss: 0.1125 - lambda_3_loss: 1.0141     \n",
      "Epoch 37/50\n",
      "10000/10000 [==============================] - 0s - loss: 0.6193 - dot_2_loss: 0.1124 - lambda_3_loss: 1.0139     \n",
      "Epoch 38/50\n",
      "10000/10000 [==============================] - 0s - loss: 0.6190 - dot_2_loss: 0.1122 - lambda_3_loss: 1.0136     \n",
      "Epoch 39/50\n",
      "10000/10000 [==============================] - 0s - loss: 0.6191 - dot_2_loss: 0.1126 - lambda_3_loss: 1.0130     \n",
      "Epoch 40/50\n",
      "10000/10000 [==============================] - 0s - loss: 0.6187 - dot_2_loss: 0.1120 - lambda_3_loss: 1.0135     \n",
      "Epoch 41/50\n",
      "10000/10000 [==============================] - 0s - loss: 0.6186 - dot_2_loss: 0.1123 - lambda_3_loss: 1.0127     \n",
      "Epoch 42/50\n",
      "10000/10000 [==============================] - 0s - loss: 0.6188 - dot_2_loss: 0.1123 - lambda_3_loss: 1.0130     \n",
      "Epoch 43/50\n",
      "10000/10000 [==============================] - 0s - loss: 0.6187 - dot_2_loss: 0.1123 - lambda_3_loss: 1.0129     \n",
      "Epoch 44/50\n",
      "10000/10000 [==============================] - 0s - loss: 0.6184 - dot_2_loss: 0.1124 - lambda_3_loss: 1.0118     \n",
      "Epoch 45/50\n",
      "10000/10000 [==============================] - 0s - loss: 0.6181 - dot_2_loss: 0.1121 - lambda_3_loss: 1.0121     \n",
      "Epoch 46/50\n",
      "10000/10000 [==============================] - 0s - loss: 0.6182 - dot_2_loss: 0.1122 - lambda_3_loss: 1.0120     \n",
      "Epoch 47/50\n",
      "10000/10000 [==============================] - 0s - loss: 0.6180 - dot_2_loss: 0.1120 - lambda_3_loss: 1.0120     \n",
      "Epoch 48/50\n",
      "10000/10000 [==============================] - 0s - loss: 0.6178 - dot_2_loss: 0.1118 - lambda_3_loss: 1.0119     \n",
      "Epoch 49/50\n",
      "10000/10000 [==============================] - 0s - loss: 0.6177 - dot_2_loss: 0.1119 - lambda_3_loss: 1.0116     \n",
      "Epoch 50/50\n",
      "10000/10000 [==============================] - 0s - loss: 0.6178 - dot_2_loss: 0.1121 - lambda_3_loss: 1.0114     \n"
     ]
    },
    {
     "data": {
      "text/plain": [
       "<keras.callbacks.History at 0x7f8d52aaa4d0>"
      ]
     },
     "execution_count": 24,
     "metadata": {},
     "output_type": "execute_result"
    }
   ],
   "source": [
    "rascal = make_rascal()\n",
    "rascal.fit([thetas[:, 0], \n",
    "            thetas[:, 1], \n",
    "            x], \n",
    "           [np.exp(log_r_xz), \n",
    "            t_xz_0], \n",
    "           batch_size=32, epochs=50)"
   ]
  },
  {
   "cell_type": "code",
   "execution_count": 26,
   "metadata": {},
   "outputs": [
    {
     "data": {
      "image/png": "[encoded data removed]",
      "text/plain": [
       "<Figure size 432x288 with 1 Axes>"
      ]
     },
     "metadata": {},
     "output_type": "display_data"
    }
   ],
   "source": [
    "r_true = np.exp(np.log(p_estimated_0[5:-5]) - np.log(p_estimated_1[5:-5]))\n",
    "\n",
    "x_test = to_categorical(np.array(range(n_nails)), num_classes=n_nails)\n",
    "r_rolr = rolr.predict([theta_0 * np.ones(n_nails), \n",
    "                       theta_1 * np.ones(n_nails),\n",
    "                       x_test])[5:-5]\n",
    "r_rascal = rascal.predict([theta_0 * np.ones(n_nails),\n",
    "                           theta_1 * np.ones(n_nails),\n",
    "                           x_test])[0][5:-5]\n",
    "\n",
    "plt.step(range(5, n_nails-5), r_true, label=\"estimated\")\n",
    "plt.step(range(5, n_nails-5), r_rolr, label=\"rolr\")\n",
    "plt.step(range(5, n_nails-5), r_rascal, label=\"rascal\")\n",
    "plt.legend()\n",
    "plt.show()"
   ]
  },
  {
   "cell_type": "markdown",
   "metadata": {},
   "source": [
    "---"
   ]
  },
  {
   "cell_type": "markdown",
   "metadata": {},
   "source": [
    "# Model comparison"
   ]
  },
  {
   "cell_type": "code",
   "execution_count": 43,
   "metadata": {},
   "outputs": [],
   "source": [
    "def compute_mse(p_train, p_estimated):\n",
    "    p_ratio_train =  np.log(p_train[0]) - np.log(p_train[1])\n",
    "    p_ratio = np.log(p_estimated[0]) - np.log(p_estimated[1])\n",
    "    mse = p_ratio_train - p_ratio\n",
    "    mse[np.logical_or(np.isinf(mse),np.isnan(mse))] = 0.\n",
    "    mse = np.dot(mse**2, p_estimated[1])\n",
    "    return mse\n",
    "def compute_mse_ratio(ratio, p_estimated, log=True):\n",
    "    p_ratio = np.log(p_estimated[0]) - np.log(p_estimated[1])\n",
    "    if log:\n",
    "        p_ratio_train = np.log(ratio)\n",
    "    else:\n",
    "        p_ratio_train = ratio\n",
    "    mse = p_ratio_train - p_ratio\n",
    "    mse[np.logical_or(np.isinf(mse),np.isnan(mse))] = 0.\n",
    "    mse = np.dot(mse**2, p_estimated[1])\n",
    "    return mse"
   ]
  },
  {
   "cell_type": "code",
   "execution_count": 293,
   "metadata": {},
   "outputs": [
    {
     "name": "stdout",
     "output_type": "stream",
     "text": [
      "100 Sample\n",
      "200 Sample\n",
      "500 Sample\n",
      "1000 Sample\n",
      "2000 Sample\n",
      "5000 Sample\n",
      "10000 Sample\n"
     ]
    }
   ],
   "source": [
    "mses_nde = []\n",
    "mses_scandal = []\n",
    "mses_carl = []\n",
    "mses_rolr = []\n",
    "mses_rascal = []\n",
    "p_estimated = np.array([p_estimated_0, p_estimated_1])\n",
    "samples_size = [100,200,500,1000,2000,5000,10000]\n",
    "x_test = to_categorical(np.array(range(n_nails)), num_classes=n_nails)\n",
    "for n in samples_size:\n",
    "    print('{0} Sample'.format(n))\n",
    "    # NDE - SCANDAL\n",
    "    x, t_xz, theta = draw(n)\n",
    "    nde = make_nde()\n",
    "    nde.fit(theta, x, batch_size=32, epochs=50, verbose=0)\n",
    "    scandal = make_scandal()\n",
    "    scandal.fit([theta, x], [x, t_xz], batch_size=32, epochs=50, verbose=0)\n",
    "    nde_pred = nde.predict([theta_0, theta_1])\n",
    "    scandal_pred = scandal.predict([np.array([[theta_0], [theta_1]]), np.zeros((2, n_nails))])[0]\n",
    "    mse_nde = compute_mse(nde_pred, p_estimated)\n",
    "    mse_scandal = compute_mse(scandal_pred, p_estimated)\n",
    "    # CARL\n",
    "    all_x, all_y = draw_parametrized(n)\n",
    "    x_test = to_categorical(np.array(range(n_nails)), num_classes=n_nails)\n",
    "    \n",
    "    carl = KerasRegressor(make_carl, epochs=50, batch_size=32, verbose=0)\n",
    "\n",
    "    carl.fit(all_x,all_y)\n",
    "\n",
    "    carl_calibrated = ClassifierScoreRatio(\n",
    "        CalibratedClassifierScoreCV(carl, cv='prefit', method='histogram', \n",
    "                                    bins=10 if n < 1000 else 20))\n",
    "    carl_calibrated.fit(all_x, all_y.reshape(-1,1))\n",
    "    carl_pred = carl_calibrated.predict(np.hstack([x_test,\n",
    "                                 theta_0 * np.ones((n_nails, 1)), \n",
    "                                 theta_1 * np.ones((n_nails, 1))]))[0][5:-5]\n",
    "    mse_carl = compute_mse_ratio(carl_pred.flatten(), p_estimated[:,5:-5], log=True)\n",
    "    # ROLR - RASCAL\n",
    "    x, thetas, log_r_xz, t_xz_0 = draw_ratio(n, n_thetas=10)\n",
    "    rolr = make_rolr()\n",
    "    rolr.fit([thetas[:, 0], \n",
    "              thetas[:, 1], \n",
    "              x], \n",
    "             np.exp(log_r_xz), \n",
    "             batch_size=32, epochs=50, verbose=0)\n",
    "    rascal = make_rascal()\n",
    "    rascal.fit([thetas[:, 0], \n",
    "                thetas[:, 1], \n",
    "                x], \n",
    "               [np.exp(log_r_xz), \n",
    "                t_xz_0], \n",
    "               batch_size=32, epochs=50, verbose=0)\n",
    "    rolr_pred = rolr.predict([theta_0 * np.ones(n_nails), \n",
    "                           theta_1 * np.ones(n_nails),\n",
    "                           x_test])[5:-5]\n",
    "    rascal_pred = rascal.predict([theta_0 * np.ones(n_nails),\n",
    "                               theta_1 * np.ones(n_nails),\n",
    "                               x_test])[0][5:-5]\n",
    "    mse_rolr = compute_mse_ratio(rolr_pred.flatten(), p_estimated[:, 5:-5], log=True)\n",
    "    mse_rascal = compute_mse_ratio(rascal_pred.flatten(), p_estimated[:, 5:-5], log=True)\n",
    "    mses_nde.append(mse_nde)\n",
    "    mses_rascal.append(mse_rascal)\n",
    "    mses_carl.append(mse_carl)\n",
    "    mses_rolr.append(mse_rolr)\n",
    "    mses_scandal.append(mse_scandal)"
   ]
  },
  {
   "cell_type": "code",
   "execution_count": 298,
   "metadata": {
    "collapsed": true
   },
   "outputs": [],
   "source": [
    "from utils import calculate_height, adjust_margins"
   ]
  },
  {
   "cell_type": "code",
   "execution_count": 299,
   "metadata": {
    "collapsed": true
   },
   "outputs": [],
   "source": [
    "colors     = ['orange', 'darkgreen',  'red', 'mediumblue', '#be96ff', '#CC002E']\n",
    "linestyles = [     ':',        '--',  ':',         '-.',      '-.',      '--']\n",
    "linewidths = [1.5 if ls == ':' else 1.5 for ls in linestyles]\n",
    "markers    = [None] + ['o'] * 5"
   ]
  },
  {
   "cell_type": "code",
   "execution_count": 300,
   "metadata": {
    "collapsed": true
   },
   "outputs": [],
   "source": [
    "mses_nde = np.array(mses_nde)\n",
    "mses_scandal = np.array(mses_scandal)\n",
    "mses_rolr = np.array(mses_rolr)\n",
    "mses_rascal = np.array(mses_rascal)\n",
    "mses_carl = np.array(mses_carl)"
   ]
  },
  {
   "cell_type": "code",
   "execution_count": 301,
   "metadata": {},
   "outputs": [
    {
     "data": {
      "image/png": "[encoded data removed]",
      "text/plain": [
       "<Figure size 324x312.48 with 1 Axes>"
      ]
     },
     "metadata": {},
     "output_type": "display_data"
    }
   ],
   "source": [
    "fig = plt.figure(figsize=(4.5,calculate_height(1,4.5,extra_top_space=False)))\n",
    "ax = plt.gca()\n",
    "samples_size = [100,200,500,1000,2000,5000,10000]\n",
    "\n",
    "mses = [mses_nde, mses_scandal, mses_rolr, mses_rascal]\n",
    "labels = ['NDE', 'SCANDAL', 'ROLR', 'RASCAL']\n",
    "s = 1\n",
    "plt.plot(samples_size, mses[s-1], \n",
    "         ms=4., marker=markers[s],\n",
    "         color=colors[s],\n",
    "         lw=linewidths[s], ls=linestyles[s])\n",
    "plt.plot([], [],\n",
    "         color=colors[s],\n",
    "         lw=linewidths[s], ls=linestyles[s],\n",
    "         label=labels[s-1])\n",
    "\n",
    "s = 2\n",
    "plt.plot(samples_size, mses[s-1],\n",
    "         ms=4., marker=markers[s],\n",
    "         color=colors[s],\n",
    "         lw=linewidths[s], ls=linestyles[s])\n",
    "plt.plot([], [],\n",
    "         color=colors[s],\n",
    "         lw=linewidths[s], ls=linestyles[s],\n",
    "         label=labels[s-1])\n",
    "\n",
    "s = 3\n",
    "plt.plot(samples_size, mses[s-1],\n",
    "         ms=4., marker=markers[s],\n",
    "         color=colors[s],\n",
    "         lw=linewidths[s], ls=linestyles[s])\n",
    "plt.plot([], [],\n",
    "         color=colors[s],\n",
    "         lw=linewidths[s], ls=linestyles[s],\n",
    "         label=labels[s-1])\n",
    "\n",
    "s = 4\n",
    "plt.plot(samples_size, mses[s-1],\n",
    "         ms=4., marker=markers[s],\n",
    "         color=colors[s],\n",
    "         lw=linewidths[s], ls=linestyles[s])\n",
    "plt.plot([], [],\n",
    "         color=colors[s],\n",
    "         lw=linewidths[s], ls=linestyles[s],\n",
    "         label=labels[s-1])\n",
    "\n",
    "ax.set_xscale(\"log\", nonposx='clip')\n",
    "plt.xlabel(r\"Training sample size\")\n",
    "plt.ylabel(r'$E_{x\\sim p_1(x)} [(\\log r(x|\\theta_0, \\theta_1) - \\log \\hat{r}(x|\\theta_0, \\theta_1))^2]$')\n",
    "plt.legend(frameon=False)\n",
    "\n",
    "adjust_margins(1,4.5,extra_top_space=False)\n",
    "plt.savefig('plinko_models_comparison.pdf')"
   ]
  },
  {
   "cell_type": "code",
   "execution_count": null,
   "metadata": {
    "collapsed": true
   },
   "outputs": [],
   "source": []
  }
 ],
 "metadata": {
  "kernelspec": {
   "display_name": "Python 2",
   "language": "python",
   "name": "python2"
  },
  "language_info": {
   "codemirror_mode": {
    "name": "ipython",
    "version": 2
   },
   "file_extension": ".py",
   "mimetype": "text/x-python",
   "name": "python",
   "nbconvert_exporter": "python",
   "pygments_lexer": "ipython2",
   "version": "2.7.12"
  }
 },
 "nbformat": 4,
 "nbformat_minor": 2
}

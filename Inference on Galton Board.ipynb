{
 "cells": [
  {
   "cell_type": "code",
   "execution_count": 62,
   "metadata": {},
   "outputs": [],
   "source": [
    "import numpy as np\n",
    "import matplotlib.pyplot as plt\n",
    "%matplotlib inline"
   ]
  },
  {
   "cell_type": "code",
   "execution_count": 63,
   "metadata": {},
   "outputs": [],
   "source": [
    "from galton import n_nails \n",
    "from galton import n_rows\n",
    "theta_0 = -0.8\n",
    "theta_1 = -0.6"
   ]
  },
  {
   "cell_type": "markdown",
   "metadata": {},
   "source": [
    "# Density estimation with histograms"
   ]
  },
  {
   "cell_type": "code",
   "execution_count": 16,
   "metadata": {},
   "outputs": [],
   "source": [
    "samples_0, _, scores_0, _ = galton_rvs(theta_0, n_runs=10000, random_state=1234)\n",
    "p_estimated_0, _ = np.histogram(samples_0, bins=n_nails, range=(0, n_nails), density=True)\n",
    "\n",
    "samples_1, _, scores_1, _ = galton_rvs(theta_1, n_runs=10000, random_state=1234)\n",
    "p_estimated_1, _ = np.histogram(samples_1, bins=n_nails, range=(0, n_nails), density=True)"
   ]
  },
  {
   "cell_type": "code",
   "execution_count": 22,
   "metadata": {},
   "outputs": [
    {
     "data": {
      "image/png": "[encoded data removed]",
      "text/plain": [
       "<Figure size 432x288 with 1 Axes>"
      ]
     },
     "metadata": {},
     "output_type": "display_data"
    }
   ],
   "source": [
    "plt.step(range(len(p_estimated_0)), p_estimated_0,\n",
    "         c='r', lw=1.5,\n",
    "         label=r'$p(x|\\theta_0)$')\n",
    "plt.step(range(len(p_estimated_0)), p_estimated_1,\n",
    "         c='b', lw=1.5, \n",
    "         label=r'$p(x|\\theta_1)$')\n",
    "\n",
    "plt.xlabel(\"x\")\n",
    "plt.ylabel(\"p(x)\")\n",
    "plt.legend()\n",
    "plt.show()"
   ]
  },
  {
   "cell_type": "code",
   "execution_count": 23,
   "metadata": {
    "scrolled": true
   },
   "outputs": [
    {
     "name": "stderr",
     "output_type": "stream",
     "text": [
      "/home/gilles/anaconda3/envs/simulator-mining-example/lib/python3.6/site-packages/ipykernel_launcher.py:1: RuntimeWarning: invalid value encountered in true_divide\n",
      "  \"\"\"Entry point for launching an IPython kernel.\n"
     ]
    },
    {
     "data": {
      "image/png": "[encoded data removed]",
      "text/plain": [
       "<Figure size 432x288 with 1 Axes>"
      ]
     },
     "metadata": {},
     "output_type": "display_data"
    }
   ],
   "source": [
    "plt.step(range(len(p_estimated_0)), np.log(p_estimated_0/p_estimated_1),\n",
    "         c='r', lw=1.5,\n",
    "         label=r'$p(x|\\theta_0)$')\n",
    "plt.scatter(samples, np.array(log_p0) - np.array(log_p1), s=5., c='b')\n",
    "plt.ylabel('log r(x,z)')\n",
    "plt.ylim(-2.,2.)\n",
    "plt.show()"
   ]
  },
  {
   "cell_type": "markdown",
   "metadata": {},
   "source": [
    "# Training data"
   ]
  },
  {
   "cell_type": "code",
   "execution_count": null,
   "metadata": {},
   "outputs": [],
   "source": [
    "from galton import check_random_state\n",
    "\n",
    "def draw(n_samples, n_thetas=10, random_state=0):\n",
    "    n_traces_per_theta = n_samples \n",
    "    \n",
    "    all_x = []\n",
    "    all_t_xz = []\n",
    "    all_thetas = []\n",
    "    \n",
    "    for k, theta in enumerate(np.linspace(-1.0, -0.4, n_thetas)):\n",
    "        x, log_p_xz, t_xz, _ = galton_rvs(theta, n_runs=n_traces_per_theta, random_state=random_state+k)\n",
    "        all_x.append(x)\n",
    "        all_t_xz.append(t_xz)\n",
    "        all_thetas.append(theta * np.ones(n_traces_per_theta))\n",
    "        \n",
    "    all_x = np.array(all_x).reshape(-1, 1)\n",
    "    all_x = to_categorical(all_x, num_classes=n_nails)\n",
    "    all_t_xz = np.array(all_t_xz).reshape(-1, 1)\n",
    "    all_thetas = np.array(all_thetas).reshape(-1, 1)\n",
    "    \n",
    "    rng = check_random_state(random_state)\n",
    "    choices = rng.choice(len(all_x), len(all_x), replace=False)\n",
    "        \n",
    "    return all_x[choices], all_t_xz[choices], all_thetas[choices]"
   ]
  },
  {
   "cell_type": "code",
   "execution_count": null,
   "metadata": {},
   "outputs": [],
   "source": [
    "x, t_xz, theta = draw(1000)"
   ]
  },
  {
   "cell_type": "markdown",
   "metadata": {},
   "source": [
    "# NDE + SCANDAL"
   ]
  },
  {
   "cell_type": "code",
   "execution_count": 171,
   "metadata": {},
   "outputs": [],
   "source": [
    "n_features = 1 \n",
    "hidden_size = 10\n",
    "n_outputs = n_nails"
   ]
  },
  {
   "cell_type": "code",
   "execution_count": 172,
   "metadata": {},
   "outputs": [],
   "source": [
    "from keras.optimizers import Adam\n",
    "from keras.layers import Input, Dense, Lambda, dot\n",
    "from keras.models import Model\n",
    "from keras.utils import to_categorical\n",
    "import keras.backend as K\n",
    "\n",
    "def make_nde(lr=0.001):   \n",
    "    theta = Input(shape=(1,))\n",
    "    h = Dense(hidden_size, activation=\"tanh\")(theta)\n",
    "    phat_theta = Dense(n_outputs, activation=\"softmax\")(h)\n",
    "    \n",
    "    model = Model(inputs=[theta], outputs=[phat_theta])\n",
    "    opt = Adam(lr=lr)\n",
    "    model.compile(loss=[\"categorical_crossentropy\"], optimizer=opt)\n",
    "    \n",
    "    return model\n",
    "\n",
    "def make_scandal(lr=0.001):\n",
    "    theta = Input(shape=(1,))\n",
    "    h = Dense(hidden_size, activation=\"tanh\")(theta)\n",
    "    phat_theta = Dense(n_outputs, activation=\"softmax\")(h)\n",
    "    \n",
    "    x = Input(shape=(n_outputs,))\n",
    "    phat_x_theta = dot([x, phat_theta], axes=1) \n",
    "    t_x = Lambda(lambda exp: K.gradients(K.log(exp[0]), [exp[1]])[0], \n",
    "                 output_shape=(n_features,))([phat_x_theta, theta])\n",
    "    \n",
    "    model = Model(inputs=[theta, x], outputs=[phat_theta, t_x])\n",
    "    opt = Adam(lr=lr)\n",
    "    model.compile(loss=[\"categorical_crossentropy\", \"mse\"], optimizer=opt)\n",
    "    \n",
    "    return model"
   ]
  },
  {
   "cell_type": "code",
   "execution_count": 173,
   "metadata": {},
   "outputs": [
    {
     "name": "stdout",
     "output_type": "stream",
     "text": [
      "Epoch 1/50\n",
      "10000/10000 [==============================] - 1s 125us/step - loss: 3.1304\n",
      "Epoch 2/50\n",
      "10000/10000 [==============================] - 0s 48us/step - loss: 2.8628\n",
      "Epoch 3/50\n",
      "10000/10000 [==============================] - 1s 50us/step - loss: 2.8312\n",
      "Epoch 4/50\n",
      "10000/10000 [==============================] - 0s 47us/step - loss: 2.8234\n",
      "Epoch 5/50\n",
      "10000/10000 [==============================] - 1s 62us/step - loss: 2.8193\n",
      "Epoch 6/50\n",
      "10000/10000 [==============================] - 1s 67us/step - loss: 2.8171\n",
      "Epoch 7/50\n",
      "10000/10000 [==============================] - 1s 76us/step - loss: 2.8154\n",
      "Epoch 8/50\n",
      "10000/10000 [==============================] - 1s 77us/step - loss: 2.8141\n",
      "Epoch 9/50\n",
      "10000/10000 [==============================] - 0s 45us/step - loss: 2.8129\n",
      "Epoch 10/50\n",
      "10000/10000 [==============================] - 1s 58us/step - loss: 2.8113\n",
      "Epoch 11/50\n",
      "10000/10000 [==============================] - 1s 63us/step - loss: 2.8100\n",
      "Epoch 12/50\n",
      "10000/10000 [==============================] - 0s 43us/step - loss: 2.8085\n",
      "Epoch 13/50\n",
      "10000/10000 [==============================] - 1s 62us/step - loss: 2.8074\n",
      "Epoch 14/50\n",
      "10000/10000 [==============================] - 1s 71us/step - loss: 2.8058\n",
      "Epoch 15/50\n",
      "10000/10000 [==============================] - 1s 69us/step - loss: 2.8042\n",
      "Epoch 16/50\n",
      "10000/10000 [==============================] - 1s 51us/step - loss: 2.8016\n",
      "Epoch 17/50\n",
      "10000/10000 [==============================] - 1s 51us/step - loss: 2.8005\n",
      "Epoch 18/50\n",
      "10000/10000 [==============================] - 1s 54us/step - loss: 2.7985\n",
      "Epoch 19/50\n",
      "10000/10000 [==============================] - 1s 53us/step - loss: 2.7969\n",
      "Epoch 20/50\n",
      "10000/10000 [==============================] - 1s 62us/step - loss: 2.7949\n",
      "Epoch 21/50\n",
      "10000/10000 [==============================] - 1s 77us/step - loss: 2.7935\n",
      "Epoch 22/50\n",
      "10000/10000 [==============================] - 0s 44us/step - loss: 2.7917\n",
      "Epoch 23/50\n",
      "10000/10000 [==============================] - 1s 61us/step - loss: 2.7905\n",
      "Epoch 24/50\n",
      "10000/10000 [==============================] - 1s 68us/step - loss: 2.7891\n",
      "Epoch 25/50\n",
      "10000/10000 [==============================] - 1s 61us/step - loss: 2.7881\n",
      "Epoch 26/50\n",
      "10000/10000 [==============================] - 0s 44us/step - loss: 2.7868\n",
      "Epoch 27/50\n",
      "10000/10000 [==============================] - 1s 71us/step - loss: 2.7858\n",
      "Epoch 28/50\n",
      "10000/10000 [==============================] - 1s 88us/step - loss: 2.7853\n",
      "Epoch 29/50\n",
      "10000/10000 [==============================] - 1s 78us/step - loss: 2.7845\n",
      "Epoch 30/50\n",
      "10000/10000 [==============================] - 1s 62us/step - loss: 2.7840\n",
      "Epoch 31/50\n",
      "10000/10000 [==============================] - 1s 99us/step - loss: 2.7838\n",
      "Epoch 32/50\n",
      "10000/10000 [==============================] - 1s 74us/step - loss: 2.7835\n",
      "Epoch 33/50\n",
      "10000/10000 [==============================] - 0s 45us/step - loss: 2.7830\n",
      "Epoch 34/50\n",
      "10000/10000 [==============================] - 1s 66us/step - loss: 2.7825\n",
      "Epoch 35/50\n",
      "10000/10000 [==============================] - 1s 52us/step - loss: 2.7823\n",
      "Epoch 36/50\n",
      "10000/10000 [==============================] - 1s 51us/step - loss: 2.7825\n",
      "Epoch 37/50\n",
      "10000/10000 [==============================] - 1s 68us/step - loss: 2.7826\n",
      "Epoch 38/50\n",
      "10000/10000 [==============================] - 1s 52us/step - loss: 2.7822\n",
      "Epoch 39/50\n",
      "10000/10000 [==============================] - 1s 64us/step - loss: 2.7819\n",
      "Epoch 40/50\n",
      "10000/10000 [==============================] - 1s 81us/step - loss: 2.7822\n",
      "Epoch 41/50\n",
      "10000/10000 [==============================] - 1s 55us/step - loss: 2.7818\n",
      "Epoch 42/50\n",
      "10000/10000 [==============================] - 1s 66us/step - loss: 2.7817\n",
      "Epoch 43/50\n",
      "10000/10000 [==============================] - 1s 52us/step - loss: 2.7815\n",
      "Epoch 44/50\n",
      "10000/10000 [==============================] - 1s 51us/step - loss: 2.7816\n",
      "Epoch 45/50\n",
      "10000/10000 [==============================] - 1s 51us/step - loss: 2.7813\n",
      "Epoch 46/50\n",
      "10000/10000 [==============================] - 0s 50us/step - loss: 2.7816\n",
      "Epoch 47/50\n",
      "10000/10000 [==============================] - 1s 53us/step - loss: 2.7814\n",
      "Epoch 48/50\n",
      "10000/10000 [==============================] - 1s 79us/step - loss: 2.7815\n",
      "Epoch 49/50\n",
      "10000/10000 [==============================] - 1s 66us/step - loss: 2.7816\n",
      "Epoch 50/50\n",
      "10000/10000 [==============================] - 1s 69us/step - loss: 2.7813\n"
     ]
    },
    {
     "data": {
      "text/plain": [
       "<keras.callbacks.History at 0x7f1284cd77b8>"
      ]
     },
     "execution_count": 173,
     "metadata": {},
     "output_type": "execute_result"
    }
   ],
   "source": [
    "nde = make_nde()\n",
    "nde.fit(theta, x, batch_size=32, epochs=50)"
   ]
  },
  {
   "cell_type": "code",
   "execution_count": 174,
   "metadata": {
    "scrolled": false
   },
   "outputs": [
    {
     "name": "stdout",
     "output_type": "stream",
     "text": [
      "Epoch 1/50\n",
      "10000/10000 [==============================] - 1s 143us/step - loss: 5.1813 - dense_88_loss: 3.2985 - lambda_82_loss: 1.8828\n",
      "Epoch 2/50\n",
      "10000/10000 [==============================] - 1s 65us/step - loss: 4.2426 - dense_88_loss: 3.0405 - lambda_82_loss: 1.2021\n",
      "Epoch 3/50\n",
      "10000/10000 [==============================] - 1s 69us/step - loss: 3.9834 - dense_88_loss: 2.8928 - lambda_82_loss: 1.0906\n",
      "Epoch 4/50\n",
      "10000/10000 [==============================] - 1s 66us/step - loss: 3.8865 - dense_88_loss: 2.8303 - lambda_82_loss: 1.0562\n",
      "Epoch 5/50\n",
      "10000/10000 [==============================] - 1s 75us/step - loss: 3.8391 - dense_88_loss: 2.8069 - lambda_82_loss: 1.0322\n",
      "Epoch 6/50\n",
      "10000/10000 [==============================] - 1s 70us/step - loss: 3.8102 - dense_88_loss: 2.7972 - lambda_82_loss: 1.0130\n",
      "Epoch 7/50\n",
      "10000/10000 [==============================] - 1s 63us/step - loss: 3.7907 - dense_88_loss: 2.7915 - lambda_82_loss: 0.9992\n",
      "Epoch 8/50\n",
      "10000/10000 [==============================] - 1s 71us/step - loss: 3.7756 - dense_88_loss: 2.7886 - lambda_82_loss: 0.9869\n",
      "Epoch 9/50\n",
      "10000/10000 [==============================] - 1s 75us/step - loss: 3.7641 - dense_88_loss: 2.7864 - lambda_82_loss: 0.9777\n",
      "Epoch 10/50\n",
      "10000/10000 [==============================] - 1s 68us/step - loss: 3.7568 - dense_88_loss: 2.7855 - lambda_82_loss: 0.9712\n",
      "Epoch 11/50\n",
      "10000/10000 [==============================] - 1s 79us/step - loss: 3.7499 - dense_88_loss: 2.7846 - lambda_82_loss: 0.9652\n",
      "Epoch 12/50\n",
      "10000/10000 [==============================] - 1s 71us/step - loss: 3.7451 - dense_88_loss: 2.7837 - lambda_82_loss: 0.9614\n",
      "Epoch 13/50\n",
      "10000/10000 [==============================] - 1s 88us/step - loss: 3.7408 - dense_88_loss: 2.7833 - lambda_82_loss: 0.9575\n",
      "Epoch 14/50\n",
      "10000/10000 [==============================] - 1s 76us/step - loss: 3.7380 - dense_88_loss: 2.7829 - lambda_82_loss: 0.9551\n",
      "Epoch 15/50\n",
      "10000/10000 [==============================] - 1s 94us/step - loss: 3.7350 - dense_88_loss: 2.7826 - lambda_82_loss: 0.9523\n",
      "Epoch 16/50\n",
      "10000/10000 [==============================] - 1s 81us/step - loss: 3.7331 - dense_88_loss: 2.7825 - lambda_82_loss: 0.9506\n",
      "Epoch 17/50\n",
      "10000/10000 [==============================] - 1s 65us/step - loss: 3.7315 - dense_88_loss: 2.7819 - lambda_82_loss: 0.9495\n",
      "Epoch 18/50\n",
      "10000/10000 [==============================] - 1s 69us/step - loss: 3.7298 - dense_88_loss: 2.7820 - lambda_82_loss: 0.9478\n",
      "Epoch 19/50\n",
      "10000/10000 [==============================] - 1s 66us/step - loss: 3.7287 - dense_88_loss: 2.7818 - lambda_82_loss: 0.9469\n",
      "Epoch 20/50\n",
      "10000/10000 [==============================] - 1s 68us/step - loss: 3.7270 - dense_88_loss: 2.7817 - lambda_82_loss: 0.9453\n",
      "Epoch 21/50\n",
      "10000/10000 [==============================] - 1s 68us/step - loss: 3.7272 - dense_88_loss: 2.7816 - lambda_82_loss: 0.9457\n",
      "Epoch 22/50\n",
      "10000/10000 [==============================] - 1s 73us/step - loss: 3.7260 - dense_88_loss: 2.7816 - lambda_82_loss: 0.9443\n",
      "Epoch 23/50\n",
      "10000/10000 [==============================] - 1s 98us/step - loss: 3.7248 - dense_88_loss: 2.7814 - lambda_82_loss: 0.9434\n",
      "Epoch 24/50\n",
      "10000/10000 [==============================] - 1s 71us/step - loss: 3.7246 - dense_88_loss: 2.7816 - lambda_82_loss: 0.9430\n",
      "Epoch 25/50\n",
      "10000/10000 [==============================] - 1s 66us/step - loss: 3.7239 - dense_88_loss: 2.7813 - lambda_82_loss: 0.9426\n",
      "Epoch 26/50\n",
      "10000/10000 [==============================] - 1s 66us/step - loss: 3.7234 - dense_88_loss: 2.7814 - lambda_82_loss: 0.9419\n",
      "Epoch 27/50\n",
      "10000/10000 [==============================] - 1s 71us/step - loss: 3.7226 - dense_88_loss: 2.7813 - lambda_82_loss: 0.9413\n",
      "Epoch 28/50\n",
      "10000/10000 [==============================] - 1s 69us/step - loss: 3.7221 - dense_88_loss: 2.7813 - lambda_82_loss: 0.9408\n",
      "Epoch 29/50\n",
      "10000/10000 [==============================] - 1s 69us/step - loss: 3.7220 - dense_88_loss: 2.7814 - lambda_82_loss: 0.9406\n",
      "Epoch 30/50\n",
      "10000/10000 [==============================] - 1s 74us/step - loss: 3.7218 - dense_88_loss: 2.7818 - lambda_82_loss: 0.9400\n",
      "Epoch 31/50\n",
      "10000/10000 [==============================] - 1s 77us/step - loss: 3.7212 - dense_88_loss: 2.7814 - lambda_82_loss: 0.9398\n",
      "Epoch 32/50\n",
      "10000/10000 [==============================] - 1s 66us/step - loss: 3.7211 - dense_88_loss: 2.7810 - lambda_82_loss: 0.9401\n",
      "Epoch 33/50\n",
      "10000/10000 [==============================] - 1s 69us/step - loss: 3.7213 - dense_88_loss: 2.7819 - lambda_82_loss: 0.9394\n",
      "Epoch 34/50\n",
      "10000/10000 [==============================] - 1s 66us/step - loss: 3.7204 - dense_88_loss: 2.7815 - lambda_82_loss: 0.9389\n",
      "Epoch 35/50\n",
      "10000/10000 [==============================] - 1s 70us/step - loss: 3.7203 - dense_88_loss: 2.7817 - lambda_82_loss: 0.9386\n",
      "Epoch 36/50\n",
      "10000/10000 [==============================] - 1s 68us/step - loss: 3.7200 - dense_88_loss: 2.7818 - lambda_82_loss: 0.9382\n",
      "Epoch 37/50\n",
      "10000/10000 [==============================] - 1s 86us/step - loss: 3.7199 - dense_88_loss: 2.7815 - lambda_82_loss: 0.9384\n",
      "Epoch 38/50\n",
      "10000/10000 [==============================] - 1s 74us/step - loss: 3.7197 - dense_88_loss: 2.7814 - lambda_82_loss: 0.9383\n",
      "Epoch 39/50\n",
      "10000/10000 [==============================] - 1s 84us/step - loss: 3.7192 - dense_88_loss: 2.7816 - lambda_82_loss: 0.9376\n",
      "Epoch 40/50\n",
      "10000/10000 [==============================] - 1s 91us/step - loss: 3.7196 - dense_88_loss: 2.7817 - lambda_82_loss: 0.9379\n",
      "Epoch 41/50\n",
      "10000/10000 [==============================] - 1s 77us/step - loss: 3.7189 - dense_88_loss: 2.7811 - lambda_82_loss: 0.9378\n",
      "Epoch 42/50\n",
      "10000/10000 [==============================] - 1s 78us/step - loss: 3.7189 - dense_88_loss: 2.7813 - lambda_82_loss: 0.9376\n",
      "Epoch 43/50\n",
      "10000/10000 [==============================] - 1s 82us/step - loss: 3.7186 - dense_88_loss: 2.7810 - lambda_82_loss: 0.9376\n",
      "Epoch 44/50\n",
      "10000/10000 [==============================] - 1s 83us/step - loss: 3.7187 - dense_88_loss: 2.7816 - lambda_82_loss: 0.9371\n",
      "Epoch 45/50\n",
      "10000/10000 [==============================] - 1s 90us/step - loss: 3.7183 - dense_88_loss: 2.7815 - lambda_82_loss: 0.9367\n",
      "Epoch 46/50\n",
      "10000/10000 [==============================] - 1s 77us/step - loss: 3.7190 - dense_88_loss: 2.7812 - lambda_82_loss: 0.9378\n",
      "Epoch 47/50\n",
      "10000/10000 [==============================] - 1s 90us/step - loss: 3.7181 - dense_88_loss: 2.7814 - lambda_82_loss: 0.9367\n",
      "Epoch 48/50\n",
      "10000/10000 [==============================] - 1s 97us/step - loss: 3.7190 - dense_88_loss: 2.7818 - lambda_82_loss: 0.9372\n",
      "Epoch 49/50\n",
      "10000/10000 [==============================] - 1s 95us/step - loss: 3.7181 - dense_88_loss: 2.7813 - lambda_82_loss: 0.9368\n",
      "Epoch 50/50\n",
      "10000/10000 [==============================] - 1s 58us/step - loss: 3.7179 - dense_88_loss: 2.7810 - lambda_82_loss: 0.9369\n"
     ]
    },
    {
     "data": {
      "text/plain": [
       "<keras.callbacks.History at 0x7f128449ab00>"
      ]
     },
     "execution_count": 174,
     "metadata": {},
     "output_type": "execute_result"
    }
   ],
   "source": [
    "scandal = make_scandal()\n",
    "scandal.fit([theta, x], [x, t_xz], batch_size=32, epochs=50)"
   ]
  },
  {
   "cell_type": "code",
   "execution_count": 175,
   "metadata": {},
   "outputs": [
    {
     "data": {
      "image/png": "[encoded data removed]",
      "text/plain": [
       "<Figure size 432x288 with 1 Axes>"
      ]
     },
     "metadata": {},
     "output_type": "display_data"
    }
   ],
   "source": [
    "plt.step(range(n_nails), p_estimated_0, label=\"histogram\")\n",
    "plt.step(range(n_nails), nde.predict([theta_0]).ravel(), label=\"nde\")\n",
    "plt.step(range(n_nails), scandal.predict([np.array([[theta_0]]), np.zeros((1, n_nails))])[0][0], label=\"scandal\")\n",
    "plt.legend()\n",
    "plt.title(r\"$\\theta=%.2f$\" % theta_0)\n",
    "plt.show()"
   ]
  },
  {
   "cell_type": "code",
   "execution_count": 176,
   "metadata": {},
   "outputs": [
    {
     "data": {
      "image/png": "[encoded data removed]",
      "text/plain": [
       "<Figure size 432x288 with 1 Axes>"
      ]
     },
     "metadata": {},
     "output_type": "display_data"
    }
   ],
   "source": [
    "plt.step(range(n_nails), p_estimated_1, label=\"histogram\")\n",
    "plt.step(range(n_nails), nde.predict([theta_1]).ravel(), label=\"nde\")\n",
    "plt.step(range(n_nails), scandal.predict([np.array([[theta_1]]), np.zeros((1, n_nails))])[0][0], label=\"scandal\")\n",
    "plt.legend()\n",
    "plt.title(r\"$\\theta=%.2f$\" % theta_1)\n",
    "plt.show()"
   ]
  },
  {
   "cell_type": "markdown",
   "metadata": {},
   "source": [
    "# CARL"
   ]
  },
  {
   "cell_type": "markdown",
   "metadata": {},
   "source": [
    "# ROLR + RASCAL"
   ]
  },
  {
   "cell_type": "markdown",
   "metadata": {},
   "source": [
    "---"
   ]
  },
  {
   "cell_type": "markdown",
   "metadata": {},
   "source": [
    "# Model comparison"
   ]
  }
 ],
 "metadata": {
  "kernelspec": {
   "display_name": "Python 3",
   "language": "python",
   "name": "python3"
  },
  "language_info": {
   "codemirror_mode": {
    "name": "ipython",
    "version": 3
   },
   "file_extension": ".py",
   "mimetype": "text/x-python",
   "name": "python",
   "nbconvert_exporter": "python",
   "pygments_lexer": "ipython3",
   "version": "3.6.5"
  }
 },
 "nbformat": 4,
 "nbformat_minor": 2
}

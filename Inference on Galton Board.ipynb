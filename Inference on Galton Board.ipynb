{
 "cells": [
  {
   "cell_type": "code",
   "execution_count": 1,
   "metadata": {},
   "outputs": [
    {
     "name": "stderr",
     "output_type": "stream",
     "text": [
      "Using TensorFlow backend.\n",
      "/usr/local/lib/python2.7/dist-packages/h5py/__init__.py:34: FutureWarning: Conversion of the second argument of issubdtype from `float` to `np.floating` is deprecated. In future, it will be treated as `np.float64 == np.dtype(float).type`.\n",
      "  from ._conv import register_converters as _register_converters\n"
     ]
    }
   ],
   "source": [
    "import numpy as np\n",
    "import matplotlib.pyplot as plt\n",
    "%matplotlib inline\n",
    "\n",
    "from galton import galton_rvs, galton_rvs_ratio\n",
    "from keras.utils import to_categorical\n"
   ]
  },
  {
   "cell_type": "code",
   "execution_count": 2,
   "metadata": {
    "collapsed": true
   },
   "outputs": [],
   "source": [
    "from galton import n_nails \n",
    "from galton import n_rows\n",
    "theta_0 = -0.8\n",
    "theta_1 = -0.6"
   ]
  },
  {
   "cell_type": "markdown",
   "metadata": {},
   "source": [
    "# Density estimation with histograms"
   ]
  },
  {
   "cell_type": "code",
   "execution_count": 3,
   "metadata": {
    "collapsed": true
   },
   "outputs": [],
   "source": [
    "samples_0, _, scores_0, _ = galton_rvs(theta_0, n_runs=20000, random_state=1234)\n",
    "p_estimated_0, _ = np.histogram(samples_0, bins=n_nails, range=(0, n_nails), density=True)\n",
    "\n",
    "samples_1, _, scores_1, _ = galton_rvs(theta_1, n_runs=20000, random_state=1234)\n",
    "p_estimated_1, _ = np.histogram(samples_1, bins=n_nails, range=(0, n_nails), density=True)"
   ]
  },
  {
   "cell_type": "code",
   "execution_count": 4,
   "metadata": {},
   "outputs": [
    {
     "data": {
      "image/png": "[encoded data removed]",
      "text/plain": [
       "<Figure size 432x288 with 1 Axes>"
      ]
     },
     "metadata": {},
     "output_type": "display_data"
    }
   ],
   "source": [
    "plt.step(range(len(p_estimated_0)), p_estimated_0,\n",
    "         c='r', lw=1.5,\n",
    "         label=r'$p(x|\\theta_0)$')\n",
    "plt.step(range(len(p_estimated_0)), p_estimated_1,\n",
    "         c='b', lw=1.5, \n",
    "         label=r'$p(x|\\theta_1)$')\n",
    "\n",
    "plt.xlabel(\"x\")\n",
    "plt.ylabel(\"p(x)\")\n",
    "plt.legend()\n",
    "plt.show()"
   ]
  },
  {
   "cell_type": "markdown",
   "metadata": {},
   "source": [
    "# NDE + SCANDAL"
   ]
  },
  {
   "cell_type": "code",
   "execution_count": 5,
   "metadata": {
    "collapsed": true
   },
   "outputs": [],
   "source": [
    "from galton import check_random_state\n",
    "\n",
    "def draw(n_samples, n_thetas=10, random_state=0):\n",
    "    n_traces_per_theta = n_samples // n_thetas\n",
    "    \n",
    "    all_x = []\n",
    "    all_t_xz = []\n",
    "    all_thetas = []\n",
    "    \n",
    "    for k, theta in enumerate(np.linspace(-1.0, -0.4, n_thetas)):\n",
    "        x, log_p_xz, t_xz, _ = galton_rvs(theta, n_runs=n_traces_per_theta, random_state=random_state+k)\n",
    "        all_x.append(x)\n",
    "        all_t_xz.append(t_xz)\n",
    "        all_thetas.append(theta * np.ones(n_traces_per_theta))\n",
    "        \n",
    "    all_x = np.array(all_x).reshape(-1, 1)\n",
    "    all_x = to_categorical(all_x, num_classes=n_nails)\n",
    "    all_t_xz = np.array(all_t_xz).reshape(-1, 1)\n",
    "    all_thetas = np.array(all_thetas).reshape(-1, 1)\n",
    "    \n",
    "    rng = check_random_state(random_state)\n",
    "    choices = rng.choice(len(all_x), len(all_x), replace=False)\n",
    "        \n",
    "    return all_x[choices], all_t_xz[choices], all_thetas[choices]"
   ]
  },
  {
   "cell_type": "code",
   "execution_count": 6,
   "metadata": {
    "collapsed": true
   },
   "outputs": [],
   "source": [
    "x, t_xz, theta = draw(10000)"
   ]
  },
  {
   "cell_type": "code",
   "execution_count": 7,
   "metadata": {
    "collapsed": true
   },
   "outputs": [],
   "source": [
    "n_features = 1 \n",
    "hidden_size = 10\n",
    "n_outputs = n_nails"
   ]
  },
  {
   "cell_type": "code",
   "execution_count": 8,
   "metadata": {
    "collapsed": true
   },
   "outputs": [],
   "source": [
    "from keras.optimizers import Adam\n",
    "from keras.layers import Input, Dense, Lambda, dot\n",
    "from keras.models import Model\n",
    "import keras.backend as K\n",
    "\n",
    "def make_nde(lr=0.001):   \n",
    "    theta = Input(shape=(1,))\n",
    "    h = Dense(hidden_size, activation=\"tanh\")(theta)\n",
    "    phat_theta = Dense(n_outputs, activation=\"softmax\")(h)\n",
    "    \n",
    "    model = Model(inputs=[theta], outputs=[phat_theta])\n",
    "    opt = Adam(lr=lr)\n",
    "    model.compile(loss=[\"categorical_crossentropy\"], optimizer=opt)\n",
    "    \n",
    "    return model\n",
    "\n",
    "def make_scandal(lr=0.001):\n",
    "    theta = Input(shape=(1,))\n",
    "    h = Dense(hidden_size, activation=\"tanh\")(theta)\n",
    "    phat_theta = Dense(n_outputs, activation=\"softmax\")(h)\n",
    "    \n",
    "    x = Input(shape=(n_outputs,))\n",
    "    phat_x_theta = dot([x, phat_theta], axes=1) \n",
    "    t_x = Lambda(lambda exp: K.gradients(K.log(exp[0]), [exp[1]])[0], \n",
    "                 output_shape=(n_features,))([phat_x_theta, theta])\n",
    "    \n",
    "    model = Model(inputs=[theta, x], outputs=[phat_theta, t_x])\n",
    "    opt = Adam(lr=lr)\n",
    "    model.compile(loss=[\"categorical_crossentropy\", \"mse\"], optimizer=opt)\n",
    "    \n",
    "    return model"
   ]
  },
  {
   "cell_type": "code",
   "execution_count": 9,
   "metadata": {
    "scrolled": true
   },
   "outputs": [
    {
     "name": "stdout",
     "output_type": "stream",
     "text": [
      "Epoch 1/50\n",
      "10000/10000 [==============================] - 0s - loss: 3.1473     \n",
      "Epoch 2/50\n",
      "10000/10000 [==============================] - 0s - loss: 2.8610     \n",
      "Epoch 3/50\n",
      "10000/10000 [==============================] - 0s - loss: 2.8342     \n",
      "Epoch 4/50\n",
      "10000/10000 [==============================] - 0s - loss: 2.8269     \n",
      "Epoch 5/50\n",
      "10000/10000 [==============================] - 0s - loss: 2.8234     \n",
      "Epoch 6/50\n",
      "10000/10000 [==============================] - 0s - loss: 2.8214     \n",
      "Epoch 7/50\n",
      "10000/10000 [==============================] - 0s - loss: 2.8202     \n",
      "Epoch 8/50\n",
      "10000/10000 [==============================] - 0s - loss: 2.8188     \n",
      "Epoch 9/50\n",
      "10000/10000 [==============================] - 0s - loss: 2.8171     \n",
      "Epoch 10/50\n",
      "10000/10000 [==============================] - 0s - loss: 2.8166     \n",
      "Epoch 11/50\n",
      "10000/10000 [==============================] - 0s - loss: 2.8154     \n",
      "Epoch 12/50\n",
      "10000/10000 [==============================] - 0s - loss: 2.8136     \n",
      "Epoch 13/50\n",
      "10000/10000 [==============================] - 0s - loss: 2.8128     \n",
      "Epoch 14/50\n",
      "10000/10000 [==============================] - 0s - loss: 2.8111     \n",
      "Epoch 15/50\n",
      "10000/10000 [==============================] - 0s - loss: 2.8093     \n",
      "Epoch 16/50\n",
      "10000/10000 [==============================] - 0s - loss: 2.8076     \n",
      "Epoch 17/50\n",
      "10000/10000 [==============================] - 0s - loss: 2.8055     \n",
      "Epoch 18/50\n",
      "10000/10000 [==============================] - 0s - loss: 2.8034     \n",
      "Epoch 19/50\n",
      "10000/10000 [==============================] - 0s - loss: 2.8017     \n",
      "Epoch 20/50\n",
      "10000/10000 [==============================] - 0s - loss: 2.7995     \n",
      "Epoch 21/50\n",
      "10000/10000 [==============================] - 0s - loss: 2.7974     \n",
      "Epoch 22/50\n",
      "10000/10000 [==============================] - 0s - loss: 2.7954     \n",
      "Epoch 23/50\n",
      "10000/10000 [==============================] - 0s - loss: 2.7938     \n",
      "Epoch 24/50\n",
      "10000/10000 [==============================] - 0s - loss: 2.7919     \n",
      "Epoch 25/50\n",
      "10000/10000 [==============================] - 0s - loss: 2.7907     \n",
      "Epoch 26/50\n",
      "10000/10000 [==============================] - 0s - loss: 2.7899     \n",
      "Epoch 27/50\n",
      "10000/10000 [==============================] - 0s - loss: 2.7888     \n",
      "Epoch 28/50\n",
      "10000/10000 [==============================] - 0s - loss: 2.7880     \n",
      "Epoch 29/50\n",
      "10000/10000 [==============================] - 0s - loss: 2.7873     \n",
      "Epoch 30/50\n",
      "10000/10000 [==============================] - 0s - loss: 2.7866     \n",
      "Epoch 31/50\n",
      "10000/10000 [==============================] - 0s - loss: 2.7862     \n",
      "Epoch 32/50\n",
      "10000/10000 [==============================] - 0s - loss: 2.7859     \n",
      "Epoch 33/50\n",
      "10000/10000 [==============================] - 0s - loss: 2.7857     \n",
      "Epoch 34/50\n",
      "10000/10000 [==============================] - 0s - loss: 2.7851     \n",
      "Epoch 35/50\n",
      "10000/10000 [==============================] - 0s - loss: 2.7854     \n",
      "Epoch 36/50\n",
      "10000/10000 [==============================] - 0s - loss: 2.7849     \n",
      "Epoch 37/50\n",
      "10000/10000 [==============================] - 0s - loss: 2.7846     \n",
      "Epoch 38/50\n",
      "10000/10000 [==============================] - 0s - loss: 2.7851     \n",
      "Epoch 39/50\n",
      "10000/10000 [==============================] - 0s - loss: 2.7847     \n",
      "Epoch 40/50\n",
      "10000/10000 [==============================] - 0s - loss: 2.7844     \n",
      "Epoch 41/50\n",
      "10000/10000 [==============================] - 0s - loss: 2.7847     \n",
      "Epoch 42/50\n",
      "10000/10000 [==============================] - 0s - loss: 2.7845     \n",
      "Epoch 43/50\n",
      "10000/10000 [==============================] - 0s - loss: 2.7841     \n",
      "Epoch 44/50\n",
      "10000/10000 [==============================] - 0s - loss: 2.7839     \n",
      "Epoch 45/50\n",
      "10000/10000 [==============================] - 0s - loss: 2.7841     \n",
      "Epoch 46/50\n",
      "10000/10000 [==============================] - 0s - loss: 2.7844     \n",
      "Epoch 47/50\n",
      "10000/10000 [==============================] - 0s - loss: 2.7839     \n",
      "Epoch 48/50\n",
      "10000/10000 [==============================] - 0s - loss: 2.7841     \n",
      "Epoch 49/50\n",
      "10000/10000 [==============================] - 0s - loss: 2.7842     \n",
      "Epoch 50/50\n",
      "10000/10000 [==============================] - 0s - loss: 2.7834     \n"
     ]
    },
    {
     "data": {
      "text/plain": [
       "<keras.callbacks.History at 0x7fa74cc99190>"
      ]
     },
     "execution_count": 9,
     "metadata": {},
     "output_type": "execute_result"
    }
   ],
   "source": [
    "nde = make_nde()\n",
    "nde.fit(theta, x, batch_size=32, epochs=50)"
   ]
  },
  {
   "cell_type": "code",
   "execution_count": 10,
   "metadata": {
    "scrolled": true
   },
   "outputs": [
    {
     "name": "stdout",
     "output_type": "stream",
     "text": [
      "Epoch 1/50\n",
      "10000/10000 [==============================] - 0s - loss: 5.2170 - dense_4_loss: 3.3163 - lambda_1_loss: 1.9007     \n",
      "Epoch 2/50\n",
      "10000/10000 [==============================] - 0s - loss: 4.2410 - dense_4_loss: 3.0189 - lambda_1_loss: 1.2220     \n",
      "Epoch 3/50\n",
      "10000/10000 [==============================] - 0s - loss: 3.9374 - dense_4_loss: 2.8760 - lambda_1_loss: 1.0614     \n",
      "Epoch 4/50\n",
      "10000/10000 [==============================] - 0s - loss: 3.8425 - dense_4_loss: 2.8270 - lambda_1_loss: 1.0155     \n",
      "Epoch 5/50\n",
      "10000/10000 [==============================] - 0s - loss: 3.7990 - dense_4_loss: 2.8074 - lambda_1_loss: 0.9915     \n",
      "Epoch 6/50\n",
      "10000/10000 [==============================] - 0s - loss: 3.7750 - dense_4_loss: 2.7986 - lambda_1_loss: 0.9763     \n",
      "Epoch 7/50\n",
      "10000/10000 [==============================] - 0s - loss: 3.7595 - dense_4_loss: 2.7937 - lambda_1_loss: 0.9658     \n",
      "Epoch 8/50\n",
      "10000/10000 [==============================] - 0s - loss: 3.7498 - dense_4_loss: 2.7905 - lambda_1_loss: 0.9592     \n",
      "Epoch 9/50\n",
      "10000/10000 [==============================] - 0s - loss: 3.7437 - dense_4_loss: 2.7890 - lambda_1_loss: 0.9547     \n",
      "Epoch 10/50\n",
      "10000/10000 [==============================] - 0s - loss: 3.7387 - dense_4_loss: 2.7875 - lambda_1_loss: 0.9513     \n",
      "Epoch 11/50\n",
      "10000/10000 [==============================] - 0s - loss: 3.7354 - dense_4_loss: 2.7868 - lambda_1_loss: 0.9486     \n",
      "Epoch 12/50\n",
      "10000/10000 [==============================] - 0s - loss: 3.7331 - dense_4_loss: 2.7861 - lambda_1_loss: 0.9470     \n",
      "Epoch 13/50\n",
      "10000/10000 [==============================] - 0s - loss: 3.7313 - dense_4_loss: 2.7856 - lambda_1_loss: 0.9457     \n",
      "Epoch 14/50\n",
      "10000/10000 [==============================] - 0s - loss: 3.7292 - dense_4_loss: 2.7855 - lambda_1_loss: 0.9438     \n",
      "Epoch 15/50\n",
      "10000/10000 [==============================] - 0s - loss: 3.7284 - dense_4_loss: 2.7847 - lambda_1_loss: 0.9437     \n",
      "Epoch 16/50\n",
      "10000/10000 [==============================] - 0s - loss: 3.7273 - dense_4_loss: 2.7850 - lambda_1_loss: 0.9423     \n",
      "Epoch 17/50\n",
      "10000/10000 [==============================] - 0s - loss: 3.7269 - dense_4_loss: 2.7848 - lambda_1_loss: 0.9422     \n",
      "Epoch 18/50\n",
      "10000/10000 [==============================] - 0s - loss: 3.7249 - dense_4_loss: 2.7845 - lambda_1_loss: 0.9404     \n",
      "Epoch 19/50\n",
      "10000/10000 [==============================] - 0s - loss: 3.7241 - dense_4_loss: 2.7842 - lambda_1_loss: 0.9399     \n",
      "Epoch 20/50\n",
      "10000/10000 [==============================] - 0s - loss: 3.7243 - dense_4_loss: 2.7847 - lambda_1_loss: 0.9396     \n",
      "Epoch 21/50\n",
      "10000/10000 [==============================] - 0s - loss: 3.7228 - dense_4_loss: 2.7844 - lambda_1_loss: 0.9384     \n",
      "Epoch 22/50\n",
      "10000/10000 [==============================] - 0s - loss: 3.7227 - dense_4_loss: 2.7843 - lambda_1_loss: 0.9385     \n",
      "Epoch 23/50\n",
      "10000/10000 [==============================] - 0s - loss: 3.7211 - dense_4_loss: 2.7842 - lambda_1_loss: 0.9370     \n",
      "Epoch 24/50\n",
      "10000/10000 [==============================] - 0s - loss: 3.7212 - dense_4_loss: 2.7836 - lambda_1_loss: 0.9376     \n",
      "Epoch 25/50\n",
      "10000/10000 [==============================] - 0s - loss: 3.7212 - dense_4_loss: 2.7838 - lambda_1_loss: 0.9374     \n",
      "Epoch 26/50\n",
      "10000/10000 [==============================] - 0s - loss: 3.7204 - dense_4_loss: 2.7841 - lambda_1_loss: 0.9363     \n",
      "Epoch 27/50\n",
      "10000/10000 [==============================] - 0s - loss: 3.7200 - dense_4_loss: 2.7840 - lambda_1_loss: 0.9361     \n",
      "Epoch 28/50\n",
      "10000/10000 [==============================] - 0s - loss: 3.7195 - dense_4_loss: 2.7838 - lambda_1_loss: 0.9358     \n",
      "Epoch 29/50\n",
      "10000/10000 [==============================] - 0s - loss: 3.7194 - dense_4_loss: 2.7838 - lambda_1_loss: 0.9355     \n",
      "Epoch 30/50\n",
      "10000/10000 [==============================] - 0s - loss: 3.7193 - dense_4_loss: 2.7839 - lambda_1_loss: 0.9354     \n",
      "Epoch 31/50\n",
      "10000/10000 [==============================] - 0s - loss: 3.7195 - dense_4_loss: 2.7837 - lambda_1_loss: 0.9358     \n",
      "Epoch 32/50\n",
      "10000/10000 [==============================] - 0s - loss: 3.7179 - dense_4_loss: 2.7836 - lambda_1_loss: 0.9343     \n",
      "Epoch 33/50\n",
      "10000/10000 [==============================] - 0s - loss: 3.7193 - dense_4_loss: 2.7837 - lambda_1_loss: 0.9356     \n",
      "Epoch 34/50\n",
      "10000/10000 [==============================] - 0s - loss: 3.7180 - dense_4_loss: 2.7838 - lambda_1_loss: 0.9342     \n",
      "Epoch 35/50\n",
      "10000/10000 [==============================] - 0s - loss: 3.7182 - dense_4_loss: 2.7838 - lambda_1_loss: 0.9344     \n",
      "Epoch 36/50\n",
      "10000/10000 [==============================] - 0s - loss: 3.7186 - dense_4_loss: 2.7838 - lambda_1_loss: 0.9348     \n",
      "Epoch 37/50\n",
      "10000/10000 [==============================] - 0s - loss: 3.7181 - dense_4_loss: 2.7836 - lambda_1_loss: 0.9345     \n",
      "Epoch 38/50\n",
      "10000/10000 [==============================] - 0s - loss: 3.7178 - dense_4_loss: 2.7841 - lambda_1_loss: 0.9337     \n",
      "Epoch 39/50\n",
      "10000/10000 [==============================] - 0s - loss: 3.7182 - dense_4_loss: 2.7839 - lambda_1_loss: 0.9343     \n",
      "Epoch 40/50\n",
      "10000/10000 [==============================] - 0s - loss: 3.7180 - dense_4_loss: 2.7839 - lambda_1_loss: 0.9341     \n",
      "Epoch 41/50\n",
      "10000/10000 [==============================] - 0s - loss: 3.7179 - dense_4_loss: 2.7839 - lambda_1_loss: 0.9340     \n",
      "Epoch 42/50\n",
      "10000/10000 [==============================] - 0s - loss: 3.7176 - dense_4_loss: 2.7838 - lambda_1_loss: 0.9338     \n",
      "Epoch 43/50\n",
      "10000/10000 [==============================] - 0s - loss: 3.7176 - dense_4_loss: 2.7837 - lambda_1_loss: 0.9339     \n",
      "Epoch 44/50\n",
      "10000/10000 [==============================] - 0s - loss: 3.7174 - dense_4_loss: 2.7838 - lambda_1_loss: 0.9336     \n",
      "Epoch 45/50\n",
      "10000/10000 [==============================] - 0s - loss: 3.7170 - dense_4_loss: 2.7837 - lambda_1_loss: 0.9333     \n",
      "Epoch 46/50\n",
      "10000/10000 [==============================] - 0s - loss: 3.7168 - dense_4_loss: 2.7837 - lambda_1_loss: 0.9330     \n",
      "Epoch 47/50\n",
      "10000/10000 [==============================] - 0s - loss: 3.7172 - dense_4_loss: 2.7833 - lambda_1_loss: 0.9339     \n",
      "Epoch 48/50\n",
      "10000/10000 [==============================] - 0s - loss: 3.7167 - dense_4_loss: 2.7832 - lambda_1_loss: 0.9334     \n",
      "Epoch 49/50\n",
      "10000/10000 [==============================] - 0s - loss: 3.7168 - dense_4_loss: 2.7838 - lambda_1_loss: 0.9330     \n",
      "Epoch 50/50\n",
      "10000/10000 [==============================] - 0s - loss: 3.7165 - dense_4_loss: 2.7836 - lambda_1_loss: 0.9329     \n"
     ]
    },
    {
     "data": {
      "text/plain": [
       "<keras.callbacks.History at 0x7fa74cbe8e10>"
      ]
     },
     "execution_count": 10,
     "metadata": {},
     "output_type": "execute_result"
    }
   ],
   "source": [
    "scandal = make_scandal()\n",
    "scandal.fit([theta, x], [x, t_xz], batch_size=32, epochs=50)"
   ]
  },
  {
   "cell_type": "code",
   "execution_count": 11,
   "metadata": {},
   "outputs": [
    {
     "data": {
      "image/png": "[encoded data removed]",
      "text/plain": [
       "<Figure size 432x288 with 1 Axes>"
      ]
     },
     "metadata": {},
     "output_type": "display_data"
    }
   ],
   "source": [
    "plt.step(range(n_nails), p_estimated_0, label=\"histogram\")\n",
    "plt.step(range(n_nails), nde.predict(np.array([theta_0])).ravel(), label=\"nde\")\n",
    "plt.step(range(n_nails), scandal.predict([np.array([[theta_0]]), np.zeros((1, n_nails))])[0][0], label=\"scandal\")\n",
    "plt.legend()\n",
    "plt.title(r\"$\\theta=%.2f$\" % theta_0)\n",
    "plt.show()"
   ]
  },
  {
   "cell_type": "code",
   "execution_count": 12,
   "metadata": {},
   "outputs": [
    {
     "data": {
      "image/png": "[encoded data removed]",
      "text/plain": [
       "<Figure size 432x288 with 1 Axes>"
      ]
     },
     "metadata": {},
     "output_type": "display_data"
    }
   ],
   "source": [
    "plt.step(range(n_nails), p_estimated_1, label=\"histogram\")\n",
    "plt.step(range(n_nails), nde.predict(np.array([theta_1])).ravel(), label=\"nde\")\n",
    "plt.step(range(n_nails), scandal.predict([np.array([[theta_1]]), np.zeros((1, n_nails))])[0][0], label=\"scandal\")\n",
    "plt.legend()\n",
    "plt.title(r\"$\\theta=%.2f$\" % theta_1)\n",
    "plt.show()"
   ]
  },
  {
   "cell_type": "markdown",
   "metadata": {},
   "source": [
    "# CARL"
   ]
  },
  {
   "cell_type": "code",
   "execution_count": 13,
   "metadata": {},
   "outputs": [
    {
     "name": "stderr",
     "output_type": "stream",
     "text": [
      "ERROR (theano.gpuarray): Could not initialize pygpu, support disabled\n",
      "Traceback (most recent call last):\n",
      "  File \"/usr/local/lib/python2.7/dist-packages/theano/gpuarray/__init__.py\", line 220, in <module>\n",
      "    use(config.device)\n",
      "  File \"/usr/local/lib/python2.7/dist-packages/theano/gpuarray/__init__.py\", line 207, in use\n",
      "    init_dev(device, preallocate=preallocate)\n",
      "  File \"/usr/local/lib/python2.7/dist-packages/theano/gpuarray/__init__.py\", line 94, in init_dev\n",
      "    **args)\n",
      "  File \"pygpu/gpuarray.pyx\", line 658, in pygpu.gpuarray.init\n",
      "  File \"pygpu/gpuarray.pyx\", line 587, in pygpu.gpuarray.pygpu_init\n",
      "GpuArrayException: cuInit: CUDA_ERROR_NO_DEVICE: no CUDA-capable device is detected\n"
     ]
    }
   ],
   "source": [
    "from carl.ratios import ClassifierRatio\n",
    "from carl.learning import CalibratedClassifierCV\n",
    "from carl.learning import as_classifier\n",
    "from sklearn.pipeline import make_pipeline\n",
    "from sklearn.preprocessing import StandardScaler\n",
    "from sklearn.model_selection import StratifiedShuffleSplit\n",
    "from sklearn.ensemble import ExtraTreesClassifier\n",
    "from sklearn.ensemble import GradientBoostingClassifier\n",
    "from keras.wrappers.scikit_learn import KerasRegressor\n",
    "from carl.ratios import ClassifierScoreRatio\n",
    "from carl.learning import CalibratedClassifierScoreCV"
   ]
  },
  {
   "cell_type": "code",
   "execution_count": 14,
   "metadata": {
    "collapsed": true
   },
   "outputs": [],
   "source": [
    "def make_carl(lr=0.001):\n",
    "    inputs = Input(shape=(2 + n_outputs, )) \n",
    "    thetas = Lambda(lambda x: x[:,-2:], output_shape=(2,))(inputs)\n",
    "    x = Lambda(lambda x: x[:,:-2], output_shape=(n_outputs,))(inputs)\n",
    "    h = Dense(hidden_size, activation=\"tanh\")(inputs)\n",
    "    shat_thetas = Dense(n_outputs, activation=\"sigmoid\")(h)\n",
    "\n",
    "    shat_x_thetas = dot([x, shat_thetas], axes=1)\n",
    "    \n",
    "    model = Model(inputs=[inputs], outputs=[shat_x_thetas])\n",
    "    opt = Adam(lr=lr)\n",
    "    model.compile(loss=[\"binary_crossentropy\"], optimizer=opt)\n",
    "    return model"
   ]
  },
  {
   "cell_type": "code",
   "execution_count": 15,
   "metadata": {
    "collapsed": true
   },
   "outputs": [],
   "source": [
    "from galton import check_random_state\n",
    "from itertools import product\n",
    "\n",
    "def draw_parametrized(n_samples, n_thetas=10, random_state=0):\n",
    "    grid = list(product(np.linspace(-1.0, -0.4, n_thetas), \n",
    "                        np.linspace(-1.0, -0.4, n_thetas)))\n",
    "    n_traces_per_theta = n_samples // len(grid)\n",
    "    all_x = []\n",
    "    all_theta = []\n",
    "    all_y = []\n",
    "    k = 0\n",
    "    for theta_0, theta_1 in grid:\n",
    "        x_0, _, _, _ = galton_rvs(theta_0, n_runs=n_traces_per_theta, random_state=random_state+k)\n",
    "        x_1, _, _, _ = galton_rvs(theta_1, n_runs=n_traces_per_theta, random_state=random_state+k)\n",
    "        all_x += x_0\n",
    "        all_x += x_1\n",
    "        all_theta += [[theta_0, theta_1]] * (n_traces_per_theta * 2)\n",
    "        all_y += [0] * len(x_0)\n",
    "        all_y += [1] * len(x_1)\n",
    "        k += 1\n",
    "    all_x = np.array(all_x).reshape(-1, 1)\n",
    "    all_x = to_categorical(all_x, num_classes=n_nails)\n",
    "    all_theta = np.array(all_theta)\n",
    "    all_x = np.hstack([all_x, all_theta])\n",
    "    all_y = np.array(all_y)\n",
    "    rng = check_random_state(random_state)\n",
    "    choices = rng.choice(len(all_x), len(all_x), replace=False)\n",
    "        \n",
    "    return all_x[choices], all_y[choices]\n"
   ]
  },
  {
   "cell_type": "code",
   "execution_count": 28,
   "metadata": {
    "collapsed": true
   },
   "outputs": [],
   "source": [
    "all_x, all_y = draw_parametrized(10000)"
   ]
  },
  {
   "cell_type": "code",
   "execution_count": 29,
   "metadata": {},
   "outputs": [
    {
     "data": {
      "text/plain": [
       "ClassifierScoreRatio(base_estimator=CalibratedClassifierScoreCV(base_estimator=<keras.wrappers.scikit_learn.KerasRegressor object at 0x7fa777928e90>,\n",
       "              bins='auto', cv='prefit', independent_binning=True,\n",
       "              interpolation=None, method='isotonic', variable_width=False),\n",
       "           prefit=None, random_state=None)"
      ]
     },
     "execution_count": 29,
     "metadata": {},
     "output_type": "execute_result"
    }
   ],
   "source": [
    "carl = KerasRegressor(make_carl, epochs=50, batch_size=256, verbose=0)\n",
    "\n",
    "carl.fit(all_x,all_y)\n",
    "\n",
    "carl_calibrated = ClassifierScoreRatio(\n",
    "    CalibratedClassifierScoreCV(carl, cv='prefit', method='isotonic'))\n",
    "carl_calibrated.fit(all_x, all_y.reshape(-1,1))"
   ]
  },
  {
   "cell_type": "code",
   "execution_count": 30,
   "metadata": {
    "collapsed": true
   },
   "outputs": [],
   "source": [
    "def log_r_from_s(s, epsilon=1.e-6):\n",
    "    return np.log((1. - s + epsilon) / (s + epsilon))\n"
   ]
  },
  {
   "cell_type": "code",
   "execution_count": 31,
   "metadata": {},
   "outputs": [
    {
     "data": {
      "image/png": "[encoded data removed]",
      "text/plain": [
       "<Figure size 432x288 with 1 Axes>"
      ]
     },
     "metadata": {},
     "output_type": "display_data"
    }
   ],
   "source": [
    "r_true = np.log(p_estimated_0[5:-5]) - np.log(p_estimated_1[5:-5])\n",
    "\n",
    "x_test = to_categorical(np.array(range(n_nails)), num_classes=n_nails)\n",
    "r_carl = np.log(carl_calibrated.predict(np.hstack([x_test,\n",
    "                                 theta_0 * np.ones((n_nails, 1)), \n",
    "                                 theta_1 * np.ones((n_nails, 1))]))[0][5:-5])\n",
    "r_carl_raw = log_r_from_s(carl.predict(np.hstack([x_test,\n",
    "                                 theta_0 * np.ones((n_nails, 1)), \n",
    "                                 theta_1 * np.ones((n_nails, 1))]))[5:-5])\n",
    "\n",
    "\n",
    "plt.step(range(5, n_nails-5), r_true, label=\"estimated\")\n",
    "plt.step(range(5, n_nails-5), r_carl, label=\"carl\")\n",
    "plt.step(range(5, n_nails-5), r_carl_raw, label=\"carl raw\")\n",
    "\n",
    "plt.legend()\n",
    "plt.show()\n"
   ]
  },
  {
   "cell_type": "markdown",
   "metadata": {},
   "source": [
    "# ROLR + RASCAL"
   ]
  },
  {
   "cell_type": "code",
   "execution_count": 32,
   "metadata": {
    "collapsed": true
   },
   "outputs": [],
   "source": [
    "from galton import check_random_state\n",
    "from itertools import product\n",
    "\n",
    "def draw_ratio(n_samples, n_thetas=10, random_state=0):\n",
    "    grid = list(product(np.linspace(-1.0, -0.4, n_thetas), \n",
    "                        np.linspace(-1.0, -0.4, n_thetas)))\n",
    "    n_traces_per_theta = n_samples // len(grid)\n",
    "    \n",
    "    rng = check_random_state(random_state)\n",
    "    \n",
    "    all_x = []\n",
    "    all_log_r_xz = []\n",
    "    all_t_xz_0 = []\n",
    "    all_thetas = []\n",
    "\n",
    "    # draw from theta_0\n",
    "    for theta_0, theta_1 in grid:\n",
    "        x, log_p_xz_0, log_p_xz_1, t_xz_0, _, _ = galton_rvs_ratio(theta_0, theta_1, \n",
    "                                                                   n_runs=n_traces_per_theta, random_state=rng)\n",
    "        all_x.append(x)\n",
    "        all_log_r_xz.append(log_p_xz_0 - log_p_xz_1)\n",
    "        all_t_xz_0.append(t_xz_0)\n",
    "        all_thetas.append(np.tile(np.array([theta_0, theta_1]), (n_traces_per_theta, 1)))\n",
    "        \n",
    "    # reshape\n",
    "    all_x = np.array(all_x).reshape(-1, 1)\n",
    "    all_x = to_categorical(all_x, num_classes=n_nails)\n",
    "    all_log_r_xz = np.array(all_log_r_xz).reshape(-1, 1)\n",
    "    all_t_xz_0 = np.array(all_t_xz_0).reshape(-1, 1)\n",
    "    all_thetas = np.vstack(all_thetas)\n",
    "    \n",
    "    choices = rng.choice(len(all_x), len(all_x), replace=False)\n",
    "        \n",
    "    return all_x[choices], all_thetas[choices], all_log_r_xz[choices], all_t_xz_0[choices]"
   ]
  },
  {
   "cell_type": "code",
   "execution_count": 33,
   "metadata": {
    "collapsed": true
   },
   "outputs": [],
   "source": [
    "x, thetas, log_r_xz, t_xz_0 = draw_ratio(10000, n_thetas=10)"
   ]
  },
  {
   "cell_type": "code",
   "execution_count": 34,
   "metadata": {
    "collapsed": true
   },
   "outputs": [],
   "source": [
    "from keras.losses import mean_squared_error\n",
    "from keras.layers import concatenate\n",
    "from keras import losses\n",
    "\n",
    "def make_rolr(lr=0.001):\n",
    "    theta0 = Input(shape=(1,))\n",
    "    theta1 = Input(shape=(1,))\n",
    "    thetas = concatenate([theta0, theta1])\n",
    "    \n",
    "    h = Dense(hidden_size, activation=\"tanh\")(thetas)\n",
    "    log_rhat_thetas = Dense(n_outputs, activation=\"linear\")(h)\n",
    "    rhat_thetas = Lambda(lambda exp: K.exp(exp))(log_rhat_thetas)\n",
    "    \n",
    "    x = Input(shape=(n_outputs,))\n",
    "    rhat_x_thetas = dot([x, rhat_thetas], axes=1)\n",
    "    \n",
    "    model = Model(inputs=[theta0, theta1, x], outputs=[rhat_x_thetas])\n",
    "    opt = Adam(lr=lr)\n",
    "    model.compile(loss=[inv_mse], optimizer=opt)\n",
    "    \n",
    "    return model\n",
    "\n",
    "def inv_mse(y_true, y_pred):\n",
    "    inverse_r_loss = losses.mean_squared_error((1./ K.clip(y_true, -10., 10.)),\n",
    "                                               (1./ K.clip(y_pred, -10., 10.)))\n",
    "\n",
    "    return inverse_r_loss\n",
    "\n",
    "\n",
    "def make_rascal(lr=0.001):\n",
    "    theta0 = Input(shape=(1,))\n",
    "    theta1 = Input(shape=(1,))\n",
    "    thetas = concatenate([theta0, theta1])\n",
    "    \n",
    "    h = Dense(hidden_size, activation=\"tanh\")(thetas)\n",
    "    log_rhat_thetas = Dense(n_outputs, activation=\"linear\")(h)\n",
    "    rhat_thetas = Lambda(lambda exp: K.exp(exp))(log_rhat_thetas)\n",
    "    \n",
    "    x = Input(shape=(n_outputs,))\n",
    "    rhat_x_thetas = dot([x, rhat_thetas], axes=1)\n",
    "    \n",
    "    log_rhat_x_theta = dot([x, log_rhat_thetas], axes=1) \n",
    "    t_x_0 = Lambda(lambda exp: K.gradients(exp[0], [exp[1]])[0], \n",
    "                   output_shape=(n_features,))([log_rhat_x_theta, theta0])\n",
    "    \n",
    "    model = Model(inputs=[theta0, theta1, x], outputs=[rhat_x_thetas, t_x_0])\n",
    "    opt = Adam(lr=lr)\n",
    "    model.compile(loss=[inv_mse, \"mse\"], loss_weights=[1.0, 0.5], optimizer=opt)\n",
    "    \n",
    "    return model"
   ]
  },
  {
   "cell_type": "code",
   "execution_count": 35,
   "metadata": {
    "scrolled": true
   },
   "outputs": [
    {
     "name": "stdout",
     "output_type": "stream",
     "text": [
      "Epoch 1/50\n",
      "10000/10000 [==============================] - 0s - loss: 0.2718     \n",
      "Epoch 2/50\n",
      "10000/10000 [==============================] - 0s - loss: 0.2124     \n",
      "Epoch 3/50\n",
      "10000/10000 [==============================] - 0s - loss: 0.1808     \n",
      "Epoch 4/50\n",
      "10000/10000 [==============================] - 0s - loss: 0.1526     \n",
      "Epoch 5/50\n",
      "10000/10000 [==============================] - 0s - loss: 0.1339     \n",
      "Epoch 6/50\n",
      "10000/10000 [==============================] - 0s - loss: 0.1248     \n",
      "Epoch 7/50\n",
      "10000/10000 [==============================] - 0s - loss: 0.1182     \n",
      "Epoch 8/50\n",
      "10000/10000 [==============================] - 0s - loss: 0.1148     \n",
      "Epoch 9/50\n",
      "10000/10000 [==============================] - 0s - loss: 0.1120     \n",
      "Epoch 10/50\n",
      "10000/10000 [==============================] - 0s - loss: 0.1107     \n",
      "Epoch 11/50\n",
      "10000/10000 [==============================] - 0s - loss: 0.1094     \n",
      "Epoch 12/50\n",
      "10000/10000 [==============================] - 0s - loss: 0.1084     \n",
      "Epoch 13/50\n",
      "10000/10000 [==============================] - 0s - loss: 0.1082     \n",
      "Epoch 14/50\n",
      "10000/10000 [==============================] - 0s - loss: 0.1077     \n",
      "Epoch 15/50\n",
      "10000/10000 [==============================] - 0s - loss: 0.1069     \n",
      "Epoch 16/50\n",
      "10000/10000 [==============================] - 0s - loss: 0.1071     \n",
      "Epoch 17/50\n",
      "10000/10000 [==============================] - 0s - loss: 0.1070     \n",
      "Epoch 18/50\n",
      "10000/10000 [==============================] - 0s - loss: 0.1065     \n",
      "Epoch 19/50\n",
      "10000/10000 [==============================] - 0s - loss: 0.1066     \n",
      "Epoch 20/50\n",
      "10000/10000 [==============================] - 0s - loss: 0.1067     \n",
      "Epoch 21/50\n",
      "10000/10000 [==============================] - 0s - loss: 0.1065     \n",
      "Epoch 22/50\n",
      "10000/10000 [==============================] - 0s - loss: 0.1062     \n",
      "Epoch 23/50\n",
      "10000/10000 [==============================] - 0s - loss: 0.1066     \n",
      "Epoch 24/50\n",
      "10000/10000 [==============================] - 0s - loss: 0.1061     \n",
      "Epoch 25/50\n",
      "10000/10000 [==============================] - 0s - loss: 0.1062     \n",
      "Epoch 26/50\n",
      "10000/10000 [==============================] - 0s - loss: 0.1058     \n",
      "Epoch 27/50\n",
      "10000/10000 [==============================] - 0s - loss: 0.1061     \n",
      "Epoch 28/50\n",
      "10000/10000 [==============================] - 0s - loss: 0.1058     \n",
      "Epoch 29/50\n",
      "10000/10000 [==============================] - 0s - loss: 0.1060     \n",
      "Epoch 30/50\n",
      "10000/10000 [==============================] - 0s - loss: 0.1058     \n",
      "Epoch 31/50\n",
      "10000/10000 [==============================] - 0s - loss: 0.1058     \n",
      "Epoch 32/50\n",
      "10000/10000 [==============================] - 0s - loss: 0.1055     \n",
      "Epoch 33/50\n",
      "10000/10000 [==============================] - 0s - loss: 0.1059     \n",
      "Epoch 34/50\n",
      "10000/10000 [==============================] - 0s - loss: 0.1061     \n",
      "Epoch 35/50\n",
      "10000/10000 [==============================] - 0s - loss: 0.1061     \n",
      "Epoch 36/50\n",
      "10000/10000 [==============================] - 0s - loss: 0.1059     \n",
      "Epoch 37/50\n",
      "10000/10000 [==============================] - 0s - loss: 0.1058     \n",
      "Epoch 38/50\n",
      "10000/10000 [==============================] - 0s - loss: 0.1057     \n",
      "Epoch 39/50\n",
      "10000/10000 [==============================] - 0s - loss: 0.1057     \n",
      "Epoch 40/50\n",
      "10000/10000 [==============================] - 0s - loss: 0.1052     \n",
      "Epoch 41/50\n",
      "10000/10000 [==============================] - 0s - loss: 0.1057     \n",
      "Epoch 42/50\n",
      "10000/10000 [==============================] - 0s - loss: 0.1056     \n",
      "Epoch 43/50\n",
      "10000/10000 [==============================] - 0s - loss: 0.1058     \n",
      "Epoch 44/50\n",
      "10000/10000 [==============================] - 0s - loss: 0.1058     \n",
      "Epoch 45/50\n",
      "10000/10000 [==============================] - 0s - loss: 0.1056     \n",
      "Epoch 46/50\n",
      "10000/10000 [==============================] - 0s - loss: 0.1058     \n",
      "Epoch 47/50\n",
      "10000/10000 [==============================] - 0s - loss: 0.1059     \n",
      "Epoch 48/50\n",
      "10000/10000 [==============================] - 0s - loss: 0.1057     \n",
      "Epoch 49/50\n",
      "10000/10000 [==============================] - 0s - loss: 0.1060     \n",
      "Epoch 50/50\n",
      "10000/10000 [==============================] - 0s - loss: 0.1056     \n"
     ]
    },
    {
     "data": {
      "text/plain": [
       "<keras.callbacks.History at 0x7fa74ca7c250>"
      ]
     },
     "execution_count": 35,
     "metadata": {},
     "output_type": "execute_result"
    }
   ],
   "source": [
    "rolr = make_rolr()\n",
    "rolr.fit([thetas[:, 0], \n",
    "          thetas[:, 1], \n",
    "          x], \n",
    "         np.exp(log_r_xz), \n",
    "         batch_size=32, epochs=50)"
   ]
  },
  {
   "cell_type": "code",
   "execution_count": 36,
   "metadata": {},
   "outputs": [
    {
     "name": "stdout",
     "output_type": "stream",
     "text": [
      "Epoch 1/50\n",
      "10000/10000 [==============================] - 0s - loss: 1.2915 - dot_7_loss: 0.2416 - lambda_12_loss: 2.0998     \n",
      "Epoch 2/50\n",
      "10000/10000 [==============================] - 0s - loss: 0.7906 - dot_7_loss: 0.1573 - lambda_12_loss: 1.2666     \n",
      "Epoch 3/50\n",
      "10000/10000 [==============================] - 0s - loss: 0.6898 - dot_7_loss: 0.1293 - lambda_12_loss: 1.1208     \n",
      "Epoch 4/50\n",
      "10000/10000 [==============================] - 0s - loss: 0.6645 - dot_7_loss: 0.1209 - lambda_12_loss: 1.0871     \n",
      "Epoch 5/50\n",
      "10000/10000 [==============================] - 0s - loss: 0.6500 - dot_7_loss: 0.1167 - lambda_12_loss: 1.0667     \n",
      "Epoch 6/50\n",
      "10000/10000 [==============================] - 0s - loss: 0.6392 - dot_7_loss: 0.1142 - lambda_12_loss: 1.0500     \n",
      "Epoch 7/50\n",
      "10000/10000 [==============================] - 0s - loss: 0.6299 - dot_7_loss: 0.1122 - lambda_12_loss: 1.0355     \n",
      "Epoch 8/50\n",
      "10000/10000 [==============================] - 0s - loss: 0.6219 - dot_7_loss: 0.1109 - lambda_12_loss: 1.0221     \n",
      "Epoch 9/50\n",
      "10000/10000 [==============================] - 0s - loss: 0.6142 - dot_7_loss: 0.1101 - lambda_12_loss: 1.0083     \n",
      "Epoch 10/50\n",
      "10000/10000 [==============================] - 0s - loss: 0.6072 - dot_7_loss: 0.1092 - lambda_12_loss: 0.9961     \n",
      "Epoch 11/50\n",
      "10000/10000 [==============================] - 0s - loss: 0.6005 - dot_7_loss: 0.1083 - lambda_12_loss: 0.9843     \n",
      "Epoch 12/50\n",
      "10000/10000 [==============================] - 0s - loss: 0.5949 - dot_7_loss: 0.1081 - lambda_12_loss: 0.9736     \n",
      "Epoch 13/50\n",
      "10000/10000 [==============================] - 0s - loss: 0.5895 - dot_7_loss: 0.1074 - lambda_12_loss: 0.9643     \n",
      "Epoch 14/50\n",
      "10000/10000 [==============================] - 0s - loss: 0.5842 - dot_7_loss: 0.1071 - lambda_12_loss: 0.9544     \n",
      "Epoch 15/50\n",
      "10000/10000 [==============================] - 0s - loss: 0.5801 - dot_7_loss: 0.1071 - lambda_12_loss: 0.9459     \n",
      "Epoch 16/50\n",
      "10000/10000 [==============================] - 0s - loss: 0.5762 - dot_7_loss: 0.1063 - lambda_12_loss: 0.9398     \n",
      "Epoch 17/50\n",
      "10000/10000 [==============================] - 0s - loss: 0.5734 - dot_7_loss: 0.1065 - lambda_12_loss: 0.9338     \n",
      "Epoch 18/50\n",
      "10000/10000 [==============================] - 0s - loss: 0.5706 - dot_7_loss: 0.1064 - lambda_12_loss: 0.9286     \n",
      "Epoch 19/50\n",
      "10000/10000 [==============================] - 0s - loss: 0.5685 - dot_7_loss: 0.1062 - lambda_12_loss: 0.9247     \n",
      "Epoch 20/50\n",
      "10000/10000 [==============================] - 0s - loss: 0.5659 - dot_7_loss: 0.1049 - lambda_12_loss: 0.9220     \n",
      "Epoch 21/50\n",
      "10000/10000 [==============================] - 0s - loss: 0.5649 - dot_7_loss: 0.1055 - lambda_12_loss: 0.9188     \n",
      "Epoch 22/50\n",
      "10000/10000 [==============================] - 0s - loss: 0.5633 - dot_7_loss: 0.1048 - lambda_12_loss: 0.9169     \n",
      "Epoch 23/50\n",
      "10000/10000 [==============================] - 0s - loss: 0.5627 - dot_7_loss: 0.1055 - lambda_12_loss: 0.9144     \n",
      "Epoch 24/50\n",
      "10000/10000 [==============================] - 0s - loss: 0.5620 - dot_7_loss: 0.1056 - lambda_12_loss: 0.9128     \n",
      "Epoch 25/50\n",
      "10000/10000 [==============================] - 0s - loss: 0.5614 - dot_7_loss: 0.1056 - lambda_12_loss: 0.9116     \n",
      "Epoch 26/50\n",
      "10000/10000 [==============================] - 0s - loss: 0.5602 - dot_7_loss: 0.1048 - lambda_12_loss: 0.9108     \n",
      "Epoch 27/50\n",
      "10000/10000 [==============================] - 0s - loss: 0.5597 - dot_7_loss: 0.1048 - lambda_12_loss: 0.9097     \n",
      "Epoch 28/50\n",
      "10000/10000 [==============================] - 0s - loss: 0.5598 - dot_7_loss: 0.1051 - lambda_12_loss: 0.9096     \n",
      "Epoch 29/50\n",
      "10000/10000 [==============================] - 0s - loss: 0.5590 - dot_7_loss: 0.1050 - lambda_12_loss: 0.9079     \n",
      "Epoch 30/50\n",
      "10000/10000 [==============================] - 0s - loss: 0.5592 - dot_7_loss: 0.1052 - lambda_12_loss: 0.9081     \n",
      "Epoch 31/50\n",
      "10000/10000 [==============================] - 0s - loss: 0.5583 - dot_7_loss: 0.1047 - lambda_12_loss: 0.9071     \n",
      "Epoch 32/50\n",
      "10000/10000 [==============================] - 0s - loss: 0.5586 - dot_7_loss: 0.1051 - lambda_12_loss: 0.9070     \n",
      "Epoch 33/50\n",
      "10000/10000 [==============================] - 0s - loss: 0.5580 - dot_7_loss: 0.1050 - lambda_12_loss: 0.9060     \n",
      "Epoch 34/50\n",
      "10000/10000 [==============================] - 0s - loss: 0.5576 - dot_7_loss: 0.1048 - lambda_12_loss: 0.9057     \n",
      "Epoch 35/50\n",
      "10000/10000 [==============================] - 0s - loss: 0.5573 - dot_7_loss: 0.1047 - lambda_12_loss: 0.9051     \n",
      "Epoch 36/50\n",
      "10000/10000 [==============================] - 0s - loss: 0.5572 - dot_7_loss: 0.1047 - lambda_12_loss: 0.9050     \n",
      "Epoch 37/50\n",
      "10000/10000 [==============================] - 0s - loss: 0.5567 - dot_7_loss: 0.1042 - lambda_12_loss: 0.9049     \n",
      "Epoch 38/50\n",
      "10000/10000 [==============================] - 0s - loss: 0.5576 - dot_7_loss: 0.1047 - lambda_12_loss: 0.9057     \n",
      "Epoch 39/50\n",
      "10000/10000 [==============================] - 0s - loss: 0.5572 - dot_7_loss: 0.1049 - lambda_12_loss: 0.9047     \n",
      "Epoch 40/50\n",
      "10000/10000 [==============================] - 0s - loss: 0.5568 - dot_7_loss: 0.1046 - lambda_12_loss: 0.9043     \n",
      "Epoch 41/50\n",
      "10000/10000 [==============================] - 0s - loss: 0.5563 - dot_7_loss: 0.1046 - lambda_12_loss: 0.9033     \n",
      "Epoch 42/50\n",
      "10000/10000 [==============================] - 0s - loss: 0.5562 - dot_7_loss: 0.1043 - lambda_12_loss: 0.9038     \n",
      "Epoch 43/50\n",
      "10000/10000 [==============================] - 0s - loss: 0.5565 - dot_7_loss: 0.1050 - lambda_12_loss: 0.9030     \n",
      "Epoch 44/50\n",
      "10000/10000 [==============================] - 0s - loss: 0.5561 - dot_7_loss: 0.1046 - lambda_12_loss: 0.9032     \n",
      "Epoch 45/50\n",
      "10000/10000 [==============================] - 0s - loss: 0.5561 - dot_7_loss: 0.1046 - lambda_12_loss: 0.9031     \n",
      "Epoch 46/50\n",
      "10000/10000 [==============================] - 0s - loss: 0.5563 - dot_7_loss: 0.1046 - lambda_12_loss: 0.9033     \n",
      "Epoch 47/50\n",
      "10000/10000 [==============================] - 0s - loss: 0.5553 - dot_7_loss: 0.1044 - lambda_12_loss: 0.9020     \n",
      "Epoch 48/50\n",
      "10000/10000 [==============================] - 0s - loss: 0.5563 - dot_7_loss: 0.1047 - lambda_12_loss: 0.9034     \n",
      "Epoch 49/50\n",
      "10000/10000 [==============================] - 0s - loss: 0.5558 - dot_7_loss: 0.1047 - lambda_12_loss: 0.9022     \n",
      "Epoch 50/50\n",
      "10000/10000 [==============================] - 0s - loss: 0.5557 - dot_7_loss: 0.1045 - lambda_12_loss: 0.9025     \n"
     ]
    },
    {
     "data": {
      "text/plain": [
       "<keras.callbacks.History at 0x7fa6aa038190>"
      ]
     },
     "execution_count": 36,
     "metadata": {},
     "output_type": "execute_result"
    }
   ],
   "source": [
    "rascal = make_rascal()\n",
    "rascal.fit([thetas[:, 0], \n",
    "            thetas[:, 1], \n",
    "            x], \n",
    "           [np.exp(log_r_xz), \n",
    "            t_xz_0], \n",
    "           batch_size=32, epochs=50)"
   ]
  },
  {
   "cell_type": "code",
   "execution_count": 37,
   "metadata": {},
   "outputs": [
    {
     "data": {
      "image/png": "[encoded data removed]",
      "text/plain": [
       "<Figure size 432x288 with 1 Axes>"
      ]
     },
     "metadata": {},
     "output_type": "display_data"
    }
   ],
   "source": [
    "r_true = np.exp(np.log(p_estimated_0[5:-5]) - np.log(p_estimated_1[5:-5]))\n",
    "\n",
    "x_test = to_categorical(np.array(range(n_nails)), num_classes=n_nails)\n",
    "r_rolr = rolr.predict([theta_0 * np.ones(n_nails), \n",
    "                       theta_1 * np.ones(n_nails),\n",
    "                       x_test])[5:-5]\n",
    "r_rascal = rascal.predict([theta_0 * np.ones(n_nails),\n",
    "                           theta_1 * np.ones(n_nails),\n",
    "                           x_test])[0][5:-5]\n",
    "\n",
    "plt.step(range(5, n_nails-5), r_true, label=\"estimated\")\n",
    "plt.step(range(5, n_nails-5), r_rolr, label=\"rolr\")\n",
    "plt.step(range(5, n_nails-5), r_rascal, label=\"rascal\")\n",
    "plt.legend()\n",
    "plt.show()"
   ]
  },
  {
   "cell_type": "markdown",
   "metadata": {},
   "source": [
    "---"
   ]
  },
  {
   "cell_type": "markdown",
   "metadata": {},
   "source": [
    "# Model comparison"
   ]
  },
  {
   "cell_type": "code",
   "execution_count": 38,
   "metadata": {
    "collapsed": true
   },
   "outputs": [],
   "source": [
    "def compute_mse(p_train, p_estimated):\n",
    "    p_ratio_train =  np.log(p_train[0]) - np.log(p_train[1])\n",
    "    p_ratio = np.log(p_estimated[0]) - np.log(p_estimated[1])\n",
    "    mse = p_ratio_train - p_ratio\n",
    "    mse[np.logical_or(np.isinf(mse),np.isnan(mse))] = 0.\n",
    "    mse = np.dot(mse**2, p_estimated[1])\n",
    "    return mse\n",
    "def compute_mse_ratio(ratio, p_estimated, log=True):\n",
    "    p_ratio = np.log(p_estimated[0]) - np.log(p_estimated[1])\n",
    "    if log:\n",
    "        p_ratio_train = np.log(ratio)\n",
    "    else:\n",
    "        p_ratio_train = ratio\n",
    "    mse = p_ratio_train - p_ratio\n",
    "    mse[np.logical_or(np.isinf(mse),np.isnan(mse))] = 0.\n",
    "    mse = np.dot(mse**2, p_estimated[1])\n",
    "    return mse"
   ]
  },
  {
   "cell_type": "code",
   "execution_count": 56,
   "metadata": {},
   "outputs": [
    {
     "name": "stdout",
     "output_type": "stream",
     "text": [
      "200 Sample\n",
      "500 Sample\n",
      "1000 Sample\n",
      "2000 Sample\n",
      "5000 Sample\n",
      "10000 Sample\n"
     ]
    }
   ],
   "source": [
    "mses_nde = []\n",
    "mses_scandal = []\n",
    "mses_carl = []\n",
    "mses_carl_raw = []\n",
    "mses_rolr = []\n",
    "mses_rascal = []\n",
    "p_estimated = np.array([p_estimated_0, p_estimated_1])\n",
    "samples_size = [200,500,1000,2000,5000,10000]\n",
    "x_test = to_categorical(np.array(range(n_nails)), num_classes=n_nails)\n",
    "for n in samples_size:\n",
    "    print('{0} Sample'.format(n))\n",
    "    # NDE - SCANDAL\n",
    "    x, t_xz, theta = draw(n)\n",
    "    nde = make_nde()\n",
    "    nde.fit(theta, x, batch_size=32, epochs=50, verbose=0)\n",
    "    scandal = make_scandal()\n",
    "    scandal.fit([theta, x], [x, t_xz], batch_size=32, epochs=50, verbose=0)\n",
    "    nde_pred = nde.predict([theta_0, theta_1])\n",
    "    scandal_pred = scandal.predict([np.array([[theta_0], [theta_1]]), np.zeros((2, n_nails))])[0]\n",
    "    mse_nde = compute_mse(nde_pred, p_estimated)\n",
    "    mse_scandal = compute_mse(scandal_pred, p_estimated)\n",
    "    # CARL\n",
    "    all_x, all_y = draw_parametrized(n//2, random_state=n)\n",
    "    x_test = to_categorical(np.array(range(n_nails)), num_classes=n_nails)\n",
    "    \n",
    "    carl = KerasRegressor(make_carl, epochs=50, batch_size=256, verbose=0)\n",
    "\n",
    "    carl.fit(all_x,all_y)\n",
    "\n",
    "    carl_calibrated = ClassifierScoreRatio(\n",
    "        CalibratedClassifierScoreCV(carl, cv='prefit', method='histogram', \n",
    "                                    bins=10 if n < 1000 else 20))\n",
    "    carl_calibrated.fit(all_x, all_y.reshape(-1,1))\n",
    "    carl_pred = carl_calibrated.predict(np.hstack([x_test,\n",
    "                                 theta_0 * np.ones((n_nails, 1)), \n",
    "                                 theta_1 * np.ones((n_nails, 1))]))[0][5:-5]\n",
    "    carl_raw_pred = log_r_from_s(carl.predict(np.hstack([x_test,\n",
    "                                 theta_0 * np.ones((n_nails, 1)), \n",
    "                                 theta_1 * np.ones((n_nails, 1))]))[5:-5])\n",
    "    mse_carl = compute_mse_ratio(carl_pred.flatten(), p_estimated[:,5:-5], log=True)\n",
    "    mse_carl_raw = compute_mse_ratio(carl_raw_pred.flatten(), p_estimated[:,5:-5], log=False)\n",
    "    # ROLR - RASCAL\n",
    "    x, thetas, log_r_xz, t_xz_0 = draw_ratio(n, n_thetas=10)\n",
    "    rolr = make_rolr()\n",
    "    rolr.fit([thetas[:, 0], \n",
    "              thetas[:, 1], \n",
    "              x], \n",
    "             np.exp(log_r_xz), \n",
    "             batch_size=32, epochs=50, verbose=0)\n",
    "    rascal = make_rascal()\n",
    "    rascal.fit([thetas[:, 0], \n",
    "                thetas[:, 1], \n",
    "                x], \n",
    "               [np.exp(log_r_xz), \n",
    "                t_xz_0], \n",
    "               batch_size=32, epochs=50, verbose=0)\n",
    "    rolr_pred = rolr.predict([theta_0 * np.ones(n_nails), \n",
    "                           theta_1 * np.ones(n_nails),\n",
    "                           x_test])[5:-5]\n",
    "    rascal_pred = rascal.predict([theta_0 * np.ones(n_nails),\n",
    "                               theta_1 * np.ones(n_nails),\n",
    "                               x_test])[0][5:-5]\n",
    "    mse_rolr = compute_mse_ratio(rolr_pred.flatten(), p_estimated[:, 5:-5], log=True)\n",
    "    mse_rascal = compute_mse_ratio(rascal_pred.flatten(), p_estimated[:, 5:-5], log=True)\n",
    "    mses_nde.append(mse_nde)\n",
    "    mses_rascal.append(mse_rascal)\n",
    "    mses_carl.append(mse_carl)\n",
    "    mses_carl_raw.append(mse_carl_raw)\n",
    "    mses_rolr.append(mse_rolr)\n",
    "    mses_scandal.append(mse_scandal)"
   ]
  },
  {
   "cell_type": "code",
   "execution_count": 57,
   "metadata": {
    "collapsed": true
   },
   "outputs": [],
   "source": [
    "from utils import calculate_height, adjust_margins"
   ]
  },
  {
   "cell_type": "code",
   "execution_count": 58,
   "metadata": {
    "collapsed": true
   },
   "outputs": [],
   "source": [
    "colors = ['','darkgreen', 'slateblue',  'c', '#CC002E', '0.5']\n",
    "linestyles = ['',  ':', '--', ':', '-.', '--']\n",
    "linewidths = [1.5 if ls == ':' else 1.5 for ls in linestyles]\n",
    "markers    = [None] + ['o'] * 5"
   ]
  },
  {
   "cell_type": "code",
   "execution_count": 59,
   "metadata": {
    "collapsed": true
   },
   "outputs": [],
   "source": [
    "mses_nde = np.array(mses_nde)\n",
    "mses_scandal = np.array(mses_scandal)\n",
    "mses_rolr = np.array(mses_rolr)\n",
    "mses_rascal = np.array(mses_rascal)\n",
    "mses_carl = np.array(mses_carl)\n",
    "mses_carl_raw = np.array(mses_carl_raw)"
   ]
  },
  {
   "cell_type": "code",
   "execution_count": 60,
   "metadata": {},
   "outputs": [
    {
     "data": {
      "image/png": "[encoded data removed]",
      "text/plain": [
       "<Figure size 324x312.48 with 1 Axes>"
      ]
     },
     "metadata": {},
     "output_type": "display_data"
    }
   ],
   "source": [
    "fig = plt.figure(figsize=(4.5,calculate_height(1,4.5,extra_top_space=False)))\n",
    "ax = plt.gca()\n",
    "samples_size = [200,500,1000,2000,5000,10000]\n",
    "\n",
    "mses = [mses_carl_raw, mses_nde, mses_rolr, mses_rascal, mses_scandal]\n",
    "labels = ['LRT', 'NDE', 'ROLR', 'RASCAL', 'SCANDAL']\n",
    "s = 1\n",
    "plt.plot(samples_size, mses[s-1], \n",
    "         ms=4., marker=markers[s],\n",
    "         color=colors[s],\n",
    "         lw=linewidths[s], ls=linestyles[s])\n",
    "plt.plot([], [],\n",
    "         color=colors[s],\n",
    "         lw=linewidths[s], ls=linestyles[s],\n",
    "         label=labels[s-1])\n",
    "\n",
    "s = 2\n",
    "plt.plot(samples_size, mses[s-1],\n",
    "         ms=4., marker=markers[s],\n",
    "         color=colors[s],\n",
    "         lw=linewidths[s], ls=linestyles[s])\n",
    "plt.plot([], [],\n",
    "         color=colors[s],\n",
    "         lw=linewidths[s], ls=linestyles[s],\n",
    "         label=labels[s-1])\n",
    "\n",
    "s = 3\n",
    "plt.plot(samples_size, mses[s-1],\n",
    "         ms=4., marker=markers[s],\n",
    "         color=colors[s],\n",
    "         lw=linewidths[s], ls=linestyles[s])\n",
    "plt.plot([], [],\n",
    "         color=colors[s],\n",
    "         lw=linewidths[s], ls=linestyles[s],\n",
    "         label=labels[s-1])\n",
    "\n",
    "s = 4\n",
    "plt.plot(samples_size, mses[s-1],\n",
    "         ms=4., marker=markers[s],\n",
    "         color=colors[s],\n",
    "         lw=linewidths[s], ls=linestyles[s])\n",
    "plt.plot([], [],\n",
    "         color=colors[s],\n",
    "         lw=linewidths[s], ls=linestyles[s],\n",
    "         label=labels[s-1])\n",
    "\n",
    "s = 5\n",
    "plt.plot(samples_size, mses[s-1],\n",
    "         ms=4., marker=markers[s],\n",
    "         color=colors[s],\n",
    "         lw=linewidths[s], ls=linestyles[s])\n",
    "plt.plot([], [],\n",
    "         color=colors[s],\n",
    "         lw=linewidths[s], ls=linestyles[s],\n",
    "         label=labels[s-1])\n",
    "\n",
    "plt.legend(frameon=False)\n",
    "ax.set_xscale(\"log\", nonposx='clip')\n",
    "#plt.ylim(-0.00, 0.165)\n",
    "plt.xlabel(r\"Training sample size\")\n",
    "plt.ylabel(r'MSE$(\\log\\,r(x|\\theta_0, \\theta_1),\\log\\,\\hat{r}(x|\\theta_0, \\theta_1))$')\n",
    "\n",
    "adjust_margins(1,4.5,extra_top_space=False)\n",
    "#plt.savefig('plinko_models_comparison.pdf')"
   ]
  },
  {
   "cell_type": "code",
   "execution_count": null,
   "metadata": {
    "collapsed": true
   },
   "outputs": [],
   "source": []
  }
 ],
 "metadata": {
  "kernelspec": {
   "display_name": "Python [default]",
   "language": "python",
   "name": "python3"
  },
  "language_info": {
   "codemirror_mode": {
    "name": "ipython",
    "version": 3
   },
   "file_extension": ".py",
   "mimetype": "text/x-python",
   "name": "python",
   "nbconvert_exporter": "python",
   "pygments_lexer": "ipython3",
   "version": "3.6.4"
  }
 },
 "nbformat": 4,
 "nbformat_minor": 2
}

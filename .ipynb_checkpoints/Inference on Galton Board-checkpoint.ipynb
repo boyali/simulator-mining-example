{
 "cells": [
  {
   "cell_type": "code",
   "execution_count": 1,
   "metadata": {},
   "outputs": [],
   "source": [
    "import numpy as np\n",
    "import matplotlib.pyplot as plt\n",
    "%matplotlib inline\n",
    "\n",
    "from galton import galton_rvs\n",
    "from galton import galton_rvs_ratio"
   ]
  },
  {
   "cell_type": "code",
   "execution_count": 2,
   "metadata": {},
   "outputs": [],
   "source": [
    "from galton import n_nails\n",
    "from galton import n_rows\n",
    "\n",
    "theta_0 = -0.8\n",
    "theta_1 = -0.6"
   ]
  },
  {
   "cell_type": "markdown",
   "metadata": {},
   "source": [
    "# Density estimation with histograms"
   ]
  },
  {
   "cell_type": "code",
   "execution_count": 3,
   "metadata": {},
   "outputs": [],
   "source": [
    "samples_0, _, scores_0, _ = galton_rvs(theta_0, n_runs=20000, random_state=1234)\n",
    "p_estimated_0, _ = np.histogram(\n",
    "    samples_0, bins=n_nails, range=(0, n_nails), density=True\n",
    ")\n",
    "\n",
    "samples_1, _, scores_1, _ = galton_rvs(theta_1, n_runs=20000, random_state=1234)\n",
    "p_estimated_1, _ = np.histogram(\n",
    "    samples_1, bins=n_nails, range=(0, n_nails), density=True\n",
    ")"
   ]
  },
  {
   "cell_type": "code",
   "execution_count": 4,
   "metadata": {},
   "outputs": [
    {
     "data": {
      "image/png": "[encoded data removed]",
      "text/plain": [
       "<matplotlib.figure.Figure at 0x1110e0cc0>"
      ]
     },
     "metadata": {},
     "output_type": "display_data"
    }
   ],
   "source": [
    "plt.step(\n",
    "    range(len(p_estimated_0)), p_estimated_0, c=\"r\", lw=1.5, label=r\"$p(x|\\theta_0)$\"\n",
    ")\n",
    "plt.step(\n",
    "    range(len(p_estimated_0)), p_estimated_1, c=\"b\", lw=1.5, label=r\"$p(x|\\theta_1)$\"\n",
    ")\n",
    "\n",
    "plt.xlabel(\"x\")\n",
    "plt.ylabel(\"p(x)\")\n",
    "plt.legend()\n",
    "plt.show()"
   ]
  },
  {
   "cell_type": "markdown",
   "metadata": {},
   "source": [
    "# NDE + SCANDAL"
   ]
  },
  {
   "cell_type": "code",
   "execution_count": 5,
   "metadata": {},
   "outputs": [
    {
     "name": "stderr",
     "output_type": "stream",
     "text": [
      "/Users/johannbrehmer/anaconda3/envs/higgs_inference/lib/python3.6/site-packages/h5py/__init__.py:36: FutureWarning: Conversion of the second argument of issubdtype from `float` to `np.floating` is deprecated. In future, it will be treated as `np.float64 == np.dtype(float).type`.\n",
      "  from ._conv import register_converters as _register_converters\n",
      "Using TensorFlow backend.\n",
      "/Users/johannbrehmer/anaconda3/envs/higgs_inference/lib/python3.6/importlib/_bootstrap.py:219: RuntimeWarning: compiletime version 3.5 of module 'tensorflow.python.framework.fast_tensor_util' does not match runtime version 3.6\n",
      "  return f(*args, **kwds)\n"
     ]
    }
   ],
   "source": [
    "from galton import check_random_state\n",
    "from keras.utils import to_categorical\n",
    "\n",
    "\n",
    "def draw_nde(n_samples, n_thetas=10, random_state=0):\n",
    "    n_traces_per_theta = n_samples // n_thetas\n",
    "\n",
    "    all_x = []\n",
    "    all_t_xz = []\n",
    "    all_thetas = []\n",
    "\n",
    "    for k, theta in enumerate(np.linspace(-1.0, -0.4, n_thetas)):\n",
    "        x, log_p_xz, t_xz, _ = galton_rvs(\n",
    "            theta, n_runs=n_traces_per_theta, random_state=random_state + k\n",
    "        )\n",
    "        all_x.append(x)\n",
    "        all_t_xz.append(t_xz)\n",
    "        all_thetas.append(theta * np.ones(n_traces_per_theta))\n",
    "\n",
    "    all_x = np.array(all_x).reshape(-1, 1)\n",
    "    all_x = to_categorical(all_x, num_classes=n_nails)\n",
    "    all_t_xz = np.array(all_t_xz).reshape(-1, 1)\n",
    "    all_thetas = np.array(all_thetas).reshape(-1, 1)\n",
    "\n",
    "    rng = check_random_state(random_state)\n",
    "    choices = rng.choice(len(all_x), len(all_x), replace=False)\n",
    "\n",
    "    return all_x[choices], all_t_xz[choices], all_thetas[choices]"
   ]
  },
  {
   "cell_type": "code",
   "execution_count": 6,
   "metadata": {},
   "outputs": [],
   "source": [
    "x, t_xz, theta = draw_nde(10000)"
   ]
  },
  {
   "cell_type": "code",
   "execution_count": 106,
   "metadata": {},
   "outputs": [],
   "source": [
    "n_features = 1 \n",
    "hidden_size = 50\n",
    "n_outputs = n_nails"
   ]
  },
  {
   "cell_type": "code",
   "execution_count": 8,
   "metadata": {},
   "outputs": [],
   "source": [
    "from keras.optimizers import Adam\n",
    "from keras.layers import Input, Dense, Lambda, dot\n",
    "from keras.models import Model\n",
    "from keras.utils import to_categorical\n",
    "import keras.backend as K\n",
    "\n",
    "\n",
    "def make_nde(lr=0.001):\n",
    "    theta = Input(shape=(1,))\n",
    "    h = Dense(hidden_size, activation=\"tanh\")(theta)\n",
    "    phat_theta = Dense(n_outputs, activation=\"softmax\")(h)\n",
    "\n",
    "    model = Model(inputs=[theta], outputs=[phat_theta])\n",
    "    opt = Adam(lr=lr)\n",
    "    model.compile(loss=[\"categorical_crossentropy\"], optimizer=opt)\n",
    "\n",
    "    return model\n",
    "\n",
    "\n",
    "def make_scandal(lr=0.001):\n",
    "    theta = Input(shape=(1,))\n",
    "    h = Dense(hidden_size, activation=\"tanh\")(theta)\n",
    "    phat_theta = Dense(n_outputs, activation=\"softmax\")(h)\n",
    "\n",
    "    x = Input(shape=(n_outputs,))\n",
    "    phat_x_theta = dot([x, phat_theta], axes=1)\n",
    "    t_x = Lambda(\n",
    "        lambda exp: K.gradients(K.log(exp[0]), [exp[1]])[0], output_shape=(n_features,)\n",
    "    )([phat_x_theta, theta])\n",
    "\n",
    "    model = Model(inputs=[theta, x], outputs=[phat_theta, t_x])\n",
    "    opt = Adam(lr=lr)\n",
    "    model.compile(loss=[\"categorical_crossentropy\", \"mse\"], optimizer=opt)\n",
    "\n",
    "    return model"
   ]
  },
  {
   "cell_type": "code",
   "execution_count": null,
   "metadata": {
    "scrolled": true
   },
   "outputs": [],
   "source": [
    "nde = make_nde()\n",
    "nde.fit(theta, x,\n",
    "        batch_size=32, epochs=50, verbose=0)"
   ]
  },
  {
   "cell_type": "code",
   "execution_count": null,
   "metadata": {
    "scrolled": true
   },
   "outputs": [],
   "source": [
    "scandal = make_scandal()\n",
    "scandal.fit([theta, x], [x, t_xz], batch_size=32, epochs=50)"
   ]
  },
  {
   "cell_type": "code",
   "execution_count": 11,
   "metadata": {},
   "outputs": [
    {
     "data": {
      "image/png": "[encoded data removed]",
      "text/plain": [
       "<matplotlib.figure.Figure at 0x1820924470>"
      ]
     },
     "metadata": {},
     "output_type": "display_data"
    }
   ],
   "source": [
    "plt.step(range(n_nails), p_estimated_0, label=\"histogram\")\n",
    "plt.step(range(n_nails), nde.predict(np.array([theta_0])).ravel(), label=\"nde\")\n",
    "plt.step(\n",
    "    range(n_nails),\n",
    "    scandal.predict([np.array([[theta_0]]), np.zeros((1, n_nails))])[0][0],\n",
    "    label=\"scandal\",\n",
    ")\n",
    "plt.legend()\n",
    "plt.title(r\"$\\theta=%.2f$\" % theta_0)\n",
    "plt.show()"
   ]
  },
  {
   "cell_type": "code",
   "execution_count": 12,
   "metadata": {},
   "outputs": [
    {
     "data": {
      "image/png": "[encoded data removed]",
      "text/plain": [
       "<matplotlib.figure.Figure at 0x18209240f0>"
      ]
     },
     "metadata": {},
     "output_type": "display_data"
    }
   ],
   "source": [
    "plt.step(range(n_nails), p_estimated_1, label=\"histogram\")\n",
    "plt.step(range(n_nails), nde.predict(np.array([theta_1])).ravel(), label=\"nde\")\n",
    "plt.step(\n",
    "    range(n_nails),\n",
    "    scandal.predict([np.array([[theta_1]]), np.zeros((1, n_nails))])[0][0],\n",
    "    label=\"scandal\",\n",
    ")\n",
    "plt.legend()\n",
    "plt.title(r\"$\\theta=%.2f$\" % theta_1)\n",
    "plt.show()"
   ]
  },
  {
   "cell_type": "markdown",
   "metadata": {},
   "source": [
    "# CARL"
   ]
  },
  {
   "cell_type": "code",
   "execution_count": 138,
   "metadata": {},
   "outputs": [],
   "source": [
    "def make_carl(lr=0.001):\n",
    "    theta0 = Input(shape=(1,))\n",
    "    \n",
    "    h = Dense(hidden_size, activation=\"tanh\")(theta0)\n",
    "    log_rhat_thetas = Dense(n_outputs, activation=\"linear\")(h)\n",
    "    rhat_thetas = Lambda(lambda exp: K.exp(exp))(log_rhat_thetas)\n",
    "\n",
    "    x = Input(shape=(n_outputs,))\n",
    "    rhat_x_thetas = dot([x, rhat_thetas], axes=1)\n",
    "    \n",
    "    shat = Lambda(lambda r: 1. / (1. + r))(rhat_x_thetas)\n",
    "\n",
    "    model = Model(inputs=[theta0, x], outputs=[shat])\n",
    "    opt = Adam(lr=lr)\n",
    "    model.compile(loss=[\"binary_crossentropy\"], optimizer=opt)\n",
    "    \n",
    "    return model\n",
    "\n",
    "\n",
    "def make_carl_johann(lr=0.001):\n",
    "    theta0 = Input(shape=(1,))\n",
    "    x = Input(shape=(1,))\n",
    "    \n",
    "    h = Dense(hidden_size, activation=\"tanh\")(\n",
    "        concatenate([theta0, x])\n",
    "    )\n",
    "    h = Dense(hidden_size, activation=\"tanh\")(h)\n",
    "    log_rhat = Dense(1, activation=\"linear\")(h)\n",
    "    rhat = Lambda(lambda exp: K.exp(exp))(log_rhat)\n",
    "    shat = Lambda(lambda r: 1. / (1. + r))(rhat)\n",
    "\n",
    "    model = Model(inputs=[theta0, x], outputs=[shat])\n",
    "    opt = Adam(lr=lr)\n",
    "    model.compile(loss=[\"binary_crossentropy\"], optimizer=opt)\n",
    "    \n",
    "    return model"
   ]
  },
  {
   "cell_type": "code",
   "execution_count": 133,
   "metadata": {},
   "outputs": [],
   "source": [
    "def log_r_from_s(s, epsilon=1.e-6):\n",
    "    return np.log((1. - s + epsilon) / (s + epsilon))"
   ]
  },
  {
   "cell_type": "code",
   "execution_count": 134,
   "metadata": {},
   "outputs": [],
   "source": [
    "def draw_ratio(n_samples, n_thetas=10, random_state=0,\n",
    "               draw_from_theta0=True, draw_from_theta1=True, categorical_x=True):\n",
    "    n_traces_per_theta = n_samples // n_thetas // (int(draw_from_theta0) + int(draw_from_theta1))\n",
    "\n",
    "    all_x = []\n",
    "    all_theta = []\n",
    "    all_y = []\n",
    "    all_r_xz = []\n",
    "    all_t_xz_0 = []\n",
    "    \n",
    "    for k, theta in enumerate(np.linspace(-1.0, -0.4, n_thetas)):\n",
    "        # Draw according to theta0\n",
    "        if draw_from_theta0:\n",
    "            x, log_p_xz_0, log_p_xz_1, t_xz_0, _, _ = galton_rvs_ratio(\n",
    "                theta_0, theta_1, n_runs=n_traces_per_theta, random_state=random_state\n",
    "            )\n",
    "            all_x.append(x)\n",
    "            all_y += [0] * n_traces_per_theta\n",
    "            all_r_xz.append(log_p_xz_0 - log_p_xz_1)\n",
    "            all_t_xz_0.append(t_xz_0)\n",
    "            all_theta += [theta] * n_traces_per_theta\n",
    "        \n",
    "        # Draw according to theta1\n",
    "        if draw_from_theta1:\n",
    "            x, log_p_xz_1, log_p_xz_0, _, t_xz_0, _ = galton_rvs_ratio(\n",
    "                theta_1, theta_0, n_runs=n_traces_per_theta, random_state=random_state\n",
    "            )\n",
    "            all_x.append(x)\n",
    "            all_y += [1] * len(x)\n",
    "            all_r_xz.append(log_p_xz_0 - log_p_xz_1)\n",
    "            all_t_xz_0.append(t_xz_0)\n",
    "            all_theta += [theta] * n_traces_per_theta\n",
    "        \n",
    "    all_x = np.array(all_x).reshape(-1, 1)\n",
    "    if categorical_x:\n",
    "        all_x = to_categorical(all_x, num_classes=n_nails)\n",
    "    all_theta = np.array(all_theta).reshape(-1, 1)\n",
    "    all_y = np.array(all_y)\n",
    "    all_r_xz = np.array(all_r_xz).reshape(-1, 1)\n",
    "    all_r_xz = np.exp(all_r_xz)\n",
    "    all_t_xz_0 = np.array(all_t_xz_0).reshape(-1, 1)\n",
    "\n",
    "    return all_x, all_theta, all_y, all_r_xz, all_t_xz_0"
   ]
  },
  {
   "cell_type": "code",
   "execution_count": 177,
   "metadata": {},
   "outputs": [],
   "source": [
    "# Calibration\n",
    "from sklearn.model_selection import StratifiedShuffleSplit\n",
    "from sklearn.isotonic import IsotonicRegression\n",
    "\n",
    "def make_calibrated_carl_johann(theta, x, y):\n",
    "    cv = StratifiedShuffleSplit(n_splits=3, test_size=0.2)\n",
    "\n",
    "    classifiers = []\n",
    "    calibrators = []\n",
    "\n",
    "    for train, calibrate in cv.split(x, y):\n",
    "        # Train classifier\n",
    "        clf = make_carl_johann()\n",
    "        clf.fit([theta[train], x[train]],\n",
    "                y[train],\n",
    "                batch_size=32, epochs=50, verbose=0)\n",
    "        classifiers.append(clf)\n",
    "\n",
    "        # Isotonic calibration\n",
    "        T = clf.predict([theta[calibrate], x[calibrate]])\n",
    "        cal = IsotonicRegression(y_min=None, y_max=None,\n",
    "                                 increasing=True, out_of_bounds='clip')\n",
    "        cal.fit(T.flatten(), y[calibrate].flatten())\n",
    "        calibrate = lambda s : cal.transform(s.flatten())\n",
    "        calibrators.append(calibrate)\n",
    "\n",
    "    def calibrated_carl_prediction(theta_, x_):\n",
    "        x_ = x_.astype(np.float)\n",
    "        s = np.zeros_like(x_)\n",
    "        for clf, calibrate in zip(classifiers, calibrators):\n",
    "            s += calibrate(clf.predict([theta_, x_]))\n",
    "        s /= len(classifiers)\n",
    "        return s\n",
    "    \n",
    "    return calibrated_carl_prediction"
   ]
  },
  {
   "cell_type": "code",
   "execution_count": 147,
   "metadata": {},
   "outputs": [],
   "source": [
    "all_x, all_theta, all_y, _, _ = draw_ratio(5000)\n",
    "all_theta_x = np.hstack([all_theta, all_x])\n",
    "\n",
    "all_x_johann, all_theta_johann, all_y_johann, _, _ = draw_ratio(5000, categorical_x=False)\n",
    "all_theta_x_johann = np.hstack([all_theta_johann, all_x_johann])\n"
   ]
  },
  {
   "cell_type": "code",
   "execution_count": 140,
   "metadata": {},
   "outputs": [
    {
     "data": {
      "text/plain": [
       "<keras.callbacks.History at 0x1c4daf4550>"
      ]
     },
     "execution_count": 140,
     "metadata": {},
     "output_type": "execute_result"
    }
   ],
   "source": [
    "carl = make_carl() #KerasRegressor(make_carl, epochs=50, batch_size=32, verbose=0)\n",
    "\n",
    "carl.fit([all_theta, all_x],\n",
    "         all_y, \n",
    "         batch_size=32, epochs=50, verbose=0)\n",
    "\n",
    "#carl_calibrated = ClassifierScoreRatio(\n",
    "#    CalibratedClassifierScoreCV(carl, cv=\"prefit\", method=\"isotonic\")\n",
    "#)\n",
    "#carl_calibrated.fit(all_x_theta, all_y.reshape(-1, 1))"
   ]
  },
  {
   "cell_type": "code",
   "execution_count": 142,
   "metadata": {},
   "outputs": [
    {
     "data": {
      "text/plain": [
       "<keras.callbacks.History at 0x1c4d8204e0>"
      ]
     },
     "execution_count": 142,
     "metadata": {},
     "output_type": "execute_result"
    }
   ],
   "source": [
    "carl_johann = make_carl_johann()\n",
    "\n",
    "carl_johann.fit([all_theta_johann, all_x_johann],\n",
    "                all_y_johann, \n",
    "                batch_size=32, epochs=50, verbose=0)"
   ]
  },
  {
   "cell_type": "code",
   "execution_count": 179,
   "metadata": {},
   "outputs": [],
   "source": [
    "carl_calibrated = make_calibrated_carl_johann(all_theta_johann, all_x_johann, all_y_johann)"
   ]
  },
  {
   "cell_type": "code",
   "execution_count": 180,
   "metadata": {},
   "outputs": [
    {
     "data": {
      "image/png": "[encoded data removed]",
      "text/plain": [
       "<matplotlib.figure.Figure at 0x1c5c1acc18>"
      ]
     },
     "metadata": {},
     "output_type": "display_data"
    }
   ],
   "source": [
    "log_r_true = np.log(p_estimated_0[5:-5]) - np.log(p_estimated_1[5:-5])\n",
    "\n",
    "x_test = to_categorical(np.array(range(n_nails)), num_classes=n_nails)\n",
    "x_test_johann = np.array(range(n_nails))\n",
    "theta0_test = theta_0 * np.ones((n_nails, 1))\n",
    "\n",
    "log_r_carl = log_r_from_s(\n",
    "    carl.predict([theta0_test, x_test])[5:-5]\n",
    ")\n",
    "log_r_carl_johann = log_r_from_s(\n",
    "    carl_johann.predict([theta0_test, x_test_johann])[5:-5]\n",
    ")\n",
    "log_r_carl_calibrated = log_r_from_s(\n",
    "    carl_calibrated(theta0_test, x_test_johann)[5:-5]\n",
    ")\n",
    "\n",
    "plt.step(range(5, n_nails - 5), log_r_true, label=\"Truth\")\n",
    "plt.step(range(5, n_nails - 5), log_r_carl, label=\"CARL\")\n",
    "plt.step(range(5, n_nails - 5), log_r_carl_johann, label=\"CARL (old architecture)\")\n",
    "plt.step(range(5, n_nails - 5), log_r_carl_calibrated, label=\"Calibrated CARL\")\n",
    "plt.legend()\n",
    "plt.show()"
   ]
  },
  {
   "cell_type": "markdown",
   "metadata": {},
   "source": [
    "# ROLR + RASCAL"
   ]
  },
  {
   "cell_type": "code",
   "execution_count": 118,
   "metadata": {},
   "outputs": [],
   "source": [
    "all_x, all_thetas, _, all_r_xz, all_t_xz_0 = draw_ratio(5000, draw_from_theta0=False)\n",
    "all_x_johann, all_thetas_johann, _, all_r_xz_johann, all_t_xz_0_johann = draw_ratio(5000, categorical_x=False, draw_from_theta0=False)\n"
   ]
  },
  {
   "cell_type": "code",
   "execution_count": 119,
   "metadata": {},
   "outputs": [],
   "source": [
    "from keras.losses import mean_squared_error\n",
    "from keras.layers import concatenate\n",
    "\n",
    "\n",
    "def make_rolr(lr=0.001):\n",
    "    theta0 = Input(shape=(1,))\n",
    "\n",
    "    h = Dense(hidden_size, activation=\"tanh\")(theta0)\n",
    "    log_rhat_thetas = Dense(n_outputs, activation=\"linear\")(h)\n",
    "    rhat_thetas = Lambda(lambda exp: K.exp(exp))(log_rhat_thetas)\n",
    "\n",
    "    x = Input(shape=(n_outputs,))\n",
    "    rhat_x_thetas = dot([x, rhat_thetas], axes=1)\n",
    "\n",
    "    model = Model(inputs=[theta0, x], outputs=[rhat_x_thetas])\n",
    "    opt = Adam(lr=lr)\n",
    "    model.compile(loss=[\"mse\"], optimizer=opt)\n",
    "\n",
    "    return model\n",
    "\n",
    "\n",
    "def make_rascal(lr=0.001):\n",
    "    theta0 = Input(shape=(1,))\n",
    "\n",
    "    h = Dense(hidden_size, activation=\"tanh\")(theta0)\n",
    "    log_rhat_thetas = Dense(n_outputs, activation=\"linear\")(h)\n",
    "    rhat_thetas = Lambda(lambda exp: K.exp(exp))(log_rhat_thetas)\n",
    "\n",
    "    x = Input(shape=(n_outputs,))\n",
    "    rhat_x_thetas = dot([x, rhat_thetas], axes=1)\n",
    "\n",
    "    log_rhat_x_theta = dot([x, log_rhat_thetas], axes=1)\n",
    "    t_x_0 = Lambda(\n",
    "        lambda exp: K.gradients(exp[0], [exp[1]])[0], output_shape=(n_features,)\n",
    "    )([log_rhat_x_theta, theta0])\n",
    "\n",
    "    model = Model(inputs=[theta0, x], outputs=[rhat_x_thetas, t_x_0])\n",
    "    opt = Adam(lr=lr)\n",
    "    model.compile(loss=[\"mse\", \"mse\"], loss_weights=[1.0, 0.5], optimizer=opt)\n",
    "\n",
    "    return model\n",
    "\n",
    "\n",
    "def make_rolr_johann(lr=0.001):\n",
    "    theta0 = Input(shape=(1,))\n",
    "    x = Input(shape=(1,))\n",
    "\n",
    "    h = Dense(hidden_size, activation=\"tanh\")(\n",
    "        concatenate([theta0, x])\n",
    "    )\n",
    "    h = Dense(hidden_size, activation=\"tanh\")(h)\n",
    "    log_rhat = Dense(1, activation=\"linear\")(h)\n",
    "    rhat = Lambda(lambda exp: K.exp(exp))(log_rhat)\n",
    "\n",
    "    model = Model(inputs=[theta0, x], outputs=[rhat])\n",
    "    opt = Adam(lr=lr)\n",
    "    model.compile(loss=[\"mse\"], optimizer=opt)\n",
    "\n",
    "    return model\n",
    "\n",
    "\n",
    "def make_rascal_johann(lr=0.001):\n",
    "    theta0 = Input(shape=(1,))\n",
    "    x = Input(shape=(1,))\n",
    "\n",
    "    h = Dense(hidden_size, activation=\"tanh\")(\n",
    "        concatenate([theta0, x])\n",
    "    )\n",
    "    h = Dense(hidden_size, activation=\"tanh\")(h)\n",
    "    log_rhat = Dense(1, activation=\"linear\")(h)\n",
    "    rhat = Lambda(lambda exp: K.exp(exp))(log_rhat)\n",
    "    \n",
    "    that_0 = Lambda(\n",
    "        lambda arg: K.gradients(arg[0], [arg[1]])[0], output_shape=(n_features,)\n",
    "    )([log_rhat, theta0])\n",
    "\n",
    "    model = Model(inputs=[theta0, x], outputs=[rhat, that_0])\n",
    "    opt = Adam(lr=lr)\n",
    "    model.compile(loss=[\"mse\", \"mse\"], loss_weights=[1.0, 0.5], optimizer=opt)\n",
    "\n",
    "    return model"
   ]
  },
  {
   "cell_type": "code",
   "execution_count": 120,
   "metadata": {
    "scrolled": true
   },
   "outputs": [
    {
     "data": {
      "text/plain": [
       "<keras.callbacks.History at 0x1c3e69b390>"
      ]
     },
     "execution_count": 120,
     "metadata": {},
     "output_type": "execute_result"
    }
   ],
   "source": [
    "rolr = make_rolr()\n",
    "rolr.fit([all_thetas, all_x], \n",
    "         all_r_xz, \n",
    "         batch_size=32, epochs=50, verbose=0)"
   ]
  },
  {
   "cell_type": "code",
   "execution_count": 121,
   "metadata": {},
   "outputs": [
    {
     "data": {
      "text/plain": [
       "<keras.callbacks.History at 0x1c3e690390>"
      ]
     },
     "execution_count": 121,
     "metadata": {},
     "output_type": "execute_result"
    }
   ],
   "source": [
    "rascal = make_rascal()\n",
    "rascal.fit([all_thetas, all_x], \n",
    "           [all_r_xz, all_t_xz_0], \n",
    "           batch_size=32, epochs=50, verbose=0)"
   ]
  },
  {
   "cell_type": "code",
   "execution_count": null,
   "metadata": {
    "scrolled": true
   },
   "outputs": [],
   "source": [
    "rolr_johann = make_rolr_johann()\n",
    "rolr_johann.fit([all_thetas_johann, all_x_johann], \n",
    "         all_r_xz, \n",
    "         batch_size=32, epochs=50, verbose=0)"
   ]
  },
  {
   "cell_type": "code",
   "execution_count": null,
   "metadata": {},
   "outputs": [],
   "source": [
    "rascal_johann = make_rascal_johann()\n",
    "rascal_johann.fit([all_thetas_johann, all_x_johann], \n",
    "           [all_r_xz_johann, all_t_xz_0_johann], \n",
    "           batch_size=32, epochs=50, verbose=0)"
   ]
  },
  {
   "cell_type": "code",
   "execution_count": null,
   "metadata": {},
   "outputs": [],
   "source": [
    "r_true = np.exp(np.log(p_estimated_0[5:-5]) - np.log(p_estimated_1[5:-5]))\n",
    "\n",
    "x_test = to_categorical(np.array(range(n_nails)), num_classes=n_nails)\n",
    "x_test_johann = np.array(range(n_nails))\n",
    "theta0_test = np.array(theta_0 * np.ones(n_nails))\n",
    "\n",
    "r_rolr = rolr.predict([theta0_test, x_test])[5:-5]\n",
    "r_rascal = rascal.predict([theta0_test, x_test])[0][5:-5]\n",
    "r_rolr_johann = rolr_johann.predict([theta0_test, x_test_johann])[5:-5]\n",
    "r_rascal_johann = rascal_johann.predict([theta0_test, x_test_johann])[0][5:-5]\n",
    "\n",
    "plt.step(range(5, n_nails - 5), r_true, label=\"Truth\")\n",
    "plt.step(range(5, n_nails - 5), r_rolr, label=\"ROLR\")\n",
    "plt.step(range(5, n_nails - 5), r_rascal, label=\"RASCAL\")\n",
    "plt.step(range(5, n_nails - 5), r_rolr_johann, label=\"ROLR (old architecture)\")\n",
    "plt.step(range(5, n_nails - 5), r_rascal_johann, label=\"RASCAL (old architecture)\")\n",
    "plt.legend()\n",
    "plt.show()"
   ]
  },
  {
   "cell_type": "markdown",
   "metadata": {},
   "source": [
    "---"
   ]
  },
  {
   "cell_type": "markdown",
   "metadata": {},
   "source": [
    "# Model comparison"
   ]
  },
  {
   "cell_type": "code",
   "execution_count": 181,
   "metadata": {},
   "outputs": [],
   "source": [
    "def compute_mse(p_train, p_estimated):\n",
    "    p_ratio_train = np.log(p_train[0]) - np.log(p_train[1])\n",
    "    p_ratio = np.log(p_estimated[0]) - np.log(p_estimated[1])\n",
    "    mse = p_ratio_train - p_ratio\n",
    "    mse[np.logical_or(np.isinf(mse), np.isnan(mse))] = 0.\n",
    "    mse = np.dot(mse ** 2, p_estimated[1])\n",
    "    return mse\n",
    "\n",
    "\n",
    "def compute_mse_ratio(ratio, p_estimated, log=True):\n",
    "    p_ratio = np.log(p_estimated[0]) - np.log(p_estimated[1])\n",
    "    if log:\n",
    "        p_ratio_train = np.log(ratio)\n",
    "    else:\n",
    "        p_ratio_train = ratio\n",
    "    mse = p_ratio_train - p_ratio\n",
    "    mse[np.logical_or(np.isinf(mse), np.isnan(mse))] = 0.\n",
    "    mse = np.dot(mse ** 2, p_estimated[1])\n",
    "    return mse"
   ]
  },
  {
   "cell_type": "code",
   "execution_count": null,
   "metadata": {},
   "outputs": [
    {
     "name": "stdout",
     "output_type": "stream",
     "text": [
      "100 samples\n",
      "1000 samples\n",
      "10000 samples\n"
     ]
    }
   ],
   "source": [
    "mses_nde = []\n",
    "mses_scandal = []\n",
    "mses_carl = []\n",
    "mses_carl_johann = []\n",
    "mses_carl_calibrated = []\n",
    "mses_rolr = []\n",
    "mses_rolr_johann = []\n",
    "mses_rascal = []\n",
    "mses_rascal_johann = []\n",
    "\n",
    "p_estimated = np.array([p_estimated_0, p_estimated_1])\n",
    "samples_size = [100, 1000, 10000]\n",
    "theta0_test = theta_0 * np.ones(n_nails)\n",
    "x_test = to_categorical(np.array(range(n_nails)), num_classes=n_nails)\n",
    "x_test_johann = np.array(range(n_nails))\n",
    "\n",
    "for n in samples_size:\n",
    "    print(\"{0} samples\".format(n))\n",
    "    \n",
    "    # NDE - SCANDAL\n",
    "    x, t_xz, theta = draw(n)\n",
    "    nde = make_nde()\n",
    "    nde.fit(\n",
    "        theta,\n",
    "        x,\n",
    "        batch_size=32,\n",
    "        epochs=50,\n",
    "        verbose=0\n",
    "    )\n",
    "    scandal = make_scandal()\n",
    "    scandal.fit(\n",
    "        [theta, x],\n",
    "        [x, t_xz],\n",
    "        batch_size=32,\n",
    "        epochs=50,\n",
    "        verbose=0\n",
    "    )\n",
    "    nde_pred = nde.predict([theta_0, theta_1])\n",
    "    scandal_pred = scandal.predict(\n",
    "        [np.array([[theta_0], [theta_1]]), np.zeros((2, n_nails))]\n",
    "    )[0]\n",
    "    mse_nde = compute_mse(nde_pred, p_estimated)\n",
    "    mse_scandal = compute_mse(scandal_pred, p_estimated)\n",
    "    \n",
    "    # CARL\n",
    "    all_x, all_thetas, all_y, _, _ = draw_ratio(n)\n",
    "    carl = make_carl()\n",
    "    carl.fit(\n",
    "        [all_thetas, all_x],\n",
    "        all_y,\n",
    "        batch_size=32,\n",
    "        epochs=50,\n",
    "        verbose=0\n",
    "    )\n",
    "    carl_pred = np.exp(log_r_from_s(\n",
    "        carl.predict([theta0_test, x_test])[5:-5]\n",
    "    ))\n",
    "    mse_carl = compute_mse_ratio(\n",
    "        carl_pred.flatten(),\n",
    "        p_estimated[:, 5:-5],\n",
    "        log=True\n",
    "    )\n",
    "    \n",
    "    # CARL old architecture\n",
    "    all_x_johann, all_thetas_johann, all_y_johann, _, _ = draw_ratio(n, categorical_x=False)\n",
    "    carl_johann = make_carl_johann()\n",
    "    carl_johann.fit(\n",
    "        [all_thetas_johann, all_x_johann],\n",
    "        all_y_johann,\n",
    "        batch_size=32,\n",
    "        epochs=50,\n",
    "        verbose=0\n",
    "    )\n",
    "    carl_johann_pred = np.exp(log_r_from_s(\n",
    "        carl_johann.predict([theta0_test, x_test_johann])[5:-5]\n",
    "    ))\n",
    "    mse_carl_johann = compute_mse_ratio(\n",
    "        carl_johann_pred.flatten(),\n",
    "        p_estimated[:, 5:-5],\n",
    "        log=True\n",
    "    )\n",
    "    \n",
    "    # CARL old architecture calibrated\n",
    "    carl_calibrated = make_calibrated_carl_johann(\n",
    "        all_thetas_johann,\n",
    "        all_x_johann,\n",
    "        all_y_johann\n",
    "    )\n",
    "    carl_calibrated_pred = np.exp(log_r_from_s(\n",
    "        carl_calibrated(theta0_test, x_test_johann)[5:-5]\n",
    "    ))\n",
    "    mse_carl_calibrated = compute_mse_ratio(\n",
    "        carl_calibrated_pred.flatten(),\n",
    "        p_estimated[:, 5:-5],\n",
    "        log=True\n",
    "    )\n",
    "    \n",
    "    # ROLR\n",
    "    all_x, all_thetas, _, all_r_xz, all_t_xz_0 = draw_ratio(n, draw_from_theta0=False)\n",
    "    rolr = make_rolr()\n",
    "    rolr.fit(\n",
    "        [all_thetas, all_x],\n",
    "        all_r_xz,\n",
    "        batch_size=32,\n",
    "        epochs=50,\n",
    "        verbose=0\n",
    "    )\n",
    "    rolr_pred = rolr.predict(\n",
    "        [theta0_test, x_test]\n",
    "    )[5:-5]\n",
    "    mse_rolr = compute_mse_ratio(\n",
    "        rolr_pred.flatten(),\n",
    "        p_estimated[:, 5:-5],\n",
    "        log=True\n",
    "    )\n",
    "    \n",
    "    # RASCAL\n",
    "    rascal = make_rascal()\n",
    "    rascal.fit(\n",
    "        [all_thetas, all_x],\n",
    "        [all_r_xz, all_t_xz_0],\n",
    "        batch_size=32,\n",
    "        epochs=50,\n",
    "        verbose=0,\n",
    "    )\n",
    "    rascal_pred = rascal.predict(\n",
    "        [theta0_test, x_test]\n",
    "    )[0][5:-5]\n",
    "    mse_rascal = compute_mse_ratio(\n",
    "        rascal_pred.flatten(),\n",
    "        p_estimated[:, 5:-5],\n",
    "        log=True\n",
    "    )\n",
    "    \n",
    "    # ROLR old architecture\n",
    "    all_x_johann, all_thetas_johann, _, all_r_xz_johann, all_t_xz_0_johann = draw_ratio(n,\n",
    "                                                                                        categorical_x=False,\n",
    "                                                                                        draw_from_theta0=False)\n",
    "    rolr_johann = make_rolr_johann()\n",
    "    rolr_johann.fit(\n",
    "        [all_thetas_johann, all_x_johann],\n",
    "        all_r_xz_johann,\n",
    "        batch_size=32,\n",
    "        epochs=50,\n",
    "        verbose=0\n",
    "    )\n",
    "    rolr_johann_pred = rolr_johann.predict(\n",
    "        [theta0_test, x_test_johann]\n",
    "    )[5:-5]\n",
    "    mse_rolr_johann = compute_mse_ratio(\n",
    "        rolr_johann_pred.flatten(),\n",
    "        p_estimated[:, 5:-5],\n",
    "        log=True\n",
    "    )\n",
    "    \n",
    "    # RASCAL old architecture\n",
    "    rascal_johann = make_rascal_johann()\n",
    "    rascal_johann.fit(\n",
    "        [all_thetas_johann, all_x_johann],\n",
    "        [all_r_xz_johann, all_t_xz_0_johann],\n",
    "        batch_size=32,\n",
    "        epochs=50,\n",
    "        verbose=0\n",
    "    )\n",
    "    rascal_johann_pred = rascal_johann.predict(\n",
    "        [theta0_test, x_test_johann]\n",
    "    )[0][5:-5]\n",
    "    mse_rascal_johann = compute_mse_ratio(\n",
    "        rascal_johann_pred.flatten(),\n",
    "        p_estimated[:, 5:-5],\n",
    "        log=True\n",
    "    )\n",
    "    \n",
    "    # Save\n",
    "    mses_nde.append(mse_nde)\n",
    "    mses_rascal.append(mse_rascal)\n",
    "    mses_rascal_johann.append(mse_rascal_johann)\n",
    "    mses_carl.append(mse_carl)\n",
    "    mses_carl_johann.append(mse_carl_johann)\n",
    "    mses_carl_calibrated.append(mse_carl_calibrated)\n",
    "    mses_rolr.append(mse_rolr)\n",
    "    mses_rolr_johann.append(mse_rolr_johann)\n",
    "    mses_scandal.append(mse_scandal)"
   ]
  },
  {
   "cell_type": "code",
   "execution_count": null,
   "metadata": {},
   "outputs": [],
   "source": [
    "from utils import calculate_height, adjust_margins"
   ]
  },
  {
   "cell_type": "code",
   "execution_count": null,
   "metadata": {},
   "outputs": [],
   "source": [
    "colors     = ['orange', 'darkgreen',  'red', 'mediumblue', '#be96ff', '#CC002E', '0.65', 'C0', 'C1', 'C2', 'C3']\n",
    "linestyles = [     ':',        '--',    ':',         '-.',      '-.',      '--'] + ['-'] * 5\n",
    "linewidths = [1.5] * 11\n",
    "markers    = ['o'] * 11"
   ]
  },
  {
   "cell_type": "code",
   "execution_count": null,
   "metadata": {},
   "outputs": [],
   "source": [
    "mses_nde = np.array(mses_nde)\n",
    "mses_scandal = np.array(mses_scandal)\n",
    "mses_rolr = np.array(mses_rolr)\n",
    "mses_rolr_johann = np.array(mses_rolr_johann)\n",
    "mses_rascal = np.array(mses_rascal)\n",
    "mses_rascal_johann = np.array(mses_rascal_johann)\n",
    "mses_carl = np.array(mses_carl)\n",
    "mses_carl_johann = np.array(mses_carl_johann)\n",
    "mses_carl_calibrated = np.array(mses_carl_calibrated)"
   ]
  },
  {
   "cell_type": "code",
   "execution_count": null,
   "metadata": {},
   "outputs": [],
   "source": [
    "fig = plt.figure(figsize=(4.5,calculate_height(1,4.5,extra_top_space=False)))\n",
    "ax = plt.gca()\n",
    "samples_size = [100,1000,10000]\n",
    "\n",
    "mses = [mses_nde, mses_carl, mses_carl_johann, mses_carl_calibrated,\n",
    "        mses_scandal, mses_rolr, mses_rolr_johann, mses_rascal, mses_rascal_johann]\n",
    "labels = ['NDE', 'CARL raw', 'CARL raw old', 'CARL calibrated old',\n",
    "          'SCANDAL', 'ROLR', 'ROLR old', 'RASCAL', 'RASCAL old']\n",
    "\n",
    "for s in range(5):\n",
    "    plt.plot(samples_size, mses[s], \n",
    "             ms=4., marker=markers[s],\n",
    "             color=colors[s],\n",
    "             lw=linewidths[s], ls=linestyles[s])\n",
    "    plt.plot([], [],\n",
    "             color=colors[s],\n",
    "             lw=linewidths[s], ls=linestyles[s],\n",
    "             label=labels[s])\n",
    "\n",
    "ax.set_xscale(\"log\", nonposx='clip')\n",
    "ax.set_yscale(\"log\", nonposy='clip')\n",
    "plt.xlabel(r\"Training sample size\")\n",
    "plt.ylabel(r'$E_{x\\sim p_1(x)} [(\\log r(x|\\theta_0, \\theta_1) - \\log \\hat{r}(x|\\theta_0, \\theta_1))^2]$')\n",
    "plt.legend(frameon=False)\n",
    "\n",
    "adjust_margins(1,4.5,extra_top_space=False)\n",
    "plt.savefig('plinko_models_comparison.pdf')"
   ]
  },
  {
   "cell_type": "code",
   "execution_count": null,
   "metadata": {},
   "outputs": [],
   "source": []
  }
 ],
 "metadata": {
  "kernelspec": {
   "display_name": "Python [default]",
   "language": "python",
   "name": "python3"
  },
  "language_info": {
   "codemirror_mode": {
    "name": "ipython",
    "version": 3
   },
   "file_extension": ".py",
   "mimetype": "text/x-python",
   "name": "python",
   "nbconvert_exporter": "python",
   "pygments_lexer": "ipython3",
   "version": "3.6.4"
  }
 },
 "nbformat": 4,
 "nbformat_minor": 2
}
